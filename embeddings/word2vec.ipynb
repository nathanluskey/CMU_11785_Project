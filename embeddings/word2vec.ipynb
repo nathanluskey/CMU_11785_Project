{
  "nbformat": 4,
  "nbformat_minor": 0,
  "metadata": {
    "colab": {
      "name": "word2vec.ipynb",
      "provenance": [],
      "collapsed_sections": []
    },
    "kernelspec": {
      "name": "python3",
      "display_name": "Python 3"
    },
    "language_info": {
      "name": "python"
    },
    "accelerator": "GPU"
  },
  "cells": [
    {
      "cell_type": "code",
      "source": [
        "# Data\n",
        "from google.colab import drive\n",
        "drive.mount(\"/content/drive\", force_remount=True)\n",
        "\n",
        "# For Downstream Data - Phrasebank\n",
        "!mkdir downstream_data_zip\n",
        "!mkdir downstream_data\n",
        "\n",
        "!cp /content/drive/MyDrive/11785_Project/Programming/Data/phrasebank.zip downstream_data_zip\n",
        "\n",
        "!unzip -q downstream_data_zip/*.zip -d downstream_data"
      ],
      "metadata": {
        "colab": {
          "base_uri": "https://localhost:8080/"
        },
        "id": "n0S4poWc6LJM",
        "outputId": "4513c3fb-46a6-4332-f579-ae204f187ad5"
      },
      "execution_count": null,
      "outputs": [
        {
          "output_type": "stream",
          "name": "stdout",
          "text": [
            "Mounted at /content/drive\n"
          ]
        }
      ]
    },
    {
      "cell_type": "code",
      "execution_count": null,
      "metadata": {
        "id": "Yg8c9zRUsSRp"
      },
      "outputs": [],
      "source": [
        "# Imports\n",
        "\n",
        "import os\n",
        "import jsonschema\n",
        "from functools import partial\n",
        "import numpy as np\n",
        "import torch\n",
        "import torch.nn as nn\n",
        "import torch.optim as optim\n",
        "from torch.optim.lr_scheduler import LambdaLR\n",
        "from torch.utils.data import DataLoader\n",
        "from torchtext.data import to_map_style_dataset\n",
        "from torchtext.data.utils import get_tokenizer\n",
        "from torchtext.vocab import build_vocab_from_iterator\n",
        "from torchtext.datasets import WikiText2, WikiText103\n",
        "from tqdm import tqdm\n",
        "\n",
        "import pandas as pd\n",
        "from sklearn.manifold import TSNE\n",
        "import plotly.graph_objects as go"
      ]
    },
    {
      "cell_type": "code",
      "source": [
        "# Constants\n",
        "\n",
        "CBOW_N_WORDS = 4\n",
        "SKIPGRAM_N_WORDS = 4\n",
        "\n",
        "MIN_WORD_FREQUENCY = 50\n",
        "\n",
        "EMBED_DIMENSION = 300\n",
        "EMBED_MAX_NORM = 1\n",
        "\n",
        "config = {\n",
        "    \"model_name\": \"skipgram\",\n",
        "    \"dataset\": \"parsed_1994/constant_length_data/\",\n",
        "    \"data_dir\": \"data/\",\n",
        "    \"train_batch_size\": 10,\n",
        "    \"val_batch_size\": 10,\n",
        "    \"shuffle\": True,\n",
        "    \"optimizer\": \"Adam\",\n",
        "    \"learning_rate\": 0.1,\n",
        "    \"epochs\": 30,\n",
        "    \"train_steps\": None,\n",
        "    \"val_steps\": None,\n",
        "    \"checkpoint_frequency\": 3,\n",
        "    \"model_dir_root\": \"/content/drive/MyDrive/DL785/Project/word2vec/\"\n",
        "}"
      ],
      "metadata": {
        "id": "wQLpcmJKs8N4"
      },
      "execution_count": null,
      "outputs": []
    },
    {
      "cell_type": "code",
      "source": [
        "# Dataloaders\n",
        "\n",
        "class DocumentSamples(torch.utils.data.Dataset):\n",
        "\n",
        "    def __init__(self, data_path):\n",
        "        self.dir = data_path\n",
        "        self.files = os.listdir(data_path)\n",
        "\n",
        "        print(f'Found {len(self.files)} documents')\n",
        "\n",
        "        pass\n",
        "\n",
        "    def __len__(self):\n",
        "        return len(self.files)\n",
        "\n",
        "    def __getitem__(self, ind):\n",
        "\n",
        "        document_path = self.dir + self.files[ind]\n",
        "        with open(document_path) as f:\n",
        "            read_data = f.read()\n",
        "    \n",
        "        # print(f'document length: {len(read_data)}')\n",
        "\n",
        "        return read_data\n",
        "\n",
        "def split_tokenizer(s):\n",
        "    return s.split(' ')\n",
        "\n",
        "def get_english_tokenizer():\n",
        "    \"\"\"\n",
        "    Documentation:\n",
        "    https://pytorch.org/text/stable/_modules/torchtext/data/utils.html#get_tokenizer\n",
        "    \"\"\"\n",
        "    tokenizer = get_tokenizer(\"basic_english\", language=\"en\")\n",
        "    return tokenizer\n",
        "    # return split_tokenizer\n",
        "\n",
        "\n",
        "def get_data_iterator(ds_name, ds_type, data_dir):\n",
        "    if ds_name == \"WikiText2\":\n",
        "        data_iter = WikiText2(root=data_dir, split=(ds_type))\n",
        "    elif ds_name == \"WikiText103\":\n",
        "        data_iter = WikiText103(root=data_dir, split=(ds_type))\n",
        "    else:\n",
        "        print(f'loading data at {ds_name}')\n",
        "        data_iter = DocumentSamples(ds_name)\n",
        "\n",
        "    for i, datum in enumerate(data_iter):\n",
        "        print(f'{i}: {datum}')\n",
        "        if i > 5:\n",
        "            break\n",
        "    data_iter = to_map_style_dataset(data_iter)\n",
        "    return data_iter\n",
        "\n",
        "\n",
        "def build_vocab(data_iter, tokenizer):\n",
        "    \"\"\"Builds vocabulary from iterator\"\"\"\n",
        "\n",
        "    vocab = build_vocab_from_iterator(\n",
        "        map(tokenizer, data_iter),\n",
        "        specials=[\"<unk>\"],\n",
        "        min_freq=MIN_WORD_FREQUENCY,\n",
        "    )\n",
        "    vocab.set_default_index(vocab[\"<unk>\"])\n",
        "\n",
        "    return vocab\n",
        "\n",
        "\n",
        "def collate_cbow(batch, text_pipeline):\n",
        "    \"\"\"\n",
        "    Collate_fn for CBOW model to be used with Dataloader.\n",
        "    `batch` is expected to be list of text paragrahs.\n",
        "\n",
        "    Context is represented as N=CBOW_N_WORDS past words\n",
        "    and N=CBOW_N_WORDS future words.\n",
        "\n",
        "    Long paragraphs will be truncated to contain\n",
        "    no more that MAX_SEQUENCE_LENGTH tokens.\n",
        "\n",
        "    Each element in `batch_input` is N=CBOW_N_WORDS*2 context words.\n",
        "    Each element in `batch_output` is a middle word.\n",
        "    \"\"\"\n",
        "    batch_input, batch_output = [], []\n",
        "    for text in batch:\n",
        "        text_tokens_ids = text_pipeline(text)\n",
        "\n",
        "        if len(text_tokens_ids) < CBOW_N_WORDS * 2 + 1:\n",
        "            continue\n",
        "\n",
        "        # if MAX_SEQUENCE_LENGTH:\n",
        "        #     text_tokens_ids = text_tokens_ids[:MAX_SEQUENCE_LENGTH]\n",
        "\n",
        "        for idx in range(len(text_tokens_ids) - CBOW_N_WORDS * 2):\n",
        "            token_id_sequence = text_tokens_ids[idx : (idx + CBOW_N_WORDS * 2 + 1)]\n",
        "            output = token_id_sequence.pop(CBOW_N_WORDS)\n",
        "            input_ = token_id_sequence\n",
        "            batch_input.append(input_)\n",
        "            batch_output.append(output)\n",
        "\n",
        "    batch_input = torch.tensor(batch_input, dtype=torch.long)\n",
        "    batch_output = torch.tensor(batch_output, dtype=torch.long)\n",
        "    return batch_input, batch_output\n",
        "\n",
        "\n",
        "def collate_skipgram(batch, text_pipeline):\n",
        "    \"\"\"\n",
        "    Collate_fn for Skip-Gram model to be used with Dataloader.\n",
        "    `batch` is expected to be list of text paragrahs.\n",
        "\n",
        "    Context is represented as N=SKIPGRAM_N_WORDS past words\n",
        "    and N=SKIPGRAM_N_WORDS future words.\n",
        "\n",
        "    Long paragraphs will be truncated to contain\n",
        "    no more that MAX_SEQUENCE_LENGTH tokens.\n",
        "\n",
        "    Each element in `batch_input` is a middle word.\n",
        "    Each element in `batch_output` is a context word.\n",
        "    \"\"\"\n",
        "    batch_input, batch_output = [], []\n",
        "\n",
        "    for text in batch:\n",
        "        text_tokens_ids = text_pipeline(text)\n",
        "\n",
        "        if len(text_tokens_ids) < SKIPGRAM_N_WORDS * 2 + 1:\n",
        "            continue\n",
        "\n",
        "        # if MAX_SEQUENCE_LENGTH:\n",
        "        #     text_tokens_ids = text_tokens_ids[:MAX_SEQUENCE_LENGTH]\n",
        "\n",
        "        for idx in range(len(text_tokens_ids) - SKIPGRAM_N_WORDS * 2):\n",
        "            token_id_sequence = text_tokens_ids[idx : (idx + SKIPGRAM_N_WORDS * 2 + 1)]\n",
        "            input_ = token_id_sequence.pop(SKIPGRAM_N_WORDS)\n",
        "            outputs = token_id_sequence\n",
        "\n",
        "            for output in outputs:\n",
        "                batch_input.append(input_)\n",
        "                batch_output.append(output)\n",
        "                # print(input_)\n",
        "                # print(output)\n",
        "\n",
        "    batch_input = torch.tensor(batch_input, dtype=torch.long)\n",
        "    batch_output = torch.tensor(batch_output, dtype=torch.long)\n",
        "    return batch_input, batch_output\n",
        "\n",
        "\n",
        "def get_dataloader_and_vocab(\n",
        "    model_name, ds_name, ds_type, data_dir, batch_size, shuffle, vocab=None\n",
        "):\n",
        "\n",
        "    data_iter = get_data_iterator(ds_name, ds_type, data_dir)\n",
        "    tokenizer = get_english_tokenizer()\n",
        "\n",
        "    if not vocab:\n",
        "        vocab = build_vocab(data_iter, tokenizer)\n",
        "\n",
        "    text_pipeline = lambda x: vocab(tokenizer(x))\n",
        "\n",
        "    if model_name == \"cbow\":\n",
        "        collate_fn = collate_cbow\n",
        "    elif model_name == \"skipgram\":\n",
        "        collate_fn = collate_skipgram\n",
        "    else:\n",
        "        raise ValueError(\"Choose model from: cbow, skipgram\")\n",
        "\n",
        "    dataloader = DataLoader(\n",
        "        data_iter,\n",
        "        batch_size=batch_size,\n",
        "        shuffle=shuffle,\n",
        "        collate_fn=partial(collate_fn, text_pipeline=text_pipeline),\n",
        "    )\n",
        "    return dataloader, vocab\n"
      ],
      "metadata": {
        "id": "5N5eOHcttFDt"
      },
      "execution_count": null,
      "outputs": []
    },
    {
      "cell_type": "code",
      "source": [
        "# Models\n",
        "\n",
        "class CBOW_Model(nn.Module):\n",
        "    \"\"\"\n",
        "    Implementation of CBOW model described in paper:\n",
        "    https://arxiv.org/abs/1301.3781\n",
        "    \"\"\"\n",
        "    def __init__(self, vocab_size: int):\n",
        "        super(CBOW_Model, self).__init__()\n",
        "        self.embeddings = nn.Embedding(\n",
        "            num_embeddings=vocab_size,\n",
        "            embedding_dim=EMBED_DIMENSION,\n",
        "            max_norm=EMBED_MAX_NORM,\n",
        "        )\n",
        "        self.linear = nn.Linear(\n",
        "            in_features=EMBED_DIMENSION,\n",
        "            out_features=vocab_size,\n",
        "        )\n",
        "\n",
        "    def forward(self, inputs_):\n",
        "        x = self.embeddings(inputs_)\n",
        "        x = x.mean(axis=1)\n",
        "        x = self.linear(x)\n",
        "        return x\n",
        "\n",
        "\n",
        "class SkipGram_Model(nn.Module):\n",
        "    \"\"\"\n",
        "    Implementation of Skip-Gram model described in paper:\n",
        "    https://arxiv.org/abs/1301.3781\n",
        "    \"\"\"\n",
        "    def __init__(self, vocab_size: int):\n",
        "        super(SkipGram_Model, self).__init__()\n",
        "        self.embeddings = nn.Embedding(\n",
        "            num_embeddings=vocab_size,\n",
        "            embedding_dim=EMBED_DIMENSION,\n",
        "            max_norm=EMBED_MAX_NORM,\n",
        "        )\n",
        "        self.linear = nn.Linear(\n",
        "            in_features=EMBED_DIMENSION,\n",
        "            out_features=vocab_size,\n",
        "        )\n",
        "\n",
        "    def forward(self, inputs_):\n",
        "        # print(f'input shape: {inputs_.shape}')\n",
        "        # print(f'input: {inputs_}')\n",
        "        x = self.embeddings(inputs_)\n",
        "        x = self.linear(x)\n",
        "        return x"
      ],
      "metadata": {
        "id": "RFX7xLA1tPd7"
      },
      "execution_count": null,
      "outputs": []
    },
    {
      "cell_type": "code",
      "source": [
        "# Utils\n",
        "\n",
        "def get_model_class(model_name: str):\n",
        "    if model_name == \"cbow\":\n",
        "        return CBOW_Model\n",
        "    elif model_name == \"skipgram\":\n",
        "        return SkipGram_Model\n",
        "    else:\n",
        "        raise ValueError(\"Choose model_name from: cbow, skipgram\")\n",
        "        return\n",
        "\n",
        "\n",
        "def get_optimizer_class(name: str):\n",
        "    if name == \"Adam\":\n",
        "        return optim.Adam\n",
        "    else:\n",
        "        raise ValueError(\"Choose optimizer from: Adam\")\n",
        "        return\n",
        "\n",
        "\n",
        "def get_lr_scheduler(optimizer, total_epochs: int, verbose: bool = True):\n",
        "    \"\"\"\n",
        "    Scheduler to linearly decrease learning rate,\n",
        "    so thatlearning rate after the last epoch is 0.\n",
        "    \"\"\"\n",
        "    lr_lambda = lambda epoch: (total_epochs - epoch) / total_epochs\n",
        "    lr_scheduler = LambdaLR(optimizer, lr_lambda=lr_lambda, verbose=verbose)\n",
        "    return lr_scheduler\n",
        "\n",
        "\n",
        "def save_config(config: dict, model_dir: str):\n",
        "    \"\"\"Save config file to `model_dir` directory\"\"\"\n",
        "    config_path = os.path.join(model_dir, \"config.json\")\n",
        "    with open(config_path, \"w\") as stream:\n",
        "        json.dump(config, stream)\n",
        "\n",
        "\n",
        "def save_vocab(vocab, model_dir: str):\n",
        "    \"\"\"Save vocab file to `model_dir` directory\"\"\"\n",
        "    vocab_path = os.path.join(model_dir, \"vocab.pt\")\n",
        "    torch.save(vocab, vocab_path)\n",
        "\n",
        "def load_vocab(model_path: str):\n",
        "    \"\"\"Load vocab file from `model_path`\"\"\"\n",
        "    return torch.load(model_path)\n",
        "\n",
        "class Trainer:\n",
        "    \"\"\"Main class for model training\"\"\"\n",
        "    \n",
        "    def __init__(\n",
        "        self,\n",
        "        model,\n",
        "        epochs,\n",
        "        train_dataloader,\n",
        "        train_steps,\n",
        "        val_dataloader,\n",
        "        val_steps,\n",
        "        checkpoint_frequency,\n",
        "        criterion,\n",
        "        optimizer,\n",
        "        lr_scheduler,\n",
        "        device,\n",
        "        model_dir,\n",
        "        model_name,\n",
        "    ):  \n",
        "        self.model = model\n",
        "        self.epochs = epochs\n",
        "        self.train_dataloader = train_dataloader\n",
        "        self.train_steps = train_steps\n",
        "        self.val_dataloader = val_dataloader\n",
        "        self.val_steps = val_steps\n",
        "        self.criterion = criterion\n",
        "        self.optimizer = optimizer\n",
        "        self.checkpoint_frequency = checkpoint_frequency\n",
        "        self.lr_scheduler = lr_scheduler\n",
        "        self.device = device\n",
        "        self.model_dir = model_dir\n",
        "        self.model_name = model_name\n",
        "\n",
        "        self.loss = {\"train\": [], \"val\": []}\n",
        "        self.model.to(self.device)\n",
        "\n",
        "    def train(self):\n",
        "        for epoch in range(self.epochs):\n",
        "            self._train_epoch()\n",
        "            # self._validate_epoch()\n",
        "            self.loss[\"val\"].append(0.0)\n",
        "            print(\n",
        "                \"Epoch: {}/{}, Train Loss={:.5f}, Val Loss={:.5f}\".format(\n",
        "                    epoch + 1,\n",
        "                    self.epochs,\n",
        "                    self.loss[\"train\"][-1],\n",
        "                    self.loss[\"val\"][-1],\n",
        "                )\n",
        "            )\n",
        "\n",
        "            self.lr_scheduler.step()\n",
        "\n",
        "            if self.checkpoint_frequency:\n",
        "                self._save_checkpoint(epoch)\n",
        "\n",
        "    def _train_epoch(self):\n",
        "        self.model.train()\n",
        "        running_loss = []\n",
        "\n",
        "        batch_bar = tqdm(total=len(self.train_dataloader), dynamic_ncols=True, position=0, leave=False, desc='Training')\n",
        "        for i, batch_data in enumerate(self.train_dataloader, 1):\n",
        "            torch.cuda.empty_cache()\n",
        "\n",
        "            inputs = batch_data[0].to(self.device)\n",
        "            labels = batch_data[1].to(self.device)\n",
        "\n",
        "            self.optimizer.zero_grad()\n",
        "            outputs = self.model(inputs)\n",
        "            loss = self.criterion(outputs, labels)\n",
        "            loss.backward()\n",
        "            self.optimizer.step()\n",
        "\n",
        "            running_loss.append(loss.item())\n",
        "            \n",
        "            batch_bar.update()\n",
        "\n",
        "            if i == self.train_steps:\n",
        "                break\n",
        "\n",
        "        epoch_loss = np.mean(running_loss)\n",
        "        self.loss[\"train\"].append(epoch_loss)\n",
        "\n",
        "    def _validate_epoch(self):\n",
        "        self.model.eval()\n",
        "        running_loss = []\n",
        "\n",
        "        with torch.no_grad():\n",
        "            for i, batch_data in enumerate(self.val_dataloader, 1):\n",
        "                inputs = batch_data[0].to(self.device)\n",
        "                labels = batch_data[1].to(self.device)\n",
        "\n",
        "                outputs = self.model(inputs)\n",
        "                loss = self.criterion(outputs, labels)\n",
        "\n",
        "                running_loss.append(loss.item())\n",
        "\n",
        "                if i == self.val_steps:\n",
        "                    break\n",
        "\n",
        "        epoch_loss = np.mean(running_loss)\n",
        "        self.loss[\"val\"].append(epoch_loss)\n",
        "\n",
        "    def _save_checkpoint(self, epoch):\n",
        "        \"\"\"Save model checkpoint to `self.model_dir` directory\"\"\"\n",
        "        epoch_num = epoch + 1\n",
        "        if epoch_num % self.checkpoint_frequency == 0:\n",
        "            model_path = \"checkpoint_{}.pt\".format(str(epoch_num).zfill(3))\n",
        "            model_path = os.path.join(self.model_dir, model_path)\n",
        "            torch.save(self.model, model_path)\n",
        "\n",
        "    def save_model(self):\n",
        "        \"\"\"Save final model to `self.model_dir` directory\"\"\"\n",
        "        model_path = os.path.join(self.model_dir, \"model.pt\")\n",
        "        torch.save(self.model, model_path)\n",
        "\n",
        "    def save_loss(self):\n",
        "        \"\"\"Save train/val loss as json file to `self.model_dir` directory\"\"\"\n",
        "        loss_path = os.path.join(self.model_dir, \"loss.json\")\n",
        "        with open(loss_path, \"w\") as fp:\n",
        "            json.dump(self.loss, fp)"
      ],
      "metadata": {
        "id": "lQyfTi4wtbeO"
      },
      "execution_count": null,
      "outputs": []
    },
    {
      "cell_type": "code",
      "source": [
        "# Train\n",
        "\n",
        "import argparse\n",
        "import json\n",
        "import os\n",
        "import torch\n",
        "import torch.nn as nn\n",
        "\n",
        "def train(config):\n",
        "    if not os.path.exists(config[\"model_dir\"]):\n",
        "        os.makedirs(config[\"model_dir\"])\n",
        "\n",
        "    train_dataloader, vocab = get_dataloader_and_vocab(\n",
        "        model_name=config[\"model_name\"],\n",
        "        ds_name=config[\"dataset\"],\n",
        "        ds_type=\"train\",\n",
        "        data_dir=config[\"data_dir\"],\n",
        "        batch_size=config[\"train_batch_size\"],\n",
        "        shuffle=config[\"shuffle\"],\n",
        "        vocab=None,\n",
        "    )\n",
        "\n",
        "    val_dataloader, _ = get_dataloader_and_vocab(\n",
        "        model_name=config[\"model_name\"],\n",
        "        ds_name=config[\"dataset\"],\n",
        "        ds_type=\"valid\",\n",
        "        data_dir=config[\"data_dir\"],\n",
        "        batch_size=config[\"val_batch_size\"],\n",
        "        shuffle=config[\"shuffle\"],\n",
        "        vocab=vocab,\n",
        "    )\n",
        "\n",
        "    save_vocab(vocab, config[\"model_dir\"])\n",
        "    save_config(config, config[\"model_dir\"])\n",
        "\n",
        "    vocab_size = len(vocab.get_stoi())\n",
        "    print(f\"Vocabulary size: {vocab_size}\")\n",
        "\n",
        "    model_class = get_model_class(config[\"model_name\"])\n",
        "    model = model_class(vocab_size=vocab_size)\n",
        "    criterion = nn.CrossEntropyLoss()\n",
        "\n",
        "    optimizer_class = get_optimizer_class(config[\"optimizer\"])\n",
        "    optimizer = optimizer_class(model.parameters(), lr=config[\"learning_rate\"])\n",
        "    lr_scheduler = get_lr_scheduler(optimizer, config[\"epochs\"], verbose=True)\n",
        "\n",
        "    device = torch.device(\"cuda\" if torch.cuda.is_available() else \"cpu\")\n",
        "\n",
        "    trainer = Trainer(\n",
        "        model=model,\n",
        "        epochs=config[\"epochs\"],\n",
        "        train_dataloader=train_dataloader,\n",
        "        train_steps=config[\"train_steps\"],\n",
        "        val_dataloader=val_dataloader,\n",
        "        val_steps=config[\"val_steps\"],\n",
        "        criterion=criterion,\n",
        "        optimizer=optimizer,\n",
        "        checkpoint_frequency=config[\"checkpoint_frequency\"],\n",
        "        lr_scheduler=lr_scheduler,\n",
        "        device=device,\n",
        "        model_dir=config[\"model_dir\"],\n",
        "        model_name=config[\"model_name\"],\n",
        "    )\n",
        "\n",
        "    trainer.train()\n",
        "    print(\"Training finished.\")\n",
        "\n",
        "    trainer.save_model()\n",
        "    trainer.save_loss()\n",
        "    print(\"Model artifacts saved to folder:\", config[\"model_dir\"])\n",
        "\n",
        "if not os.path.exists(config[\"model_dir_root\"]):\n",
        "    os.makedirs(config[\"model_dir_root\"])\n",
        "\n",
        "for m in ['skipgram', 'cbow']:\n",
        "    for v in [150, 300, 600]:\n",
        "        EMBED_DIMENSION = v\n",
        "        config['model_name'] = m\n",
        "        config['model_dir'] = f'{config[\"model_dir_root\"]}{m}_{v}'\n",
        "        train(config)"
      ],
      "metadata": {
        "colab": {
          "base_uri": "https://localhost:8080/"
        },
        "id": "HF1uGSeHtf0E",
        "outputId": "50330e17-be58-4035-b8e3-5d0983b27e04"
      },
      "execution_count": null,
      "outputs": [
        {
          "metadata": {
            "tags": null
          },
          "name": "stdout",
          "output_type": "stream",
          "text": [
            "loading data at parsed_1994/constant_length_data/\n",
            "Found 38998 documents\n",
            "0: tion resolution shall apply affected notwithstanding agreement apply extent one per occurrence accident limit shall carry full aggregate term policy policy documentary evidence explicitly another result intended insurance policy extended prior expiration date period multiple extension request producer period less shall carry pro rata extension request insurer period less shall carry full aggregate insurance policy initially written one year multiple period less also shall carry full aggregate insurance policy prior expiration date either producer insurer period less shall carry full aggregate except excess insurer insurance policy specifically make insurance concurrent underlying insurance producer agreed case period less shall carry pro rata section shall apply manner consistent application hereunder particular period within coverage block insurer signatory hereto producer shall use reasonable best necessary timely pursuit litigation obtain final reasonable settlement agreement final judicial determination concerning application insurance policy asbestos related respect thereto producer insurer extent practicable shall assist producer question hereinabove producer pursuant final settlement agreement final judicial determination received insurer question administer handle dispose asbestos related producer shall make pay due appendix would insurer question respect producer said insurer become signatory hereto producer shall make pay producer amount equal received insurer administer handle dispose asbestos related plus investment income less proration made directly producer asbestos related judicial determination settlement agreement would make pay particular claim agreement insurer question become signatory hereto producer received non signatory insurer pursuant hereinabove insurance policy coverage block covering part exposure period claim shall make pay subject applicable liability pro rata basis lieu non signatory insurance policy extent insurance policy would make agreement applicable insurance policy provided directly overlying excess insurance policy shall make pay lieu non signatory insurance policy insurance coverage block cover part exposure period claim thereafter upon final settlement final judicial determination hereinabove insurer hereunder shall option producer provided total reimbursement shall exceed received producer non signatory insurer administer handle dispose asbestos related plus investment income less made directly producer asbestos related judicial determination settlement agreement hereinabove producer question obtain final settlement agreement final judicial determination pursuant hereinabove within two date upon insurer first actually made liability actually pro rata basis lieu non signatory insurance policy pursuant paragraph hereinabove interest shall begin accrue conclusion two year period liability actually made actually insurer lieu non signatory insurance policy shall continue date producer final settlement agreement final judicial determination date insurer question would exhausted make pay agreement non signatory insurer question become signatory hereto interest shall payable quarterly basis date first accrual rate interest publicly new york new york time time base rate producer question final settlement agreement final judicial determination pursuant hereinabove producer shall insurer question interest exceed insurer reimbursement paragraph hereinabove agreement among administration defense payment disposition asbestos related antecedent contemporaneous extrinsic collateral concerning negotiation preparation agreement appendices hereto intended dispute agreement appendices hereto signatory shall introduce evidence seek compel testimony concerning oral written communication made prior june respect negotiation preparation agreement agreement appendix hereto may made mutual agreement writing appendices may made provided therein agreement appendices hereto provision thereof concerning within scope agreement shall determined accordance applicable common law united failure invalidation parti\n",
            "1: se within scope provided consultant computer made available consultant solely basis relationship company solely purpose agreement consultant without written authority company use print copy provide otherwise make available whole part portion computer reconstruct whole part object code source code computer copyright copyrightable subject matter related computer resulting provided consultant behalf company based company information hereby irrevocably assigned set sold transferred company password similar manual electronic telecommunication company mail computer data furnished consultant company otherwise disclosed made known consultant scope consultant considered confidential company shall remain sole exclusive property company shall disclosed person used manner whatsoever except purpose please take time read review material carefully feel free ask human representative clarification time condition employment applied magnetics corporation company booklet employee nothing booklet shall create contract employment specific term modify company policy right terminate employment without cause without notice time manager supervisor representative company president executive vice president authority enter agreement employee make representation contrary policy future reference material provided upon request following review completion questionnaire extent reasonably possible agreement shall inure benefit binding upon personal hereto agreement shall state following prepared assist nature extent outside interest may might involve actual potential interest applied magnetics corporation company conflict interest policy statement please read question carefully event doubt meaning question answer question best ability list doubt section spouse dependent presently person past two officer director employee consultant otherwise employed spouse dependent trust trustee substantial beneficial interest corporation entity substantial ownership interest owner directly indirectly position supplier customer competitor company excess outstanding class company total equity interest case partnership proprietorship exhibit via ca dear letter agreement applied magnetics corporation company regarding resignation officer company certain employment relationship company subject set forth herein consideration herein company agree agreement shall following retention agreement shall mean certain retention agreement company executive note shall meaning set forth retention agreement resignation date shall mean august leave period shall mean period resignation date ending employment period shall mean period ending termination date termination date shall mean may date may established pursuant section hereof either company date employment company plan shall mean company long term incentive plan severance claim shall mean claim section agreement full time employment shall mean providing personal employee officer director person corporation partnership form business commercial professional enterprise regular work schedule less thirty per week retention agreement hereby fully completely whatsoever company fully completely respective thereunder agreement consideration set forth herein effective resignation date resignation vice president chief financial officer treasurer company advised company employment resignation vice president chief financial officer treasurer accepted company hereof august relieved vice president chief financial officer treasurer connection management supervision financial management accounting fiscal previously management control direction august longer serving company principal financial officer federal leave period leave absence employment shall personal advice assistance transition former time employment employment affect continued status employee company company subparagraph provided otherwise materially company per week accordance company usual customary payroll leave employment company make available access voice mail limited secretarial support provide phone mail connection obtain employment elsewhere employment period provided full time e\n",
            "2: est basis evidence supporting financial audit also accounting used significant made management well overall financial statement presentation believe provide reasonable basis opinion opinion financial present fairly material financial position home corporation cash three period ended conformity generally accepted accounting consolidated financial effective company accounting income new york management report financial management prepared responsible company consolidated financial related prepared accordance generally accepted accounting necessarily include based made management financial information annual report consistent financial company internal accounting control related designed provide reasonable assurance assets executed accordance management authorization properly accounting may upon preparation financial financial information design revision internal accounting control involve among management judgment respect relative cost specific control company also internal function formally adequacy effectiveness internal accounting company financial independent expressed opinion respect fairness audit committee board non employee periodically external internal evaluate effectiveness work discharging respective assure independent free access committee quarterly financial data first quarter second quarter third quarter fourth quarter except first quarter second quarter third quarter fourth quarter market common stock new york stock exchange composite management discussion analysis financial condition following commentary read conjunction consolidated financial consolidated financial net billion net health care segment billion higher billion food million net health care food united billion increase net foreign billion billion net health care united billion net billion pharmaceutical due primarily unit volume growth pharmaceutical growth due primarily unit volume company voluntarily established policy limit weighted average prescription pharmaceutical price increase increase consumer price index company prescription pharmaceutical price increase company weighted average prescription pharmaceutical price increase increase consumer price index unit volume growth pharmaceutical segment led anti inflammatory veterinary product line genetics institute factor bulk product also volume growth pharmaceutical growth impacted competitive public private additional program continue market regardless outcome health care reform legislation pharmaceutical due principally unit volume female health care anti inflammatory product infant nutritional consumer health care united billion price partly offset unit volume unit volume growth cough cold allergy product line offset unit company analgesic particularly however unit volume grew united consumer health care unfavorably impacted continued growth private label new competitive consumer health care higher due principally unit volume growth analgesic cough cold allergy product medical diagnostic united due principally unit volume competitive hospital supply market many product acquisition symbiosis corp symbiosis late growth disposable needle syringe increase medical diagnostic result acquisition symbiosis intelligent medical see note unit cardiovascular foreign health care billion unit volume grew price offset unfavorable foreign exchange foreign health care billion due unit volume growth price favorable foreign exchange foreign pharmaceutical led unit volume gains female health care infant nutritional excluding effects exchange foreign pharmaceutical would company governmental price many significant international experienced price several continue particularly company able increase line inflation related currency several particularly brazil foreign gain management discussion analysis financial condition however governmental health care lesser extent competitive may constrain foreign led unit volume gains infant nutritional female health care foreign consumer health care million due primarily unit volume growth oral health care product line particularly inflation related price brazil foreign con\n",
            "3: nuclear plant meet new regulatory increasing labor equipment cost capital significant purchase outstanding connection construction program company new generating construction however construction combustion turbine peaking approximately addition significant construction continue related transmission distribution extension useful generating extent possible company construction program primarily internal short term debt necessary available company may issue additional long term debt preferred stock primarily debt higher cost continued power company annual report company primary external first mortgage preferred stock public receipt additional capital southern company leasing nuclear material order issue additional first mortgage preferred stock company must comply certain earnings coverage mortgage indenture corporate charter restrictive issuance additional first mortgage income tax earnings defined cover pro annual interest outstanding first mortgage least twice issuance additional preferred stock gross income available interest cover pro annual interest preferred stock least one one half times first mortgage preferred stock year ended respectively company mortgage first mortgage company direct lien substantially company fixed property continued power company annual report return equity whether capacity energy available company share million million million included power income contract substantially term thereof would extended automatically two year subject party right cancel upon two notice addition company unconditionally obligation installment sale agreement purchase certain pollution control generating pursuant million principal amount pollution control revenue outstanding power company agreed reimburse company pro rata portion obligation corresponding proportionate ownership stock company upon make payment guaranty capitalization million equity million long term debt annual interest requirement million million million million one half company net income million million million respectively june company sale portion plant miller electric company percentage ownership investment jointly generating total coal plant miller coal jointly affiliate power company jointly millions coal plant miller coal operating southern company company long term short term contractual sale capacity energy certain non outside system service area certain non firm based capacity system general firm pertain capacity related specific generating energy generally sold cost capacity primarily affect profitability company portion system capacity long term millions long term non firm power sold southern electric system power corporation amount contract expire year end unit power plant miller sold power light company electric authority city average capacity southern company settlement agreement gulf resolved litigation pending since arose dispute certain unit power long term power settlement agreement satisfied respect company portion proceeds received see note concerning regulatory treatment retail three year period august company firm power purchase contract capacity maximum period contract company second firm power purchase contract additional capacity maximum period contract power sold member previously directly company wholesale company received net present value associated respective capacity effective annual percent percent respectively operating interest expense capacity made available order secure advance company performance obligation company escrow agent first mortgage maximum amount damages payable company event default principal interest payable unless default company damages decline portion equal returned company million escrow agent continued power company annual report federal state income tax federal deferred deferred investment tax state deferred less income federal state income tax effects temporary carrying assets financial respective tax bases give rise deferred tax assets millions deferred tax deferred tax assets deferred income deferred investment tax life related property amortization normally applied credit reduce depreciatio\n",
            "4: fter ratably per share preferred voting except company pay equivalent six quarterly preferred voting class shall elect two additional preferred also voting related certain company incorporation preferred rank senior common stock outstanding series preferred preferred liquidation preference per share plus unpaid shareholder plan company adopted shareholder plan pursuant plan common stock received one preferred share purchase right common share plan effective triggered person defined company outstanding common threshold may reduced board less exercisable right would subject certain entitle person group purchase common stock company company market value twice exercise price right nonvoting may time concerning stock year ended year ended year ended company outstanding acquire company common stock exercise price acquire company common stock exercise price outstanding exercisable may however expire time may upon calendar days prior notice company common stock average per share public market price less least consecutive trading days prior expiration notice letterhead board mining company report consolidated financial mining company included form financial listed item form connection financial also related financial statement listed item form opinion financial statement considered relation basic financial taken whole present fairly material information included therein ended balance year ended year ended year ended change due reclassification depreciation depletion amortization property plant equipment mining company mining company wholly form second amendment credit agreement second amendment august made among mining company corporation behalf wholly colorado aggregate company new new corporation clay company corporation clay feldspar corporation north corporation feldspar clay feldspar herein collectively individually borrower signature hereto collectively individually bank limited new york branch new york state licensed branch limited authorized institution banking act agent capacity together capacity agent therefore consideration mutual herein good valuable consideration without limitation consideration credit agreement receipt sufficiency hereby acknowledged hereto agree used herein otherwise defined herein shall thereto credit agreement credit agreement amendment regarding date providing annual five year mining section credit agreement hereby date august date amendment regarding cash management fund section credit agreement hereby word immediately following subparagraph word immediately following subparagraph new subparagraph shall read amendment loan hereby agree loan shall extent necessary conform consistent herein effectiveness second amendment second amendment shall effective immediately upon due execution delivery hereof second amendment may executed one executed irrespective date execution delivery shall original together shall constitute one instrument governing law descriptive second amendment shall succession assignment second amendment shall inure benefit binding upon hereto hereunder may assigned accordance assignment credit agreement credit agreement except expressly provided second amendment loan hereby credit agreement loan shall remain full force effect hereby confirmed effectiveness credit agreement loan hereby reference credit agreement agreement hereunder hereof herein like import reference credit agreement note loan document agreement document instrument executed pursuant credit agreement shall reference credit agreement indebtedness second amendment shall provide effect repayment advance bank outstanding intention outstanding credit agreement second amendment outstanding credit agreement immediately prior effectiveness hereof witness whereof hereto second amendment executed duly authorized date first written title vice president branch agent lucy title vice president edge title senior vice president branch bank lucy title vice president edge title senior vice president joe title title vice president exhibit whereas certain agent credit agreement august credit agreement credit agreement pursuant party th\n",
            "5: credit buyer assuming shall responsibility obligation whatsoever liability obligation seller without limitation liability applicable federal state environmental protection liability connection collective agreement pension plan buyer assigned condition seller obligation effect assignment buyer shall pay cure real property equipment constitute assigned permit assumption assignment assigned pursuant section bankruptcy code cure together assumed buyer pursuant section section herein assumed buyer shall reduction purchase price seller assume obligation whatsoever cure default make payment due date hereof real property equipment constitute assigned inventory behalf seller outstanding outstanding date least five buyer shall buyer sole expense comply either following buyer shall cause seller returned seller collateral seller reimbursement respect seller returned seller causing new credit seller shall united bank acceptable buyer trust company acting principal united buyer bank prior issuance seller seller shall use seller accept new credit buyer shall provide connection endeavor seller may reasonably request buyer shall cause buyer bank issue credit favor seller seller equal payable seller cause buyer bank enter agreement seller providing indemnification letter credit seller respect seller pursuant seller agree seek reimbursement seller respect seller enter agreement seller providing indemnification seller buyer respect seller agreement clause credit form substance reasonably satisfactory seller satisfactory seller importer record inventory transit upon receipt quota applicable buyer shall assume seller assets buyer assignment sufficient assign buyer seller right title interest intangible property buyer seller right title interest stock foreign subsidiary buyer seller pursuant section assigned obligor licensee assignment buyer receivable license case may obligor licensee make payment buyer receivable obligor payable license case may buyer may reasonably request effect change name incorporation business business eliminate name name similar name name compliance notice set forth order buyer shall deliver cause addition agreement buyer seller following adjustment pursuant section deposit payable manner section duly executed assumption form substance reasonably satisfactory seller whereby buyer assume agree pay perform discharge assumed seller date agreement date buyer except representation warranty set forth section made best knowledge corporation duly organized validly good standing stock included within assets corporation duly organized place may good standing direct indirect active representation warranty made foreign assets except due organization title stock set forth section section date hereof date seller use reasonable cause foreign buyer seller pursuant section good standing provided seller shall incur substantial connection endeavor prior date seller shall maintain equipment good repair ordinary wear tear conduct business ordinary course consistent past practice subject effect bankruptcy petition seller pursuant foregoing seller shall without prior written consent promptly notify buyer execution confidentiality agreement party notify buyer conversation inquiry offer received potential provide buyer copy written communication sent received potential provide buyer copy information sent seller potential bidder provide buyer sale documentation substantially final form notify buyer execution definitive sale documentation bankruptcy code seller shall pay transfer transaction taxing authority without limitation state county municipality subdivision thereof connection consummation agreement extent seller assignable buyer seller shall take reasonably buyer otherwise endeavor provide buyer insurance policy understood seller connection shall borne buyer buyer buyer date agreement date seller good standing state incorporation full corporate power authority enter agreement perform hereunder buyer taken requisite corporate action order authorize execution delivery agreement consummation hereby agreement duly validly executed buyer legal\n",
            "6: ard may determine respective time time committee shall power authority reference certificate incorporation except committee may extent authorized resolution adopted board provided corporation law section providing issuance stock fix dissolution distribution assets corporation conversion exchange class classes series class classes stock corporation agreement merger consolidation sale lease exchange substantially corporation property assets dissolution corporation revocation dissolution corporation majority committee may fix procedure determine action fix time place whether within without state specify notice thereof shall given unless board shall resolution otherwise provide member committee shall continue member thereof long remains director pleasure majority whole board committee may filled majority whole board section election term office corporation shall following president one vice one may executive senior vice treasurer secretary board may also elect controller assistant vice assistant assistant may deem necessary shall authority perform may time time board corporation shall annually board first meeting thereof annual meeting election shall hold office shall duly shall qualify may filled majority whole board officer board shall subject removal either without cause time majority whole board section officer may resign time giving written notice resignation chairman board president secretary resignation shall take effect time therein time shall become effective shall therein immediately upon receipt unless otherwise therein acceptance resignation shall necessary make effective section president president shall chief executive officer corporation shall subject control board general active supervision business corporation several shall power appoint remove corporation subject control board shall see board carried effect time time shall report board within knowledge corporation may require brought notice request chairman board case absence inability act unless board executive committee shall otherwise determine otherwise provided president shall member board perform chairman board acting shall subject upon chairman board general shall perform incident office president time time may assigned board section vice vice president shall shall board time election may assigned time time board president absence disability president unless board executive committee shall otherwise determine executive vice president tenure office shall executive vice president senior vice president tenure office shall senior vice vice president tenure office shall president section treasurer board treasurer shall give bond faithful discharge sum surety board shall determine extent determined board shall funds valuable effects corporation receive give receipt due payable corporation whatsoever deposit credit corporation otherwise board president shall direct trust shall selected accordance section article cause funds authorized corporation provided section said article responsible accuracy cause proper giving information may desire respect financial corporation committee board whenever respectively shall request account financial condition corporation treasurer reasonable times cash president audit committee board corporation treasurer time time may assigned president board section assistant board assistant shall give bond faithful discharge surety board shall determine request treasurer case absence inability act assistant treasurer one assistant shall perform treasurer acting shall subject upon treasurer assistant shall perform time time may assigned treasurer president board section secretary secretary shall written board executive committee board one kept purpose law indicia title corporation corporate except custody treasurer seal corporation see seal authorized board facsimile thereof stock corporation prior issuance thereof execution behalf corporation seal duly authorized accordance except board shall otherwise direct power authority attest seal corporation transfer transfer agent transfer registrar provided section article issuance transfer \n",
            "loading data at parsed_1994/constant_length_data/\n",
            "Found 38998 documents\n",
            "0: tion resolution shall apply affected notwithstanding agreement apply extent one per occurrence accident limit shall carry full aggregate term policy policy documentary evidence explicitly another result intended insurance policy extended prior expiration date period multiple extension request producer period less shall carry pro rata extension request insurer period less shall carry full aggregate insurance policy initially written one year multiple period less also shall carry full aggregate insurance policy prior expiration date either producer insurer period less shall carry full aggregate except excess insurer insurance policy specifically make insurance concurrent underlying insurance producer agreed case period less shall carry pro rata section shall apply manner consistent application hereunder particular period within coverage block insurer signatory hereto producer shall use reasonable best necessary timely pursuit litigation obtain final reasonable settlement agreement final judicial determination concerning application insurance policy asbestos related respect thereto producer insurer extent practicable shall assist producer question hereinabove producer pursuant final settlement agreement final judicial determination received insurer question administer handle dispose asbestos related producer shall make pay due appendix would insurer question respect producer said insurer become signatory hereto producer shall make pay producer amount equal received insurer administer handle dispose asbestos related plus investment income less proration made directly producer asbestos related judicial determination settlement agreement would make pay particular claim agreement insurer question become signatory hereto producer received non signatory insurer pursuant hereinabove insurance policy coverage block covering part exposure period claim shall make pay subject applicable liability pro rata basis lieu non signatory insurance policy extent insurance policy would make agreement applicable insurance policy provided directly overlying excess insurance policy shall make pay lieu non signatory insurance policy insurance coverage block cover part exposure period claim thereafter upon final settlement final judicial determination hereinabove insurer hereunder shall option producer provided total reimbursement shall exceed received producer non signatory insurer administer handle dispose asbestos related plus investment income less made directly producer asbestos related judicial determination settlement agreement hereinabove producer question obtain final settlement agreement final judicial determination pursuant hereinabove within two date upon insurer first actually made liability actually pro rata basis lieu non signatory insurance policy pursuant paragraph hereinabove interest shall begin accrue conclusion two year period liability actually made actually insurer lieu non signatory insurance policy shall continue date producer final settlement agreement final judicial determination date insurer question would exhausted make pay agreement non signatory insurer question become signatory hereto interest shall payable quarterly basis date first accrual rate interest publicly new york new york time time base rate producer question final settlement agreement final judicial determination pursuant hereinabove producer shall insurer question interest exceed insurer reimbursement paragraph hereinabove agreement among administration defense payment disposition asbestos related antecedent contemporaneous extrinsic collateral concerning negotiation preparation agreement appendices hereto intended dispute agreement appendices hereto signatory shall introduce evidence seek compel testimony concerning oral written communication made prior june respect negotiation preparation agreement agreement appendix hereto may made mutual agreement writing appendices may made provided therein agreement appendices hereto provision thereof concerning within scope agreement shall determined accordance applicable common law united failure invalidation parti\n",
            "1: se within scope provided consultant computer made available consultant solely basis relationship company solely purpose agreement consultant without written authority company use print copy provide otherwise make available whole part portion computer reconstruct whole part object code source code computer copyright copyrightable subject matter related computer resulting provided consultant behalf company based company information hereby irrevocably assigned set sold transferred company password similar manual electronic telecommunication company mail computer data furnished consultant company otherwise disclosed made known consultant scope consultant considered confidential company shall remain sole exclusive property company shall disclosed person used manner whatsoever except purpose please take time read review material carefully feel free ask human representative clarification time condition employment applied magnetics corporation company booklet employee nothing booklet shall create contract employment specific term modify company policy right terminate employment without cause without notice time manager supervisor representative company president executive vice president authority enter agreement employee make representation contrary policy future reference material provided upon request following review completion questionnaire extent reasonably possible agreement shall inure benefit binding upon personal hereto agreement shall state following prepared assist nature extent outside interest may might involve actual potential interest applied magnetics corporation company conflict interest policy statement please read question carefully event doubt meaning question answer question best ability list doubt section spouse dependent presently person past two officer director employee consultant otherwise employed spouse dependent trust trustee substantial beneficial interest corporation entity substantial ownership interest owner directly indirectly position supplier customer competitor company excess outstanding class company total equity interest case partnership proprietorship exhibit via ca dear letter agreement applied magnetics corporation company regarding resignation officer company certain employment relationship company subject set forth herein consideration herein company agree agreement shall following retention agreement shall mean certain retention agreement company executive note shall meaning set forth retention agreement resignation date shall mean august leave period shall mean period resignation date ending employment period shall mean period ending termination date termination date shall mean may date may established pursuant section hereof either company date employment company plan shall mean company long term incentive plan severance claim shall mean claim section agreement full time employment shall mean providing personal employee officer director person corporation partnership form business commercial professional enterprise regular work schedule less thirty per week retention agreement hereby fully completely whatsoever company fully completely respective thereunder agreement consideration set forth herein effective resignation date resignation vice president chief financial officer treasurer company advised company employment resignation vice president chief financial officer treasurer accepted company hereof august relieved vice president chief financial officer treasurer connection management supervision financial management accounting fiscal previously management control direction august longer serving company principal financial officer federal leave period leave absence employment shall personal advice assistance transition former time employment employment affect continued status employee company company subparagraph provided otherwise materially company per week accordance company usual customary payroll leave employment company make available access voice mail limited secretarial support provide phone mail connection obtain employment elsewhere employment period provided full time e\n",
            "2: est basis evidence supporting financial audit also accounting used significant made management well overall financial statement presentation believe provide reasonable basis opinion opinion financial present fairly material financial position home corporation cash three period ended conformity generally accepted accounting consolidated financial effective company accounting income new york management report financial management prepared responsible company consolidated financial related prepared accordance generally accepted accounting necessarily include based made management financial information annual report consistent financial company internal accounting control related designed provide reasonable assurance assets executed accordance management authorization properly accounting may upon preparation financial financial information design revision internal accounting control involve among management judgment respect relative cost specific control company also internal function formally adequacy effectiveness internal accounting company financial independent expressed opinion respect fairness audit committee board non employee periodically external internal evaluate effectiveness work discharging respective assure independent free access committee quarterly financial data first quarter second quarter third quarter fourth quarter except first quarter second quarter third quarter fourth quarter market common stock new york stock exchange composite management discussion analysis financial condition following commentary read conjunction consolidated financial consolidated financial net billion net health care segment billion higher billion food million net health care food united billion increase net foreign billion billion net health care united billion net billion pharmaceutical due primarily unit volume growth pharmaceutical growth due primarily unit volume company voluntarily established policy limit weighted average prescription pharmaceutical price increase increase consumer price index company prescription pharmaceutical price increase company weighted average prescription pharmaceutical price increase increase consumer price index unit volume growth pharmaceutical segment led anti inflammatory veterinary product line genetics institute factor bulk product also volume growth pharmaceutical growth impacted competitive public private additional program continue market regardless outcome health care reform legislation pharmaceutical due principally unit volume female health care anti inflammatory product infant nutritional consumer health care united billion price partly offset unit volume unit volume growth cough cold allergy product line offset unit company analgesic particularly however unit volume grew united consumer health care unfavorably impacted continued growth private label new competitive consumer health care higher due principally unit volume growth analgesic cough cold allergy product medical diagnostic united due principally unit volume competitive hospital supply market many product acquisition symbiosis corp symbiosis late growth disposable needle syringe increase medical diagnostic result acquisition symbiosis intelligent medical see note unit cardiovascular foreign health care billion unit volume grew price offset unfavorable foreign exchange foreign health care billion due unit volume growth price favorable foreign exchange foreign pharmaceutical led unit volume gains female health care infant nutritional excluding effects exchange foreign pharmaceutical would company governmental price many significant international experienced price several continue particularly company able increase line inflation related currency several particularly brazil foreign gain management discussion analysis financial condition however governmental health care lesser extent competitive may constrain foreign led unit volume gains infant nutritional female health care foreign consumer health care million due primarily unit volume growth oral health care product line particularly inflation related price brazil foreign con\n",
            "3: nuclear plant meet new regulatory increasing labor equipment cost capital significant purchase outstanding connection construction program company new generating construction however construction combustion turbine peaking approximately addition significant construction continue related transmission distribution extension useful generating extent possible company construction program primarily internal short term debt necessary available company may issue additional long term debt preferred stock primarily debt higher cost continued power company annual report company primary external first mortgage preferred stock public receipt additional capital southern company leasing nuclear material order issue additional first mortgage preferred stock company must comply certain earnings coverage mortgage indenture corporate charter restrictive issuance additional first mortgage income tax earnings defined cover pro annual interest outstanding first mortgage least twice issuance additional preferred stock gross income available interest cover pro annual interest preferred stock least one one half times first mortgage preferred stock year ended respectively company mortgage first mortgage company direct lien substantially company fixed property continued power company annual report return equity whether capacity energy available company share million million million included power income contract substantially term thereof would extended automatically two year subject party right cancel upon two notice addition company unconditionally obligation installment sale agreement purchase certain pollution control generating pursuant million principal amount pollution control revenue outstanding power company agreed reimburse company pro rata portion obligation corresponding proportionate ownership stock company upon make payment guaranty capitalization million equity million long term debt annual interest requirement million million million million one half company net income million million million respectively june company sale portion plant miller electric company percentage ownership investment jointly generating total coal plant miller coal jointly affiliate power company jointly millions coal plant miller coal operating southern company company long term short term contractual sale capacity energy certain non outside system service area certain non firm based capacity system general firm pertain capacity related specific generating energy generally sold cost capacity primarily affect profitability company portion system capacity long term millions long term non firm power sold southern electric system power corporation amount contract expire year end unit power plant miller sold power light company electric authority city average capacity southern company settlement agreement gulf resolved litigation pending since arose dispute certain unit power long term power settlement agreement satisfied respect company portion proceeds received see note concerning regulatory treatment retail three year period august company firm power purchase contract capacity maximum period contract company second firm power purchase contract additional capacity maximum period contract power sold member previously directly company wholesale company received net present value associated respective capacity effective annual percent percent respectively operating interest expense capacity made available order secure advance company performance obligation company escrow agent first mortgage maximum amount damages payable company event default principal interest payable unless default company damages decline portion equal returned company million escrow agent continued power company annual report federal state income tax federal deferred deferred investment tax state deferred less income federal state income tax effects temporary carrying assets financial respective tax bases give rise deferred tax assets millions deferred tax deferred tax assets deferred income deferred investment tax life related property amortization normally applied credit reduce depreciatio\n",
            "4: fter ratably per share preferred voting except company pay equivalent six quarterly preferred voting class shall elect two additional preferred also voting related certain company incorporation preferred rank senior common stock outstanding series preferred preferred liquidation preference per share plus unpaid shareholder plan company adopted shareholder plan pursuant plan common stock received one preferred share purchase right common share plan effective triggered person defined company outstanding common threshold may reduced board less exercisable right would subject certain entitle person group purchase common stock company company market value twice exercise price right nonvoting may time concerning stock year ended year ended year ended company outstanding acquire company common stock exercise price acquire company common stock exercise price outstanding exercisable may however expire time may upon calendar days prior notice company common stock average per share public market price less least consecutive trading days prior expiration notice letterhead board mining company report consolidated financial mining company included form financial listed item form connection financial also related financial statement listed item form opinion financial statement considered relation basic financial taken whole present fairly material information included therein ended balance year ended year ended year ended change due reclassification depreciation depletion amortization property plant equipment mining company mining company wholly form second amendment credit agreement second amendment august made among mining company corporation behalf wholly colorado aggregate company new new corporation clay company corporation clay feldspar corporation north corporation feldspar clay feldspar herein collectively individually borrower signature hereto collectively individually bank limited new york branch new york state licensed branch limited authorized institution banking act agent capacity together capacity agent therefore consideration mutual herein good valuable consideration without limitation consideration credit agreement receipt sufficiency hereby acknowledged hereto agree used herein otherwise defined herein shall thereto credit agreement credit agreement amendment regarding date providing annual five year mining section credit agreement hereby date august date amendment regarding cash management fund section credit agreement hereby word immediately following subparagraph word immediately following subparagraph new subparagraph shall read amendment loan hereby agree loan shall extent necessary conform consistent herein effectiveness second amendment second amendment shall effective immediately upon due execution delivery hereof second amendment may executed one executed irrespective date execution delivery shall original together shall constitute one instrument governing law descriptive second amendment shall succession assignment second amendment shall inure benefit binding upon hereto hereunder may assigned accordance assignment credit agreement credit agreement except expressly provided second amendment loan hereby credit agreement loan shall remain full force effect hereby confirmed effectiveness credit agreement loan hereby reference credit agreement agreement hereunder hereof herein like import reference credit agreement note loan document agreement document instrument executed pursuant credit agreement shall reference credit agreement indebtedness second amendment shall provide effect repayment advance bank outstanding intention outstanding credit agreement second amendment outstanding credit agreement immediately prior effectiveness hereof witness whereof hereto second amendment executed duly authorized date first written title vice president branch agent lucy title vice president edge title senior vice president branch bank lucy title vice president edge title senior vice president joe title title vice president exhibit whereas certain agent credit agreement august credit agreement credit agreement pursuant party th\n",
            "5: credit buyer assuming shall responsibility obligation whatsoever liability obligation seller without limitation liability applicable federal state environmental protection liability connection collective agreement pension plan buyer assigned condition seller obligation effect assignment buyer shall pay cure real property equipment constitute assigned permit assumption assignment assigned pursuant section bankruptcy code cure together assumed buyer pursuant section section herein assumed buyer shall reduction purchase price seller assume obligation whatsoever cure default make payment due date hereof real property equipment constitute assigned inventory behalf seller outstanding outstanding date least five buyer shall buyer sole expense comply either following buyer shall cause seller returned seller collateral seller reimbursement respect seller returned seller causing new credit seller shall united bank acceptable buyer trust company acting principal united buyer bank prior issuance seller seller shall use seller accept new credit buyer shall provide connection endeavor seller may reasonably request buyer shall cause buyer bank issue credit favor seller seller equal payable seller cause buyer bank enter agreement seller providing indemnification letter credit seller respect seller pursuant seller agree seek reimbursement seller respect seller enter agreement seller providing indemnification seller buyer respect seller agreement clause credit form substance reasonably satisfactory seller satisfactory seller importer record inventory transit upon receipt quota applicable buyer shall assume seller assets buyer assignment sufficient assign buyer seller right title interest intangible property buyer seller right title interest stock foreign subsidiary buyer seller pursuant section assigned obligor licensee assignment buyer receivable license case may obligor licensee make payment buyer receivable obligor payable license case may buyer may reasonably request effect change name incorporation business business eliminate name name similar name name compliance notice set forth order buyer shall deliver cause addition agreement buyer seller following adjustment pursuant section deposit payable manner section duly executed assumption form substance reasonably satisfactory seller whereby buyer assume agree pay perform discharge assumed seller date agreement date buyer except representation warranty set forth section made best knowledge corporation duly organized validly good standing stock included within assets corporation duly organized place may good standing direct indirect active representation warranty made foreign assets except due organization title stock set forth section section date hereof date seller use reasonable cause foreign buyer seller pursuant section good standing provided seller shall incur substantial connection endeavor prior date seller shall maintain equipment good repair ordinary wear tear conduct business ordinary course consistent past practice subject effect bankruptcy petition seller pursuant foregoing seller shall without prior written consent promptly notify buyer execution confidentiality agreement party notify buyer conversation inquiry offer received potential provide buyer copy written communication sent received potential provide buyer copy information sent seller potential bidder provide buyer sale documentation substantially final form notify buyer execution definitive sale documentation bankruptcy code seller shall pay transfer transaction taxing authority without limitation state county municipality subdivision thereof connection consummation agreement extent seller assignable buyer seller shall take reasonably buyer otherwise endeavor provide buyer insurance policy understood seller connection shall borne buyer buyer buyer date agreement date seller good standing state incorporation full corporate power authority enter agreement perform hereunder buyer taken requisite corporate action order authorize execution delivery agreement consummation hereby agreement duly validly executed buyer legal\n",
            "6: ard may determine respective time time committee shall power authority reference certificate incorporation except committee may extent authorized resolution adopted board provided corporation law section providing issuance stock fix dissolution distribution assets corporation conversion exchange class classes series class classes stock corporation agreement merger consolidation sale lease exchange substantially corporation property assets dissolution corporation revocation dissolution corporation majority committee may fix procedure determine action fix time place whether within without state specify notice thereof shall given unless board shall resolution otherwise provide member committee shall continue member thereof long remains director pleasure majority whole board committee may filled majority whole board section election term office corporation shall following president one vice one may executive senior vice treasurer secretary board may also elect controller assistant vice assistant assistant may deem necessary shall authority perform may time time board corporation shall annually board first meeting thereof annual meeting election shall hold office shall duly shall qualify may filled majority whole board officer board shall subject removal either without cause time majority whole board section officer may resign time giving written notice resignation chairman board president secretary resignation shall take effect time therein time shall become effective shall therein immediately upon receipt unless otherwise therein acceptance resignation shall necessary make effective section president president shall chief executive officer corporation shall subject control board general active supervision business corporation several shall power appoint remove corporation subject control board shall see board carried effect time time shall report board within knowledge corporation may require brought notice request chairman board case absence inability act unless board executive committee shall otherwise determine otherwise provided president shall member board perform chairman board acting shall subject upon chairman board general shall perform incident office president time time may assigned board section vice vice president shall shall board time election may assigned time time board president absence disability president unless board executive committee shall otherwise determine executive vice president tenure office shall executive vice president senior vice president tenure office shall senior vice vice president tenure office shall president section treasurer board treasurer shall give bond faithful discharge sum surety board shall determine extent determined board shall funds valuable effects corporation receive give receipt due payable corporation whatsoever deposit credit corporation otherwise board president shall direct trust shall selected accordance section article cause funds authorized corporation provided section said article responsible accuracy cause proper giving information may desire respect financial corporation committee board whenever respectively shall request account financial condition corporation treasurer reasonable times cash president audit committee board corporation treasurer time time may assigned president board section assistant board assistant shall give bond faithful discharge surety board shall determine request treasurer case absence inability act assistant treasurer one assistant shall perform treasurer acting shall subject upon treasurer assistant shall perform time time may assigned treasurer president board section secretary secretary shall written board executive committee board one kept purpose law indicia title corporation corporate except custody treasurer seal corporation see seal authorized board facsimile thereof stock corporation prior issuance thereof execution behalf corporation seal duly authorized accordance except board shall otherwise direct power authority attest seal corporation transfer transfer agent transfer registrar provided section article issuance transfer \n",
            "Vocabulary size: 6597\n",
            "Adjusting learning rate of group 0 to 2.5000e-01.\n"
          ]
        },
        {
          "metadata": {
            "tags": null
          },
          "name": "stderr",
          "output_type": "stream",
          "text": [
            ""
          ]
        },
        {
          "metadata": {
            "tags": null
          },
          "name": "stdout",
          "output_type": "stream",
          "text": [
            "Epoch: 1/30, Train Loss=6.99895, Val Loss=0.00000\n",
            "Adjusting learning rate of group 0 to 2.4167e-01.\n"
          ]
        },
        {
          "metadata": {
            "tags": null
          },
          "name": "stderr",
          "output_type": "stream",
          "text": [
            ""
          ]
        },
        {
          "metadata": {
            "tags": null
          },
          "name": "stdout",
          "output_type": "stream",
          "text": [
            "Epoch: 2/30, Train Loss=6.98247, Val Loss=0.00000\n",
            "Adjusting learning rate of group 0 to 2.3333e-01.\n"
          ]
        },
        {
          "metadata": {
            "tags": null
          },
          "name": "stderr",
          "output_type": "stream",
          "text": [
            ""
          ]
        },
        {
          "metadata": {
            "tags": null
          },
          "name": "stdout",
          "output_type": "stream",
          "text": [
            "Epoch: 3/30, Train Loss=6.96353, Val Loss=0.00000\n",
            "Adjusting learning rate of group 0 to 2.2500e-01.\n"
          ]
        },
        {
          "metadata": {
            "tags": null
          },
          "name": "stderr",
          "output_type": "stream",
          "text": [
            ""
          ]
        },
        {
          "metadata": {
            "tags": null
          },
          "name": "stdout",
          "output_type": "stream",
          "text": [
            "Epoch: 4/30, Train Loss=6.94471, Val Loss=0.00000\n",
            "Adjusting learning rate of group 0 to 2.1667e-01.\n"
          ]
        },
        {
          "metadata": {
            "tags": null
          },
          "name": "stderr",
          "output_type": "stream",
          "text": [
            ""
          ]
        },
        {
          "metadata": {
            "tags": null
          },
          "name": "stdout",
          "output_type": "stream",
          "text": [
            "Epoch: 5/30, Train Loss=6.92971, Val Loss=0.00000\n",
            "Adjusting learning rate of group 0 to 2.0833e-01.\n"
          ]
        },
        {
          "metadata": {
            "tags": null
          },
          "name": "stderr",
          "output_type": "stream",
          "text": [
            ""
          ]
        },
        {
          "metadata": {
            "tags": null
          },
          "name": "stdout",
          "output_type": "stream",
          "text": [
            "Epoch: 6/30, Train Loss=6.91169, Val Loss=0.00000\n",
            "Adjusting learning rate of group 0 to 2.0000e-01.\n"
          ]
        },
        {
          "metadata": {
            "tags": null
          },
          "name": "stderr",
          "output_type": "stream",
          "text": [
            ""
          ]
        },
        {
          "metadata": {
            "tags": null
          },
          "name": "stdout",
          "output_type": "stream",
          "text": [
            "Epoch: 7/30, Train Loss=6.89399, Val Loss=0.00000\n",
            "Adjusting learning rate of group 0 to 1.9167e-01.\n"
          ]
        },
        {
          "metadata": {
            "tags": null
          },
          "name": "stderr",
          "output_type": "stream",
          "text": [
            ""
          ]
        },
        {
          "metadata": {
            "tags": null
          },
          "name": "stdout",
          "output_type": "stream",
          "text": [
            "Epoch: 8/30, Train Loss=6.87882, Val Loss=0.00000\n",
            "Adjusting learning rate of group 0 to 1.8333e-01.\n"
          ]
        },
        {
          "metadata": {
            "tags": null
          },
          "name": "stderr",
          "output_type": "stream",
          "text": [
            ""
          ]
        },
        {
          "metadata": {
            "tags": null
          },
          "name": "stdout",
          "output_type": "stream",
          "text": [
            "Epoch: 9/30, Train Loss=6.86309, Val Loss=0.00000\n",
            "Adjusting learning rate of group 0 to 1.7500e-01.\n"
          ]
        },
        {
          "metadata": {
            "tags": null
          },
          "name": "stderr",
          "output_type": "stream",
          "text": [
            ""
          ]
        },
        {
          "metadata": {
            "tags": null
          },
          "name": "stdout",
          "output_type": "stream",
          "text": [
            "Epoch: 10/30, Train Loss=6.84651, Val Loss=0.00000\n",
            "Adjusting learning rate of group 0 to 1.6667e-01.\n"
          ]
        },
        {
          "metadata": {
            "tags": null
          },
          "name": "stderr",
          "output_type": "stream",
          "text": [
            ""
          ]
        },
        {
          "metadata": {
            "tags": null
          },
          "name": "stdout",
          "output_type": "stream",
          "text": [
            "Epoch: 11/30, Train Loss=6.83133, Val Loss=0.00000\n",
            "Adjusting learning rate of group 0 to 1.5833e-01.\n"
          ]
        },
        {
          "metadata": {
            "tags": null
          },
          "name": "stderr",
          "output_type": "stream",
          "text": [
            ""
          ]
        },
        {
          "metadata": {
            "tags": null
          },
          "name": "stdout",
          "output_type": "stream",
          "text": [
            "Epoch: 12/30, Train Loss=6.81596, Val Loss=0.00000\n",
            "Adjusting learning rate of group 0 to 1.5000e-01.\n"
          ]
        },
        {
          "metadata": {
            "tags": null
          },
          "name": "stderr",
          "output_type": "stream",
          "text": [
            ""
          ]
        },
        {
          "metadata": {
            "tags": null
          },
          "name": "stdout",
          "output_type": "stream",
          "text": [
            "Epoch: 13/30, Train Loss=6.80034, Val Loss=0.00000\n",
            "Adjusting learning rate of group 0 to 1.4167e-01.\n"
          ]
        },
        {
          "metadata": {
            "tags": null
          },
          "name": "stderr",
          "output_type": "stream",
          "text": [
            ""
          ]
        },
        {
          "metadata": {
            "tags": null
          },
          "name": "stdout",
          "output_type": "stream",
          "text": [
            "Epoch: 14/30, Train Loss=6.78629, Val Loss=0.00000\n",
            "Adjusting learning rate of group 0 to 1.3333e-01.\n"
          ]
        },
        {
          "metadata": {
            "tags": null
          },
          "name": "stderr",
          "output_type": "stream",
          "text": [
            ""
          ]
        },
        {
          "metadata": {
            "tags": null
          },
          "name": "stdout",
          "output_type": "stream",
          "text": [
            "Epoch: 15/30, Train Loss=6.76831, Val Loss=0.00000\n",
            "Adjusting learning rate of group 0 to 1.2500e-01.\n"
          ]
        },
        {
          "metadata": {
            "tags": null
          },
          "name": "stderr",
          "output_type": "stream",
          "text": [
            ""
          ]
        },
        {
          "metadata": {
            "tags": null
          },
          "name": "stdout",
          "output_type": "stream",
          "text": [
            "Epoch: 16/30, Train Loss=6.75377, Val Loss=0.00000\n",
            "Adjusting learning rate of group 0 to 1.1667e-01.\n"
          ]
        },
        {
          "metadata": {
            "tags": null
          },
          "name": "stderr",
          "output_type": "stream",
          "text": [
            ""
          ]
        },
        {
          "metadata": {
            "tags": null
          },
          "name": "stdout",
          "output_type": "stream",
          "text": [
            "Epoch: 17/30, Train Loss=6.73764, Val Loss=0.00000\n",
            "Adjusting learning rate of group 0 to 1.0833e-01.\n"
          ]
        },
        {
          "metadata": {
            "tags": null
          },
          "name": "stderr",
          "output_type": "stream",
          "text": [
            ""
          ]
        },
        {
          "metadata": {
            "tags": null
          },
          "name": "stdout",
          "output_type": "stream",
          "text": [
            "Epoch: 18/30, Train Loss=6.72113, Val Loss=0.00000\n",
            "Adjusting learning rate of group 0 to 1.0000e-01.\n"
          ]
        },
        {
          "metadata": {
            "tags": null
          },
          "name": "stderr",
          "output_type": "stream",
          "text": [
            ""
          ]
        },
        {
          "metadata": {
            "tags": null
          },
          "name": "stdout",
          "output_type": "stream",
          "text": [
            "Epoch: 19/30, Train Loss=6.70540, Val Loss=0.00000\n",
            "Adjusting learning rate of group 0 to 9.1667e-02.\n"
          ]
        },
        {
          "metadata": {
            "tags": null
          },
          "name": "stderr",
          "output_type": "stream",
          "text": [
            ""
          ]
        },
        {
          "metadata": {
            "tags": null
          },
          "name": "stdout",
          "output_type": "stream",
          "text": [
            "Epoch: 20/30, Train Loss=6.68824, Val Loss=0.00000\n",
            "Adjusting learning rate of group 0 to 8.3333e-02.\n"
          ]
        },
        {
          "metadata": {
            "tags": null
          },
          "name": "stderr",
          "output_type": "stream",
          "text": [
            ""
          ]
        },
        {
          "metadata": {
            "tags": null
          },
          "name": "stdout",
          "output_type": "stream",
          "text": [
            "Epoch: 21/30, Train Loss=6.67125, Val Loss=0.00000\n",
            "Adjusting learning rate of group 0 to 7.5000e-02.\n"
          ]
        },
        {
          "metadata": {
            "tags": null
          },
          "name": "stderr",
          "output_type": "stream",
          "text": [
            ""
          ]
        },
        {
          "metadata": {
            "tags": null
          },
          "name": "stdout",
          "output_type": "stream",
          "text": [
            "Epoch: 22/30, Train Loss=6.65321, Val Loss=0.00000\n",
            "Adjusting learning rate of group 0 to 6.6667e-02.\n"
          ]
        },
        {
          "metadata": {
            "tags": null
          },
          "name": "stderr",
          "output_type": "stream",
          "text": [
            ""
          ]
        },
        {
          "metadata": {
            "tags": null
          },
          "name": "stdout",
          "output_type": "stream",
          "text": [
            "Epoch: 23/30, Train Loss=6.63545, Val Loss=0.00000\n",
            "Adjusting learning rate of group 0 to 5.8333e-02.\n"
          ]
        },
        {
          "metadata": {
            "tags": null
          },
          "name": "stderr",
          "output_type": "stream",
          "text": [
            ""
          ]
        },
        {
          "metadata": {
            "tags": null
          },
          "name": "stdout",
          "output_type": "stream",
          "text": [
            "Epoch: 24/30, Train Loss=6.61542, Val Loss=0.00000\n",
            "Adjusting learning rate of group 0 to 5.0000e-02.\n"
          ]
        },
        {
          "metadata": {
            "tags": null
          },
          "name": "stderr",
          "output_type": "stream",
          "text": [
            ""
          ]
        },
        {
          "metadata": {
            "tags": null
          },
          "name": "stdout",
          "output_type": "stream",
          "text": [
            "Epoch: 25/30, Train Loss=6.59352, Val Loss=0.00000\n",
            "Adjusting learning rate of group 0 to 4.1667e-02.\n"
          ]
        },
        {
          "metadata": {
            "tags": null
          },
          "name": "stderr",
          "output_type": "stream",
          "text": [
            ""
          ]
        },
        {
          "metadata": {
            "tags": null
          },
          "name": "stdout",
          "output_type": "stream",
          "text": [
            "Epoch: 26/30, Train Loss=6.56931, Val Loss=0.00000\n",
            "Adjusting learning rate of group 0 to 3.3333e-02.\n"
          ]
        },
        {
          "metadata": {
            "tags": null
          },
          "name": "stderr",
          "output_type": "stream",
          "text": [
            ""
          ]
        },
        {
          "metadata": {
            "tags": null
          },
          "name": "stdout",
          "output_type": "stream",
          "text": [
            "Epoch: 27/30, Train Loss=6.54235, Val Loss=0.00000\n",
            "Adjusting learning rate of group 0 to 2.5000e-02.\n"
          ]
        },
        {
          "metadata": {
            "tags": null
          },
          "name": "stderr",
          "output_type": "stream",
          "text": [
            ""
          ]
        },
        {
          "metadata": {
            "tags": null
          },
          "name": "stdout",
          "output_type": "stream",
          "text": [
            "Epoch: 28/30, Train Loss=6.50908, Val Loss=0.00000\n",
            "Adjusting learning rate of group 0 to 1.6667e-02.\n"
          ]
        },
        {
          "metadata": {
            "tags": null
          },
          "name": "stderr",
          "output_type": "stream",
          "text": [
            ""
          ]
        },
        {
          "metadata": {
            "tags": null
          },
          "name": "stdout",
          "output_type": "stream",
          "text": [
            "Epoch: 29/30, Train Loss=6.46837, Val Loss=0.00000\n",
            "Adjusting learning rate of group 0 to 8.3333e-03.\n"
          ]
        },
        {
          "metadata": {
            "tags": null
          },
          "name": "stderr",
          "output_type": "stream",
          "text": [
            ""
          ]
        },
        {
          "metadata": {
            "tags": null
          },
          "name": "stdout",
          "output_type": "stream",
          "text": [
            "Epoch: 30/30, Train Loss=6.41257, Val Loss=0.00000\n",
            "Adjusting learning rate of group 0 to 0.0000e+00.\n",
            "Training finished.\n",
            "Model artifacts saved to folder: /content/drive/MyDrive/DL785/Project/word2vec/skipgram_150\n",
            "loading data at parsed_1994/constant_length_data/\n",
            "Found 38998 documents\n",
            "0: tion resolution shall apply affected notwithstanding agreement apply extent one per occurrence accident limit shall carry full aggregate term policy policy documentary evidence explicitly another result intended insurance policy extended prior expiration date period multiple extension request producer period less shall carry pro rata extension request insurer period less shall carry full aggregate insurance policy initially written one year multiple period less also shall carry full aggregate insurance policy prior expiration date either producer insurer period less shall carry full aggregate except excess insurer insurance policy specifically make insurance concurrent underlying insurance producer agreed case period less shall carry pro rata section shall apply manner consistent application hereunder particular period within coverage block insurer signatory hereto producer shall use reasonable best necessary timely pursuit litigation obtain final reasonable settlement agreement final judicial determination concerning application insurance policy asbestos related respect thereto producer insurer extent practicable shall assist producer question hereinabove producer pursuant final settlement agreement final judicial determination received insurer question administer handle dispose asbestos related producer shall make pay due appendix would insurer question respect producer said insurer become signatory hereto producer shall make pay producer amount equal received insurer administer handle dispose asbestos related plus investment income less proration made directly producer asbestos related judicial determination settlement agreement would make pay particular claim agreement insurer question become signatory hereto producer received non signatory insurer pursuant hereinabove insurance policy coverage block covering part exposure period claim shall make pay subject applicable liability pro rata basis lieu non signatory insurance policy extent insurance policy would make agreement applicable insurance policy provided directly overlying excess insurance policy shall make pay lieu non signatory insurance policy insurance coverage block cover part exposure period claim thereafter upon final settlement final judicial determination hereinabove insurer hereunder shall option producer provided total reimbursement shall exceed received producer non signatory insurer administer handle dispose asbestos related plus investment income less made directly producer asbestos related judicial determination settlement agreement hereinabove producer question obtain final settlement agreement final judicial determination pursuant hereinabove within two date upon insurer first actually made liability actually pro rata basis lieu non signatory insurance policy pursuant paragraph hereinabove interest shall begin accrue conclusion two year period liability actually made actually insurer lieu non signatory insurance policy shall continue date producer final settlement agreement final judicial determination date insurer question would exhausted make pay agreement non signatory insurer question become signatory hereto interest shall payable quarterly basis date first accrual rate interest publicly new york new york time time base rate producer question final settlement agreement final judicial determination pursuant hereinabove producer shall insurer question interest exceed insurer reimbursement paragraph hereinabove agreement among administration defense payment disposition asbestos related antecedent contemporaneous extrinsic collateral concerning negotiation preparation agreement appendices hereto intended dispute agreement appendices hereto signatory shall introduce evidence seek compel testimony concerning oral written communication made prior june respect negotiation preparation agreement agreement appendix hereto may made mutual agreement writing appendices may made provided therein agreement appendices hereto provision thereof concerning within scope agreement shall determined accordance applicable common law united failure invalidation parti\n",
            "1: se within scope provided consultant computer made available consultant solely basis relationship company solely purpose agreement consultant without written authority company use print copy provide otherwise make available whole part portion computer reconstruct whole part object code source code computer copyright copyrightable subject matter related computer resulting provided consultant behalf company based company information hereby irrevocably assigned set sold transferred company password similar manual electronic telecommunication company mail computer data furnished consultant company otherwise disclosed made known consultant scope consultant considered confidential company shall remain sole exclusive property company shall disclosed person used manner whatsoever except purpose please take time read review material carefully feel free ask human representative clarification time condition employment applied magnetics corporation company booklet employee nothing booklet shall create contract employment specific term modify company policy right terminate employment without cause without notice time manager supervisor representative company president executive vice president authority enter agreement employee make representation contrary policy future reference material provided upon request following review completion questionnaire extent reasonably possible agreement shall inure benefit binding upon personal hereto agreement shall state following prepared assist nature extent outside interest may might involve actual potential interest applied magnetics corporation company conflict interest policy statement please read question carefully event doubt meaning question answer question best ability list doubt section spouse dependent presently person past two officer director employee consultant otherwise employed spouse dependent trust trustee substantial beneficial interest corporation entity substantial ownership interest owner directly indirectly position supplier customer competitor company excess outstanding class company total equity interest case partnership proprietorship exhibit via ca dear letter agreement applied magnetics corporation company regarding resignation officer company certain employment relationship company subject set forth herein consideration herein company agree agreement shall following retention agreement shall mean certain retention agreement company executive note shall meaning set forth retention agreement resignation date shall mean august leave period shall mean period resignation date ending employment period shall mean period ending termination date termination date shall mean may date may established pursuant section hereof either company date employment company plan shall mean company long term incentive plan severance claim shall mean claim section agreement full time employment shall mean providing personal employee officer director person corporation partnership form business commercial professional enterprise regular work schedule less thirty per week retention agreement hereby fully completely whatsoever company fully completely respective thereunder agreement consideration set forth herein effective resignation date resignation vice president chief financial officer treasurer company advised company employment resignation vice president chief financial officer treasurer accepted company hereof august relieved vice president chief financial officer treasurer connection management supervision financial management accounting fiscal previously management control direction august longer serving company principal financial officer federal leave period leave absence employment shall personal advice assistance transition former time employment employment affect continued status employee company company subparagraph provided otherwise materially company per week accordance company usual customary payroll leave employment company make available access voice mail limited secretarial support provide phone mail connection obtain employment elsewhere employment period provided full time e\n",
            "2: est basis evidence supporting financial audit also accounting used significant made management well overall financial statement presentation believe provide reasonable basis opinion opinion financial present fairly material financial position home corporation cash three period ended conformity generally accepted accounting consolidated financial effective company accounting income new york management report financial management prepared responsible company consolidated financial related prepared accordance generally accepted accounting necessarily include based made management financial information annual report consistent financial company internal accounting control related designed provide reasonable assurance assets executed accordance management authorization properly accounting may upon preparation financial financial information design revision internal accounting control involve among management judgment respect relative cost specific control company also internal function formally adequacy effectiveness internal accounting company financial independent expressed opinion respect fairness audit committee board non employee periodically external internal evaluate effectiveness work discharging respective assure independent free access committee quarterly financial data first quarter second quarter third quarter fourth quarter except first quarter second quarter third quarter fourth quarter market common stock new york stock exchange composite management discussion analysis financial condition following commentary read conjunction consolidated financial consolidated financial net billion net health care segment billion higher billion food million net health care food united billion increase net foreign billion billion net health care united billion net billion pharmaceutical due primarily unit volume growth pharmaceutical growth due primarily unit volume company voluntarily established policy limit weighted average prescription pharmaceutical price increase increase consumer price index company prescription pharmaceutical price increase company weighted average prescription pharmaceutical price increase increase consumer price index unit volume growth pharmaceutical segment led anti inflammatory veterinary product line genetics institute factor bulk product also volume growth pharmaceutical growth impacted competitive public private additional program continue market regardless outcome health care reform legislation pharmaceutical due principally unit volume female health care anti inflammatory product infant nutritional consumer health care united billion price partly offset unit volume unit volume growth cough cold allergy product line offset unit company analgesic particularly however unit volume grew united consumer health care unfavorably impacted continued growth private label new competitive consumer health care higher due principally unit volume growth analgesic cough cold allergy product medical diagnostic united due principally unit volume competitive hospital supply market many product acquisition symbiosis corp symbiosis late growth disposable needle syringe increase medical diagnostic result acquisition symbiosis intelligent medical see note unit cardiovascular foreign health care billion unit volume grew price offset unfavorable foreign exchange foreign health care billion due unit volume growth price favorable foreign exchange foreign pharmaceutical led unit volume gains female health care infant nutritional excluding effects exchange foreign pharmaceutical would company governmental price many significant international experienced price several continue particularly company able increase line inflation related currency several particularly brazil foreign gain management discussion analysis financial condition however governmental health care lesser extent competitive may constrain foreign led unit volume gains infant nutritional female health care foreign consumer health care million due primarily unit volume growth oral health care product line particularly inflation related price brazil foreign con\n",
            "3: nuclear plant meet new regulatory increasing labor equipment cost capital significant purchase outstanding connection construction program company new generating construction however construction combustion turbine peaking approximately addition significant construction continue related transmission distribution extension useful generating extent possible company construction program primarily internal short term debt necessary available company may issue additional long term debt preferred stock primarily debt higher cost continued power company annual report company primary external first mortgage preferred stock public receipt additional capital southern company leasing nuclear material order issue additional first mortgage preferred stock company must comply certain earnings coverage mortgage indenture corporate charter restrictive issuance additional first mortgage income tax earnings defined cover pro annual interest outstanding first mortgage least twice issuance additional preferred stock gross income available interest cover pro annual interest preferred stock least one one half times first mortgage preferred stock year ended respectively company mortgage first mortgage company direct lien substantially company fixed property continued power company annual report return equity whether capacity energy available company share million million million included power income contract substantially term thereof would extended automatically two year subject party right cancel upon two notice addition company unconditionally obligation installment sale agreement purchase certain pollution control generating pursuant million principal amount pollution control revenue outstanding power company agreed reimburse company pro rata portion obligation corresponding proportionate ownership stock company upon make payment guaranty capitalization million equity million long term debt annual interest requirement million million million million one half company net income million million million respectively june company sale portion plant miller electric company percentage ownership investment jointly generating total coal plant miller coal jointly affiliate power company jointly millions coal plant miller coal operating southern company company long term short term contractual sale capacity energy certain non outside system service area certain non firm based capacity system general firm pertain capacity related specific generating energy generally sold cost capacity primarily affect profitability company portion system capacity long term millions long term non firm power sold southern electric system power corporation amount contract expire year end unit power plant miller sold power light company electric authority city average capacity southern company settlement agreement gulf resolved litigation pending since arose dispute certain unit power long term power settlement agreement satisfied respect company portion proceeds received see note concerning regulatory treatment retail three year period august company firm power purchase contract capacity maximum period contract company second firm power purchase contract additional capacity maximum period contract power sold member previously directly company wholesale company received net present value associated respective capacity effective annual percent percent respectively operating interest expense capacity made available order secure advance company performance obligation company escrow agent first mortgage maximum amount damages payable company event default principal interest payable unless default company damages decline portion equal returned company million escrow agent continued power company annual report federal state income tax federal deferred deferred investment tax state deferred less income federal state income tax effects temporary carrying assets financial respective tax bases give rise deferred tax assets millions deferred tax deferred tax assets deferred income deferred investment tax life related property amortization normally applied credit reduce depreciatio\n",
            "4: fter ratably per share preferred voting except company pay equivalent six quarterly preferred voting class shall elect two additional preferred also voting related certain company incorporation preferred rank senior common stock outstanding series preferred preferred liquidation preference per share plus unpaid shareholder plan company adopted shareholder plan pursuant plan common stock received one preferred share purchase right common share plan effective triggered person defined company outstanding common threshold may reduced board less exercisable right would subject certain entitle person group purchase common stock company company market value twice exercise price right nonvoting may time concerning stock year ended year ended year ended company outstanding acquire company common stock exercise price acquire company common stock exercise price outstanding exercisable may however expire time may upon calendar days prior notice company common stock average per share public market price less least consecutive trading days prior expiration notice letterhead board mining company report consolidated financial mining company included form financial listed item form connection financial also related financial statement listed item form opinion financial statement considered relation basic financial taken whole present fairly material information included therein ended balance year ended year ended year ended change due reclassification depreciation depletion amortization property plant equipment mining company mining company wholly form second amendment credit agreement second amendment august made among mining company corporation behalf wholly colorado aggregate company new new corporation clay company corporation clay feldspar corporation north corporation feldspar clay feldspar herein collectively individually borrower signature hereto collectively individually bank limited new york branch new york state licensed branch limited authorized institution banking act agent capacity together capacity agent therefore consideration mutual herein good valuable consideration without limitation consideration credit agreement receipt sufficiency hereby acknowledged hereto agree used herein otherwise defined herein shall thereto credit agreement credit agreement amendment regarding date providing annual five year mining section credit agreement hereby date august date amendment regarding cash management fund section credit agreement hereby word immediately following subparagraph word immediately following subparagraph new subparagraph shall read amendment loan hereby agree loan shall extent necessary conform consistent herein effectiveness second amendment second amendment shall effective immediately upon due execution delivery hereof second amendment may executed one executed irrespective date execution delivery shall original together shall constitute one instrument governing law descriptive second amendment shall succession assignment second amendment shall inure benefit binding upon hereto hereunder may assigned accordance assignment credit agreement credit agreement except expressly provided second amendment loan hereby credit agreement loan shall remain full force effect hereby confirmed effectiveness credit agreement loan hereby reference credit agreement agreement hereunder hereof herein like import reference credit agreement note loan document agreement document instrument executed pursuant credit agreement shall reference credit agreement indebtedness second amendment shall provide effect repayment advance bank outstanding intention outstanding credit agreement second amendment outstanding credit agreement immediately prior effectiveness hereof witness whereof hereto second amendment executed duly authorized date first written title vice president branch agent lucy title vice president edge title senior vice president branch bank lucy title vice president edge title senior vice president joe title title vice president exhibit whereas certain agent credit agreement august credit agreement credit agreement pursuant party th\n",
            "5: credit buyer assuming shall responsibility obligation whatsoever liability obligation seller without limitation liability applicable federal state environmental protection liability connection collective agreement pension plan buyer assigned condition seller obligation effect assignment buyer shall pay cure real property equipment constitute assigned permit assumption assignment assigned pursuant section bankruptcy code cure together assumed buyer pursuant section section herein assumed buyer shall reduction purchase price seller assume obligation whatsoever cure default make payment due date hereof real property equipment constitute assigned inventory behalf seller outstanding outstanding date least five buyer shall buyer sole expense comply either following buyer shall cause seller returned seller collateral seller reimbursement respect seller returned seller causing new credit seller shall united bank acceptable buyer trust company acting principal united buyer bank prior issuance seller seller shall use seller accept new credit buyer shall provide connection endeavor seller may reasonably request buyer shall cause buyer bank issue credit favor seller seller equal payable seller cause buyer bank enter agreement seller providing indemnification letter credit seller respect seller pursuant seller agree seek reimbursement seller respect seller enter agreement seller providing indemnification seller buyer respect seller agreement clause credit form substance reasonably satisfactory seller satisfactory seller importer record inventory transit upon receipt quota applicable buyer shall assume seller assets buyer assignment sufficient assign buyer seller right title interest intangible property buyer seller right title interest stock foreign subsidiary buyer seller pursuant section assigned obligor licensee assignment buyer receivable license case may obligor licensee make payment buyer receivable obligor payable license case may buyer may reasonably request effect change name incorporation business business eliminate name name similar name name compliance notice set forth order buyer shall deliver cause addition agreement buyer seller following adjustment pursuant section deposit payable manner section duly executed assumption form substance reasonably satisfactory seller whereby buyer assume agree pay perform discharge assumed seller date agreement date buyer except representation warranty set forth section made best knowledge corporation duly organized validly good standing stock included within assets corporation duly organized place may good standing direct indirect active representation warranty made foreign assets except due organization title stock set forth section section date hereof date seller use reasonable cause foreign buyer seller pursuant section good standing provided seller shall incur substantial connection endeavor prior date seller shall maintain equipment good repair ordinary wear tear conduct business ordinary course consistent past practice subject effect bankruptcy petition seller pursuant foregoing seller shall without prior written consent promptly notify buyer execution confidentiality agreement party notify buyer conversation inquiry offer received potential provide buyer copy written communication sent received potential provide buyer copy information sent seller potential bidder provide buyer sale documentation substantially final form notify buyer execution definitive sale documentation bankruptcy code seller shall pay transfer transaction taxing authority without limitation state county municipality subdivision thereof connection consummation agreement extent seller assignable buyer seller shall take reasonably buyer otherwise endeavor provide buyer insurance policy understood seller connection shall borne buyer buyer buyer date agreement date seller good standing state incorporation full corporate power authority enter agreement perform hereunder buyer taken requisite corporate action order authorize execution delivery agreement consummation hereby agreement duly validly executed buyer legal\n",
            "6: ard may determine respective time time committee shall power authority reference certificate incorporation except committee may extent authorized resolution adopted board provided corporation law section providing issuance stock fix dissolution distribution assets corporation conversion exchange class classes series class classes stock corporation agreement merger consolidation sale lease exchange substantially corporation property assets dissolution corporation revocation dissolution corporation majority committee may fix procedure determine action fix time place whether within without state specify notice thereof shall given unless board shall resolution otherwise provide member committee shall continue member thereof long remains director pleasure majority whole board committee may filled majority whole board section election term office corporation shall following president one vice one may executive senior vice treasurer secretary board may also elect controller assistant vice assistant assistant may deem necessary shall authority perform may time time board corporation shall annually board first meeting thereof annual meeting election shall hold office shall duly shall qualify may filled majority whole board officer board shall subject removal either without cause time majority whole board section officer may resign time giving written notice resignation chairman board president secretary resignation shall take effect time therein time shall become effective shall therein immediately upon receipt unless otherwise therein acceptance resignation shall necessary make effective section president president shall chief executive officer corporation shall subject control board general active supervision business corporation several shall power appoint remove corporation subject control board shall see board carried effect time time shall report board within knowledge corporation may require brought notice request chairman board case absence inability act unless board executive committee shall otherwise determine otherwise provided president shall member board perform chairman board acting shall subject upon chairman board general shall perform incident office president time time may assigned board section vice vice president shall shall board time election may assigned time time board president absence disability president unless board executive committee shall otherwise determine executive vice president tenure office shall executive vice president senior vice president tenure office shall senior vice vice president tenure office shall president section treasurer board treasurer shall give bond faithful discharge sum surety board shall determine extent determined board shall funds valuable effects corporation receive give receipt due payable corporation whatsoever deposit credit corporation otherwise board president shall direct trust shall selected accordance section article cause funds authorized corporation provided section said article responsible accuracy cause proper giving information may desire respect financial corporation committee board whenever respectively shall request account financial condition corporation treasurer reasonable times cash president audit committee board corporation treasurer time time may assigned president board section assistant board assistant shall give bond faithful discharge surety board shall determine request treasurer case absence inability act assistant treasurer one assistant shall perform treasurer acting shall subject upon treasurer assistant shall perform time time may assigned treasurer president board section secretary secretary shall written board executive committee board one kept purpose law indicia title corporation corporate except custody treasurer seal corporation see seal authorized board facsimile thereof stock corporation prior issuance thereof execution behalf corporation seal duly authorized accordance except board shall otherwise direct power authority attest seal corporation transfer transfer agent transfer registrar provided section article issuance transfer \n",
            "loading data at parsed_1994/constant_length_data/\n",
            "Found 38998 documents\n",
            "0: tion resolution shall apply affected notwithstanding agreement apply extent one per occurrence accident limit shall carry full aggregate term policy policy documentary evidence explicitly another result intended insurance policy extended prior expiration date period multiple extension request producer period less shall carry pro rata extension request insurer period less shall carry full aggregate insurance policy initially written one year multiple period less also shall carry full aggregate insurance policy prior expiration date either producer insurer period less shall carry full aggregate except excess insurer insurance policy specifically make insurance concurrent underlying insurance producer agreed case period less shall carry pro rata section shall apply manner consistent application hereunder particular period within coverage block insurer signatory hereto producer shall use reasonable best necessary timely pursuit litigation obtain final reasonable settlement agreement final judicial determination concerning application insurance policy asbestos related respect thereto producer insurer extent practicable shall assist producer question hereinabove producer pursuant final settlement agreement final judicial determination received insurer question administer handle dispose asbestos related producer shall make pay due appendix would insurer question respect producer said insurer become signatory hereto producer shall make pay producer amount equal received insurer administer handle dispose asbestos related plus investment income less proration made directly producer asbestos related judicial determination settlement agreement would make pay particular claim agreement insurer question become signatory hereto producer received non signatory insurer pursuant hereinabove insurance policy coverage block covering part exposure period claim shall make pay subject applicable liability pro rata basis lieu non signatory insurance policy extent insurance policy would make agreement applicable insurance policy provided directly overlying excess insurance policy shall make pay lieu non signatory insurance policy insurance coverage block cover part exposure period claim thereafter upon final settlement final judicial determination hereinabove insurer hereunder shall option producer provided total reimbursement shall exceed received producer non signatory insurer administer handle dispose asbestos related plus investment income less made directly producer asbestos related judicial determination settlement agreement hereinabove producer question obtain final settlement agreement final judicial determination pursuant hereinabove within two date upon insurer first actually made liability actually pro rata basis lieu non signatory insurance policy pursuant paragraph hereinabove interest shall begin accrue conclusion two year period liability actually made actually insurer lieu non signatory insurance policy shall continue date producer final settlement agreement final judicial determination date insurer question would exhausted make pay agreement non signatory insurer question become signatory hereto interest shall payable quarterly basis date first accrual rate interest publicly new york new york time time base rate producer question final settlement agreement final judicial determination pursuant hereinabove producer shall insurer question interest exceed insurer reimbursement paragraph hereinabove agreement among administration defense payment disposition asbestos related antecedent contemporaneous extrinsic collateral concerning negotiation preparation agreement appendices hereto intended dispute agreement appendices hereto signatory shall introduce evidence seek compel testimony concerning oral written communication made prior june respect negotiation preparation agreement agreement appendix hereto may made mutual agreement writing appendices may made provided therein agreement appendices hereto provision thereof concerning within scope agreement shall determined accordance applicable common law united failure invalidation parti\n",
            "1: se within scope provided consultant computer made available consultant solely basis relationship company solely purpose agreement consultant without written authority company use print copy provide otherwise make available whole part portion computer reconstruct whole part object code source code computer copyright copyrightable subject matter related computer resulting provided consultant behalf company based company information hereby irrevocably assigned set sold transferred company password similar manual electronic telecommunication company mail computer data furnished consultant company otherwise disclosed made known consultant scope consultant considered confidential company shall remain sole exclusive property company shall disclosed person used manner whatsoever except purpose please take time read review material carefully feel free ask human representative clarification time condition employment applied magnetics corporation company booklet employee nothing booklet shall create contract employment specific term modify company policy right terminate employment without cause without notice time manager supervisor representative company president executive vice president authority enter agreement employee make representation contrary policy future reference material provided upon request following review completion questionnaire extent reasonably possible agreement shall inure benefit binding upon personal hereto agreement shall state following prepared assist nature extent outside interest may might involve actual potential interest applied magnetics corporation company conflict interest policy statement please read question carefully event doubt meaning question answer question best ability list doubt section spouse dependent presently person past two officer director employee consultant otherwise employed spouse dependent trust trustee substantial beneficial interest corporation entity substantial ownership interest owner directly indirectly position supplier customer competitor company excess outstanding class company total equity interest case partnership proprietorship exhibit via ca dear letter agreement applied magnetics corporation company regarding resignation officer company certain employment relationship company subject set forth herein consideration herein company agree agreement shall following retention agreement shall mean certain retention agreement company executive note shall meaning set forth retention agreement resignation date shall mean august leave period shall mean period resignation date ending employment period shall mean period ending termination date termination date shall mean may date may established pursuant section hereof either company date employment company plan shall mean company long term incentive plan severance claim shall mean claim section agreement full time employment shall mean providing personal employee officer director person corporation partnership form business commercial professional enterprise regular work schedule less thirty per week retention agreement hereby fully completely whatsoever company fully completely respective thereunder agreement consideration set forth herein effective resignation date resignation vice president chief financial officer treasurer company advised company employment resignation vice president chief financial officer treasurer accepted company hereof august relieved vice president chief financial officer treasurer connection management supervision financial management accounting fiscal previously management control direction august longer serving company principal financial officer federal leave period leave absence employment shall personal advice assistance transition former time employment employment affect continued status employee company company subparagraph provided otherwise materially company per week accordance company usual customary payroll leave employment company make available access voice mail limited secretarial support provide phone mail connection obtain employment elsewhere employment period provided full time e\n",
            "2: est basis evidence supporting financial audit also accounting used significant made management well overall financial statement presentation believe provide reasonable basis opinion opinion financial present fairly material financial position home corporation cash three period ended conformity generally accepted accounting consolidated financial effective company accounting income new york management report financial management prepared responsible company consolidated financial related prepared accordance generally accepted accounting necessarily include based made management financial information annual report consistent financial company internal accounting control related designed provide reasonable assurance assets executed accordance management authorization properly accounting may upon preparation financial financial information design revision internal accounting control involve among management judgment respect relative cost specific control company also internal function formally adequacy effectiveness internal accounting company financial independent expressed opinion respect fairness audit committee board non employee periodically external internal evaluate effectiveness work discharging respective assure independent free access committee quarterly financial data first quarter second quarter third quarter fourth quarter except first quarter second quarter third quarter fourth quarter market common stock new york stock exchange composite management discussion analysis financial condition following commentary read conjunction consolidated financial consolidated financial net billion net health care segment billion higher billion food million net health care food united billion increase net foreign billion billion net health care united billion net billion pharmaceutical due primarily unit volume growth pharmaceutical growth due primarily unit volume company voluntarily established policy limit weighted average prescription pharmaceutical price increase increase consumer price index company prescription pharmaceutical price increase company weighted average prescription pharmaceutical price increase increase consumer price index unit volume growth pharmaceutical segment led anti inflammatory veterinary product line genetics institute factor bulk product also volume growth pharmaceutical growth impacted competitive public private additional program continue market regardless outcome health care reform legislation pharmaceutical due principally unit volume female health care anti inflammatory product infant nutritional consumer health care united billion price partly offset unit volume unit volume growth cough cold allergy product line offset unit company analgesic particularly however unit volume grew united consumer health care unfavorably impacted continued growth private label new competitive consumer health care higher due principally unit volume growth analgesic cough cold allergy product medical diagnostic united due principally unit volume competitive hospital supply market many product acquisition symbiosis corp symbiosis late growth disposable needle syringe increase medical diagnostic result acquisition symbiosis intelligent medical see note unit cardiovascular foreign health care billion unit volume grew price offset unfavorable foreign exchange foreign health care billion due unit volume growth price favorable foreign exchange foreign pharmaceutical led unit volume gains female health care infant nutritional excluding effects exchange foreign pharmaceutical would company governmental price many significant international experienced price several continue particularly company able increase line inflation related currency several particularly brazil foreign gain management discussion analysis financial condition however governmental health care lesser extent competitive may constrain foreign led unit volume gains infant nutritional female health care foreign consumer health care million due primarily unit volume growth oral health care product line particularly inflation related price brazil foreign con\n",
            "3: nuclear plant meet new regulatory increasing labor equipment cost capital significant purchase outstanding connection construction program company new generating construction however construction combustion turbine peaking approximately addition significant construction continue related transmission distribution extension useful generating extent possible company construction program primarily internal short term debt necessary available company may issue additional long term debt preferred stock primarily debt higher cost continued power company annual report company primary external first mortgage preferred stock public receipt additional capital southern company leasing nuclear material order issue additional first mortgage preferred stock company must comply certain earnings coverage mortgage indenture corporate charter restrictive issuance additional first mortgage income tax earnings defined cover pro annual interest outstanding first mortgage least twice issuance additional preferred stock gross income available interest cover pro annual interest preferred stock least one one half times first mortgage preferred stock year ended respectively company mortgage first mortgage company direct lien substantially company fixed property continued power company annual report return equity whether capacity energy available company share million million million included power income contract substantially term thereof would extended automatically two year subject party right cancel upon two notice addition company unconditionally obligation installment sale agreement purchase certain pollution control generating pursuant million principal amount pollution control revenue outstanding power company agreed reimburse company pro rata portion obligation corresponding proportionate ownership stock company upon make payment guaranty capitalization million equity million long term debt annual interest requirement million million million million one half company net income million million million respectively june company sale portion plant miller electric company percentage ownership investment jointly generating total coal plant miller coal jointly affiliate power company jointly millions coal plant miller coal operating southern company company long term short term contractual sale capacity energy certain non outside system service area certain non firm based capacity system general firm pertain capacity related specific generating energy generally sold cost capacity primarily affect profitability company portion system capacity long term millions long term non firm power sold southern electric system power corporation amount contract expire year end unit power plant miller sold power light company electric authority city average capacity southern company settlement agreement gulf resolved litigation pending since arose dispute certain unit power long term power settlement agreement satisfied respect company portion proceeds received see note concerning regulatory treatment retail three year period august company firm power purchase contract capacity maximum period contract company second firm power purchase contract additional capacity maximum period contract power sold member previously directly company wholesale company received net present value associated respective capacity effective annual percent percent respectively operating interest expense capacity made available order secure advance company performance obligation company escrow agent first mortgage maximum amount damages payable company event default principal interest payable unless default company damages decline portion equal returned company million escrow agent continued power company annual report federal state income tax federal deferred deferred investment tax state deferred less income federal state income tax effects temporary carrying assets financial respective tax bases give rise deferred tax assets millions deferred tax deferred tax assets deferred income deferred investment tax life related property amortization normally applied credit reduce depreciatio\n",
            "4: fter ratably per share preferred voting except company pay equivalent six quarterly preferred voting class shall elect two additional preferred also voting related certain company incorporation preferred rank senior common stock outstanding series preferred preferred liquidation preference per share plus unpaid shareholder plan company adopted shareholder plan pursuant plan common stock received one preferred share purchase right common share plan effective triggered person defined company outstanding common threshold may reduced board less exercisable right would subject certain entitle person group purchase common stock company company market value twice exercise price right nonvoting may time concerning stock year ended year ended year ended company outstanding acquire company common stock exercise price acquire company common stock exercise price outstanding exercisable may however expire time may upon calendar days prior notice company common stock average per share public market price less least consecutive trading days prior expiration notice letterhead board mining company report consolidated financial mining company included form financial listed item form connection financial also related financial statement listed item form opinion financial statement considered relation basic financial taken whole present fairly material information included therein ended balance year ended year ended year ended change due reclassification depreciation depletion amortization property plant equipment mining company mining company wholly form second amendment credit agreement second amendment august made among mining company corporation behalf wholly colorado aggregate company new new corporation clay company corporation clay feldspar corporation north corporation feldspar clay feldspar herein collectively individually borrower signature hereto collectively individually bank limited new york branch new york state licensed branch limited authorized institution banking act agent capacity together capacity agent therefore consideration mutual herein good valuable consideration without limitation consideration credit agreement receipt sufficiency hereby acknowledged hereto agree used herein otherwise defined herein shall thereto credit agreement credit agreement amendment regarding date providing annual five year mining section credit agreement hereby date august date amendment regarding cash management fund section credit agreement hereby word immediately following subparagraph word immediately following subparagraph new subparagraph shall read amendment loan hereby agree loan shall extent necessary conform consistent herein effectiveness second amendment second amendment shall effective immediately upon due execution delivery hereof second amendment may executed one executed irrespective date execution delivery shall original together shall constitute one instrument governing law descriptive second amendment shall succession assignment second amendment shall inure benefit binding upon hereto hereunder may assigned accordance assignment credit agreement credit agreement except expressly provided second amendment loan hereby credit agreement loan shall remain full force effect hereby confirmed effectiveness credit agreement loan hereby reference credit agreement agreement hereunder hereof herein like import reference credit agreement note loan document agreement document instrument executed pursuant credit agreement shall reference credit agreement indebtedness second amendment shall provide effect repayment advance bank outstanding intention outstanding credit agreement second amendment outstanding credit agreement immediately prior effectiveness hereof witness whereof hereto second amendment executed duly authorized date first written title vice president branch agent lucy title vice president edge title senior vice president branch bank lucy title vice president edge title senior vice president joe title title vice president exhibit whereas certain agent credit agreement august credit agreement credit agreement pursuant party th\n",
            "5: credit buyer assuming shall responsibility obligation whatsoever liability obligation seller without limitation liability applicable federal state environmental protection liability connection collective agreement pension plan buyer assigned condition seller obligation effect assignment buyer shall pay cure real property equipment constitute assigned permit assumption assignment assigned pursuant section bankruptcy code cure together assumed buyer pursuant section section herein assumed buyer shall reduction purchase price seller assume obligation whatsoever cure default make payment due date hereof real property equipment constitute assigned inventory behalf seller outstanding outstanding date least five buyer shall buyer sole expense comply either following buyer shall cause seller returned seller collateral seller reimbursement respect seller returned seller causing new credit seller shall united bank acceptable buyer trust company acting principal united buyer bank prior issuance seller seller shall use seller accept new credit buyer shall provide connection endeavor seller may reasonably request buyer shall cause buyer bank issue credit favor seller seller equal payable seller cause buyer bank enter agreement seller providing indemnification letter credit seller respect seller pursuant seller agree seek reimbursement seller respect seller enter agreement seller providing indemnification seller buyer respect seller agreement clause credit form substance reasonably satisfactory seller satisfactory seller importer record inventory transit upon receipt quota applicable buyer shall assume seller assets buyer assignment sufficient assign buyer seller right title interest intangible property buyer seller right title interest stock foreign subsidiary buyer seller pursuant section assigned obligor licensee assignment buyer receivable license case may obligor licensee make payment buyer receivable obligor payable license case may buyer may reasonably request effect change name incorporation business business eliminate name name similar name name compliance notice set forth order buyer shall deliver cause addition agreement buyer seller following adjustment pursuant section deposit payable manner section duly executed assumption form substance reasonably satisfactory seller whereby buyer assume agree pay perform discharge assumed seller date agreement date buyer except representation warranty set forth section made best knowledge corporation duly organized validly good standing stock included within assets corporation duly organized place may good standing direct indirect active representation warranty made foreign assets except due organization title stock set forth section section date hereof date seller use reasonable cause foreign buyer seller pursuant section good standing provided seller shall incur substantial connection endeavor prior date seller shall maintain equipment good repair ordinary wear tear conduct business ordinary course consistent past practice subject effect bankruptcy petition seller pursuant foregoing seller shall without prior written consent promptly notify buyer execution confidentiality agreement party notify buyer conversation inquiry offer received potential provide buyer copy written communication sent received potential provide buyer copy information sent seller potential bidder provide buyer sale documentation substantially final form notify buyer execution definitive sale documentation bankruptcy code seller shall pay transfer transaction taxing authority without limitation state county municipality subdivision thereof connection consummation agreement extent seller assignable buyer seller shall take reasonably buyer otherwise endeavor provide buyer insurance policy understood seller connection shall borne buyer buyer buyer date agreement date seller good standing state incorporation full corporate power authority enter agreement perform hereunder buyer taken requisite corporate action order authorize execution delivery agreement consummation hereby agreement duly validly executed buyer legal\n",
            "6: ard may determine respective time time committee shall power authority reference certificate incorporation except committee may extent authorized resolution adopted board provided corporation law section providing issuance stock fix dissolution distribution assets corporation conversion exchange class classes series class classes stock corporation agreement merger consolidation sale lease exchange substantially corporation property assets dissolution corporation revocation dissolution corporation majority committee may fix procedure determine action fix time place whether within without state specify notice thereof shall given unless board shall resolution otherwise provide member committee shall continue member thereof long remains director pleasure majority whole board committee may filled majority whole board section election term office corporation shall following president one vice one may executive senior vice treasurer secretary board may also elect controller assistant vice assistant assistant may deem necessary shall authority perform may time time board corporation shall annually board first meeting thereof annual meeting election shall hold office shall duly shall qualify may filled majority whole board officer board shall subject removal either without cause time majority whole board section officer may resign time giving written notice resignation chairman board president secretary resignation shall take effect time therein time shall become effective shall therein immediately upon receipt unless otherwise therein acceptance resignation shall necessary make effective section president president shall chief executive officer corporation shall subject control board general active supervision business corporation several shall power appoint remove corporation subject control board shall see board carried effect time time shall report board within knowledge corporation may require brought notice request chairman board case absence inability act unless board executive committee shall otherwise determine otherwise provided president shall member board perform chairman board acting shall subject upon chairman board general shall perform incident office president time time may assigned board section vice vice president shall shall board time election may assigned time time board president absence disability president unless board executive committee shall otherwise determine executive vice president tenure office shall executive vice president senior vice president tenure office shall senior vice vice president tenure office shall president section treasurer board treasurer shall give bond faithful discharge sum surety board shall determine extent determined board shall funds valuable effects corporation receive give receipt due payable corporation whatsoever deposit credit corporation otherwise board president shall direct trust shall selected accordance section article cause funds authorized corporation provided section said article responsible accuracy cause proper giving information may desire respect financial corporation committee board whenever respectively shall request account financial condition corporation treasurer reasonable times cash president audit committee board corporation treasurer time time may assigned president board section assistant board assistant shall give bond faithful discharge surety board shall determine request treasurer case absence inability act assistant treasurer one assistant shall perform treasurer acting shall subject upon treasurer assistant shall perform time time may assigned treasurer president board section secretary secretary shall written board executive committee board one kept purpose law indicia title corporation corporate except custody treasurer seal corporation see seal authorized board facsimile thereof stock corporation prior issuance thereof execution behalf corporation seal duly authorized accordance except board shall otherwise direct power authority attest seal corporation transfer transfer agent transfer registrar provided section article issuance transfer \n",
            "Vocabulary size: 6597\n",
            "Adjusting learning rate of group 0 to 2.5000e-01.\n"
          ]
        },
        {
          "metadata": {
            "tags": null
          },
          "name": "stderr",
          "output_type": "stream",
          "text": [
            ""
          ]
        },
        {
          "metadata": {
            "tags": null
          },
          "name": "stdout",
          "output_type": "stream",
          "text": [
            "Epoch: 1/30, Train Loss=7.21694, Val Loss=0.00000\n",
            "Adjusting learning rate of group 0 to 2.4167e-01.\n"
          ]
        },
        {
          "metadata": {
            "tags": null
          },
          "name": "stderr",
          "output_type": "stream",
          "text": [
            ""
          ]
        },
        {
          "metadata": {
            "tags": null
          },
          "name": "stdout",
          "output_type": "stream",
          "text": [
            "Epoch: 2/30, Train Loss=7.19438, Val Loss=0.00000\n",
            "Adjusting learning rate of group 0 to 2.3333e-01.\n"
          ]
        },
        {
          "metadata": {
            "tags": null
          },
          "name": "stderr",
          "output_type": "stream",
          "text": [
            ""
          ]
        },
        {
          "metadata": {
            "tags": null
          },
          "name": "stdout",
          "output_type": "stream",
          "text": [
            "Epoch: 3/30, Train Loss=7.16646, Val Loss=0.00000\n",
            "Adjusting learning rate of group 0 to 2.2500e-01.\n"
          ]
        },
        {
          "metadata": {
            "tags": null
          },
          "name": "stderr",
          "output_type": "stream",
          "text": [
            ""
          ]
        },
        {
          "metadata": {
            "tags": null
          },
          "name": "stdout",
          "output_type": "stream",
          "text": [
            "Epoch: 4/30, Train Loss=7.12993, Val Loss=0.00000\n",
            "Adjusting learning rate of group 0 to 2.1667e-01.\n"
          ]
        },
        {
          "metadata": {
            "tags": null
          },
          "name": "stderr",
          "output_type": "stream",
          "text": [
            ""
          ]
        },
        {
          "metadata": {
            "tags": null
          },
          "name": "stdout",
          "output_type": "stream",
          "text": [
            "Epoch: 5/30, Train Loss=7.09838, Val Loss=0.00000\n",
            "Adjusting learning rate of group 0 to 2.0833e-01.\n"
          ]
        },
        {
          "metadata": {
            "tags": null
          },
          "name": "stderr",
          "output_type": "stream",
          "text": [
            ""
          ]
        },
        {
          "metadata": {
            "tags": null
          },
          "name": "stdout",
          "output_type": "stream",
          "text": [
            "Epoch: 6/30, Train Loss=7.06448, Val Loss=0.00000\n",
            "Adjusting learning rate of group 0 to 2.0000e-01.\n"
          ]
        },
        {
          "metadata": {
            "tags": null
          },
          "name": "stderr",
          "output_type": "stream",
          "text": [
            ""
          ]
        },
        {
          "metadata": {
            "tags": null
          },
          "name": "stdout",
          "output_type": "stream",
          "text": [
            "Epoch: 7/30, Train Loss=7.03612, Val Loss=0.00000\n",
            "Adjusting learning rate of group 0 to 1.9167e-01.\n"
          ]
        },
        {
          "metadata": {
            "tags": null
          },
          "name": "stderr",
          "output_type": "stream",
          "text": [
            ""
          ]
        },
        {
          "metadata": {
            "tags": null
          },
          "name": "stdout",
          "output_type": "stream",
          "text": [
            "Epoch: 8/30, Train Loss=7.00635, Val Loss=0.00000\n",
            "Adjusting learning rate of group 0 to 1.8333e-01.\n"
          ]
        },
        {
          "metadata": {
            "tags": null
          },
          "name": "stderr",
          "output_type": "stream",
          "text": [
            ""
          ]
        },
        {
          "metadata": {
            "tags": null
          },
          "name": "stdout",
          "output_type": "stream",
          "text": [
            "Epoch: 9/30, Train Loss=6.97804, Val Loss=0.00000\n",
            "Adjusting learning rate of group 0 to 1.7500e-01.\n"
          ]
        },
        {
          "metadata": {
            "tags": null
          },
          "name": "stderr",
          "output_type": "stream",
          "text": [
            ""
          ]
        },
        {
          "metadata": {
            "tags": null
          },
          "name": "stdout",
          "output_type": "stream",
          "text": [
            "Epoch: 10/30, Train Loss=6.95018, Val Loss=0.00000\n",
            "Adjusting learning rate of group 0 to 1.6667e-01.\n"
          ]
        },
        {
          "metadata": {
            "tags": null
          },
          "name": "stderr",
          "output_type": "stream",
          "text": [
            ""
          ]
        },
        {
          "metadata": {
            "tags": null
          },
          "name": "stdout",
          "output_type": "stream",
          "text": [
            "Epoch: 11/30, Train Loss=6.92491, Val Loss=0.00000\n",
            "Adjusting learning rate of group 0 to 1.5833e-01.\n"
          ]
        },
        {
          "metadata": {
            "tags": null
          },
          "name": "stderr",
          "output_type": "stream",
          "text": [
            ""
          ]
        },
        {
          "metadata": {
            "tags": null
          },
          "name": "stdout",
          "output_type": "stream",
          "text": [
            "Epoch: 12/30, Train Loss=6.89948, Val Loss=0.00000\n",
            "Adjusting learning rate of group 0 to 1.5000e-01.\n"
          ]
        },
        {
          "metadata": {
            "tags": null
          },
          "name": "stderr",
          "output_type": "stream",
          "text": [
            ""
          ]
        },
        {
          "metadata": {
            "tags": null
          },
          "name": "stdout",
          "output_type": "stream",
          "text": [
            "Epoch: 13/30, Train Loss=6.87660, Val Loss=0.00000\n",
            "Adjusting learning rate of group 0 to 1.4167e-01.\n"
          ]
        },
        {
          "metadata": {
            "tags": null
          },
          "name": "stderr",
          "output_type": "stream",
          "text": [
            ""
          ]
        },
        {
          "metadata": {
            "tags": null
          },
          "name": "stdout",
          "output_type": "stream",
          "text": [
            "Epoch: 14/30, Train Loss=6.85250, Val Loss=0.00000\n",
            "Adjusting learning rate of group 0 to 1.3333e-01.\n"
          ]
        },
        {
          "metadata": {
            "tags": null
          },
          "name": "stderr",
          "output_type": "stream",
          "text": [
            ""
          ]
        },
        {
          "metadata": {
            "tags": null
          },
          "name": "stdout",
          "output_type": "stream",
          "text": [
            "Epoch: 15/30, Train Loss=6.83064, Val Loss=0.00000\n",
            "Adjusting learning rate of group 0 to 1.2500e-01.\n"
          ]
        },
        {
          "metadata": {
            "tags": null
          },
          "name": "stderr",
          "output_type": "stream",
          "text": [
            ""
          ]
        },
        {
          "metadata": {
            "tags": null
          },
          "name": "stdout",
          "output_type": "stream",
          "text": [
            "Epoch: 16/30, Train Loss=6.81002, Val Loss=0.00000\n",
            "Adjusting learning rate of group 0 to 1.1667e-01.\n"
          ]
        },
        {
          "metadata": {
            "tags": null
          },
          "name": "stderr",
          "output_type": "stream",
          "text": [
            ""
          ]
        },
        {
          "metadata": {
            "tags": null
          },
          "name": "stdout",
          "output_type": "stream",
          "text": [
            "Epoch: 17/30, Train Loss=6.78783, Val Loss=0.00000\n",
            "Adjusting learning rate of group 0 to 1.0833e-01.\n"
          ]
        },
        {
          "metadata": {
            "tags": null
          },
          "name": "stderr",
          "output_type": "stream",
          "text": [
            ""
          ]
        },
        {
          "metadata": {
            "tags": null
          },
          "name": "stdout",
          "output_type": "stream",
          "text": [
            "Epoch: 18/30, Train Loss=6.76705, Val Loss=0.00000\n",
            "Adjusting learning rate of group 0 to 1.0000e-01.\n"
          ]
        },
        {
          "metadata": {
            "tags": null
          },
          "name": "stderr",
          "output_type": "stream",
          "text": [
            ""
          ]
        },
        {
          "metadata": {
            "tags": null
          },
          "name": "stdout",
          "output_type": "stream",
          "text": [
            "Epoch: 19/30, Train Loss=6.74575, Val Loss=0.00000\n",
            "Adjusting learning rate of group 0 to 9.1667e-02.\n"
          ]
        },
        {
          "metadata": {
            "tags": null
          },
          "name": "stderr",
          "output_type": "stream",
          "text": [
            ""
          ]
        },
        {
          "metadata": {
            "tags": null
          },
          "name": "stdout",
          "output_type": "stream",
          "text": [
            "Epoch: 20/30, Train Loss=6.72584, Val Loss=0.00000\n",
            "Adjusting learning rate of group 0 to 8.3333e-02.\n"
          ]
        },
        {
          "metadata": {
            "tags": null
          },
          "name": "stderr",
          "output_type": "stream",
          "text": [
            ""
          ]
        },
        {
          "metadata": {
            "tags": null
          },
          "name": "stdout",
          "output_type": "stream",
          "text": [
            "Epoch: 21/30, Train Loss=6.70539, Val Loss=0.00000\n",
            "Adjusting learning rate of group 0 to 7.5000e-02.\n"
          ]
        },
        {
          "metadata": {
            "tags": null
          },
          "name": "stderr",
          "output_type": "stream",
          "text": [
            ""
          ]
        },
        {
          "metadata": {
            "tags": null
          },
          "name": "stdout",
          "output_type": "stream",
          "text": [
            "Epoch: 22/30, Train Loss=6.68459, Val Loss=0.00000\n",
            "Adjusting learning rate of group 0 to 6.6667e-02.\n"
          ]
        },
        {
          "metadata": {
            "tags": null
          },
          "name": "stderr",
          "output_type": "stream",
          "text": [
            ""
          ]
        },
        {
          "metadata": {
            "tags": null
          },
          "name": "stdout",
          "output_type": "stream",
          "text": [
            "Epoch: 23/30, Train Loss=6.66248, Val Loss=0.00000\n",
            "Adjusting learning rate of group 0 to 5.8333e-02.\n"
          ]
        },
        {
          "metadata": {
            "tags": null
          },
          "name": "stderr",
          "output_type": "stream",
          "text": [
            ""
          ]
        },
        {
          "metadata": {
            "tags": null
          },
          "name": "stdout",
          "output_type": "stream",
          "text": [
            "Epoch: 24/30, Train Loss=6.64120, Val Loss=0.00000\n",
            "Adjusting learning rate of group 0 to 5.0000e-02.\n"
          ]
        },
        {
          "metadata": {
            "tags": null
          },
          "name": "stderr",
          "output_type": "stream",
          "text": [
            ""
          ]
        },
        {
          "metadata": {
            "tags": null
          },
          "name": "stdout",
          "output_type": "stream",
          "text": [
            "Epoch: 25/30, Train Loss=6.61844, Val Loss=0.00000\n",
            "Adjusting learning rate of group 0 to 4.1667e-02.\n"
          ]
        },
        {
          "metadata": {
            "tags": null
          },
          "name": "stderr",
          "output_type": "stream",
          "text": [
            ""
          ]
        },
        {
          "metadata": {
            "tags": null
          },
          "name": "stdout",
          "output_type": "stream",
          "text": [
            "Epoch: 26/30, Train Loss=6.59312, Val Loss=0.00000\n",
            "Adjusting learning rate of group 0 to 3.3333e-02.\n"
          ]
        },
        {
          "metadata": {
            "tags": null
          },
          "name": "stderr",
          "output_type": "stream",
          "text": [
            ""
          ]
        },
        {
          "metadata": {
            "tags": null
          },
          "name": "stdout",
          "output_type": "stream",
          "text": [
            "Epoch: 27/30, Train Loss=6.56509, Val Loss=0.00000\n",
            "Adjusting learning rate of group 0 to 2.5000e-02.\n"
          ]
        },
        {
          "metadata": {
            "tags": null
          },
          "name": "stderr",
          "output_type": "stream",
          "text": [
            ""
          ]
        },
        {
          "metadata": {
            "tags": null
          },
          "name": "stdout",
          "output_type": "stream",
          "text": [
            "Epoch: 28/30, Train Loss=6.53122, Val Loss=0.00000\n",
            "Adjusting learning rate of group 0 to 1.6667e-02.\n"
          ]
        },
        {
          "metadata": {
            "tags": null
          },
          "name": "stderr",
          "output_type": "stream",
          "text": [
            ""
          ]
        },
        {
          "metadata": {
            "tags": null
          },
          "name": "stdout",
          "output_type": "stream",
          "text": [
            "Epoch: 29/30, Train Loss=6.48683, Val Loss=0.00000\n",
            "Adjusting learning rate of group 0 to 8.3333e-03.\n"
          ]
        },
        {
          "metadata": {
            "tags": null
          },
          "name": "stderr",
          "output_type": "stream",
          "text": [
            ""
          ]
        },
        {
          "metadata": {
            "tags": null
          },
          "name": "stdout",
          "output_type": "stream",
          "text": [
            "Epoch: 30/30, Train Loss=6.42191, Val Loss=0.00000\n",
            "Adjusting learning rate of group 0 to 0.0000e+00.\n",
            "Training finished.\n",
            "Model artifacts saved to folder: /content/drive/MyDrive/DL785/Project/word2vec/skipgram_300\n",
            "loading data at parsed_1994/constant_length_data/\n",
            "Found 38998 documents\n",
            "0: tion resolution shall apply affected notwithstanding agreement apply extent one per occurrence accident limit shall carry full aggregate term policy policy documentary evidence explicitly another result intended insurance policy extended prior expiration date period multiple extension request producer period less shall carry pro rata extension request insurer period less shall carry full aggregate insurance policy initially written one year multiple period less also shall carry full aggregate insurance policy prior expiration date either producer insurer period less shall carry full aggregate except excess insurer insurance policy specifically make insurance concurrent underlying insurance producer agreed case period less shall carry pro rata section shall apply manner consistent application hereunder particular period within coverage block insurer signatory hereto producer shall use reasonable best necessary timely pursuit litigation obtain final reasonable settlement agreement final judicial determination concerning application insurance policy asbestos related respect thereto producer insurer extent practicable shall assist producer question hereinabove producer pursuant final settlement agreement final judicial determination received insurer question administer handle dispose asbestos related producer shall make pay due appendix would insurer question respect producer said insurer become signatory hereto producer shall make pay producer amount equal received insurer administer handle dispose asbestos related plus investment income less proration made directly producer asbestos related judicial determination settlement agreement would make pay particular claim agreement insurer question become signatory hereto producer received non signatory insurer pursuant hereinabove insurance policy coverage block covering part exposure period claim shall make pay subject applicable liability pro rata basis lieu non signatory insurance policy extent insurance policy would make agreement applicable insurance policy provided directly overlying excess insurance policy shall make pay lieu non signatory insurance policy insurance coverage block cover part exposure period claim thereafter upon final settlement final judicial determination hereinabove insurer hereunder shall option producer provided total reimbursement shall exceed received producer non signatory insurer administer handle dispose asbestos related plus investment income less made directly producer asbestos related judicial determination settlement agreement hereinabove producer question obtain final settlement agreement final judicial determination pursuant hereinabove within two date upon insurer first actually made liability actually pro rata basis lieu non signatory insurance policy pursuant paragraph hereinabove interest shall begin accrue conclusion two year period liability actually made actually insurer lieu non signatory insurance policy shall continue date producer final settlement agreement final judicial determination date insurer question would exhausted make pay agreement non signatory insurer question become signatory hereto interest shall payable quarterly basis date first accrual rate interest publicly new york new york time time base rate producer question final settlement agreement final judicial determination pursuant hereinabove producer shall insurer question interest exceed insurer reimbursement paragraph hereinabove agreement among administration defense payment disposition asbestos related antecedent contemporaneous extrinsic collateral concerning negotiation preparation agreement appendices hereto intended dispute agreement appendices hereto signatory shall introduce evidence seek compel testimony concerning oral written communication made prior june respect negotiation preparation agreement agreement appendix hereto may made mutual agreement writing appendices may made provided therein agreement appendices hereto provision thereof concerning within scope agreement shall determined accordance applicable common law united failure invalidation parti\n",
            "1: se within scope provided consultant computer made available consultant solely basis relationship company solely purpose agreement consultant without written authority company use print copy provide otherwise make available whole part portion computer reconstruct whole part object code source code computer copyright copyrightable subject matter related computer resulting provided consultant behalf company based company information hereby irrevocably assigned set sold transferred company password similar manual electronic telecommunication company mail computer data furnished consultant company otherwise disclosed made known consultant scope consultant considered confidential company shall remain sole exclusive property company shall disclosed person used manner whatsoever except purpose please take time read review material carefully feel free ask human representative clarification time condition employment applied magnetics corporation company booklet employee nothing booklet shall create contract employment specific term modify company policy right terminate employment without cause without notice time manager supervisor representative company president executive vice president authority enter agreement employee make representation contrary policy future reference material provided upon request following review completion questionnaire extent reasonably possible agreement shall inure benefit binding upon personal hereto agreement shall state following prepared assist nature extent outside interest may might involve actual potential interest applied magnetics corporation company conflict interest policy statement please read question carefully event doubt meaning question answer question best ability list doubt section spouse dependent presently person past two officer director employee consultant otherwise employed spouse dependent trust trustee substantial beneficial interest corporation entity substantial ownership interest owner directly indirectly position supplier customer competitor company excess outstanding class company total equity interest case partnership proprietorship exhibit via ca dear letter agreement applied magnetics corporation company regarding resignation officer company certain employment relationship company subject set forth herein consideration herein company agree agreement shall following retention agreement shall mean certain retention agreement company executive note shall meaning set forth retention agreement resignation date shall mean august leave period shall mean period resignation date ending employment period shall mean period ending termination date termination date shall mean may date may established pursuant section hereof either company date employment company plan shall mean company long term incentive plan severance claim shall mean claim section agreement full time employment shall mean providing personal employee officer director person corporation partnership form business commercial professional enterprise regular work schedule less thirty per week retention agreement hereby fully completely whatsoever company fully completely respective thereunder agreement consideration set forth herein effective resignation date resignation vice president chief financial officer treasurer company advised company employment resignation vice president chief financial officer treasurer accepted company hereof august relieved vice president chief financial officer treasurer connection management supervision financial management accounting fiscal previously management control direction august longer serving company principal financial officer federal leave period leave absence employment shall personal advice assistance transition former time employment employment affect continued status employee company company subparagraph provided otherwise materially company per week accordance company usual customary payroll leave employment company make available access voice mail limited secretarial support provide phone mail connection obtain employment elsewhere employment period provided full time e\n",
            "2: est basis evidence supporting financial audit also accounting used significant made management well overall financial statement presentation believe provide reasonable basis opinion opinion financial present fairly material financial position home corporation cash three period ended conformity generally accepted accounting consolidated financial effective company accounting income new york management report financial management prepared responsible company consolidated financial related prepared accordance generally accepted accounting necessarily include based made management financial information annual report consistent financial company internal accounting control related designed provide reasonable assurance assets executed accordance management authorization properly accounting may upon preparation financial financial information design revision internal accounting control involve among management judgment respect relative cost specific control company also internal function formally adequacy effectiveness internal accounting company financial independent expressed opinion respect fairness audit committee board non employee periodically external internal evaluate effectiveness work discharging respective assure independent free access committee quarterly financial data first quarter second quarter third quarter fourth quarter except first quarter second quarter third quarter fourth quarter market common stock new york stock exchange composite management discussion analysis financial condition following commentary read conjunction consolidated financial consolidated financial net billion net health care segment billion higher billion food million net health care food united billion increase net foreign billion billion net health care united billion net billion pharmaceutical due primarily unit volume growth pharmaceutical growth due primarily unit volume company voluntarily established policy limit weighted average prescription pharmaceutical price increase increase consumer price index company prescription pharmaceutical price increase company weighted average prescription pharmaceutical price increase increase consumer price index unit volume growth pharmaceutical segment led anti inflammatory veterinary product line genetics institute factor bulk product also volume growth pharmaceutical growth impacted competitive public private additional program continue market regardless outcome health care reform legislation pharmaceutical due principally unit volume female health care anti inflammatory product infant nutritional consumer health care united billion price partly offset unit volume unit volume growth cough cold allergy product line offset unit company analgesic particularly however unit volume grew united consumer health care unfavorably impacted continued growth private label new competitive consumer health care higher due principally unit volume growth analgesic cough cold allergy product medical diagnostic united due principally unit volume competitive hospital supply market many product acquisition symbiosis corp symbiosis late growth disposable needle syringe increase medical diagnostic result acquisition symbiosis intelligent medical see note unit cardiovascular foreign health care billion unit volume grew price offset unfavorable foreign exchange foreign health care billion due unit volume growth price favorable foreign exchange foreign pharmaceutical led unit volume gains female health care infant nutritional excluding effects exchange foreign pharmaceutical would company governmental price many significant international experienced price several continue particularly company able increase line inflation related currency several particularly brazil foreign gain management discussion analysis financial condition however governmental health care lesser extent competitive may constrain foreign led unit volume gains infant nutritional female health care foreign consumer health care million due primarily unit volume growth oral health care product line particularly inflation related price brazil foreign con\n",
            "3: nuclear plant meet new regulatory increasing labor equipment cost capital significant purchase outstanding connection construction program company new generating construction however construction combustion turbine peaking approximately addition significant construction continue related transmission distribution extension useful generating extent possible company construction program primarily internal short term debt necessary available company may issue additional long term debt preferred stock primarily debt higher cost continued power company annual report company primary external first mortgage preferred stock public receipt additional capital southern company leasing nuclear material order issue additional first mortgage preferred stock company must comply certain earnings coverage mortgage indenture corporate charter restrictive issuance additional first mortgage income tax earnings defined cover pro annual interest outstanding first mortgage least twice issuance additional preferred stock gross income available interest cover pro annual interest preferred stock least one one half times first mortgage preferred stock year ended respectively company mortgage first mortgage company direct lien substantially company fixed property continued power company annual report return equity whether capacity energy available company share million million million included power income contract substantially term thereof would extended automatically two year subject party right cancel upon two notice addition company unconditionally obligation installment sale agreement purchase certain pollution control generating pursuant million principal amount pollution control revenue outstanding power company agreed reimburse company pro rata portion obligation corresponding proportionate ownership stock company upon make payment guaranty capitalization million equity million long term debt annual interest requirement million million million million one half company net income million million million respectively june company sale portion plant miller electric company percentage ownership investment jointly generating total coal plant miller coal jointly affiliate power company jointly millions coal plant miller coal operating southern company company long term short term contractual sale capacity energy certain non outside system service area certain non firm based capacity system general firm pertain capacity related specific generating energy generally sold cost capacity primarily affect profitability company portion system capacity long term millions long term non firm power sold southern electric system power corporation amount contract expire year end unit power plant miller sold power light company electric authority city average capacity southern company settlement agreement gulf resolved litigation pending since arose dispute certain unit power long term power settlement agreement satisfied respect company portion proceeds received see note concerning regulatory treatment retail three year period august company firm power purchase contract capacity maximum period contract company second firm power purchase contract additional capacity maximum period contract power sold member previously directly company wholesale company received net present value associated respective capacity effective annual percent percent respectively operating interest expense capacity made available order secure advance company performance obligation company escrow agent first mortgage maximum amount damages payable company event default principal interest payable unless default company damages decline portion equal returned company million escrow agent continued power company annual report federal state income tax federal deferred deferred investment tax state deferred less income federal state income tax effects temporary carrying assets financial respective tax bases give rise deferred tax assets millions deferred tax deferred tax assets deferred income deferred investment tax life related property amortization normally applied credit reduce depreciatio\n",
            "4: fter ratably per share preferred voting except company pay equivalent six quarterly preferred voting class shall elect two additional preferred also voting related certain company incorporation preferred rank senior common stock outstanding series preferred preferred liquidation preference per share plus unpaid shareholder plan company adopted shareholder plan pursuant plan common stock received one preferred share purchase right common share plan effective triggered person defined company outstanding common threshold may reduced board less exercisable right would subject certain entitle person group purchase common stock company company market value twice exercise price right nonvoting may time concerning stock year ended year ended year ended company outstanding acquire company common stock exercise price acquire company common stock exercise price outstanding exercisable may however expire time may upon calendar days prior notice company common stock average per share public market price less least consecutive trading days prior expiration notice letterhead board mining company report consolidated financial mining company included form financial listed item form connection financial also related financial statement listed item form opinion financial statement considered relation basic financial taken whole present fairly material information included therein ended balance year ended year ended year ended change due reclassification depreciation depletion amortization property plant equipment mining company mining company wholly form second amendment credit agreement second amendment august made among mining company corporation behalf wholly colorado aggregate company new new corporation clay company corporation clay feldspar corporation north corporation feldspar clay feldspar herein collectively individually borrower signature hereto collectively individually bank limited new york branch new york state licensed branch limited authorized institution banking act agent capacity together capacity agent therefore consideration mutual herein good valuable consideration without limitation consideration credit agreement receipt sufficiency hereby acknowledged hereto agree used herein otherwise defined herein shall thereto credit agreement credit agreement amendment regarding date providing annual five year mining section credit agreement hereby date august date amendment regarding cash management fund section credit agreement hereby word immediately following subparagraph word immediately following subparagraph new subparagraph shall read amendment loan hereby agree loan shall extent necessary conform consistent herein effectiveness second amendment second amendment shall effective immediately upon due execution delivery hereof second amendment may executed one executed irrespective date execution delivery shall original together shall constitute one instrument governing law descriptive second amendment shall succession assignment second amendment shall inure benefit binding upon hereto hereunder may assigned accordance assignment credit agreement credit agreement except expressly provided second amendment loan hereby credit agreement loan shall remain full force effect hereby confirmed effectiveness credit agreement loan hereby reference credit agreement agreement hereunder hereof herein like import reference credit agreement note loan document agreement document instrument executed pursuant credit agreement shall reference credit agreement indebtedness second amendment shall provide effect repayment advance bank outstanding intention outstanding credit agreement second amendment outstanding credit agreement immediately prior effectiveness hereof witness whereof hereto second amendment executed duly authorized date first written title vice president branch agent lucy title vice president edge title senior vice president branch bank lucy title vice president edge title senior vice president joe title title vice president exhibit whereas certain agent credit agreement august credit agreement credit agreement pursuant party th\n",
            "5: credit buyer assuming shall responsibility obligation whatsoever liability obligation seller without limitation liability applicable federal state environmental protection liability connection collective agreement pension plan buyer assigned condition seller obligation effect assignment buyer shall pay cure real property equipment constitute assigned permit assumption assignment assigned pursuant section bankruptcy code cure together assumed buyer pursuant section section herein assumed buyer shall reduction purchase price seller assume obligation whatsoever cure default make payment due date hereof real property equipment constitute assigned inventory behalf seller outstanding outstanding date least five buyer shall buyer sole expense comply either following buyer shall cause seller returned seller collateral seller reimbursement respect seller returned seller causing new credit seller shall united bank acceptable buyer trust company acting principal united buyer bank prior issuance seller seller shall use seller accept new credit buyer shall provide connection endeavor seller may reasonably request buyer shall cause buyer bank issue credit favor seller seller equal payable seller cause buyer bank enter agreement seller providing indemnification letter credit seller respect seller pursuant seller agree seek reimbursement seller respect seller enter agreement seller providing indemnification seller buyer respect seller agreement clause credit form substance reasonably satisfactory seller satisfactory seller importer record inventory transit upon receipt quota applicable buyer shall assume seller assets buyer assignment sufficient assign buyer seller right title interest intangible property buyer seller right title interest stock foreign subsidiary buyer seller pursuant section assigned obligor licensee assignment buyer receivable license case may obligor licensee make payment buyer receivable obligor payable license case may buyer may reasonably request effect change name incorporation business business eliminate name name similar name name compliance notice set forth order buyer shall deliver cause addition agreement buyer seller following adjustment pursuant section deposit payable manner section duly executed assumption form substance reasonably satisfactory seller whereby buyer assume agree pay perform discharge assumed seller date agreement date buyer except representation warranty set forth section made best knowledge corporation duly organized validly good standing stock included within assets corporation duly organized place may good standing direct indirect active representation warranty made foreign assets except due organization title stock set forth section section date hereof date seller use reasonable cause foreign buyer seller pursuant section good standing provided seller shall incur substantial connection endeavor prior date seller shall maintain equipment good repair ordinary wear tear conduct business ordinary course consistent past practice subject effect bankruptcy petition seller pursuant foregoing seller shall without prior written consent promptly notify buyer execution confidentiality agreement party notify buyer conversation inquiry offer received potential provide buyer copy written communication sent received potential provide buyer copy information sent seller potential bidder provide buyer sale documentation substantially final form notify buyer execution definitive sale documentation bankruptcy code seller shall pay transfer transaction taxing authority without limitation state county municipality subdivision thereof connection consummation agreement extent seller assignable buyer seller shall take reasonably buyer otherwise endeavor provide buyer insurance policy understood seller connection shall borne buyer buyer buyer date agreement date seller good standing state incorporation full corporate power authority enter agreement perform hereunder buyer taken requisite corporate action order authorize execution delivery agreement consummation hereby agreement duly validly executed buyer legal\n",
            "6: ard may determine respective time time committee shall power authority reference certificate incorporation except committee may extent authorized resolution adopted board provided corporation law section providing issuance stock fix dissolution distribution assets corporation conversion exchange class classes series class classes stock corporation agreement merger consolidation sale lease exchange substantially corporation property assets dissolution corporation revocation dissolution corporation majority committee may fix procedure determine action fix time place whether within without state specify notice thereof shall given unless board shall resolution otherwise provide member committee shall continue member thereof long remains director pleasure majority whole board committee may filled majority whole board section election term office corporation shall following president one vice one may executive senior vice treasurer secretary board may also elect controller assistant vice assistant assistant may deem necessary shall authority perform may time time board corporation shall annually board first meeting thereof annual meeting election shall hold office shall duly shall qualify may filled majority whole board officer board shall subject removal either without cause time majority whole board section officer may resign time giving written notice resignation chairman board president secretary resignation shall take effect time therein time shall become effective shall therein immediately upon receipt unless otherwise therein acceptance resignation shall necessary make effective section president president shall chief executive officer corporation shall subject control board general active supervision business corporation several shall power appoint remove corporation subject control board shall see board carried effect time time shall report board within knowledge corporation may require brought notice request chairman board case absence inability act unless board executive committee shall otherwise determine otherwise provided president shall member board perform chairman board acting shall subject upon chairman board general shall perform incident office president time time may assigned board section vice vice president shall shall board time election may assigned time time board president absence disability president unless board executive committee shall otherwise determine executive vice president tenure office shall executive vice president senior vice president tenure office shall senior vice vice president tenure office shall president section treasurer board treasurer shall give bond faithful discharge sum surety board shall determine extent determined board shall funds valuable effects corporation receive give receipt due payable corporation whatsoever deposit credit corporation otherwise board president shall direct trust shall selected accordance section article cause funds authorized corporation provided section said article responsible accuracy cause proper giving information may desire respect financial corporation committee board whenever respectively shall request account financial condition corporation treasurer reasonable times cash president audit committee board corporation treasurer time time may assigned president board section assistant board assistant shall give bond faithful discharge surety board shall determine request treasurer case absence inability act assistant treasurer one assistant shall perform treasurer acting shall subject upon treasurer assistant shall perform time time may assigned treasurer president board section secretary secretary shall written board executive committee board one kept purpose law indicia title corporation corporate except custody treasurer seal corporation see seal authorized board facsimile thereof stock corporation prior issuance thereof execution behalf corporation seal duly authorized accordance except board shall otherwise direct power authority attest seal corporation transfer transfer agent transfer registrar provided section article issuance transfer \n",
            "loading data at parsed_1994/constant_length_data/\n",
            "Found 38998 documents\n",
            "0: tion resolution shall apply affected notwithstanding agreement apply extent one per occurrence accident limit shall carry full aggregate term policy policy documentary evidence explicitly another result intended insurance policy extended prior expiration date period multiple extension request producer period less shall carry pro rata extension request insurer period less shall carry full aggregate insurance policy initially written one year multiple period less also shall carry full aggregate insurance policy prior expiration date either producer insurer period less shall carry full aggregate except excess insurer insurance policy specifically make insurance concurrent underlying insurance producer agreed case period less shall carry pro rata section shall apply manner consistent application hereunder particular period within coverage block insurer signatory hereto producer shall use reasonable best necessary timely pursuit litigation obtain final reasonable settlement agreement final judicial determination concerning application insurance policy asbestos related respect thereto producer insurer extent practicable shall assist producer question hereinabove producer pursuant final settlement agreement final judicial determination received insurer question administer handle dispose asbestos related producer shall make pay due appendix would insurer question respect producer said insurer become signatory hereto producer shall make pay producer amount equal received insurer administer handle dispose asbestos related plus investment income less proration made directly producer asbestos related judicial determination settlement agreement would make pay particular claim agreement insurer question become signatory hereto producer received non signatory insurer pursuant hereinabove insurance policy coverage block covering part exposure period claim shall make pay subject applicable liability pro rata basis lieu non signatory insurance policy extent insurance policy would make agreement applicable insurance policy provided directly overlying excess insurance policy shall make pay lieu non signatory insurance policy insurance coverage block cover part exposure period claim thereafter upon final settlement final judicial determination hereinabove insurer hereunder shall option producer provided total reimbursement shall exceed received producer non signatory insurer administer handle dispose asbestos related plus investment income less made directly producer asbestos related judicial determination settlement agreement hereinabove producer question obtain final settlement agreement final judicial determination pursuant hereinabove within two date upon insurer first actually made liability actually pro rata basis lieu non signatory insurance policy pursuant paragraph hereinabove interest shall begin accrue conclusion two year period liability actually made actually insurer lieu non signatory insurance policy shall continue date producer final settlement agreement final judicial determination date insurer question would exhausted make pay agreement non signatory insurer question become signatory hereto interest shall payable quarterly basis date first accrual rate interest publicly new york new york time time base rate producer question final settlement agreement final judicial determination pursuant hereinabove producer shall insurer question interest exceed insurer reimbursement paragraph hereinabove agreement among administration defense payment disposition asbestos related antecedent contemporaneous extrinsic collateral concerning negotiation preparation agreement appendices hereto intended dispute agreement appendices hereto signatory shall introduce evidence seek compel testimony concerning oral written communication made prior june respect negotiation preparation agreement agreement appendix hereto may made mutual agreement writing appendices may made provided therein agreement appendices hereto provision thereof concerning within scope agreement shall determined accordance applicable common law united failure invalidation parti\n",
            "1: se within scope provided consultant computer made available consultant solely basis relationship company solely purpose agreement consultant without written authority company use print copy provide otherwise make available whole part portion computer reconstruct whole part object code source code computer copyright copyrightable subject matter related computer resulting provided consultant behalf company based company information hereby irrevocably assigned set sold transferred company password similar manual electronic telecommunication company mail computer data furnished consultant company otherwise disclosed made known consultant scope consultant considered confidential company shall remain sole exclusive property company shall disclosed person used manner whatsoever except purpose please take time read review material carefully feel free ask human representative clarification time condition employment applied magnetics corporation company booklet employee nothing booklet shall create contract employment specific term modify company policy right terminate employment without cause without notice time manager supervisor representative company president executive vice president authority enter agreement employee make representation contrary policy future reference material provided upon request following review completion questionnaire extent reasonably possible agreement shall inure benefit binding upon personal hereto agreement shall state following prepared assist nature extent outside interest may might involve actual potential interest applied magnetics corporation company conflict interest policy statement please read question carefully event doubt meaning question answer question best ability list doubt section spouse dependent presently person past two officer director employee consultant otherwise employed spouse dependent trust trustee substantial beneficial interest corporation entity substantial ownership interest owner directly indirectly position supplier customer competitor company excess outstanding class company total equity interest case partnership proprietorship exhibit via ca dear letter agreement applied magnetics corporation company regarding resignation officer company certain employment relationship company subject set forth herein consideration herein company agree agreement shall following retention agreement shall mean certain retention agreement company executive note shall meaning set forth retention agreement resignation date shall mean august leave period shall mean period resignation date ending employment period shall mean period ending termination date termination date shall mean may date may established pursuant section hereof either company date employment company plan shall mean company long term incentive plan severance claim shall mean claim section agreement full time employment shall mean providing personal employee officer director person corporation partnership form business commercial professional enterprise regular work schedule less thirty per week retention agreement hereby fully completely whatsoever company fully completely respective thereunder agreement consideration set forth herein effective resignation date resignation vice president chief financial officer treasurer company advised company employment resignation vice president chief financial officer treasurer accepted company hereof august relieved vice president chief financial officer treasurer connection management supervision financial management accounting fiscal previously management control direction august longer serving company principal financial officer federal leave period leave absence employment shall personal advice assistance transition former time employment employment affect continued status employee company company subparagraph provided otherwise materially company per week accordance company usual customary payroll leave employment company make available access voice mail limited secretarial support provide phone mail connection obtain employment elsewhere employment period provided full time e\n",
            "2: est basis evidence supporting financial audit also accounting used significant made management well overall financial statement presentation believe provide reasonable basis opinion opinion financial present fairly material financial position home corporation cash three period ended conformity generally accepted accounting consolidated financial effective company accounting income new york management report financial management prepared responsible company consolidated financial related prepared accordance generally accepted accounting necessarily include based made management financial information annual report consistent financial company internal accounting control related designed provide reasonable assurance assets executed accordance management authorization properly accounting may upon preparation financial financial information design revision internal accounting control involve among management judgment respect relative cost specific control company also internal function formally adequacy effectiveness internal accounting company financial independent expressed opinion respect fairness audit committee board non employee periodically external internal evaluate effectiveness work discharging respective assure independent free access committee quarterly financial data first quarter second quarter third quarter fourth quarter except first quarter second quarter third quarter fourth quarter market common stock new york stock exchange composite management discussion analysis financial condition following commentary read conjunction consolidated financial consolidated financial net billion net health care segment billion higher billion food million net health care food united billion increase net foreign billion billion net health care united billion net billion pharmaceutical due primarily unit volume growth pharmaceutical growth due primarily unit volume company voluntarily established policy limit weighted average prescription pharmaceutical price increase increase consumer price index company prescription pharmaceutical price increase company weighted average prescription pharmaceutical price increase increase consumer price index unit volume growth pharmaceutical segment led anti inflammatory veterinary product line genetics institute factor bulk product also volume growth pharmaceutical growth impacted competitive public private additional program continue market regardless outcome health care reform legislation pharmaceutical due principally unit volume female health care anti inflammatory product infant nutritional consumer health care united billion price partly offset unit volume unit volume growth cough cold allergy product line offset unit company analgesic particularly however unit volume grew united consumer health care unfavorably impacted continued growth private label new competitive consumer health care higher due principally unit volume growth analgesic cough cold allergy product medical diagnostic united due principally unit volume competitive hospital supply market many product acquisition symbiosis corp symbiosis late growth disposable needle syringe increase medical diagnostic result acquisition symbiosis intelligent medical see note unit cardiovascular foreign health care billion unit volume grew price offset unfavorable foreign exchange foreign health care billion due unit volume growth price favorable foreign exchange foreign pharmaceutical led unit volume gains female health care infant nutritional excluding effects exchange foreign pharmaceutical would company governmental price many significant international experienced price several continue particularly company able increase line inflation related currency several particularly brazil foreign gain management discussion analysis financial condition however governmental health care lesser extent competitive may constrain foreign led unit volume gains infant nutritional female health care foreign consumer health care million due primarily unit volume growth oral health care product line particularly inflation related price brazil foreign con\n",
            "3: nuclear plant meet new regulatory increasing labor equipment cost capital significant purchase outstanding connection construction program company new generating construction however construction combustion turbine peaking approximately addition significant construction continue related transmission distribution extension useful generating extent possible company construction program primarily internal short term debt necessary available company may issue additional long term debt preferred stock primarily debt higher cost continued power company annual report company primary external first mortgage preferred stock public receipt additional capital southern company leasing nuclear material order issue additional first mortgage preferred stock company must comply certain earnings coverage mortgage indenture corporate charter restrictive issuance additional first mortgage income tax earnings defined cover pro annual interest outstanding first mortgage least twice issuance additional preferred stock gross income available interest cover pro annual interest preferred stock least one one half times first mortgage preferred stock year ended respectively company mortgage first mortgage company direct lien substantially company fixed property continued power company annual report return equity whether capacity energy available company share million million million included power income contract substantially term thereof would extended automatically two year subject party right cancel upon two notice addition company unconditionally obligation installment sale agreement purchase certain pollution control generating pursuant million principal amount pollution control revenue outstanding power company agreed reimburse company pro rata portion obligation corresponding proportionate ownership stock company upon make payment guaranty capitalization million equity million long term debt annual interest requirement million million million million one half company net income million million million respectively june company sale portion plant miller electric company percentage ownership investment jointly generating total coal plant miller coal jointly affiliate power company jointly millions coal plant miller coal operating southern company company long term short term contractual sale capacity energy certain non outside system service area certain non firm based capacity system general firm pertain capacity related specific generating energy generally sold cost capacity primarily affect profitability company portion system capacity long term millions long term non firm power sold southern electric system power corporation amount contract expire year end unit power plant miller sold power light company electric authority city average capacity southern company settlement agreement gulf resolved litigation pending since arose dispute certain unit power long term power settlement agreement satisfied respect company portion proceeds received see note concerning regulatory treatment retail three year period august company firm power purchase contract capacity maximum period contract company second firm power purchase contract additional capacity maximum period contract power sold member previously directly company wholesale company received net present value associated respective capacity effective annual percent percent respectively operating interest expense capacity made available order secure advance company performance obligation company escrow agent first mortgage maximum amount damages payable company event default principal interest payable unless default company damages decline portion equal returned company million escrow agent continued power company annual report federal state income tax federal deferred deferred investment tax state deferred less income federal state income tax effects temporary carrying assets financial respective tax bases give rise deferred tax assets millions deferred tax deferred tax assets deferred income deferred investment tax life related property amortization normally applied credit reduce depreciatio\n",
            "4: fter ratably per share preferred voting except company pay equivalent six quarterly preferred voting class shall elect two additional preferred also voting related certain company incorporation preferred rank senior common stock outstanding series preferred preferred liquidation preference per share plus unpaid shareholder plan company adopted shareholder plan pursuant plan common stock received one preferred share purchase right common share plan effective triggered person defined company outstanding common threshold may reduced board less exercisable right would subject certain entitle person group purchase common stock company company market value twice exercise price right nonvoting may time concerning stock year ended year ended year ended company outstanding acquire company common stock exercise price acquire company common stock exercise price outstanding exercisable may however expire time may upon calendar days prior notice company common stock average per share public market price less least consecutive trading days prior expiration notice letterhead board mining company report consolidated financial mining company included form financial listed item form connection financial also related financial statement listed item form opinion financial statement considered relation basic financial taken whole present fairly material information included therein ended balance year ended year ended year ended change due reclassification depreciation depletion amortization property plant equipment mining company mining company wholly form second amendment credit agreement second amendment august made among mining company corporation behalf wholly colorado aggregate company new new corporation clay company corporation clay feldspar corporation north corporation feldspar clay feldspar herein collectively individually borrower signature hereto collectively individually bank limited new york branch new york state licensed branch limited authorized institution banking act agent capacity together capacity agent therefore consideration mutual herein good valuable consideration without limitation consideration credit agreement receipt sufficiency hereby acknowledged hereto agree used herein otherwise defined herein shall thereto credit agreement credit agreement amendment regarding date providing annual five year mining section credit agreement hereby date august date amendment regarding cash management fund section credit agreement hereby word immediately following subparagraph word immediately following subparagraph new subparagraph shall read amendment loan hereby agree loan shall extent necessary conform consistent herein effectiveness second amendment second amendment shall effective immediately upon due execution delivery hereof second amendment may executed one executed irrespective date execution delivery shall original together shall constitute one instrument governing law descriptive second amendment shall succession assignment second amendment shall inure benefit binding upon hereto hereunder may assigned accordance assignment credit agreement credit agreement except expressly provided second amendment loan hereby credit agreement loan shall remain full force effect hereby confirmed effectiveness credit agreement loan hereby reference credit agreement agreement hereunder hereof herein like import reference credit agreement note loan document agreement document instrument executed pursuant credit agreement shall reference credit agreement indebtedness second amendment shall provide effect repayment advance bank outstanding intention outstanding credit agreement second amendment outstanding credit agreement immediately prior effectiveness hereof witness whereof hereto second amendment executed duly authorized date first written title vice president branch agent lucy title vice president edge title senior vice president branch bank lucy title vice president edge title senior vice president joe title title vice president exhibit whereas certain agent credit agreement august credit agreement credit agreement pursuant party th\n",
            "5: credit buyer assuming shall responsibility obligation whatsoever liability obligation seller without limitation liability applicable federal state environmental protection liability connection collective agreement pension plan buyer assigned condition seller obligation effect assignment buyer shall pay cure real property equipment constitute assigned permit assumption assignment assigned pursuant section bankruptcy code cure together assumed buyer pursuant section section herein assumed buyer shall reduction purchase price seller assume obligation whatsoever cure default make payment due date hereof real property equipment constitute assigned inventory behalf seller outstanding outstanding date least five buyer shall buyer sole expense comply either following buyer shall cause seller returned seller collateral seller reimbursement respect seller returned seller causing new credit seller shall united bank acceptable buyer trust company acting principal united buyer bank prior issuance seller seller shall use seller accept new credit buyer shall provide connection endeavor seller may reasonably request buyer shall cause buyer bank issue credit favor seller seller equal payable seller cause buyer bank enter agreement seller providing indemnification letter credit seller respect seller pursuant seller agree seek reimbursement seller respect seller enter agreement seller providing indemnification seller buyer respect seller agreement clause credit form substance reasonably satisfactory seller satisfactory seller importer record inventory transit upon receipt quota applicable buyer shall assume seller assets buyer assignment sufficient assign buyer seller right title interest intangible property buyer seller right title interest stock foreign subsidiary buyer seller pursuant section assigned obligor licensee assignment buyer receivable license case may obligor licensee make payment buyer receivable obligor payable license case may buyer may reasonably request effect change name incorporation business business eliminate name name similar name name compliance notice set forth order buyer shall deliver cause addition agreement buyer seller following adjustment pursuant section deposit payable manner section duly executed assumption form substance reasonably satisfactory seller whereby buyer assume agree pay perform discharge assumed seller date agreement date buyer except representation warranty set forth section made best knowledge corporation duly organized validly good standing stock included within assets corporation duly organized place may good standing direct indirect active representation warranty made foreign assets except due organization title stock set forth section section date hereof date seller use reasonable cause foreign buyer seller pursuant section good standing provided seller shall incur substantial connection endeavor prior date seller shall maintain equipment good repair ordinary wear tear conduct business ordinary course consistent past practice subject effect bankruptcy petition seller pursuant foregoing seller shall without prior written consent promptly notify buyer execution confidentiality agreement party notify buyer conversation inquiry offer received potential provide buyer copy written communication sent received potential provide buyer copy information sent seller potential bidder provide buyer sale documentation substantially final form notify buyer execution definitive sale documentation bankruptcy code seller shall pay transfer transaction taxing authority without limitation state county municipality subdivision thereof connection consummation agreement extent seller assignable buyer seller shall take reasonably buyer otherwise endeavor provide buyer insurance policy understood seller connection shall borne buyer buyer buyer date agreement date seller good standing state incorporation full corporate power authority enter agreement perform hereunder buyer taken requisite corporate action order authorize execution delivery agreement consummation hereby agreement duly validly executed buyer legal\n",
            "6: ard may determine respective time time committee shall power authority reference certificate incorporation except committee may extent authorized resolution adopted board provided corporation law section providing issuance stock fix dissolution distribution assets corporation conversion exchange class classes series class classes stock corporation agreement merger consolidation sale lease exchange substantially corporation property assets dissolution corporation revocation dissolution corporation majority committee may fix procedure determine action fix time place whether within without state specify notice thereof shall given unless board shall resolution otherwise provide member committee shall continue member thereof long remains director pleasure majority whole board committee may filled majority whole board section election term office corporation shall following president one vice one may executive senior vice treasurer secretary board may also elect controller assistant vice assistant assistant may deem necessary shall authority perform may time time board corporation shall annually board first meeting thereof annual meeting election shall hold office shall duly shall qualify may filled majority whole board officer board shall subject removal either without cause time majority whole board section officer may resign time giving written notice resignation chairman board president secretary resignation shall take effect time therein time shall become effective shall therein immediately upon receipt unless otherwise therein acceptance resignation shall necessary make effective section president president shall chief executive officer corporation shall subject control board general active supervision business corporation several shall power appoint remove corporation subject control board shall see board carried effect time time shall report board within knowledge corporation may require brought notice request chairman board case absence inability act unless board executive committee shall otherwise determine otherwise provided president shall member board perform chairman board acting shall subject upon chairman board general shall perform incident office president time time may assigned board section vice vice president shall shall board time election may assigned time time board president absence disability president unless board executive committee shall otherwise determine executive vice president tenure office shall executive vice president senior vice president tenure office shall senior vice vice president tenure office shall president section treasurer board treasurer shall give bond faithful discharge sum surety board shall determine extent determined board shall funds valuable effects corporation receive give receipt due payable corporation whatsoever deposit credit corporation otherwise board president shall direct trust shall selected accordance section article cause funds authorized corporation provided section said article responsible accuracy cause proper giving information may desire respect financial corporation committee board whenever respectively shall request account financial condition corporation treasurer reasonable times cash president audit committee board corporation treasurer time time may assigned president board section assistant board assistant shall give bond faithful discharge surety board shall determine request treasurer case absence inability act assistant treasurer one assistant shall perform treasurer acting shall subject upon treasurer assistant shall perform time time may assigned treasurer president board section secretary secretary shall written board executive committee board one kept purpose law indicia title corporation corporate except custody treasurer seal corporation see seal authorized board facsimile thereof stock corporation prior issuance thereof execution behalf corporation seal duly authorized accordance except board shall otherwise direct power authority attest seal corporation transfer transfer agent transfer registrar provided section article issuance transfer \n",
            "Vocabulary size: 6597\n",
            "Adjusting learning rate of group 0 to 2.5000e-01.\n"
          ]
        },
        {
          "metadata": {
            "tags": null
          },
          "name": "stderr",
          "output_type": "stream",
          "text": [
            ""
          ]
        },
        {
          "metadata": {
            "tags": null
          },
          "name": "stdout",
          "output_type": "stream",
          "text": [
            "Epoch: 1/30, Train Loss=7.68011, Val Loss=0.00000\n",
            "Adjusting learning rate of group 0 to 2.4167e-01.\n"
          ]
        },
        {
          "metadata": {
            "tags": null
          },
          "name": "stderr",
          "output_type": "stream",
          "text": [
            ""
          ]
        },
        {
          "metadata": {
            "tags": null
          },
          "name": "stdout",
          "output_type": "stream",
          "text": [
            "Epoch: 2/30, Train Loss=7.67123, Val Loss=0.00000\n",
            "Adjusting learning rate of group 0 to 2.3333e-01.\n"
          ]
        },
        {
          "metadata": {
            "tags": null
          },
          "name": "stderr",
          "output_type": "stream",
          "text": [
            ""
          ]
        },
        {
          "metadata": {
            "tags": null
          },
          "name": "stdout",
          "output_type": "stream",
          "text": [
            "Epoch: 3/30, Train Loss=7.60175, Val Loss=0.00000\n",
            "Adjusting learning rate of group 0 to 2.2500e-01.\n"
          ]
        },
        {
          "metadata": {
            "tags": null
          },
          "name": "stderr",
          "output_type": "stream",
          "text": [
            ""
          ]
        },
        {
          "metadata": {
            "tags": null
          },
          "name": "stdout",
          "output_type": "stream",
          "text": [
            "Epoch: 4/30, Train Loss=7.54378, Val Loss=0.00000\n",
            "Adjusting learning rate of group 0 to 2.1667e-01.\n"
          ]
        },
        {
          "metadata": {
            "tags": null
          },
          "name": "stderr",
          "output_type": "stream",
          "text": [
            ""
          ]
        },
        {
          "metadata": {
            "tags": null
          },
          "name": "stdout",
          "output_type": "stream",
          "text": [
            "Epoch: 5/30, Train Loss=7.47806, Val Loss=0.00000\n",
            "Adjusting learning rate of group 0 to 2.0833e-01.\n"
          ]
        },
        {
          "metadata": {
            "tags": null
          },
          "name": "stderr",
          "output_type": "stream",
          "text": [
            ""
          ]
        },
        {
          "metadata": {
            "tags": null
          },
          "name": "stdout",
          "output_type": "stream",
          "text": [
            "Epoch: 6/30, Train Loss=7.41930, Val Loss=0.00000\n",
            "Adjusting learning rate of group 0 to 2.0000e-01.\n"
          ]
        },
        {
          "metadata": {
            "tags": null
          },
          "name": "stderr",
          "output_type": "stream",
          "text": [
            ""
          ]
        },
        {
          "metadata": {
            "tags": null
          },
          "name": "stdout",
          "output_type": "stream",
          "text": [
            "Epoch: 7/30, Train Loss=7.35800, Val Loss=0.00000\n",
            "Adjusting learning rate of group 0 to 1.9167e-01.\n"
          ]
        },
        {
          "metadata": {
            "tags": null
          },
          "name": "stderr",
          "output_type": "stream",
          "text": [
            ""
          ]
        },
        {
          "metadata": {
            "tags": null
          },
          "name": "stdout",
          "output_type": "stream",
          "text": [
            "Epoch: 8/30, Train Loss=7.30198, Val Loss=0.00000\n",
            "Adjusting learning rate of group 0 to 1.8333e-01.\n"
          ]
        },
        {
          "metadata": {
            "tags": null
          },
          "name": "stderr",
          "output_type": "stream",
          "text": [
            ""
          ]
        },
        {
          "metadata": {
            "tags": null
          },
          "name": "stdout",
          "output_type": "stream",
          "text": [
            "Epoch: 9/30, Train Loss=7.24687, Val Loss=0.00000\n",
            "Adjusting learning rate of group 0 to 1.7500e-01.\n"
          ]
        },
        {
          "metadata": {
            "tags": null
          },
          "name": "stderr",
          "output_type": "stream",
          "text": [
            ""
          ]
        },
        {
          "metadata": {
            "tags": null
          },
          "name": "stdout",
          "output_type": "stream",
          "text": [
            "Epoch: 10/30, Train Loss=7.19727, Val Loss=0.00000\n",
            "Adjusting learning rate of group 0 to 1.6667e-01.\n"
          ]
        },
        {
          "metadata": {
            "tags": null
          },
          "name": "stderr",
          "output_type": "stream",
          "text": [
            ""
          ]
        },
        {
          "metadata": {
            "tags": null
          },
          "name": "stdout",
          "output_type": "stream",
          "text": [
            "Epoch: 11/30, Train Loss=7.14415, Val Loss=0.00000\n",
            "Adjusting learning rate of group 0 to 1.5833e-01.\n"
          ]
        },
        {
          "metadata": {
            "tags": null
          },
          "name": "stderr",
          "output_type": "stream",
          "text": [
            ""
          ]
        },
        {
          "metadata": {
            "tags": null
          },
          "name": "stdout",
          "output_type": "stream",
          "text": [
            "Epoch: 12/30, Train Loss=7.09630, Val Loss=0.00000\n",
            "Adjusting learning rate of group 0 to 1.5000e-01.\n"
          ]
        },
        {
          "metadata": {
            "tags": null
          },
          "name": "stderr",
          "output_type": "stream",
          "text": [
            ""
          ]
        },
        {
          "metadata": {
            "tags": null
          },
          "name": "stdout",
          "output_type": "stream",
          "text": [
            "Epoch: 13/30, Train Loss=7.05084, Val Loss=0.00000\n",
            "Adjusting learning rate of group 0 to 1.4167e-01.\n"
          ]
        },
        {
          "metadata": {
            "tags": null
          },
          "name": "stderr",
          "output_type": "stream",
          "text": [
            ""
          ]
        },
        {
          "metadata": {
            "tags": null
          },
          "name": "stdout",
          "output_type": "stream",
          "text": [
            "Epoch: 14/30, Train Loss=7.00919, Val Loss=0.00000\n",
            "Adjusting learning rate of group 0 to 1.3333e-01.\n"
          ]
        },
        {
          "metadata": {
            "tags": null
          },
          "name": "stderr",
          "output_type": "stream",
          "text": [
            ""
          ]
        },
        {
          "metadata": {
            "tags": null
          },
          "name": "stdout",
          "output_type": "stream",
          "text": [
            "Epoch: 15/30, Train Loss=6.96757, Val Loss=0.00000\n",
            "Adjusting learning rate of group 0 to 1.2500e-01.\n"
          ]
        },
        {
          "metadata": {
            "tags": null
          },
          "name": "stderr",
          "output_type": "stream",
          "text": [
            ""
          ]
        },
        {
          "metadata": {
            "tags": null
          },
          "name": "stdout",
          "output_type": "stream",
          "text": [
            "Epoch: 16/30, Train Loss=6.92787, Val Loss=0.00000\n",
            "Adjusting learning rate of group 0 to 1.1667e-01.\n"
          ]
        },
        {
          "metadata": {
            "tags": null
          },
          "name": "stderr",
          "output_type": "stream",
          "text": [
            ""
          ]
        },
        {
          "metadata": {
            "tags": null
          },
          "name": "stdout",
          "output_type": "stream",
          "text": [
            "Epoch: 17/30, Train Loss=6.89318, Val Loss=0.00000\n",
            "Adjusting learning rate of group 0 to 1.0833e-01.\n"
          ]
        },
        {
          "metadata": {
            "tags": null
          },
          "name": "stderr",
          "output_type": "stream",
          "text": [
            ""
          ]
        },
        {
          "metadata": {
            "tags": null
          },
          "name": "stdout",
          "output_type": "stream",
          "text": [
            "Epoch: 18/30, Train Loss=6.85804, Val Loss=0.00000\n",
            "Adjusting learning rate of group 0 to 1.0000e-01.\n"
          ]
        },
        {
          "metadata": {
            "tags": null
          },
          "name": "stderr",
          "output_type": "stream",
          "text": [
            ""
          ]
        },
        {
          "metadata": {
            "tags": null
          },
          "name": "stdout",
          "output_type": "stream",
          "text": [
            "Epoch: 19/30, Train Loss=6.82515, Val Loss=0.00000\n",
            "Adjusting learning rate of group 0 to 9.1667e-02.\n"
          ]
        },
        {
          "metadata": {
            "tags": null
          },
          "name": "stderr",
          "output_type": "stream",
          "text": [
            ""
          ]
        },
        {
          "metadata": {
            "tags": null
          },
          "name": "stdout",
          "output_type": "stream",
          "text": [
            "Epoch: 20/30, Train Loss=6.79494, Val Loss=0.00000\n",
            "Adjusting learning rate of group 0 to 8.3333e-02.\n"
          ]
        },
        {
          "metadata": {
            "tags": null
          },
          "name": "stderr",
          "output_type": "stream",
          "text": [
            ""
          ]
        },
        {
          "metadata": {
            "tags": null
          },
          "name": "stdout",
          "output_type": "stream",
          "text": [
            "Epoch: 21/30, Train Loss=6.76417, Val Loss=0.00000\n",
            "Adjusting learning rate of group 0 to 7.5000e-02.\n"
          ]
        },
        {
          "metadata": {
            "tags": null
          },
          "name": "stderr",
          "output_type": "stream",
          "text": [
            ""
          ]
        },
        {
          "metadata": {
            "tags": null
          },
          "name": "stdout",
          "output_type": "stream",
          "text": [
            "Epoch: 22/30, Train Loss=6.73637, Val Loss=0.00000\n",
            "Adjusting learning rate of group 0 to 6.6667e-02.\n"
          ]
        },
        {
          "metadata": {
            "tags": null
          },
          "name": "stderr",
          "output_type": "stream",
          "text": [
            ""
          ]
        },
        {
          "metadata": {
            "tags": null
          },
          "name": "stdout",
          "output_type": "stream",
          "text": [
            "Epoch: 23/30, Train Loss=6.70878, Val Loss=0.00000\n",
            "Adjusting learning rate of group 0 to 5.8333e-02.\n"
          ]
        },
        {
          "output_type": "stream",
          "name": "stderr",
          "text": [
            ""
          ]
        },
        {
          "output_type": "stream",
          "name": "stdout",
          "text": [
            "Epoch: 24/30, Train Loss=6.68215, Val Loss=0.00000\n",
            "Adjusting learning rate of group 0 to 5.0000e-02.\n"
          ]
        },
        {
          "output_type": "stream",
          "name": "stderr",
          "text": [
            ""
          ]
        },
        {
          "output_type": "stream",
          "name": "stdout",
          "text": [
            "Epoch: 25/30, Train Loss=6.65355, Val Loss=0.00000\n",
            "Adjusting learning rate of group 0 to 4.1667e-02.\n"
          ]
        },
        {
          "output_type": "stream",
          "name": "stderr",
          "text": [
            ""
          ]
        },
        {
          "output_type": "stream",
          "name": "stdout",
          "text": [
            "Epoch: 26/30, Train Loss=6.62643, Val Loss=0.00000\n",
            "Adjusting learning rate of group 0 to 3.3333e-02.\n"
          ]
        },
        {
          "output_type": "stream",
          "name": "stderr",
          "text": [
            ""
          ]
        },
        {
          "output_type": "stream",
          "name": "stdout",
          "text": [
            "Epoch: 27/30, Train Loss=6.59573, Val Loss=0.00000\n",
            "Adjusting learning rate of group 0 to 2.5000e-02.\n"
          ]
        },
        {
          "output_type": "stream",
          "name": "stderr",
          "text": [
            ""
          ]
        },
        {
          "output_type": "stream",
          "name": "stdout",
          "text": [
            "Epoch: 28/30, Train Loss=6.56027, Val Loss=0.00000\n",
            "Adjusting learning rate of group 0 to 1.6667e-02.\n"
          ]
        },
        {
          "output_type": "stream",
          "name": "stderr",
          "text": [
            ""
          ]
        },
        {
          "output_type": "stream",
          "name": "stdout",
          "text": [
            "Epoch: 29/30, Train Loss=6.51455, Val Loss=0.00000\n",
            "Adjusting learning rate of group 0 to 8.3333e-03.\n"
          ]
        },
        {
          "output_type": "stream",
          "name": "stderr",
          "text": [
            ""
          ]
        },
        {
          "output_type": "stream",
          "name": "stdout",
          "text": [
            "Epoch: 30/30, Train Loss=6.44537, Val Loss=0.00000\n",
            "Adjusting learning rate of group 0 to 0.0000e+00.\n",
            "Training finished.\n",
            "Model artifacts saved to folder: /content/drive/MyDrive/DL785/Project/word2vec/skipgram_600\n",
            "loading data at parsed_1994/constant_length_data/\n",
            "Found 38998 documents\n",
            "0: tion resolution shall apply affected notwithstanding agreement apply extent one per occurrence accident limit shall carry full aggregate term policy policy documentary evidence explicitly another result intended insurance policy extended prior expiration date period multiple extension request producer period less shall carry pro rata extension request insurer period less shall carry full aggregate insurance policy initially written one year multiple period less also shall carry full aggregate insurance policy prior expiration date either producer insurer period less shall carry full aggregate except excess insurer insurance policy specifically make insurance concurrent underlying insurance producer agreed case period less shall carry pro rata section shall apply manner consistent application hereunder particular period within coverage block insurer signatory hereto producer shall use reasonable best necessary timely pursuit litigation obtain final reasonable settlement agreement final judicial determination concerning application insurance policy asbestos related respect thereto producer insurer extent practicable shall assist producer question hereinabove producer pursuant final settlement agreement final judicial determination received insurer question administer handle dispose asbestos related producer shall make pay due appendix would insurer question respect producer said insurer become signatory hereto producer shall make pay producer amount equal received insurer administer handle dispose asbestos related plus investment income less proration made directly producer asbestos related judicial determination settlement agreement would make pay particular claim agreement insurer question become signatory hereto producer received non signatory insurer pursuant hereinabove insurance policy coverage block covering part exposure period claim shall make pay subject applicable liability pro rata basis lieu non signatory insurance policy extent insurance policy would make agreement applicable insurance policy provided directly overlying excess insurance policy shall make pay lieu non signatory insurance policy insurance coverage block cover part exposure period claim thereafter upon final settlement final judicial determination hereinabove insurer hereunder shall option producer provided total reimbursement shall exceed received producer non signatory insurer administer handle dispose asbestos related plus investment income less made directly producer asbestos related judicial determination settlement agreement hereinabove producer question obtain final settlement agreement final judicial determination pursuant hereinabove within two date upon insurer first actually made liability actually pro rata basis lieu non signatory insurance policy pursuant paragraph hereinabove interest shall begin accrue conclusion two year period liability actually made actually insurer lieu non signatory insurance policy shall continue date producer final settlement agreement final judicial determination date insurer question would exhausted make pay agreement non signatory insurer question become signatory hereto interest shall payable quarterly basis date first accrual rate interest publicly new york new york time time base rate producer question final settlement agreement final judicial determination pursuant hereinabove producer shall insurer question interest exceed insurer reimbursement paragraph hereinabove agreement among administration defense payment disposition asbestos related antecedent contemporaneous extrinsic collateral concerning negotiation preparation agreement appendices hereto intended dispute agreement appendices hereto signatory shall introduce evidence seek compel testimony concerning oral written communication made prior june respect negotiation preparation agreement agreement appendix hereto may made mutual agreement writing appendices may made provided therein agreement appendices hereto provision thereof concerning within scope agreement shall determined accordance applicable common law united failure invalidation parti\n",
            "1: se within scope provided consultant computer made available consultant solely basis relationship company solely purpose agreement consultant without written authority company use print copy provide otherwise make available whole part portion computer reconstruct whole part object code source code computer copyright copyrightable subject matter related computer resulting provided consultant behalf company based company information hereby irrevocably assigned set sold transferred company password similar manual electronic telecommunication company mail computer data furnished consultant company otherwise disclosed made known consultant scope consultant considered confidential company shall remain sole exclusive property company shall disclosed person used manner whatsoever except purpose please take time read review material carefully feel free ask human representative clarification time condition employment applied magnetics corporation company booklet employee nothing booklet shall create contract employment specific term modify company policy right terminate employment without cause without notice time manager supervisor representative company president executive vice president authority enter agreement employee make representation contrary policy future reference material provided upon request following review completion questionnaire extent reasonably possible agreement shall inure benefit binding upon personal hereto agreement shall state following prepared assist nature extent outside interest may might involve actual potential interest applied magnetics corporation company conflict interest policy statement please read question carefully event doubt meaning question answer question best ability list doubt section spouse dependent presently person past two officer director employee consultant otherwise employed spouse dependent trust trustee substantial beneficial interest corporation entity substantial ownership interest owner directly indirectly position supplier customer competitor company excess outstanding class company total equity interest case partnership proprietorship exhibit via ca dear letter agreement applied magnetics corporation company regarding resignation officer company certain employment relationship company subject set forth herein consideration herein company agree agreement shall following retention agreement shall mean certain retention agreement company executive note shall meaning set forth retention agreement resignation date shall mean august leave period shall mean period resignation date ending employment period shall mean period ending termination date termination date shall mean may date may established pursuant section hereof either company date employment company plan shall mean company long term incentive plan severance claim shall mean claim section agreement full time employment shall mean providing personal employee officer director person corporation partnership form business commercial professional enterprise regular work schedule less thirty per week retention agreement hereby fully completely whatsoever company fully completely respective thereunder agreement consideration set forth herein effective resignation date resignation vice president chief financial officer treasurer company advised company employment resignation vice president chief financial officer treasurer accepted company hereof august relieved vice president chief financial officer treasurer connection management supervision financial management accounting fiscal previously management control direction august longer serving company principal financial officer federal leave period leave absence employment shall personal advice assistance transition former time employment employment affect continued status employee company company subparagraph provided otherwise materially company per week accordance company usual customary payroll leave employment company make available access voice mail limited secretarial support provide phone mail connection obtain employment elsewhere employment period provided full time e\n",
            "2: est basis evidence supporting financial audit also accounting used significant made management well overall financial statement presentation believe provide reasonable basis opinion opinion financial present fairly material financial position home corporation cash three period ended conformity generally accepted accounting consolidated financial effective company accounting income new york management report financial management prepared responsible company consolidated financial related prepared accordance generally accepted accounting necessarily include based made management financial information annual report consistent financial company internal accounting control related designed provide reasonable assurance assets executed accordance management authorization properly accounting may upon preparation financial financial information design revision internal accounting control involve among management judgment respect relative cost specific control company also internal function formally adequacy effectiveness internal accounting company financial independent expressed opinion respect fairness audit committee board non employee periodically external internal evaluate effectiveness work discharging respective assure independent free access committee quarterly financial data first quarter second quarter third quarter fourth quarter except first quarter second quarter third quarter fourth quarter market common stock new york stock exchange composite management discussion analysis financial condition following commentary read conjunction consolidated financial consolidated financial net billion net health care segment billion higher billion food million net health care food united billion increase net foreign billion billion net health care united billion net billion pharmaceutical due primarily unit volume growth pharmaceutical growth due primarily unit volume company voluntarily established policy limit weighted average prescription pharmaceutical price increase increase consumer price index company prescription pharmaceutical price increase company weighted average prescription pharmaceutical price increase increase consumer price index unit volume growth pharmaceutical segment led anti inflammatory veterinary product line genetics institute factor bulk product also volume growth pharmaceutical growth impacted competitive public private additional program continue market regardless outcome health care reform legislation pharmaceutical due principally unit volume female health care anti inflammatory product infant nutritional consumer health care united billion price partly offset unit volume unit volume growth cough cold allergy product line offset unit company analgesic particularly however unit volume grew united consumer health care unfavorably impacted continued growth private label new competitive consumer health care higher due principally unit volume growth analgesic cough cold allergy product medical diagnostic united due principally unit volume competitive hospital supply market many product acquisition symbiosis corp symbiosis late growth disposable needle syringe increase medical diagnostic result acquisition symbiosis intelligent medical see note unit cardiovascular foreign health care billion unit volume grew price offset unfavorable foreign exchange foreign health care billion due unit volume growth price favorable foreign exchange foreign pharmaceutical led unit volume gains female health care infant nutritional excluding effects exchange foreign pharmaceutical would company governmental price many significant international experienced price several continue particularly company able increase line inflation related currency several particularly brazil foreign gain management discussion analysis financial condition however governmental health care lesser extent competitive may constrain foreign led unit volume gains infant nutritional female health care foreign consumer health care million due primarily unit volume growth oral health care product line particularly inflation related price brazil foreign con\n",
            "3: nuclear plant meet new regulatory increasing labor equipment cost capital significant purchase outstanding connection construction program company new generating construction however construction combustion turbine peaking approximately addition significant construction continue related transmission distribution extension useful generating extent possible company construction program primarily internal short term debt necessary available company may issue additional long term debt preferred stock primarily debt higher cost continued power company annual report company primary external first mortgage preferred stock public receipt additional capital southern company leasing nuclear material order issue additional first mortgage preferred stock company must comply certain earnings coverage mortgage indenture corporate charter restrictive issuance additional first mortgage income tax earnings defined cover pro annual interest outstanding first mortgage least twice issuance additional preferred stock gross income available interest cover pro annual interest preferred stock least one one half times first mortgage preferred stock year ended respectively company mortgage first mortgage company direct lien substantially company fixed property continued power company annual report return equity whether capacity energy available company share million million million included power income contract substantially term thereof would extended automatically two year subject party right cancel upon two notice addition company unconditionally obligation installment sale agreement purchase certain pollution control generating pursuant million principal amount pollution control revenue outstanding power company agreed reimburse company pro rata portion obligation corresponding proportionate ownership stock company upon make payment guaranty capitalization million equity million long term debt annual interest requirement million million million million one half company net income million million million respectively june company sale portion plant miller electric company percentage ownership investment jointly generating total coal plant miller coal jointly affiliate power company jointly millions coal plant miller coal operating southern company company long term short term contractual sale capacity energy certain non outside system service area certain non firm based capacity system general firm pertain capacity related specific generating energy generally sold cost capacity primarily affect profitability company portion system capacity long term millions long term non firm power sold southern electric system power corporation amount contract expire year end unit power plant miller sold power light company electric authority city average capacity southern company settlement agreement gulf resolved litigation pending since arose dispute certain unit power long term power settlement agreement satisfied respect company portion proceeds received see note concerning regulatory treatment retail three year period august company firm power purchase contract capacity maximum period contract company second firm power purchase contract additional capacity maximum period contract power sold member previously directly company wholesale company received net present value associated respective capacity effective annual percent percent respectively operating interest expense capacity made available order secure advance company performance obligation company escrow agent first mortgage maximum amount damages payable company event default principal interest payable unless default company damages decline portion equal returned company million escrow agent continued power company annual report federal state income tax federal deferred deferred investment tax state deferred less income federal state income tax effects temporary carrying assets financial respective tax bases give rise deferred tax assets millions deferred tax deferred tax assets deferred income deferred investment tax life related property amortization normally applied credit reduce depreciatio\n",
            "4: fter ratably per share preferred voting except company pay equivalent six quarterly preferred voting class shall elect two additional preferred also voting related certain company incorporation preferred rank senior common stock outstanding series preferred preferred liquidation preference per share plus unpaid shareholder plan company adopted shareholder plan pursuant plan common stock received one preferred share purchase right common share plan effective triggered person defined company outstanding common threshold may reduced board less exercisable right would subject certain entitle person group purchase common stock company company market value twice exercise price right nonvoting may time concerning stock year ended year ended year ended company outstanding acquire company common stock exercise price acquire company common stock exercise price outstanding exercisable may however expire time may upon calendar days prior notice company common stock average per share public market price less least consecutive trading days prior expiration notice letterhead board mining company report consolidated financial mining company included form financial listed item form connection financial also related financial statement listed item form opinion financial statement considered relation basic financial taken whole present fairly material information included therein ended balance year ended year ended year ended change due reclassification depreciation depletion amortization property plant equipment mining company mining company wholly form second amendment credit agreement second amendment august made among mining company corporation behalf wholly colorado aggregate company new new corporation clay company corporation clay feldspar corporation north corporation feldspar clay feldspar herein collectively individually borrower signature hereto collectively individually bank limited new york branch new york state licensed branch limited authorized institution banking act agent capacity together capacity agent therefore consideration mutual herein good valuable consideration without limitation consideration credit agreement receipt sufficiency hereby acknowledged hereto agree used herein otherwise defined herein shall thereto credit agreement credit agreement amendment regarding date providing annual five year mining section credit agreement hereby date august date amendment regarding cash management fund section credit agreement hereby word immediately following subparagraph word immediately following subparagraph new subparagraph shall read amendment loan hereby agree loan shall extent necessary conform consistent herein effectiveness second amendment second amendment shall effective immediately upon due execution delivery hereof second amendment may executed one executed irrespective date execution delivery shall original together shall constitute one instrument governing law descriptive second amendment shall succession assignment second amendment shall inure benefit binding upon hereto hereunder may assigned accordance assignment credit agreement credit agreement except expressly provided second amendment loan hereby credit agreement loan shall remain full force effect hereby confirmed effectiveness credit agreement loan hereby reference credit agreement agreement hereunder hereof herein like import reference credit agreement note loan document agreement document instrument executed pursuant credit agreement shall reference credit agreement indebtedness second amendment shall provide effect repayment advance bank outstanding intention outstanding credit agreement second amendment outstanding credit agreement immediately prior effectiveness hereof witness whereof hereto second amendment executed duly authorized date first written title vice president branch agent lucy title vice president edge title senior vice president branch bank lucy title vice president edge title senior vice president joe title title vice president exhibit whereas certain agent credit agreement august credit agreement credit agreement pursuant party th\n",
            "5: credit buyer assuming shall responsibility obligation whatsoever liability obligation seller without limitation liability applicable federal state environmental protection liability connection collective agreement pension plan buyer assigned condition seller obligation effect assignment buyer shall pay cure real property equipment constitute assigned permit assumption assignment assigned pursuant section bankruptcy code cure together assumed buyer pursuant section section herein assumed buyer shall reduction purchase price seller assume obligation whatsoever cure default make payment due date hereof real property equipment constitute assigned inventory behalf seller outstanding outstanding date least five buyer shall buyer sole expense comply either following buyer shall cause seller returned seller collateral seller reimbursement respect seller returned seller causing new credit seller shall united bank acceptable buyer trust company acting principal united buyer bank prior issuance seller seller shall use seller accept new credit buyer shall provide connection endeavor seller may reasonably request buyer shall cause buyer bank issue credit favor seller seller equal payable seller cause buyer bank enter agreement seller providing indemnification letter credit seller respect seller pursuant seller agree seek reimbursement seller respect seller enter agreement seller providing indemnification seller buyer respect seller agreement clause credit form substance reasonably satisfactory seller satisfactory seller importer record inventory transit upon receipt quota applicable buyer shall assume seller assets buyer assignment sufficient assign buyer seller right title interest intangible property buyer seller right title interest stock foreign subsidiary buyer seller pursuant section assigned obligor licensee assignment buyer receivable license case may obligor licensee make payment buyer receivable obligor payable license case may buyer may reasonably request effect change name incorporation business business eliminate name name similar name name compliance notice set forth order buyer shall deliver cause addition agreement buyer seller following adjustment pursuant section deposit payable manner section duly executed assumption form substance reasonably satisfactory seller whereby buyer assume agree pay perform discharge assumed seller date agreement date buyer except representation warranty set forth section made best knowledge corporation duly organized validly good standing stock included within assets corporation duly organized place may good standing direct indirect active representation warranty made foreign assets except due organization title stock set forth section section date hereof date seller use reasonable cause foreign buyer seller pursuant section good standing provided seller shall incur substantial connection endeavor prior date seller shall maintain equipment good repair ordinary wear tear conduct business ordinary course consistent past practice subject effect bankruptcy petition seller pursuant foregoing seller shall without prior written consent promptly notify buyer execution confidentiality agreement party notify buyer conversation inquiry offer received potential provide buyer copy written communication sent received potential provide buyer copy information sent seller potential bidder provide buyer sale documentation substantially final form notify buyer execution definitive sale documentation bankruptcy code seller shall pay transfer transaction taxing authority without limitation state county municipality subdivision thereof connection consummation agreement extent seller assignable buyer seller shall take reasonably buyer otherwise endeavor provide buyer insurance policy understood seller connection shall borne buyer buyer buyer date agreement date seller good standing state incorporation full corporate power authority enter agreement perform hereunder buyer taken requisite corporate action order authorize execution delivery agreement consummation hereby agreement duly validly executed buyer legal\n",
            "6: ard may determine respective time time committee shall power authority reference certificate incorporation except committee may extent authorized resolution adopted board provided corporation law section providing issuance stock fix dissolution distribution assets corporation conversion exchange class classes series class classes stock corporation agreement merger consolidation sale lease exchange substantially corporation property assets dissolution corporation revocation dissolution corporation majority committee may fix procedure determine action fix time place whether within without state specify notice thereof shall given unless board shall resolution otherwise provide member committee shall continue member thereof long remains director pleasure majority whole board committee may filled majority whole board section election term office corporation shall following president one vice one may executive senior vice treasurer secretary board may also elect controller assistant vice assistant assistant may deem necessary shall authority perform may time time board corporation shall annually board first meeting thereof annual meeting election shall hold office shall duly shall qualify may filled majority whole board officer board shall subject removal either without cause time majority whole board section officer may resign time giving written notice resignation chairman board president secretary resignation shall take effect time therein time shall become effective shall therein immediately upon receipt unless otherwise therein acceptance resignation shall necessary make effective section president president shall chief executive officer corporation shall subject control board general active supervision business corporation several shall power appoint remove corporation subject control board shall see board carried effect time time shall report board within knowledge corporation may require brought notice request chairman board case absence inability act unless board executive committee shall otherwise determine otherwise provided president shall member board perform chairman board acting shall subject upon chairman board general shall perform incident office president time time may assigned board section vice vice president shall shall board time election may assigned time time board president absence disability president unless board executive committee shall otherwise determine executive vice president tenure office shall executive vice president senior vice president tenure office shall senior vice vice president tenure office shall president section treasurer board treasurer shall give bond faithful discharge sum surety board shall determine extent determined board shall funds valuable effects corporation receive give receipt due payable corporation whatsoever deposit credit corporation otherwise board president shall direct trust shall selected accordance section article cause funds authorized corporation provided section said article responsible accuracy cause proper giving information may desire respect financial corporation committee board whenever respectively shall request account financial condition corporation treasurer reasonable times cash president audit committee board corporation treasurer time time may assigned president board section assistant board assistant shall give bond faithful discharge surety board shall determine request treasurer case absence inability act assistant treasurer one assistant shall perform treasurer acting shall subject upon treasurer assistant shall perform time time may assigned treasurer president board section secretary secretary shall written board executive committee board one kept purpose law indicia title corporation corporate except custody treasurer seal corporation see seal authorized board facsimile thereof stock corporation prior issuance thereof execution behalf corporation seal duly authorized accordance except board shall otherwise direct power authority attest seal corporation transfer transfer agent transfer registrar provided section article issuance transfer \n",
            "loading data at parsed_1994/constant_length_data/\n",
            "Found 38998 documents\n",
            "0: tion resolution shall apply affected notwithstanding agreement apply extent one per occurrence accident limit shall carry full aggregate term policy policy documentary evidence explicitly another result intended insurance policy extended prior expiration date period multiple extension request producer period less shall carry pro rata extension request insurer period less shall carry full aggregate insurance policy initially written one year multiple period less also shall carry full aggregate insurance policy prior expiration date either producer insurer period less shall carry full aggregate except excess insurer insurance policy specifically make insurance concurrent underlying insurance producer agreed case period less shall carry pro rata section shall apply manner consistent application hereunder particular period within coverage block insurer signatory hereto producer shall use reasonable best necessary timely pursuit litigation obtain final reasonable settlement agreement final judicial determination concerning application insurance policy asbestos related respect thereto producer insurer extent practicable shall assist producer question hereinabove producer pursuant final settlement agreement final judicial determination received insurer question administer handle dispose asbestos related producer shall make pay due appendix would insurer question respect producer said insurer become signatory hereto producer shall make pay producer amount equal received insurer administer handle dispose asbestos related plus investment income less proration made directly producer asbestos related judicial determination settlement agreement would make pay particular claim agreement insurer question become signatory hereto producer received non signatory insurer pursuant hereinabove insurance policy coverage block covering part exposure period claim shall make pay subject applicable liability pro rata basis lieu non signatory insurance policy extent insurance policy would make agreement applicable insurance policy provided directly overlying excess insurance policy shall make pay lieu non signatory insurance policy insurance coverage block cover part exposure period claim thereafter upon final settlement final judicial determination hereinabove insurer hereunder shall option producer provided total reimbursement shall exceed received producer non signatory insurer administer handle dispose asbestos related plus investment income less made directly producer asbestos related judicial determination settlement agreement hereinabove producer question obtain final settlement agreement final judicial determination pursuant hereinabove within two date upon insurer first actually made liability actually pro rata basis lieu non signatory insurance policy pursuant paragraph hereinabove interest shall begin accrue conclusion two year period liability actually made actually insurer lieu non signatory insurance policy shall continue date producer final settlement agreement final judicial determination date insurer question would exhausted make pay agreement non signatory insurer question become signatory hereto interest shall payable quarterly basis date first accrual rate interest publicly new york new york time time base rate producer question final settlement agreement final judicial determination pursuant hereinabove producer shall insurer question interest exceed insurer reimbursement paragraph hereinabove agreement among administration defense payment disposition asbestos related antecedent contemporaneous extrinsic collateral concerning negotiation preparation agreement appendices hereto intended dispute agreement appendices hereto signatory shall introduce evidence seek compel testimony concerning oral written communication made prior june respect negotiation preparation agreement agreement appendix hereto may made mutual agreement writing appendices may made provided therein agreement appendices hereto provision thereof concerning within scope agreement shall determined accordance applicable common law united failure invalidation parti\n",
            "1: se within scope provided consultant computer made available consultant solely basis relationship company solely purpose agreement consultant without written authority company use print copy provide otherwise make available whole part portion computer reconstruct whole part object code source code computer copyright copyrightable subject matter related computer resulting provided consultant behalf company based company information hereby irrevocably assigned set sold transferred company password similar manual electronic telecommunication company mail computer data furnished consultant company otherwise disclosed made known consultant scope consultant considered confidential company shall remain sole exclusive property company shall disclosed person used manner whatsoever except purpose please take time read review material carefully feel free ask human representative clarification time condition employment applied magnetics corporation company booklet employee nothing booklet shall create contract employment specific term modify company policy right terminate employment without cause without notice time manager supervisor representative company president executive vice president authority enter agreement employee make representation contrary policy future reference material provided upon request following review completion questionnaire extent reasonably possible agreement shall inure benefit binding upon personal hereto agreement shall state following prepared assist nature extent outside interest may might involve actual potential interest applied magnetics corporation company conflict interest policy statement please read question carefully event doubt meaning question answer question best ability list doubt section spouse dependent presently person past two officer director employee consultant otherwise employed spouse dependent trust trustee substantial beneficial interest corporation entity substantial ownership interest owner directly indirectly position supplier customer competitor company excess outstanding class company total equity interest case partnership proprietorship exhibit via ca dear letter agreement applied magnetics corporation company regarding resignation officer company certain employment relationship company subject set forth herein consideration herein company agree agreement shall following retention agreement shall mean certain retention agreement company executive note shall meaning set forth retention agreement resignation date shall mean august leave period shall mean period resignation date ending employment period shall mean period ending termination date termination date shall mean may date may established pursuant section hereof either company date employment company plan shall mean company long term incentive plan severance claim shall mean claim section agreement full time employment shall mean providing personal employee officer director person corporation partnership form business commercial professional enterprise regular work schedule less thirty per week retention agreement hereby fully completely whatsoever company fully completely respective thereunder agreement consideration set forth herein effective resignation date resignation vice president chief financial officer treasurer company advised company employment resignation vice president chief financial officer treasurer accepted company hereof august relieved vice president chief financial officer treasurer connection management supervision financial management accounting fiscal previously management control direction august longer serving company principal financial officer federal leave period leave absence employment shall personal advice assistance transition former time employment employment affect continued status employee company company subparagraph provided otherwise materially company per week accordance company usual customary payroll leave employment company make available access voice mail limited secretarial support provide phone mail connection obtain employment elsewhere employment period provided full time e\n",
            "2: est basis evidence supporting financial audit also accounting used significant made management well overall financial statement presentation believe provide reasonable basis opinion opinion financial present fairly material financial position home corporation cash three period ended conformity generally accepted accounting consolidated financial effective company accounting income new york management report financial management prepared responsible company consolidated financial related prepared accordance generally accepted accounting necessarily include based made management financial information annual report consistent financial company internal accounting control related designed provide reasonable assurance assets executed accordance management authorization properly accounting may upon preparation financial financial information design revision internal accounting control involve among management judgment respect relative cost specific control company also internal function formally adequacy effectiveness internal accounting company financial independent expressed opinion respect fairness audit committee board non employee periodically external internal evaluate effectiveness work discharging respective assure independent free access committee quarterly financial data first quarter second quarter third quarter fourth quarter except first quarter second quarter third quarter fourth quarter market common stock new york stock exchange composite management discussion analysis financial condition following commentary read conjunction consolidated financial consolidated financial net billion net health care segment billion higher billion food million net health care food united billion increase net foreign billion billion net health care united billion net billion pharmaceutical due primarily unit volume growth pharmaceutical growth due primarily unit volume company voluntarily established policy limit weighted average prescription pharmaceutical price increase increase consumer price index company prescription pharmaceutical price increase company weighted average prescription pharmaceutical price increase increase consumer price index unit volume growth pharmaceutical segment led anti inflammatory veterinary product line genetics institute factor bulk product also volume growth pharmaceutical growth impacted competitive public private additional program continue market regardless outcome health care reform legislation pharmaceutical due principally unit volume female health care anti inflammatory product infant nutritional consumer health care united billion price partly offset unit volume unit volume growth cough cold allergy product line offset unit company analgesic particularly however unit volume grew united consumer health care unfavorably impacted continued growth private label new competitive consumer health care higher due principally unit volume growth analgesic cough cold allergy product medical diagnostic united due principally unit volume competitive hospital supply market many product acquisition symbiosis corp symbiosis late growth disposable needle syringe increase medical diagnostic result acquisition symbiosis intelligent medical see note unit cardiovascular foreign health care billion unit volume grew price offset unfavorable foreign exchange foreign health care billion due unit volume growth price favorable foreign exchange foreign pharmaceutical led unit volume gains female health care infant nutritional excluding effects exchange foreign pharmaceutical would company governmental price many significant international experienced price several continue particularly company able increase line inflation related currency several particularly brazil foreign gain management discussion analysis financial condition however governmental health care lesser extent competitive may constrain foreign led unit volume gains infant nutritional female health care foreign consumer health care million due primarily unit volume growth oral health care product line particularly inflation related price brazil foreign con\n",
            "3: nuclear plant meet new regulatory increasing labor equipment cost capital significant purchase outstanding connection construction program company new generating construction however construction combustion turbine peaking approximately addition significant construction continue related transmission distribution extension useful generating extent possible company construction program primarily internal short term debt necessary available company may issue additional long term debt preferred stock primarily debt higher cost continued power company annual report company primary external first mortgage preferred stock public receipt additional capital southern company leasing nuclear material order issue additional first mortgage preferred stock company must comply certain earnings coverage mortgage indenture corporate charter restrictive issuance additional first mortgage income tax earnings defined cover pro annual interest outstanding first mortgage least twice issuance additional preferred stock gross income available interest cover pro annual interest preferred stock least one one half times first mortgage preferred stock year ended respectively company mortgage first mortgage company direct lien substantially company fixed property continued power company annual report return equity whether capacity energy available company share million million million included power income contract substantially term thereof would extended automatically two year subject party right cancel upon two notice addition company unconditionally obligation installment sale agreement purchase certain pollution control generating pursuant million principal amount pollution control revenue outstanding power company agreed reimburse company pro rata portion obligation corresponding proportionate ownership stock company upon make payment guaranty capitalization million equity million long term debt annual interest requirement million million million million one half company net income million million million respectively june company sale portion plant miller electric company percentage ownership investment jointly generating total coal plant miller coal jointly affiliate power company jointly millions coal plant miller coal operating southern company company long term short term contractual sale capacity energy certain non outside system service area certain non firm based capacity system general firm pertain capacity related specific generating energy generally sold cost capacity primarily affect profitability company portion system capacity long term millions long term non firm power sold southern electric system power corporation amount contract expire year end unit power plant miller sold power light company electric authority city average capacity southern company settlement agreement gulf resolved litigation pending since arose dispute certain unit power long term power settlement agreement satisfied respect company portion proceeds received see note concerning regulatory treatment retail three year period august company firm power purchase contract capacity maximum period contract company second firm power purchase contract additional capacity maximum period contract power sold member previously directly company wholesale company received net present value associated respective capacity effective annual percent percent respectively operating interest expense capacity made available order secure advance company performance obligation company escrow agent first mortgage maximum amount damages payable company event default principal interest payable unless default company damages decline portion equal returned company million escrow agent continued power company annual report federal state income tax federal deferred deferred investment tax state deferred less income federal state income tax effects temporary carrying assets financial respective tax bases give rise deferred tax assets millions deferred tax deferred tax assets deferred income deferred investment tax life related property amortization normally applied credit reduce depreciatio\n",
            "4: fter ratably per share preferred voting except company pay equivalent six quarterly preferred voting class shall elect two additional preferred also voting related certain company incorporation preferred rank senior common stock outstanding series preferred preferred liquidation preference per share plus unpaid shareholder plan company adopted shareholder plan pursuant plan common stock received one preferred share purchase right common share plan effective triggered person defined company outstanding common threshold may reduced board less exercisable right would subject certain entitle person group purchase common stock company company market value twice exercise price right nonvoting may time concerning stock year ended year ended year ended company outstanding acquire company common stock exercise price acquire company common stock exercise price outstanding exercisable may however expire time may upon calendar days prior notice company common stock average per share public market price less least consecutive trading days prior expiration notice letterhead board mining company report consolidated financial mining company included form financial listed item form connection financial also related financial statement listed item form opinion financial statement considered relation basic financial taken whole present fairly material information included therein ended balance year ended year ended year ended change due reclassification depreciation depletion amortization property plant equipment mining company mining company wholly form second amendment credit agreement second amendment august made among mining company corporation behalf wholly colorado aggregate company new new corporation clay company corporation clay feldspar corporation north corporation feldspar clay feldspar herein collectively individually borrower signature hereto collectively individually bank limited new york branch new york state licensed branch limited authorized institution banking act agent capacity together capacity agent therefore consideration mutual herein good valuable consideration without limitation consideration credit agreement receipt sufficiency hereby acknowledged hereto agree used herein otherwise defined herein shall thereto credit agreement credit agreement amendment regarding date providing annual five year mining section credit agreement hereby date august date amendment regarding cash management fund section credit agreement hereby word immediately following subparagraph word immediately following subparagraph new subparagraph shall read amendment loan hereby agree loan shall extent necessary conform consistent herein effectiveness second amendment second amendment shall effective immediately upon due execution delivery hereof second amendment may executed one executed irrespective date execution delivery shall original together shall constitute one instrument governing law descriptive second amendment shall succession assignment second amendment shall inure benefit binding upon hereto hereunder may assigned accordance assignment credit agreement credit agreement except expressly provided second amendment loan hereby credit agreement loan shall remain full force effect hereby confirmed effectiveness credit agreement loan hereby reference credit agreement agreement hereunder hereof herein like import reference credit agreement note loan document agreement document instrument executed pursuant credit agreement shall reference credit agreement indebtedness second amendment shall provide effect repayment advance bank outstanding intention outstanding credit agreement second amendment outstanding credit agreement immediately prior effectiveness hereof witness whereof hereto second amendment executed duly authorized date first written title vice president branch agent lucy title vice president edge title senior vice president branch bank lucy title vice president edge title senior vice president joe title title vice president exhibit whereas certain agent credit agreement august credit agreement credit agreement pursuant party th\n",
            "5: credit buyer assuming shall responsibility obligation whatsoever liability obligation seller without limitation liability applicable federal state environmental protection liability connection collective agreement pension plan buyer assigned condition seller obligation effect assignment buyer shall pay cure real property equipment constitute assigned permit assumption assignment assigned pursuant section bankruptcy code cure together assumed buyer pursuant section section herein assumed buyer shall reduction purchase price seller assume obligation whatsoever cure default make payment due date hereof real property equipment constitute assigned inventory behalf seller outstanding outstanding date least five buyer shall buyer sole expense comply either following buyer shall cause seller returned seller collateral seller reimbursement respect seller returned seller causing new credit seller shall united bank acceptable buyer trust company acting principal united buyer bank prior issuance seller seller shall use seller accept new credit buyer shall provide connection endeavor seller may reasonably request buyer shall cause buyer bank issue credit favor seller seller equal payable seller cause buyer bank enter agreement seller providing indemnification letter credit seller respect seller pursuant seller agree seek reimbursement seller respect seller enter agreement seller providing indemnification seller buyer respect seller agreement clause credit form substance reasonably satisfactory seller satisfactory seller importer record inventory transit upon receipt quota applicable buyer shall assume seller assets buyer assignment sufficient assign buyer seller right title interest intangible property buyer seller right title interest stock foreign subsidiary buyer seller pursuant section assigned obligor licensee assignment buyer receivable license case may obligor licensee make payment buyer receivable obligor payable license case may buyer may reasonably request effect change name incorporation business business eliminate name name similar name name compliance notice set forth order buyer shall deliver cause addition agreement buyer seller following adjustment pursuant section deposit payable manner section duly executed assumption form substance reasonably satisfactory seller whereby buyer assume agree pay perform discharge assumed seller date agreement date buyer except representation warranty set forth section made best knowledge corporation duly organized validly good standing stock included within assets corporation duly organized place may good standing direct indirect active representation warranty made foreign assets except due organization title stock set forth section section date hereof date seller use reasonable cause foreign buyer seller pursuant section good standing provided seller shall incur substantial connection endeavor prior date seller shall maintain equipment good repair ordinary wear tear conduct business ordinary course consistent past practice subject effect bankruptcy petition seller pursuant foregoing seller shall without prior written consent promptly notify buyer execution confidentiality agreement party notify buyer conversation inquiry offer received potential provide buyer copy written communication sent received potential provide buyer copy information sent seller potential bidder provide buyer sale documentation substantially final form notify buyer execution definitive sale documentation bankruptcy code seller shall pay transfer transaction taxing authority without limitation state county municipality subdivision thereof connection consummation agreement extent seller assignable buyer seller shall take reasonably buyer otherwise endeavor provide buyer insurance policy understood seller connection shall borne buyer buyer buyer date agreement date seller good standing state incorporation full corporate power authority enter agreement perform hereunder buyer taken requisite corporate action order authorize execution delivery agreement consummation hereby agreement duly validly executed buyer legal\n",
            "6: ard may determine respective time time committee shall power authority reference certificate incorporation except committee may extent authorized resolution adopted board provided corporation law section providing issuance stock fix dissolution distribution assets corporation conversion exchange class classes series class classes stock corporation agreement merger consolidation sale lease exchange substantially corporation property assets dissolution corporation revocation dissolution corporation majority committee may fix procedure determine action fix time place whether within without state specify notice thereof shall given unless board shall resolution otherwise provide member committee shall continue member thereof long remains director pleasure majority whole board committee may filled majority whole board section election term office corporation shall following president one vice one may executive senior vice treasurer secretary board may also elect controller assistant vice assistant assistant may deem necessary shall authority perform may time time board corporation shall annually board first meeting thereof annual meeting election shall hold office shall duly shall qualify may filled majority whole board officer board shall subject removal either without cause time majority whole board section officer may resign time giving written notice resignation chairman board president secretary resignation shall take effect time therein time shall become effective shall therein immediately upon receipt unless otherwise therein acceptance resignation shall necessary make effective section president president shall chief executive officer corporation shall subject control board general active supervision business corporation several shall power appoint remove corporation subject control board shall see board carried effect time time shall report board within knowledge corporation may require brought notice request chairman board case absence inability act unless board executive committee shall otherwise determine otherwise provided president shall member board perform chairman board acting shall subject upon chairman board general shall perform incident office president time time may assigned board section vice vice president shall shall board time election may assigned time time board president absence disability president unless board executive committee shall otherwise determine executive vice president tenure office shall executive vice president senior vice president tenure office shall senior vice vice president tenure office shall president section treasurer board treasurer shall give bond faithful discharge sum surety board shall determine extent determined board shall funds valuable effects corporation receive give receipt due payable corporation whatsoever deposit credit corporation otherwise board president shall direct trust shall selected accordance section article cause funds authorized corporation provided section said article responsible accuracy cause proper giving information may desire respect financial corporation committee board whenever respectively shall request account financial condition corporation treasurer reasonable times cash president audit committee board corporation treasurer time time may assigned president board section assistant board assistant shall give bond faithful discharge surety board shall determine request treasurer case absence inability act assistant treasurer one assistant shall perform treasurer acting shall subject upon treasurer assistant shall perform time time may assigned treasurer president board section secretary secretary shall written board executive committee board one kept purpose law indicia title corporation corporate except custody treasurer seal corporation see seal authorized board facsimile thereof stock corporation prior issuance thereof execution behalf corporation seal duly authorized accordance except board shall otherwise direct power authority attest seal corporation transfer transfer agent transfer registrar provided section article issuance transfer \n",
            "Vocabulary size: 6597\n",
            "Adjusting learning rate of group 0 to 2.5000e-01.\n"
          ]
        },
        {
          "output_type": "stream",
          "name": "stderr",
          "text": [
            ""
          ]
        },
        {
          "output_type": "stream",
          "name": "stdout",
          "text": [
            "Epoch: 1/30, Train Loss=5.99583, Val Loss=0.00000\n",
            "Adjusting learning rate of group 0 to 2.4167e-01.\n"
          ]
        },
        {
          "output_type": "stream",
          "name": "stderr",
          "text": [
            ""
          ]
        },
        {
          "output_type": "stream",
          "name": "stdout",
          "text": [
            "Epoch: 2/30, Train Loss=5.97005, Val Loss=0.00000\n",
            "Adjusting learning rate of group 0 to 2.3333e-01.\n"
          ]
        },
        {
          "output_type": "stream",
          "name": "stderr",
          "text": [
            ""
          ]
        },
        {
          "output_type": "stream",
          "name": "stdout",
          "text": [
            "Epoch: 3/30, Train Loss=5.95288, Val Loss=0.00000\n",
            "Adjusting learning rate of group 0 to 2.2500e-01.\n"
          ]
        },
        {
          "output_type": "stream",
          "name": "stderr",
          "text": [
            ""
          ]
        },
        {
          "output_type": "stream",
          "name": "stdout",
          "text": [
            "Epoch: 4/30, Train Loss=5.93798, Val Loss=0.00000\n",
            "Adjusting learning rate of group 0 to 2.1667e-01.\n"
          ]
        },
        {
          "output_type": "stream",
          "name": "stderr",
          "text": [
            ""
          ]
        },
        {
          "output_type": "stream",
          "name": "stdout",
          "text": [
            "Epoch: 5/30, Train Loss=5.91824, Val Loss=0.00000\n",
            "Adjusting learning rate of group 0 to 2.0833e-01.\n"
          ]
        },
        {
          "output_type": "stream",
          "name": "stderr",
          "text": [
            ""
          ]
        },
        {
          "output_type": "stream",
          "name": "stdout",
          "text": [
            "Epoch: 6/30, Train Loss=5.90308, Val Loss=0.00000\n",
            "Adjusting learning rate of group 0 to 2.0000e-01.\n"
          ]
        },
        {
          "output_type": "stream",
          "name": "stderr",
          "text": [
            ""
          ]
        },
        {
          "output_type": "stream",
          "name": "stdout",
          "text": [
            "Epoch: 7/30, Train Loss=5.88522, Val Loss=0.00000\n",
            "Adjusting learning rate of group 0 to 1.9167e-01.\n"
          ]
        },
        {
          "output_type": "stream",
          "name": "stderr",
          "text": [
            ""
          ]
        },
        {
          "output_type": "stream",
          "name": "stdout",
          "text": [
            "Epoch: 8/30, Train Loss=5.86795, Val Loss=0.00000\n",
            "Adjusting learning rate of group 0 to 1.8333e-01.\n"
          ]
        },
        {
          "output_type": "stream",
          "name": "stderr",
          "text": [
            ""
          ]
        },
        {
          "output_type": "stream",
          "name": "stdout",
          "text": [
            "Epoch: 9/30, Train Loss=5.85009, Val Loss=0.00000\n",
            "Adjusting learning rate of group 0 to 1.7500e-01.\n"
          ]
        },
        {
          "output_type": "stream",
          "name": "stderr",
          "text": [
            ""
          ]
        },
        {
          "output_type": "stream",
          "name": "stdout",
          "text": [
            "Epoch: 10/30, Train Loss=5.83390, Val Loss=0.00000\n",
            "Adjusting learning rate of group 0 to 1.6667e-01.\n"
          ]
        },
        {
          "output_type": "stream",
          "name": "stderr",
          "text": [
            ""
          ]
        },
        {
          "output_type": "stream",
          "name": "stdout",
          "text": [
            "Epoch: 11/30, Train Loss=5.81504, Val Loss=0.00000\n",
            "Adjusting learning rate of group 0 to 1.5833e-01.\n"
          ]
        },
        {
          "output_type": "stream",
          "name": "stderr",
          "text": [
            ""
          ]
        },
        {
          "output_type": "stream",
          "name": "stdout",
          "text": [
            "Epoch: 12/30, Train Loss=5.79667, Val Loss=0.00000\n",
            "Adjusting learning rate of group 0 to 1.5000e-01.\n"
          ]
        },
        {
          "output_type": "stream",
          "name": "stderr",
          "text": [
            ""
          ]
        },
        {
          "output_type": "stream",
          "name": "stdout",
          "text": [
            "Epoch: 13/30, Train Loss=5.77943, Val Loss=0.00000\n",
            "Adjusting learning rate of group 0 to 1.4167e-01.\n"
          ]
        },
        {
          "output_type": "stream",
          "name": "stderr",
          "text": [
            ""
          ]
        },
        {
          "output_type": "stream",
          "name": "stdout",
          "text": [
            "Epoch: 14/30, Train Loss=5.75890, Val Loss=0.00000\n",
            "Adjusting learning rate of group 0 to 1.3333e-01.\n"
          ]
        },
        {
          "output_type": "stream",
          "name": "stderr",
          "text": [
            ""
          ]
        },
        {
          "output_type": "stream",
          "name": "stdout",
          "text": [
            "Epoch: 15/30, Train Loss=5.73982, Val Loss=0.00000\n",
            "Adjusting learning rate of group 0 to 1.2500e-01.\n"
          ]
        },
        {
          "output_type": "stream",
          "name": "stderr",
          "text": [
            ""
          ]
        },
        {
          "output_type": "stream",
          "name": "stdout",
          "text": [
            "Epoch: 16/30, Train Loss=5.71933, Val Loss=0.00000\n",
            "Adjusting learning rate of group 0 to 1.1667e-01.\n"
          ]
        },
        {
          "output_type": "stream",
          "name": "stderr",
          "text": [
            ""
          ]
        },
        {
          "output_type": "stream",
          "name": "stdout",
          "text": [
            "Epoch: 17/30, Train Loss=5.69962, Val Loss=0.00000\n",
            "Adjusting learning rate of group 0 to 1.0833e-01.\n"
          ]
        },
        {
          "output_type": "stream",
          "name": "stderr",
          "text": [
            ""
          ]
        },
        {
          "output_type": "stream",
          "name": "stdout",
          "text": [
            "Epoch: 18/30, Train Loss=5.67770, Val Loss=0.00000\n",
            "Adjusting learning rate of group 0 to 1.0000e-01.\n"
          ]
        },
        {
          "output_type": "stream",
          "name": "stderr",
          "text": [
            ""
          ]
        },
        {
          "output_type": "stream",
          "name": "stdout",
          "text": [
            "Epoch: 19/30, Train Loss=5.65465, Val Loss=0.00000\n",
            "Adjusting learning rate of group 0 to 9.1667e-02.\n"
          ]
        },
        {
          "output_type": "stream",
          "name": "stderr",
          "text": [
            ""
          ]
        },
        {
          "output_type": "stream",
          "name": "stdout",
          "text": [
            "Epoch: 20/30, Train Loss=5.63086, Val Loss=0.00000\n",
            "Adjusting learning rate of group 0 to 8.3333e-02.\n"
          ]
        },
        {
          "output_type": "stream",
          "name": "stderr",
          "text": [
            ""
          ]
        },
        {
          "output_type": "stream",
          "name": "stdout",
          "text": [
            "Epoch: 21/30, Train Loss=5.60493, Val Loss=0.00000\n",
            "Adjusting learning rate of group 0 to 7.5000e-02.\n"
          ]
        },
        {
          "output_type": "stream",
          "name": "stderr",
          "text": [
            ""
          ]
        },
        {
          "output_type": "stream",
          "name": "stdout",
          "text": [
            "Epoch: 22/30, Train Loss=5.57941, Val Loss=0.00000\n",
            "Adjusting learning rate of group 0 to 6.6667e-02.\n"
          ]
        },
        {
          "output_type": "stream",
          "name": "stderr",
          "text": [
            ""
          ]
        },
        {
          "output_type": "stream",
          "name": "stdout",
          "text": [
            "Epoch: 23/30, Train Loss=5.55121, Val Loss=0.00000\n",
            "Adjusting learning rate of group 0 to 5.8333e-02.\n"
          ]
        },
        {
          "output_type": "stream",
          "name": "stderr",
          "text": [
            ""
          ]
        },
        {
          "output_type": "stream",
          "name": "stdout",
          "text": [
            "Epoch: 24/30, Train Loss=5.51753, Val Loss=0.00000\n",
            "Adjusting learning rate of group 0 to 5.0000e-02.\n"
          ]
        },
        {
          "output_type": "stream",
          "name": "stderr",
          "text": [
            ""
          ]
        },
        {
          "output_type": "stream",
          "name": "stdout",
          "text": [
            "Epoch: 25/30, Train Loss=5.48215, Val Loss=0.00000\n",
            "Adjusting learning rate of group 0 to 4.1667e-02.\n"
          ]
        },
        {
          "output_type": "stream",
          "name": "stderr",
          "text": [
            ""
          ]
        },
        {
          "output_type": "stream",
          "name": "stdout",
          "text": [
            "Epoch: 26/30, Train Loss=5.43964, Val Loss=0.00000\n",
            "Adjusting learning rate of group 0 to 3.3333e-02.\n"
          ]
        },
        {
          "output_type": "stream",
          "name": "stderr",
          "text": [
            ""
          ]
        },
        {
          "output_type": "stream",
          "name": "stdout",
          "text": [
            "Epoch: 27/30, Train Loss=5.38739, Val Loss=0.00000\n",
            "Adjusting learning rate of group 0 to 2.5000e-02.\n"
          ]
        },
        {
          "output_type": "stream",
          "name": "stderr",
          "text": [
            ""
          ]
        },
        {
          "output_type": "stream",
          "name": "stdout",
          "text": [
            "Epoch: 28/30, Train Loss=5.31848, Val Loss=0.00000\n",
            "Adjusting learning rate of group 0 to 1.6667e-02.\n"
          ]
        },
        {
          "output_type": "stream",
          "name": "stderr",
          "text": [
            ""
          ]
        },
        {
          "output_type": "stream",
          "name": "stdout",
          "text": [
            "Epoch: 29/30, Train Loss=5.22525, Val Loss=0.00000\n",
            "Adjusting learning rate of group 0 to 8.3333e-03.\n"
          ]
        },
        {
          "output_type": "stream",
          "name": "stderr",
          "text": [
            ""
          ]
        },
        {
          "output_type": "stream",
          "name": "stdout",
          "text": [
            "Epoch: 30/30, Train Loss=5.07852, Val Loss=0.00000\n",
            "Adjusting learning rate of group 0 to 0.0000e+00.\n",
            "Training finished.\n",
            "Model artifacts saved to folder: /content/drive/MyDrive/DL785/Project/word2vec/cbow_150\n",
            "loading data at parsed_1994/constant_length_data/\n",
            "Found 38998 documents\n",
            "0: tion resolution shall apply affected notwithstanding agreement apply extent one per occurrence accident limit shall carry full aggregate term policy policy documentary evidence explicitly another result intended insurance policy extended prior expiration date period multiple extension request producer period less shall carry pro rata extension request insurer period less shall carry full aggregate insurance policy initially written one year multiple period less also shall carry full aggregate insurance policy prior expiration date either producer insurer period less shall carry full aggregate except excess insurer insurance policy specifically make insurance concurrent underlying insurance producer agreed case period less shall carry pro rata section shall apply manner consistent application hereunder particular period within coverage block insurer signatory hereto producer shall use reasonable best necessary timely pursuit litigation obtain final reasonable settlement agreement final judicial determination concerning application insurance policy asbestos related respect thereto producer insurer extent practicable shall assist producer question hereinabove producer pursuant final settlement agreement final judicial determination received insurer question administer handle dispose asbestos related producer shall make pay due appendix would insurer question respect producer said insurer become signatory hereto producer shall make pay producer amount equal received insurer administer handle dispose asbestos related plus investment income less proration made directly producer asbestos related judicial determination settlement agreement would make pay particular claim agreement insurer question become signatory hereto producer received non signatory insurer pursuant hereinabove insurance policy coverage block covering part exposure period claim shall make pay subject applicable liability pro rata basis lieu non signatory insurance policy extent insurance policy would make agreement applicable insurance policy provided directly overlying excess insurance policy shall make pay lieu non signatory insurance policy insurance coverage block cover part exposure period claim thereafter upon final settlement final judicial determination hereinabove insurer hereunder shall option producer provided total reimbursement shall exceed received producer non signatory insurer administer handle dispose asbestos related plus investment income less made directly producer asbestos related judicial determination settlement agreement hereinabove producer question obtain final settlement agreement final judicial determination pursuant hereinabove within two date upon insurer first actually made liability actually pro rata basis lieu non signatory insurance policy pursuant paragraph hereinabove interest shall begin accrue conclusion two year period liability actually made actually insurer lieu non signatory insurance policy shall continue date producer final settlement agreement final judicial determination date insurer question would exhausted make pay agreement non signatory insurer question become signatory hereto interest shall payable quarterly basis date first accrual rate interest publicly new york new york time time base rate producer question final settlement agreement final judicial determination pursuant hereinabove producer shall insurer question interest exceed insurer reimbursement paragraph hereinabove agreement among administration defense payment disposition asbestos related antecedent contemporaneous extrinsic collateral concerning negotiation preparation agreement appendices hereto intended dispute agreement appendices hereto signatory shall introduce evidence seek compel testimony concerning oral written communication made prior june respect negotiation preparation agreement agreement appendix hereto may made mutual agreement writing appendices may made provided therein agreement appendices hereto provision thereof concerning within scope agreement shall determined accordance applicable common law united failure invalidation parti\n",
            "1: se within scope provided consultant computer made available consultant solely basis relationship company solely purpose agreement consultant without written authority company use print copy provide otherwise make available whole part portion computer reconstruct whole part object code source code computer copyright copyrightable subject matter related computer resulting provided consultant behalf company based company information hereby irrevocably assigned set sold transferred company password similar manual electronic telecommunication company mail computer data furnished consultant company otherwise disclosed made known consultant scope consultant considered confidential company shall remain sole exclusive property company shall disclosed person used manner whatsoever except purpose please take time read review material carefully feel free ask human representative clarification time condition employment applied magnetics corporation company booklet employee nothing booklet shall create contract employment specific term modify company policy right terminate employment without cause without notice time manager supervisor representative company president executive vice president authority enter agreement employee make representation contrary policy future reference material provided upon request following review completion questionnaire extent reasonably possible agreement shall inure benefit binding upon personal hereto agreement shall state following prepared assist nature extent outside interest may might involve actual potential interest applied magnetics corporation company conflict interest policy statement please read question carefully event doubt meaning question answer question best ability list doubt section spouse dependent presently person past two officer director employee consultant otherwise employed spouse dependent trust trustee substantial beneficial interest corporation entity substantial ownership interest owner directly indirectly position supplier customer competitor company excess outstanding class company total equity interest case partnership proprietorship exhibit via ca dear letter agreement applied magnetics corporation company regarding resignation officer company certain employment relationship company subject set forth herein consideration herein company agree agreement shall following retention agreement shall mean certain retention agreement company executive note shall meaning set forth retention agreement resignation date shall mean august leave period shall mean period resignation date ending employment period shall mean period ending termination date termination date shall mean may date may established pursuant section hereof either company date employment company plan shall mean company long term incentive plan severance claim shall mean claim section agreement full time employment shall mean providing personal employee officer director person corporation partnership form business commercial professional enterprise regular work schedule less thirty per week retention agreement hereby fully completely whatsoever company fully completely respective thereunder agreement consideration set forth herein effective resignation date resignation vice president chief financial officer treasurer company advised company employment resignation vice president chief financial officer treasurer accepted company hereof august relieved vice president chief financial officer treasurer connection management supervision financial management accounting fiscal previously management control direction august longer serving company principal financial officer federal leave period leave absence employment shall personal advice assistance transition former time employment employment affect continued status employee company company subparagraph provided otherwise materially company per week accordance company usual customary payroll leave employment company make available access voice mail limited secretarial support provide phone mail connection obtain employment elsewhere employment period provided full time e\n",
            "2: est basis evidence supporting financial audit also accounting used significant made management well overall financial statement presentation believe provide reasonable basis opinion opinion financial present fairly material financial position home corporation cash three period ended conformity generally accepted accounting consolidated financial effective company accounting income new york management report financial management prepared responsible company consolidated financial related prepared accordance generally accepted accounting necessarily include based made management financial information annual report consistent financial company internal accounting control related designed provide reasonable assurance assets executed accordance management authorization properly accounting may upon preparation financial financial information design revision internal accounting control involve among management judgment respect relative cost specific control company also internal function formally adequacy effectiveness internal accounting company financial independent expressed opinion respect fairness audit committee board non employee periodically external internal evaluate effectiveness work discharging respective assure independent free access committee quarterly financial data first quarter second quarter third quarter fourth quarter except first quarter second quarter third quarter fourth quarter market common stock new york stock exchange composite management discussion analysis financial condition following commentary read conjunction consolidated financial consolidated financial net billion net health care segment billion higher billion food million net health care food united billion increase net foreign billion billion net health care united billion net billion pharmaceutical due primarily unit volume growth pharmaceutical growth due primarily unit volume company voluntarily established policy limit weighted average prescription pharmaceutical price increase increase consumer price index company prescription pharmaceutical price increase company weighted average prescription pharmaceutical price increase increase consumer price index unit volume growth pharmaceutical segment led anti inflammatory veterinary product line genetics institute factor bulk product also volume growth pharmaceutical growth impacted competitive public private additional program continue market regardless outcome health care reform legislation pharmaceutical due principally unit volume female health care anti inflammatory product infant nutritional consumer health care united billion price partly offset unit volume unit volume growth cough cold allergy product line offset unit company analgesic particularly however unit volume grew united consumer health care unfavorably impacted continued growth private label new competitive consumer health care higher due principally unit volume growth analgesic cough cold allergy product medical diagnostic united due principally unit volume competitive hospital supply market many product acquisition symbiosis corp symbiosis late growth disposable needle syringe increase medical diagnostic result acquisition symbiosis intelligent medical see note unit cardiovascular foreign health care billion unit volume grew price offset unfavorable foreign exchange foreign health care billion due unit volume growth price favorable foreign exchange foreign pharmaceutical led unit volume gains female health care infant nutritional excluding effects exchange foreign pharmaceutical would company governmental price many significant international experienced price several continue particularly company able increase line inflation related currency several particularly brazil foreign gain management discussion analysis financial condition however governmental health care lesser extent competitive may constrain foreign led unit volume gains infant nutritional female health care foreign consumer health care million due primarily unit volume growth oral health care product line particularly inflation related price brazil foreign con\n",
            "3: nuclear plant meet new regulatory increasing labor equipment cost capital significant purchase outstanding connection construction program company new generating construction however construction combustion turbine peaking approximately addition significant construction continue related transmission distribution extension useful generating extent possible company construction program primarily internal short term debt necessary available company may issue additional long term debt preferred stock primarily debt higher cost continued power company annual report company primary external first mortgage preferred stock public receipt additional capital southern company leasing nuclear material order issue additional first mortgage preferred stock company must comply certain earnings coverage mortgage indenture corporate charter restrictive issuance additional first mortgage income tax earnings defined cover pro annual interest outstanding first mortgage least twice issuance additional preferred stock gross income available interest cover pro annual interest preferred stock least one one half times first mortgage preferred stock year ended respectively company mortgage first mortgage company direct lien substantially company fixed property continued power company annual report return equity whether capacity energy available company share million million million included power income contract substantially term thereof would extended automatically two year subject party right cancel upon two notice addition company unconditionally obligation installment sale agreement purchase certain pollution control generating pursuant million principal amount pollution control revenue outstanding power company agreed reimburse company pro rata portion obligation corresponding proportionate ownership stock company upon make payment guaranty capitalization million equity million long term debt annual interest requirement million million million million one half company net income million million million respectively june company sale portion plant miller electric company percentage ownership investment jointly generating total coal plant miller coal jointly affiliate power company jointly millions coal plant miller coal operating southern company company long term short term contractual sale capacity energy certain non outside system service area certain non firm based capacity system general firm pertain capacity related specific generating energy generally sold cost capacity primarily affect profitability company portion system capacity long term millions long term non firm power sold southern electric system power corporation amount contract expire year end unit power plant miller sold power light company electric authority city average capacity southern company settlement agreement gulf resolved litigation pending since arose dispute certain unit power long term power settlement agreement satisfied respect company portion proceeds received see note concerning regulatory treatment retail three year period august company firm power purchase contract capacity maximum period contract company second firm power purchase contract additional capacity maximum period contract power sold member previously directly company wholesale company received net present value associated respective capacity effective annual percent percent respectively operating interest expense capacity made available order secure advance company performance obligation company escrow agent first mortgage maximum amount damages payable company event default principal interest payable unless default company damages decline portion equal returned company million escrow agent continued power company annual report federal state income tax federal deferred deferred investment tax state deferred less income federal state income tax effects temporary carrying assets financial respective tax bases give rise deferred tax assets millions deferred tax deferred tax assets deferred income deferred investment tax life related property amortization normally applied credit reduce depreciatio\n",
            "4: fter ratably per share preferred voting except company pay equivalent six quarterly preferred voting class shall elect two additional preferred also voting related certain company incorporation preferred rank senior common stock outstanding series preferred preferred liquidation preference per share plus unpaid shareholder plan company adopted shareholder plan pursuant plan common stock received one preferred share purchase right common share plan effective triggered person defined company outstanding common threshold may reduced board less exercisable right would subject certain entitle person group purchase common stock company company market value twice exercise price right nonvoting may time concerning stock year ended year ended year ended company outstanding acquire company common stock exercise price acquire company common stock exercise price outstanding exercisable may however expire time may upon calendar days prior notice company common stock average per share public market price less least consecutive trading days prior expiration notice letterhead board mining company report consolidated financial mining company included form financial listed item form connection financial also related financial statement listed item form opinion financial statement considered relation basic financial taken whole present fairly material information included therein ended balance year ended year ended year ended change due reclassification depreciation depletion amortization property plant equipment mining company mining company wholly form second amendment credit agreement second amendment august made among mining company corporation behalf wholly colorado aggregate company new new corporation clay company corporation clay feldspar corporation north corporation feldspar clay feldspar herein collectively individually borrower signature hereto collectively individually bank limited new york branch new york state licensed branch limited authorized institution banking act agent capacity together capacity agent therefore consideration mutual herein good valuable consideration without limitation consideration credit agreement receipt sufficiency hereby acknowledged hereto agree used herein otherwise defined herein shall thereto credit agreement credit agreement amendment regarding date providing annual five year mining section credit agreement hereby date august date amendment regarding cash management fund section credit agreement hereby word immediately following subparagraph word immediately following subparagraph new subparagraph shall read amendment loan hereby agree loan shall extent necessary conform consistent herein effectiveness second amendment second amendment shall effective immediately upon due execution delivery hereof second amendment may executed one executed irrespective date execution delivery shall original together shall constitute one instrument governing law descriptive second amendment shall succession assignment second amendment shall inure benefit binding upon hereto hereunder may assigned accordance assignment credit agreement credit agreement except expressly provided second amendment loan hereby credit agreement loan shall remain full force effect hereby confirmed effectiveness credit agreement loan hereby reference credit agreement agreement hereunder hereof herein like import reference credit agreement note loan document agreement document instrument executed pursuant credit agreement shall reference credit agreement indebtedness second amendment shall provide effect repayment advance bank outstanding intention outstanding credit agreement second amendment outstanding credit agreement immediately prior effectiveness hereof witness whereof hereto second amendment executed duly authorized date first written title vice president branch agent lucy title vice president edge title senior vice president branch bank lucy title vice president edge title senior vice president joe title title vice president exhibit whereas certain agent credit agreement august credit agreement credit agreement pursuant party th\n",
            "5: credit buyer assuming shall responsibility obligation whatsoever liability obligation seller without limitation liability applicable federal state environmental protection liability connection collective agreement pension plan buyer assigned condition seller obligation effect assignment buyer shall pay cure real property equipment constitute assigned permit assumption assignment assigned pursuant section bankruptcy code cure together assumed buyer pursuant section section herein assumed buyer shall reduction purchase price seller assume obligation whatsoever cure default make payment due date hereof real property equipment constitute assigned inventory behalf seller outstanding outstanding date least five buyer shall buyer sole expense comply either following buyer shall cause seller returned seller collateral seller reimbursement respect seller returned seller causing new credit seller shall united bank acceptable buyer trust company acting principal united buyer bank prior issuance seller seller shall use seller accept new credit buyer shall provide connection endeavor seller may reasonably request buyer shall cause buyer bank issue credit favor seller seller equal payable seller cause buyer bank enter agreement seller providing indemnification letter credit seller respect seller pursuant seller agree seek reimbursement seller respect seller enter agreement seller providing indemnification seller buyer respect seller agreement clause credit form substance reasonably satisfactory seller satisfactory seller importer record inventory transit upon receipt quota applicable buyer shall assume seller assets buyer assignment sufficient assign buyer seller right title interest intangible property buyer seller right title interest stock foreign subsidiary buyer seller pursuant section assigned obligor licensee assignment buyer receivable license case may obligor licensee make payment buyer receivable obligor payable license case may buyer may reasonably request effect change name incorporation business business eliminate name name similar name name compliance notice set forth order buyer shall deliver cause addition agreement buyer seller following adjustment pursuant section deposit payable manner section duly executed assumption form substance reasonably satisfactory seller whereby buyer assume agree pay perform discharge assumed seller date agreement date buyer except representation warranty set forth section made best knowledge corporation duly organized validly good standing stock included within assets corporation duly organized place may good standing direct indirect active representation warranty made foreign assets except due organization title stock set forth section section date hereof date seller use reasonable cause foreign buyer seller pursuant section good standing provided seller shall incur substantial connection endeavor prior date seller shall maintain equipment good repair ordinary wear tear conduct business ordinary course consistent past practice subject effect bankruptcy petition seller pursuant foregoing seller shall without prior written consent promptly notify buyer execution confidentiality agreement party notify buyer conversation inquiry offer received potential provide buyer copy written communication sent received potential provide buyer copy information sent seller potential bidder provide buyer sale documentation substantially final form notify buyer execution definitive sale documentation bankruptcy code seller shall pay transfer transaction taxing authority without limitation state county municipality subdivision thereof connection consummation agreement extent seller assignable buyer seller shall take reasonably buyer otherwise endeavor provide buyer insurance policy understood seller connection shall borne buyer buyer buyer date agreement date seller good standing state incorporation full corporate power authority enter agreement perform hereunder buyer taken requisite corporate action order authorize execution delivery agreement consummation hereby agreement duly validly executed buyer legal\n",
            "6: ard may determine respective time time committee shall power authority reference certificate incorporation except committee may extent authorized resolution adopted board provided corporation law section providing issuance stock fix dissolution distribution assets corporation conversion exchange class classes series class classes stock corporation agreement merger consolidation sale lease exchange substantially corporation property assets dissolution corporation revocation dissolution corporation majority committee may fix procedure determine action fix time place whether within without state specify notice thereof shall given unless board shall resolution otherwise provide member committee shall continue member thereof long remains director pleasure majority whole board committee may filled majority whole board section election term office corporation shall following president one vice one may executive senior vice treasurer secretary board may also elect controller assistant vice assistant assistant may deem necessary shall authority perform may time time board corporation shall annually board first meeting thereof annual meeting election shall hold office shall duly shall qualify may filled majority whole board officer board shall subject removal either without cause time majority whole board section officer may resign time giving written notice resignation chairman board president secretary resignation shall take effect time therein time shall become effective shall therein immediately upon receipt unless otherwise therein acceptance resignation shall necessary make effective section president president shall chief executive officer corporation shall subject control board general active supervision business corporation several shall power appoint remove corporation subject control board shall see board carried effect time time shall report board within knowledge corporation may require brought notice request chairman board case absence inability act unless board executive committee shall otherwise determine otherwise provided president shall member board perform chairman board acting shall subject upon chairman board general shall perform incident office president time time may assigned board section vice vice president shall shall board time election may assigned time time board president absence disability president unless board executive committee shall otherwise determine executive vice president tenure office shall executive vice president senior vice president tenure office shall senior vice vice president tenure office shall president section treasurer board treasurer shall give bond faithful discharge sum surety board shall determine extent determined board shall funds valuable effects corporation receive give receipt due payable corporation whatsoever deposit credit corporation otherwise board president shall direct trust shall selected accordance section article cause funds authorized corporation provided section said article responsible accuracy cause proper giving information may desire respect financial corporation committee board whenever respectively shall request account financial condition corporation treasurer reasonable times cash president audit committee board corporation treasurer time time may assigned president board section assistant board assistant shall give bond faithful discharge surety board shall determine request treasurer case absence inability act assistant treasurer one assistant shall perform treasurer acting shall subject upon treasurer assistant shall perform time time may assigned treasurer president board section secretary secretary shall written board executive committee board one kept purpose law indicia title corporation corporate except custody treasurer seal corporation see seal authorized board facsimile thereof stock corporation prior issuance thereof execution behalf corporation seal duly authorized accordance except board shall otherwise direct power authority attest seal corporation transfer transfer agent transfer registrar provided section article issuance transfer \n",
            "loading data at parsed_1994/constant_length_data/\n",
            "Found 38998 documents\n",
            "0: tion resolution shall apply affected notwithstanding agreement apply extent one per occurrence accident limit shall carry full aggregate term policy policy documentary evidence explicitly another result intended insurance policy extended prior expiration date period multiple extension request producer period less shall carry pro rata extension request insurer period less shall carry full aggregate insurance policy initially written one year multiple period less also shall carry full aggregate insurance policy prior expiration date either producer insurer period less shall carry full aggregate except excess insurer insurance policy specifically make insurance concurrent underlying insurance producer agreed case period less shall carry pro rata section shall apply manner consistent application hereunder particular period within coverage block insurer signatory hereto producer shall use reasonable best necessary timely pursuit litigation obtain final reasonable settlement agreement final judicial determination concerning application insurance policy asbestos related respect thereto producer insurer extent practicable shall assist producer question hereinabove producer pursuant final settlement agreement final judicial determination received insurer question administer handle dispose asbestos related producer shall make pay due appendix would insurer question respect producer said insurer become signatory hereto producer shall make pay producer amount equal received insurer administer handle dispose asbestos related plus investment income less proration made directly producer asbestos related judicial determination settlement agreement would make pay particular claim agreement insurer question become signatory hereto producer received non signatory insurer pursuant hereinabove insurance policy coverage block covering part exposure period claim shall make pay subject applicable liability pro rata basis lieu non signatory insurance policy extent insurance policy would make agreement applicable insurance policy provided directly overlying excess insurance policy shall make pay lieu non signatory insurance policy insurance coverage block cover part exposure period claim thereafter upon final settlement final judicial determination hereinabove insurer hereunder shall option producer provided total reimbursement shall exceed received producer non signatory insurer administer handle dispose asbestos related plus investment income less made directly producer asbestos related judicial determination settlement agreement hereinabove producer question obtain final settlement agreement final judicial determination pursuant hereinabove within two date upon insurer first actually made liability actually pro rata basis lieu non signatory insurance policy pursuant paragraph hereinabove interest shall begin accrue conclusion two year period liability actually made actually insurer lieu non signatory insurance policy shall continue date producer final settlement agreement final judicial determination date insurer question would exhausted make pay agreement non signatory insurer question become signatory hereto interest shall payable quarterly basis date first accrual rate interest publicly new york new york time time base rate producer question final settlement agreement final judicial determination pursuant hereinabove producer shall insurer question interest exceed insurer reimbursement paragraph hereinabove agreement among administration defense payment disposition asbestos related antecedent contemporaneous extrinsic collateral concerning negotiation preparation agreement appendices hereto intended dispute agreement appendices hereto signatory shall introduce evidence seek compel testimony concerning oral written communication made prior june respect negotiation preparation agreement agreement appendix hereto may made mutual agreement writing appendices may made provided therein agreement appendices hereto provision thereof concerning within scope agreement shall determined accordance applicable common law united failure invalidation parti\n",
            "1: se within scope provided consultant computer made available consultant solely basis relationship company solely purpose agreement consultant without written authority company use print copy provide otherwise make available whole part portion computer reconstruct whole part object code source code computer copyright copyrightable subject matter related computer resulting provided consultant behalf company based company information hereby irrevocably assigned set sold transferred company password similar manual electronic telecommunication company mail computer data furnished consultant company otherwise disclosed made known consultant scope consultant considered confidential company shall remain sole exclusive property company shall disclosed person used manner whatsoever except purpose please take time read review material carefully feel free ask human representative clarification time condition employment applied magnetics corporation company booklet employee nothing booklet shall create contract employment specific term modify company policy right terminate employment without cause without notice time manager supervisor representative company president executive vice president authority enter agreement employee make representation contrary policy future reference material provided upon request following review completion questionnaire extent reasonably possible agreement shall inure benefit binding upon personal hereto agreement shall state following prepared assist nature extent outside interest may might involve actual potential interest applied magnetics corporation company conflict interest policy statement please read question carefully event doubt meaning question answer question best ability list doubt section spouse dependent presently person past two officer director employee consultant otherwise employed spouse dependent trust trustee substantial beneficial interest corporation entity substantial ownership interest owner directly indirectly position supplier customer competitor company excess outstanding class company total equity interest case partnership proprietorship exhibit via ca dear letter agreement applied magnetics corporation company regarding resignation officer company certain employment relationship company subject set forth herein consideration herein company agree agreement shall following retention agreement shall mean certain retention agreement company executive note shall meaning set forth retention agreement resignation date shall mean august leave period shall mean period resignation date ending employment period shall mean period ending termination date termination date shall mean may date may established pursuant section hereof either company date employment company plan shall mean company long term incentive plan severance claim shall mean claim section agreement full time employment shall mean providing personal employee officer director person corporation partnership form business commercial professional enterprise regular work schedule less thirty per week retention agreement hereby fully completely whatsoever company fully completely respective thereunder agreement consideration set forth herein effective resignation date resignation vice president chief financial officer treasurer company advised company employment resignation vice president chief financial officer treasurer accepted company hereof august relieved vice president chief financial officer treasurer connection management supervision financial management accounting fiscal previously management control direction august longer serving company principal financial officer federal leave period leave absence employment shall personal advice assistance transition former time employment employment affect continued status employee company company subparagraph provided otherwise materially company per week accordance company usual customary payroll leave employment company make available access voice mail limited secretarial support provide phone mail connection obtain employment elsewhere employment period provided full time e\n",
            "2: est basis evidence supporting financial audit also accounting used significant made management well overall financial statement presentation believe provide reasonable basis opinion opinion financial present fairly material financial position home corporation cash three period ended conformity generally accepted accounting consolidated financial effective company accounting income new york management report financial management prepared responsible company consolidated financial related prepared accordance generally accepted accounting necessarily include based made management financial information annual report consistent financial company internal accounting control related designed provide reasonable assurance assets executed accordance management authorization properly accounting may upon preparation financial financial information design revision internal accounting control involve among management judgment respect relative cost specific control company also internal function formally adequacy effectiveness internal accounting company financial independent expressed opinion respect fairness audit committee board non employee periodically external internal evaluate effectiveness work discharging respective assure independent free access committee quarterly financial data first quarter second quarter third quarter fourth quarter except first quarter second quarter third quarter fourth quarter market common stock new york stock exchange composite management discussion analysis financial condition following commentary read conjunction consolidated financial consolidated financial net billion net health care segment billion higher billion food million net health care food united billion increase net foreign billion billion net health care united billion net billion pharmaceutical due primarily unit volume growth pharmaceutical growth due primarily unit volume company voluntarily established policy limit weighted average prescription pharmaceutical price increase increase consumer price index company prescription pharmaceutical price increase company weighted average prescription pharmaceutical price increase increase consumer price index unit volume growth pharmaceutical segment led anti inflammatory veterinary product line genetics institute factor bulk product also volume growth pharmaceutical growth impacted competitive public private additional program continue market regardless outcome health care reform legislation pharmaceutical due principally unit volume female health care anti inflammatory product infant nutritional consumer health care united billion price partly offset unit volume unit volume growth cough cold allergy product line offset unit company analgesic particularly however unit volume grew united consumer health care unfavorably impacted continued growth private label new competitive consumer health care higher due principally unit volume growth analgesic cough cold allergy product medical diagnostic united due principally unit volume competitive hospital supply market many product acquisition symbiosis corp symbiosis late growth disposable needle syringe increase medical diagnostic result acquisition symbiosis intelligent medical see note unit cardiovascular foreign health care billion unit volume grew price offset unfavorable foreign exchange foreign health care billion due unit volume growth price favorable foreign exchange foreign pharmaceutical led unit volume gains female health care infant nutritional excluding effects exchange foreign pharmaceutical would company governmental price many significant international experienced price several continue particularly company able increase line inflation related currency several particularly brazil foreign gain management discussion analysis financial condition however governmental health care lesser extent competitive may constrain foreign led unit volume gains infant nutritional female health care foreign consumer health care million due primarily unit volume growth oral health care product line particularly inflation related price brazil foreign con\n",
            "3: nuclear plant meet new regulatory increasing labor equipment cost capital significant purchase outstanding connection construction program company new generating construction however construction combustion turbine peaking approximately addition significant construction continue related transmission distribution extension useful generating extent possible company construction program primarily internal short term debt necessary available company may issue additional long term debt preferred stock primarily debt higher cost continued power company annual report company primary external first mortgage preferred stock public receipt additional capital southern company leasing nuclear material order issue additional first mortgage preferred stock company must comply certain earnings coverage mortgage indenture corporate charter restrictive issuance additional first mortgage income tax earnings defined cover pro annual interest outstanding first mortgage least twice issuance additional preferred stock gross income available interest cover pro annual interest preferred stock least one one half times first mortgage preferred stock year ended respectively company mortgage first mortgage company direct lien substantially company fixed property continued power company annual report return equity whether capacity energy available company share million million million included power income contract substantially term thereof would extended automatically two year subject party right cancel upon two notice addition company unconditionally obligation installment sale agreement purchase certain pollution control generating pursuant million principal amount pollution control revenue outstanding power company agreed reimburse company pro rata portion obligation corresponding proportionate ownership stock company upon make payment guaranty capitalization million equity million long term debt annual interest requirement million million million million one half company net income million million million respectively june company sale portion plant miller electric company percentage ownership investment jointly generating total coal plant miller coal jointly affiliate power company jointly millions coal plant miller coal operating southern company company long term short term contractual sale capacity energy certain non outside system service area certain non firm based capacity system general firm pertain capacity related specific generating energy generally sold cost capacity primarily affect profitability company portion system capacity long term millions long term non firm power sold southern electric system power corporation amount contract expire year end unit power plant miller sold power light company electric authority city average capacity southern company settlement agreement gulf resolved litigation pending since arose dispute certain unit power long term power settlement agreement satisfied respect company portion proceeds received see note concerning regulatory treatment retail three year period august company firm power purchase contract capacity maximum period contract company second firm power purchase contract additional capacity maximum period contract power sold member previously directly company wholesale company received net present value associated respective capacity effective annual percent percent respectively operating interest expense capacity made available order secure advance company performance obligation company escrow agent first mortgage maximum amount damages payable company event default principal interest payable unless default company damages decline portion equal returned company million escrow agent continued power company annual report federal state income tax federal deferred deferred investment tax state deferred less income federal state income tax effects temporary carrying assets financial respective tax bases give rise deferred tax assets millions deferred tax deferred tax assets deferred income deferred investment tax life related property amortization normally applied credit reduce depreciatio\n",
            "4: fter ratably per share preferred voting except company pay equivalent six quarterly preferred voting class shall elect two additional preferred also voting related certain company incorporation preferred rank senior common stock outstanding series preferred preferred liquidation preference per share plus unpaid shareholder plan company adopted shareholder plan pursuant plan common stock received one preferred share purchase right common share plan effective triggered person defined company outstanding common threshold may reduced board less exercisable right would subject certain entitle person group purchase common stock company company market value twice exercise price right nonvoting may time concerning stock year ended year ended year ended company outstanding acquire company common stock exercise price acquire company common stock exercise price outstanding exercisable may however expire time may upon calendar days prior notice company common stock average per share public market price less least consecutive trading days prior expiration notice letterhead board mining company report consolidated financial mining company included form financial listed item form connection financial also related financial statement listed item form opinion financial statement considered relation basic financial taken whole present fairly material information included therein ended balance year ended year ended year ended change due reclassification depreciation depletion amortization property plant equipment mining company mining company wholly form second amendment credit agreement second amendment august made among mining company corporation behalf wholly colorado aggregate company new new corporation clay company corporation clay feldspar corporation north corporation feldspar clay feldspar herein collectively individually borrower signature hereto collectively individually bank limited new york branch new york state licensed branch limited authorized institution banking act agent capacity together capacity agent therefore consideration mutual herein good valuable consideration without limitation consideration credit agreement receipt sufficiency hereby acknowledged hereto agree used herein otherwise defined herein shall thereto credit agreement credit agreement amendment regarding date providing annual five year mining section credit agreement hereby date august date amendment regarding cash management fund section credit agreement hereby word immediately following subparagraph word immediately following subparagraph new subparagraph shall read amendment loan hereby agree loan shall extent necessary conform consistent herein effectiveness second amendment second amendment shall effective immediately upon due execution delivery hereof second amendment may executed one executed irrespective date execution delivery shall original together shall constitute one instrument governing law descriptive second amendment shall succession assignment second amendment shall inure benefit binding upon hereto hereunder may assigned accordance assignment credit agreement credit agreement except expressly provided second amendment loan hereby credit agreement loan shall remain full force effect hereby confirmed effectiveness credit agreement loan hereby reference credit agreement agreement hereunder hereof herein like import reference credit agreement note loan document agreement document instrument executed pursuant credit agreement shall reference credit agreement indebtedness second amendment shall provide effect repayment advance bank outstanding intention outstanding credit agreement second amendment outstanding credit agreement immediately prior effectiveness hereof witness whereof hereto second amendment executed duly authorized date first written title vice president branch agent lucy title vice president edge title senior vice president branch bank lucy title vice president edge title senior vice president joe title title vice president exhibit whereas certain agent credit agreement august credit agreement credit agreement pursuant party th\n",
            "5: credit buyer assuming shall responsibility obligation whatsoever liability obligation seller without limitation liability applicable federal state environmental protection liability connection collective agreement pension plan buyer assigned condition seller obligation effect assignment buyer shall pay cure real property equipment constitute assigned permit assumption assignment assigned pursuant section bankruptcy code cure together assumed buyer pursuant section section herein assumed buyer shall reduction purchase price seller assume obligation whatsoever cure default make payment due date hereof real property equipment constitute assigned inventory behalf seller outstanding outstanding date least five buyer shall buyer sole expense comply either following buyer shall cause seller returned seller collateral seller reimbursement respect seller returned seller causing new credit seller shall united bank acceptable buyer trust company acting principal united buyer bank prior issuance seller seller shall use seller accept new credit buyer shall provide connection endeavor seller may reasonably request buyer shall cause buyer bank issue credit favor seller seller equal payable seller cause buyer bank enter agreement seller providing indemnification letter credit seller respect seller pursuant seller agree seek reimbursement seller respect seller enter agreement seller providing indemnification seller buyer respect seller agreement clause credit form substance reasonably satisfactory seller satisfactory seller importer record inventory transit upon receipt quota applicable buyer shall assume seller assets buyer assignment sufficient assign buyer seller right title interest intangible property buyer seller right title interest stock foreign subsidiary buyer seller pursuant section assigned obligor licensee assignment buyer receivable license case may obligor licensee make payment buyer receivable obligor payable license case may buyer may reasonably request effect change name incorporation business business eliminate name name similar name name compliance notice set forth order buyer shall deliver cause addition agreement buyer seller following adjustment pursuant section deposit payable manner section duly executed assumption form substance reasonably satisfactory seller whereby buyer assume agree pay perform discharge assumed seller date agreement date buyer except representation warranty set forth section made best knowledge corporation duly organized validly good standing stock included within assets corporation duly organized place may good standing direct indirect active representation warranty made foreign assets except due organization title stock set forth section section date hereof date seller use reasonable cause foreign buyer seller pursuant section good standing provided seller shall incur substantial connection endeavor prior date seller shall maintain equipment good repair ordinary wear tear conduct business ordinary course consistent past practice subject effect bankruptcy petition seller pursuant foregoing seller shall without prior written consent promptly notify buyer execution confidentiality agreement party notify buyer conversation inquiry offer received potential provide buyer copy written communication sent received potential provide buyer copy information sent seller potential bidder provide buyer sale documentation substantially final form notify buyer execution definitive sale documentation bankruptcy code seller shall pay transfer transaction taxing authority without limitation state county municipality subdivision thereof connection consummation agreement extent seller assignable buyer seller shall take reasonably buyer otherwise endeavor provide buyer insurance policy understood seller connection shall borne buyer buyer buyer date agreement date seller good standing state incorporation full corporate power authority enter agreement perform hereunder buyer taken requisite corporate action order authorize execution delivery agreement consummation hereby agreement duly validly executed buyer legal\n",
            "6: ard may determine respective time time committee shall power authority reference certificate incorporation except committee may extent authorized resolution adopted board provided corporation law section providing issuance stock fix dissolution distribution assets corporation conversion exchange class classes series class classes stock corporation agreement merger consolidation sale lease exchange substantially corporation property assets dissolution corporation revocation dissolution corporation majority committee may fix procedure determine action fix time place whether within without state specify notice thereof shall given unless board shall resolution otherwise provide member committee shall continue member thereof long remains director pleasure majority whole board committee may filled majority whole board section election term office corporation shall following president one vice one may executive senior vice treasurer secretary board may also elect controller assistant vice assistant assistant may deem necessary shall authority perform may time time board corporation shall annually board first meeting thereof annual meeting election shall hold office shall duly shall qualify may filled majority whole board officer board shall subject removal either without cause time majority whole board section officer may resign time giving written notice resignation chairman board president secretary resignation shall take effect time therein time shall become effective shall therein immediately upon receipt unless otherwise therein acceptance resignation shall necessary make effective section president president shall chief executive officer corporation shall subject control board general active supervision business corporation several shall power appoint remove corporation subject control board shall see board carried effect time time shall report board within knowledge corporation may require brought notice request chairman board case absence inability act unless board executive committee shall otherwise determine otherwise provided president shall member board perform chairman board acting shall subject upon chairman board general shall perform incident office president time time may assigned board section vice vice president shall shall board time election may assigned time time board president absence disability president unless board executive committee shall otherwise determine executive vice president tenure office shall executive vice president senior vice president tenure office shall senior vice vice president tenure office shall president section treasurer board treasurer shall give bond faithful discharge sum surety board shall determine extent determined board shall funds valuable effects corporation receive give receipt due payable corporation whatsoever deposit credit corporation otherwise board president shall direct trust shall selected accordance section article cause funds authorized corporation provided section said article responsible accuracy cause proper giving information may desire respect financial corporation committee board whenever respectively shall request account financial condition corporation treasurer reasonable times cash president audit committee board corporation treasurer time time may assigned president board section assistant board assistant shall give bond faithful discharge surety board shall determine request treasurer case absence inability act assistant treasurer one assistant shall perform treasurer acting shall subject upon treasurer assistant shall perform time time may assigned treasurer president board section secretary secretary shall written board executive committee board one kept purpose law indicia title corporation corporate except custody treasurer seal corporation see seal authorized board facsimile thereof stock corporation prior issuance thereof execution behalf corporation seal duly authorized accordance except board shall otherwise direct power authority attest seal corporation transfer transfer agent transfer registrar provided section article issuance transfer \n",
            "Vocabulary size: 6597\n",
            "Adjusting learning rate of group 0 to 2.5000e-01.\n"
          ]
        },
        {
          "output_type": "stream",
          "name": "stderr",
          "text": [
            ""
          ]
        },
        {
          "output_type": "stream",
          "name": "stdout",
          "text": [
            "Epoch: 1/30, Train Loss=6.08484, Val Loss=0.00000\n",
            "Adjusting learning rate of group 0 to 2.4167e-01.\n"
          ]
        },
        {
          "output_type": "stream",
          "name": "stderr",
          "text": [
            ""
          ]
        },
        {
          "output_type": "stream",
          "name": "stdout",
          "text": [
            "Epoch: 2/30, Train Loss=6.06209, Val Loss=0.00000\n",
            "Adjusting learning rate of group 0 to 2.3333e-01.\n"
          ]
        },
        {
          "output_type": "stream",
          "name": "stderr",
          "text": [
            ""
          ]
        },
        {
          "output_type": "stream",
          "name": "stdout",
          "text": [
            "Epoch: 3/30, Train Loss=6.04168, Val Loss=0.00000\n",
            "Adjusting learning rate of group 0 to 2.2500e-01.\n"
          ]
        },
        {
          "output_type": "stream",
          "name": "stderr",
          "text": [
            ""
          ]
        },
        {
          "output_type": "stream",
          "name": "stdout",
          "text": [
            "Epoch: 4/30, Train Loss=6.01715, Val Loss=0.00000\n",
            "Adjusting learning rate of group 0 to 2.1667e-01.\n"
          ]
        },
        {
          "output_type": "stream",
          "name": "stderr",
          "text": [
            ""
          ]
        },
        {
          "output_type": "stream",
          "name": "stdout",
          "text": [
            "Epoch: 5/30, Train Loss=5.99892, Val Loss=0.00000\n",
            "Adjusting learning rate of group 0 to 2.0833e-01.\n"
          ]
        },
        {
          "output_type": "stream",
          "name": "stderr",
          "text": [
            ""
          ]
        },
        {
          "output_type": "stream",
          "name": "stdout",
          "text": [
            "Epoch: 6/30, Train Loss=5.97683, Val Loss=0.00000\n",
            "Adjusting learning rate of group 0 to 2.0000e-01.\n"
          ]
        },
        {
          "output_type": "stream",
          "name": "stderr",
          "text": [
            ""
          ]
        },
        {
          "output_type": "stream",
          "name": "stdout",
          "text": [
            "Epoch: 7/30, Train Loss=5.95675, Val Loss=0.00000\n",
            "Adjusting learning rate of group 0 to 1.9167e-01.\n"
          ]
        },
        {
          "output_type": "stream",
          "name": "stderr",
          "text": [
            ""
          ]
        },
        {
          "output_type": "stream",
          "name": "stdout",
          "text": [
            "Epoch: 8/30, Train Loss=5.93628, Val Loss=0.00000\n",
            "Adjusting learning rate of group 0 to 1.8333e-01.\n"
          ]
        },
        {
          "output_type": "stream",
          "name": "stderr",
          "text": [
            ""
          ]
        },
        {
          "output_type": "stream",
          "name": "stdout",
          "text": [
            "Epoch: 9/30, Train Loss=5.91603, Val Loss=0.00000\n",
            "Adjusting learning rate of group 0 to 1.7500e-01.\n"
          ]
        },
        {
          "output_type": "stream",
          "name": "stderr",
          "text": [
            ""
          ]
        },
        {
          "output_type": "stream",
          "name": "stdout",
          "text": [
            "Epoch: 10/30, Train Loss=5.89522, Val Loss=0.00000\n",
            "Adjusting learning rate of group 0 to 1.6667e-01.\n"
          ]
        },
        {
          "output_type": "stream",
          "name": "stderr",
          "text": [
            ""
          ]
        },
        {
          "output_type": "stream",
          "name": "stdout",
          "text": [
            "Epoch: 11/30, Train Loss=5.87598, Val Loss=0.00000\n",
            "Adjusting learning rate of group 0 to 1.5833e-01.\n"
          ]
        },
        {
          "output_type": "stream",
          "name": "stderr",
          "text": [
            ""
          ]
        },
        {
          "output_type": "stream",
          "name": "stdout",
          "text": [
            "Epoch: 12/30, Train Loss=5.85281, Val Loss=0.00000\n",
            "Adjusting learning rate of group 0 to 1.5000e-01.\n"
          ]
        },
        {
          "output_type": "stream",
          "name": "stderr",
          "text": [
            ""
          ]
        },
        {
          "output_type": "stream",
          "name": "stdout",
          "text": [
            "Epoch: 13/30, Train Loss=5.83276, Val Loss=0.00000\n",
            "Adjusting learning rate of group 0 to 1.4167e-01.\n"
          ]
        },
        {
          "output_type": "stream",
          "name": "stderr",
          "text": [
            ""
          ]
        },
        {
          "output_type": "stream",
          "name": "stdout",
          "text": [
            "Epoch: 14/30, Train Loss=5.81134, Val Loss=0.00000\n",
            "Adjusting learning rate of group 0 to 1.3333e-01.\n"
          ]
        },
        {
          "output_type": "stream",
          "name": "stderr",
          "text": [
            ""
          ]
        },
        {
          "output_type": "stream",
          "name": "stdout",
          "text": [
            "Epoch: 15/30, Train Loss=5.78963, Val Loss=0.00000\n",
            "Adjusting learning rate of group 0 to 1.2500e-01.\n"
          ]
        },
        {
          "output_type": "stream",
          "name": "stderr",
          "text": [
            ""
          ]
        },
        {
          "output_type": "stream",
          "name": "stdout",
          "text": [
            "Epoch: 16/30, Train Loss=5.76676, Val Loss=0.00000\n",
            "Adjusting learning rate of group 0 to 1.1667e-01.\n"
          ]
        },
        {
          "output_type": "stream",
          "name": "stderr",
          "text": [
            ""
          ]
        },
        {
          "output_type": "stream",
          "name": "stdout",
          "text": [
            "Epoch: 17/30, Train Loss=5.74432, Val Loss=0.00000\n",
            "Adjusting learning rate of group 0 to 1.0833e-01.\n"
          ]
        },
        {
          "output_type": "stream",
          "name": "stderr",
          "text": [
            ""
          ]
        },
        {
          "output_type": "stream",
          "name": "stdout",
          "text": [
            "Epoch: 18/30, Train Loss=5.72228, Val Loss=0.00000\n",
            "Adjusting learning rate of group 0 to 1.0000e-01.\n"
          ]
        },
        {
          "output_type": "stream",
          "name": "stderr",
          "text": [
            ""
          ]
        },
        {
          "output_type": "stream",
          "name": "stdout",
          "text": [
            "Epoch: 19/30, Train Loss=5.69655, Val Loss=0.00000\n",
            "Adjusting learning rate of group 0 to 9.1667e-02.\n"
          ]
        },
        {
          "output_type": "stream",
          "name": "stderr",
          "text": [
            ""
          ]
        },
        {
          "output_type": "stream",
          "name": "stdout",
          "text": [
            "Epoch: 20/30, Train Loss=5.67097, Val Loss=0.00000\n",
            "Adjusting learning rate of group 0 to 8.3333e-02.\n"
          ]
        },
        {
          "output_type": "stream",
          "name": "stderr",
          "text": [
            ""
          ]
        },
        {
          "output_type": "stream",
          "name": "stdout",
          "text": [
            "Epoch: 21/30, Train Loss=5.64326, Val Loss=0.00000\n",
            "Adjusting learning rate of group 0 to 7.5000e-02.\n"
          ]
        },
        {
          "output_type": "stream",
          "name": "stderr",
          "text": [
            ""
          ]
        },
        {
          "output_type": "stream",
          "name": "stdout",
          "text": [
            "Epoch: 22/30, Train Loss=5.61466, Val Loss=0.00000\n",
            "Adjusting learning rate of group 0 to 6.6667e-02.\n"
          ]
        },
        {
          "output_type": "stream",
          "name": "stderr",
          "text": [
            ""
          ]
        },
        {
          "output_type": "stream",
          "name": "stdout",
          "text": [
            "Epoch: 23/30, Train Loss=5.58513, Val Loss=0.00000\n",
            "Adjusting learning rate of group 0 to 5.8333e-02.\n"
          ]
        },
        {
          "output_type": "stream",
          "name": "stderr",
          "text": [
            ""
          ]
        },
        {
          "output_type": "stream",
          "name": "stdout",
          "text": [
            "Epoch: 24/30, Train Loss=5.55092, Val Loss=0.00000\n",
            "Adjusting learning rate of group 0 to 5.0000e-02.\n"
          ]
        },
        {
          "output_type": "stream",
          "name": "stderr",
          "text": [
            ""
          ]
        },
        {
          "output_type": "stream",
          "name": "stdout",
          "text": [
            "Epoch: 25/30, Train Loss=5.51345, Val Loss=0.00000\n",
            "Adjusting learning rate of group 0 to 4.1667e-02.\n"
          ]
        },
        {
          "output_type": "stream",
          "name": "stderr",
          "text": [
            ""
          ]
        },
        {
          "output_type": "stream",
          "name": "stdout",
          "text": [
            "Epoch: 26/30, Train Loss=5.46898, Val Loss=0.00000\n",
            "Adjusting learning rate of group 0 to 3.3333e-02.\n"
          ]
        },
        {
          "output_type": "stream",
          "name": "stderr",
          "text": [
            ""
          ]
        },
        {
          "output_type": "stream",
          "name": "stdout",
          "text": [
            "Epoch: 27/30, Train Loss=5.41666, Val Loss=0.00000\n",
            "Adjusting learning rate of group 0 to 2.5000e-02.\n"
          ]
        },
        {
          "output_type": "stream",
          "name": "stderr",
          "text": [
            ""
          ]
        },
        {
          "output_type": "stream",
          "name": "stdout",
          "text": [
            "Epoch: 28/30, Train Loss=5.34786, Val Loss=0.00000\n",
            "Adjusting learning rate of group 0 to 1.6667e-02.\n"
          ]
        },
        {
          "output_type": "stream",
          "name": "stderr",
          "text": [
            ""
          ]
        },
        {
          "output_type": "stream",
          "name": "stdout",
          "text": [
            "Epoch: 29/30, Train Loss=5.24658, Val Loss=0.00000\n",
            "Adjusting learning rate of group 0 to 8.3333e-03.\n"
          ]
        },
        {
          "output_type": "stream",
          "name": "stderr",
          "text": [
            ""
          ]
        },
        {
          "output_type": "stream",
          "name": "stdout",
          "text": [
            "Epoch: 30/30, Train Loss=5.07408, Val Loss=0.00000\n",
            "Adjusting learning rate of group 0 to 0.0000e+00.\n",
            "Training finished.\n",
            "Model artifacts saved to folder: /content/drive/MyDrive/DL785/Project/word2vec/cbow_300\n",
            "loading data at parsed_1994/constant_length_data/\n",
            "Found 38998 documents\n",
            "0: tion resolution shall apply affected notwithstanding agreement apply extent one per occurrence accident limit shall carry full aggregate term policy policy documentary evidence explicitly another result intended insurance policy extended prior expiration date period multiple extension request producer period less shall carry pro rata extension request insurer period less shall carry full aggregate insurance policy initially written one year multiple period less also shall carry full aggregate insurance policy prior expiration date either producer insurer period less shall carry full aggregate except excess insurer insurance policy specifically make insurance concurrent underlying insurance producer agreed case period less shall carry pro rata section shall apply manner consistent application hereunder particular period within coverage block insurer signatory hereto producer shall use reasonable best necessary timely pursuit litigation obtain final reasonable settlement agreement final judicial determination concerning application insurance policy asbestos related respect thereto producer insurer extent practicable shall assist producer question hereinabove producer pursuant final settlement agreement final judicial determination received insurer question administer handle dispose asbestos related producer shall make pay due appendix would insurer question respect producer said insurer become signatory hereto producer shall make pay producer amount equal received insurer administer handle dispose asbestos related plus investment income less proration made directly producer asbestos related judicial determination settlement agreement would make pay particular claim agreement insurer question become signatory hereto producer received non signatory insurer pursuant hereinabove insurance policy coverage block covering part exposure period claim shall make pay subject applicable liability pro rata basis lieu non signatory insurance policy extent insurance policy would make agreement applicable insurance policy provided directly overlying excess insurance policy shall make pay lieu non signatory insurance policy insurance coverage block cover part exposure period claim thereafter upon final settlement final judicial determination hereinabove insurer hereunder shall option producer provided total reimbursement shall exceed received producer non signatory insurer administer handle dispose asbestos related plus investment income less made directly producer asbestos related judicial determination settlement agreement hereinabove producer question obtain final settlement agreement final judicial determination pursuant hereinabove within two date upon insurer first actually made liability actually pro rata basis lieu non signatory insurance policy pursuant paragraph hereinabove interest shall begin accrue conclusion two year period liability actually made actually insurer lieu non signatory insurance policy shall continue date producer final settlement agreement final judicial determination date insurer question would exhausted make pay agreement non signatory insurer question become signatory hereto interest shall payable quarterly basis date first accrual rate interest publicly new york new york time time base rate producer question final settlement agreement final judicial determination pursuant hereinabove producer shall insurer question interest exceed insurer reimbursement paragraph hereinabove agreement among administration defense payment disposition asbestos related antecedent contemporaneous extrinsic collateral concerning negotiation preparation agreement appendices hereto intended dispute agreement appendices hereto signatory shall introduce evidence seek compel testimony concerning oral written communication made prior june respect negotiation preparation agreement agreement appendix hereto may made mutual agreement writing appendices may made provided therein agreement appendices hereto provision thereof concerning within scope agreement shall determined accordance applicable common law united failure invalidation parti\n",
            "1: se within scope provided consultant computer made available consultant solely basis relationship company solely purpose agreement consultant without written authority company use print copy provide otherwise make available whole part portion computer reconstruct whole part object code source code computer copyright copyrightable subject matter related computer resulting provided consultant behalf company based company information hereby irrevocably assigned set sold transferred company password similar manual electronic telecommunication company mail computer data furnished consultant company otherwise disclosed made known consultant scope consultant considered confidential company shall remain sole exclusive property company shall disclosed person used manner whatsoever except purpose please take time read review material carefully feel free ask human representative clarification time condition employment applied magnetics corporation company booklet employee nothing booklet shall create contract employment specific term modify company policy right terminate employment without cause without notice time manager supervisor representative company president executive vice president authority enter agreement employee make representation contrary policy future reference material provided upon request following review completion questionnaire extent reasonably possible agreement shall inure benefit binding upon personal hereto agreement shall state following prepared assist nature extent outside interest may might involve actual potential interest applied magnetics corporation company conflict interest policy statement please read question carefully event doubt meaning question answer question best ability list doubt section spouse dependent presently person past two officer director employee consultant otherwise employed spouse dependent trust trustee substantial beneficial interest corporation entity substantial ownership interest owner directly indirectly position supplier customer competitor company excess outstanding class company total equity interest case partnership proprietorship exhibit via ca dear letter agreement applied magnetics corporation company regarding resignation officer company certain employment relationship company subject set forth herein consideration herein company agree agreement shall following retention agreement shall mean certain retention agreement company executive note shall meaning set forth retention agreement resignation date shall mean august leave period shall mean period resignation date ending employment period shall mean period ending termination date termination date shall mean may date may established pursuant section hereof either company date employment company plan shall mean company long term incentive plan severance claim shall mean claim section agreement full time employment shall mean providing personal employee officer director person corporation partnership form business commercial professional enterprise regular work schedule less thirty per week retention agreement hereby fully completely whatsoever company fully completely respective thereunder agreement consideration set forth herein effective resignation date resignation vice president chief financial officer treasurer company advised company employment resignation vice president chief financial officer treasurer accepted company hereof august relieved vice president chief financial officer treasurer connection management supervision financial management accounting fiscal previously management control direction august longer serving company principal financial officer federal leave period leave absence employment shall personal advice assistance transition former time employment employment affect continued status employee company company subparagraph provided otherwise materially company per week accordance company usual customary payroll leave employment company make available access voice mail limited secretarial support provide phone mail connection obtain employment elsewhere employment period provided full time e\n",
            "2: est basis evidence supporting financial audit also accounting used significant made management well overall financial statement presentation believe provide reasonable basis opinion opinion financial present fairly material financial position home corporation cash three period ended conformity generally accepted accounting consolidated financial effective company accounting income new york management report financial management prepared responsible company consolidated financial related prepared accordance generally accepted accounting necessarily include based made management financial information annual report consistent financial company internal accounting control related designed provide reasonable assurance assets executed accordance management authorization properly accounting may upon preparation financial financial information design revision internal accounting control involve among management judgment respect relative cost specific control company also internal function formally adequacy effectiveness internal accounting company financial independent expressed opinion respect fairness audit committee board non employee periodically external internal evaluate effectiveness work discharging respective assure independent free access committee quarterly financial data first quarter second quarter third quarter fourth quarter except first quarter second quarter third quarter fourth quarter market common stock new york stock exchange composite management discussion analysis financial condition following commentary read conjunction consolidated financial consolidated financial net billion net health care segment billion higher billion food million net health care food united billion increase net foreign billion billion net health care united billion net billion pharmaceutical due primarily unit volume growth pharmaceutical growth due primarily unit volume company voluntarily established policy limit weighted average prescription pharmaceutical price increase increase consumer price index company prescription pharmaceutical price increase company weighted average prescription pharmaceutical price increase increase consumer price index unit volume growth pharmaceutical segment led anti inflammatory veterinary product line genetics institute factor bulk product also volume growth pharmaceutical growth impacted competitive public private additional program continue market regardless outcome health care reform legislation pharmaceutical due principally unit volume female health care anti inflammatory product infant nutritional consumer health care united billion price partly offset unit volume unit volume growth cough cold allergy product line offset unit company analgesic particularly however unit volume grew united consumer health care unfavorably impacted continued growth private label new competitive consumer health care higher due principally unit volume growth analgesic cough cold allergy product medical diagnostic united due principally unit volume competitive hospital supply market many product acquisition symbiosis corp symbiosis late growth disposable needle syringe increase medical diagnostic result acquisition symbiosis intelligent medical see note unit cardiovascular foreign health care billion unit volume grew price offset unfavorable foreign exchange foreign health care billion due unit volume growth price favorable foreign exchange foreign pharmaceutical led unit volume gains female health care infant nutritional excluding effects exchange foreign pharmaceutical would company governmental price many significant international experienced price several continue particularly company able increase line inflation related currency several particularly brazil foreign gain management discussion analysis financial condition however governmental health care lesser extent competitive may constrain foreign led unit volume gains infant nutritional female health care foreign consumer health care million due primarily unit volume growth oral health care product line particularly inflation related price brazil foreign con\n",
            "3: nuclear plant meet new regulatory increasing labor equipment cost capital significant purchase outstanding connection construction program company new generating construction however construction combustion turbine peaking approximately addition significant construction continue related transmission distribution extension useful generating extent possible company construction program primarily internal short term debt necessary available company may issue additional long term debt preferred stock primarily debt higher cost continued power company annual report company primary external first mortgage preferred stock public receipt additional capital southern company leasing nuclear material order issue additional first mortgage preferred stock company must comply certain earnings coverage mortgage indenture corporate charter restrictive issuance additional first mortgage income tax earnings defined cover pro annual interest outstanding first mortgage least twice issuance additional preferred stock gross income available interest cover pro annual interest preferred stock least one one half times first mortgage preferred stock year ended respectively company mortgage first mortgage company direct lien substantially company fixed property continued power company annual report return equity whether capacity energy available company share million million million included power income contract substantially term thereof would extended automatically two year subject party right cancel upon two notice addition company unconditionally obligation installment sale agreement purchase certain pollution control generating pursuant million principal amount pollution control revenue outstanding power company agreed reimburse company pro rata portion obligation corresponding proportionate ownership stock company upon make payment guaranty capitalization million equity million long term debt annual interest requirement million million million million one half company net income million million million respectively june company sale portion plant miller electric company percentage ownership investment jointly generating total coal plant miller coal jointly affiliate power company jointly millions coal plant miller coal operating southern company company long term short term contractual sale capacity energy certain non outside system service area certain non firm based capacity system general firm pertain capacity related specific generating energy generally sold cost capacity primarily affect profitability company portion system capacity long term millions long term non firm power sold southern electric system power corporation amount contract expire year end unit power plant miller sold power light company electric authority city average capacity southern company settlement agreement gulf resolved litigation pending since arose dispute certain unit power long term power settlement agreement satisfied respect company portion proceeds received see note concerning regulatory treatment retail three year period august company firm power purchase contract capacity maximum period contract company second firm power purchase contract additional capacity maximum period contract power sold member previously directly company wholesale company received net present value associated respective capacity effective annual percent percent respectively operating interest expense capacity made available order secure advance company performance obligation company escrow agent first mortgage maximum amount damages payable company event default principal interest payable unless default company damages decline portion equal returned company million escrow agent continued power company annual report federal state income tax federal deferred deferred investment tax state deferred less income federal state income tax effects temporary carrying assets financial respective tax bases give rise deferred tax assets millions deferred tax deferred tax assets deferred income deferred investment tax life related property amortization normally applied credit reduce depreciatio\n",
            "4: fter ratably per share preferred voting except company pay equivalent six quarterly preferred voting class shall elect two additional preferred also voting related certain company incorporation preferred rank senior common stock outstanding series preferred preferred liquidation preference per share plus unpaid shareholder plan company adopted shareholder plan pursuant plan common stock received one preferred share purchase right common share plan effective triggered person defined company outstanding common threshold may reduced board less exercisable right would subject certain entitle person group purchase common stock company company market value twice exercise price right nonvoting may time concerning stock year ended year ended year ended company outstanding acquire company common stock exercise price acquire company common stock exercise price outstanding exercisable may however expire time may upon calendar days prior notice company common stock average per share public market price less least consecutive trading days prior expiration notice letterhead board mining company report consolidated financial mining company included form financial listed item form connection financial also related financial statement listed item form opinion financial statement considered relation basic financial taken whole present fairly material information included therein ended balance year ended year ended year ended change due reclassification depreciation depletion amortization property plant equipment mining company mining company wholly form second amendment credit agreement second amendment august made among mining company corporation behalf wholly colorado aggregate company new new corporation clay company corporation clay feldspar corporation north corporation feldspar clay feldspar herein collectively individually borrower signature hereto collectively individually bank limited new york branch new york state licensed branch limited authorized institution banking act agent capacity together capacity agent therefore consideration mutual herein good valuable consideration without limitation consideration credit agreement receipt sufficiency hereby acknowledged hereto agree used herein otherwise defined herein shall thereto credit agreement credit agreement amendment regarding date providing annual five year mining section credit agreement hereby date august date amendment regarding cash management fund section credit agreement hereby word immediately following subparagraph word immediately following subparagraph new subparagraph shall read amendment loan hereby agree loan shall extent necessary conform consistent herein effectiveness second amendment second amendment shall effective immediately upon due execution delivery hereof second amendment may executed one executed irrespective date execution delivery shall original together shall constitute one instrument governing law descriptive second amendment shall succession assignment second amendment shall inure benefit binding upon hereto hereunder may assigned accordance assignment credit agreement credit agreement except expressly provided second amendment loan hereby credit agreement loan shall remain full force effect hereby confirmed effectiveness credit agreement loan hereby reference credit agreement agreement hereunder hereof herein like import reference credit agreement note loan document agreement document instrument executed pursuant credit agreement shall reference credit agreement indebtedness second amendment shall provide effect repayment advance bank outstanding intention outstanding credit agreement second amendment outstanding credit agreement immediately prior effectiveness hereof witness whereof hereto second amendment executed duly authorized date first written title vice president branch agent lucy title vice president edge title senior vice president branch bank lucy title vice president edge title senior vice president joe title title vice president exhibit whereas certain agent credit agreement august credit agreement credit agreement pursuant party th\n",
            "5: credit buyer assuming shall responsibility obligation whatsoever liability obligation seller without limitation liability applicable federal state environmental protection liability connection collective agreement pension plan buyer assigned condition seller obligation effect assignment buyer shall pay cure real property equipment constitute assigned permit assumption assignment assigned pursuant section bankruptcy code cure together assumed buyer pursuant section section herein assumed buyer shall reduction purchase price seller assume obligation whatsoever cure default make payment due date hereof real property equipment constitute assigned inventory behalf seller outstanding outstanding date least five buyer shall buyer sole expense comply either following buyer shall cause seller returned seller collateral seller reimbursement respect seller returned seller causing new credit seller shall united bank acceptable buyer trust company acting principal united buyer bank prior issuance seller seller shall use seller accept new credit buyer shall provide connection endeavor seller may reasonably request buyer shall cause buyer bank issue credit favor seller seller equal payable seller cause buyer bank enter agreement seller providing indemnification letter credit seller respect seller pursuant seller agree seek reimbursement seller respect seller enter agreement seller providing indemnification seller buyer respect seller agreement clause credit form substance reasonably satisfactory seller satisfactory seller importer record inventory transit upon receipt quota applicable buyer shall assume seller assets buyer assignment sufficient assign buyer seller right title interest intangible property buyer seller right title interest stock foreign subsidiary buyer seller pursuant section assigned obligor licensee assignment buyer receivable license case may obligor licensee make payment buyer receivable obligor payable license case may buyer may reasonably request effect change name incorporation business business eliminate name name similar name name compliance notice set forth order buyer shall deliver cause addition agreement buyer seller following adjustment pursuant section deposit payable manner section duly executed assumption form substance reasonably satisfactory seller whereby buyer assume agree pay perform discharge assumed seller date agreement date buyer except representation warranty set forth section made best knowledge corporation duly organized validly good standing stock included within assets corporation duly organized place may good standing direct indirect active representation warranty made foreign assets except due organization title stock set forth section section date hereof date seller use reasonable cause foreign buyer seller pursuant section good standing provided seller shall incur substantial connection endeavor prior date seller shall maintain equipment good repair ordinary wear tear conduct business ordinary course consistent past practice subject effect bankruptcy petition seller pursuant foregoing seller shall without prior written consent promptly notify buyer execution confidentiality agreement party notify buyer conversation inquiry offer received potential provide buyer copy written communication sent received potential provide buyer copy information sent seller potential bidder provide buyer sale documentation substantially final form notify buyer execution definitive sale documentation bankruptcy code seller shall pay transfer transaction taxing authority without limitation state county municipality subdivision thereof connection consummation agreement extent seller assignable buyer seller shall take reasonably buyer otherwise endeavor provide buyer insurance policy understood seller connection shall borne buyer buyer buyer date agreement date seller good standing state incorporation full corporate power authority enter agreement perform hereunder buyer taken requisite corporate action order authorize execution delivery agreement consummation hereby agreement duly validly executed buyer legal\n",
            "6: ard may determine respective time time committee shall power authority reference certificate incorporation except committee may extent authorized resolution adopted board provided corporation law section providing issuance stock fix dissolution distribution assets corporation conversion exchange class classes series class classes stock corporation agreement merger consolidation sale lease exchange substantially corporation property assets dissolution corporation revocation dissolution corporation majority committee may fix procedure determine action fix time place whether within without state specify notice thereof shall given unless board shall resolution otherwise provide member committee shall continue member thereof long remains director pleasure majority whole board committee may filled majority whole board section election term office corporation shall following president one vice one may executive senior vice treasurer secretary board may also elect controller assistant vice assistant assistant may deem necessary shall authority perform may time time board corporation shall annually board first meeting thereof annual meeting election shall hold office shall duly shall qualify may filled majority whole board officer board shall subject removal either without cause time majority whole board section officer may resign time giving written notice resignation chairman board president secretary resignation shall take effect time therein time shall become effective shall therein immediately upon receipt unless otherwise therein acceptance resignation shall necessary make effective section president president shall chief executive officer corporation shall subject control board general active supervision business corporation several shall power appoint remove corporation subject control board shall see board carried effect time time shall report board within knowledge corporation may require brought notice request chairman board case absence inability act unless board executive committee shall otherwise determine otherwise provided president shall member board perform chairman board acting shall subject upon chairman board general shall perform incident office president time time may assigned board section vice vice president shall shall board time election may assigned time time board president absence disability president unless board executive committee shall otherwise determine executive vice president tenure office shall executive vice president senior vice president tenure office shall senior vice vice president tenure office shall president section treasurer board treasurer shall give bond faithful discharge sum surety board shall determine extent determined board shall funds valuable effects corporation receive give receipt due payable corporation whatsoever deposit credit corporation otherwise board president shall direct trust shall selected accordance section article cause funds authorized corporation provided section said article responsible accuracy cause proper giving information may desire respect financial corporation committee board whenever respectively shall request account financial condition corporation treasurer reasonable times cash president audit committee board corporation treasurer time time may assigned president board section assistant board assistant shall give bond faithful discharge surety board shall determine request treasurer case absence inability act assistant treasurer one assistant shall perform treasurer acting shall subject upon treasurer assistant shall perform time time may assigned treasurer president board section secretary secretary shall written board executive committee board one kept purpose law indicia title corporation corporate except custody treasurer seal corporation see seal authorized board facsimile thereof stock corporation prior issuance thereof execution behalf corporation seal duly authorized accordance except board shall otherwise direct power authority attest seal corporation transfer transfer agent transfer registrar provided section article issuance transfer \n",
            "loading data at parsed_1994/constant_length_data/\n",
            "Found 38998 documents\n",
            "0: tion resolution shall apply affected notwithstanding agreement apply extent one per occurrence accident limit shall carry full aggregate term policy policy documentary evidence explicitly another result intended insurance policy extended prior expiration date period multiple extension request producer period less shall carry pro rata extension request insurer period less shall carry full aggregate insurance policy initially written one year multiple period less also shall carry full aggregate insurance policy prior expiration date either producer insurer period less shall carry full aggregate except excess insurer insurance policy specifically make insurance concurrent underlying insurance producer agreed case period less shall carry pro rata section shall apply manner consistent application hereunder particular period within coverage block insurer signatory hereto producer shall use reasonable best necessary timely pursuit litigation obtain final reasonable settlement agreement final judicial determination concerning application insurance policy asbestos related respect thereto producer insurer extent practicable shall assist producer question hereinabove producer pursuant final settlement agreement final judicial determination received insurer question administer handle dispose asbestos related producer shall make pay due appendix would insurer question respect producer said insurer become signatory hereto producer shall make pay producer amount equal received insurer administer handle dispose asbestos related plus investment income less proration made directly producer asbestos related judicial determination settlement agreement would make pay particular claim agreement insurer question become signatory hereto producer received non signatory insurer pursuant hereinabove insurance policy coverage block covering part exposure period claim shall make pay subject applicable liability pro rata basis lieu non signatory insurance policy extent insurance policy would make agreement applicable insurance policy provided directly overlying excess insurance policy shall make pay lieu non signatory insurance policy insurance coverage block cover part exposure period claim thereafter upon final settlement final judicial determination hereinabove insurer hereunder shall option producer provided total reimbursement shall exceed received producer non signatory insurer administer handle dispose asbestos related plus investment income less made directly producer asbestos related judicial determination settlement agreement hereinabove producer question obtain final settlement agreement final judicial determination pursuant hereinabove within two date upon insurer first actually made liability actually pro rata basis lieu non signatory insurance policy pursuant paragraph hereinabove interest shall begin accrue conclusion two year period liability actually made actually insurer lieu non signatory insurance policy shall continue date producer final settlement agreement final judicial determination date insurer question would exhausted make pay agreement non signatory insurer question become signatory hereto interest shall payable quarterly basis date first accrual rate interest publicly new york new york time time base rate producer question final settlement agreement final judicial determination pursuant hereinabove producer shall insurer question interest exceed insurer reimbursement paragraph hereinabove agreement among administration defense payment disposition asbestos related antecedent contemporaneous extrinsic collateral concerning negotiation preparation agreement appendices hereto intended dispute agreement appendices hereto signatory shall introduce evidence seek compel testimony concerning oral written communication made prior june respect negotiation preparation agreement agreement appendix hereto may made mutual agreement writing appendices may made provided therein agreement appendices hereto provision thereof concerning within scope agreement shall determined accordance applicable common law united failure invalidation parti\n",
            "1: se within scope provided consultant computer made available consultant solely basis relationship company solely purpose agreement consultant without written authority company use print copy provide otherwise make available whole part portion computer reconstruct whole part object code source code computer copyright copyrightable subject matter related computer resulting provided consultant behalf company based company information hereby irrevocably assigned set sold transferred company password similar manual electronic telecommunication company mail computer data furnished consultant company otherwise disclosed made known consultant scope consultant considered confidential company shall remain sole exclusive property company shall disclosed person used manner whatsoever except purpose please take time read review material carefully feel free ask human representative clarification time condition employment applied magnetics corporation company booklet employee nothing booklet shall create contract employment specific term modify company policy right terminate employment without cause without notice time manager supervisor representative company president executive vice president authority enter agreement employee make representation contrary policy future reference material provided upon request following review completion questionnaire extent reasonably possible agreement shall inure benefit binding upon personal hereto agreement shall state following prepared assist nature extent outside interest may might involve actual potential interest applied magnetics corporation company conflict interest policy statement please read question carefully event doubt meaning question answer question best ability list doubt section spouse dependent presently person past two officer director employee consultant otherwise employed spouse dependent trust trustee substantial beneficial interest corporation entity substantial ownership interest owner directly indirectly position supplier customer competitor company excess outstanding class company total equity interest case partnership proprietorship exhibit via ca dear letter agreement applied magnetics corporation company regarding resignation officer company certain employment relationship company subject set forth herein consideration herein company agree agreement shall following retention agreement shall mean certain retention agreement company executive note shall meaning set forth retention agreement resignation date shall mean august leave period shall mean period resignation date ending employment period shall mean period ending termination date termination date shall mean may date may established pursuant section hereof either company date employment company plan shall mean company long term incentive plan severance claim shall mean claim section agreement full time employment shall mean providing personal employee officer director person corporation partnership form business commercial professional enterprise regular work schedule less thirty per week retention agreement hereby fully completely whatsoever company fully completely respective thereunder agreement consideration set forth herein effective resignation date resignation vice president chief financial officer treasurer company advised company employment resignation vice president chief financial officer treasurer accepted company hereof august relieved vice president chief financial officer treasurer connection management supervision financial management accounting fiscal previously management control direction august longer serving company principal financial officer federal leave period leave absence employment shall personal advice assistance transition former time employment employment affect continued status employee company company subparagraph provided otherwise materially company per week accordance company usual customary payroll leave employment company make available access voice mail limited secretarial support provide phone mail connection obtain employment elsewhere employment period provided full time e\n",
            "2: est basis evidence supporting financial audit also accounting used significant made management well overall financial statement presentation believe provide reasonable basis opinion opinion financial present fairly material financial position home corporation cash three period ended conformity generally accepted accounting consolidated financial effective company accounting income new york management report financial management prepared responsible company consolidated financial related prepared accordance generally accepted accounting necessarily include based made management financial information annual report consistent financial company internal accounting control related designed provide reasonable assurance assets executed accordance management authorization properly accounting may upon preparation financial financial information design revision internal accounting control involve among management judgment respect relative cost specific control company also internal function formally adequacy effectiveness internal accounting company financial independent expressed opinion respect fairness audit committee board non employee periodically external internal evaluate effectiveness work discharging respective assure independent free access committee quarterly financial data first quarter second quarter third quarter fourth quarter except first quarter second quarter third quarter fourth quarter market common stock new york stock exchange composite management discussion analysis financial condition following commentary read conjunction consolidated financial consolidated financial net billion net health care segment billion higher billion food million net health care food united billion increase net foreign billion billion net health care united billion net billion pharmaceutical due primarily unit volume growth pharmaceutical growth due primarily unit volume company voluntarily established policy limit weighted average prescription pharmaceutical price increase increase consumer price index company prescription pharmaceutical price increase company weighted average prescription pharmaceutical price increase increase consumer price index unit volume growth pharmaceutical segment led anti inflammatory veterinary product line genetics institute factor bulk product also volume growth pharmaceutical growth impacted competitive public private additional program continue market regardless outcome health care reform legislation pharmaceutical due principally unit volume female health care anti inflammatory product infant nutritional consumer health care united billion price partly offset unit volume unit volume growth cough cold allergy product line offset unit company analgesic particularly however unit volume grew united consumer health care unfavorably impacted continued growth private label new competitive consumer health care higher due principally unit volume growth analgesic cough cold allergy product medical diagnostic united due principally unit volume competitive hospital supply market many product acquisition symbiosis corp symbiosis late growth disposable needle syringe increase medical diagnostic result acquisition symbiosis intelligent medical see note unit cardiovascular foreign health care billion unit volume grew price offset unfavorable foreign exchange foreign health care billion due unit volume growth price favorable foreign exchange foreign pharmaceutical led unit volume gains female health care infant nutritional excluding effects exchange foreign pharmaceutical would company governmental price many significant international experienced price several continue particularly company able increase line inflation related currency several particularly brazil foreign gain management discussion analysis financial condition however governmental health care lesser extent competitive may constrain foreign led unit volume gains infant nutritional female health care foreign consumer health care million due primarily unit volume growth oral health care product line particularly inflation related price brazil foreign con\n",
            "3: nuclear plant meet new regulatory increasing labor equipment cost capital significant purchase outstanding connection construction program company new generating construction however construction combustion turbine peaking approximately addition significant construction continue related transmission distribution extension useful generating extent possible company construction program primarily internal short term debt necessary available company may issue additional long term debt preferred stock primarily debt higher cost continued power company annual report company primary external first mortgage preferred stock public receipt additional capital southern company leasing nuclear material order issue additional first mortgage preferred stock company must comply certain earnings coverage mortgage indenture corporate charter restrictive issuance additional first mortgage income tax earnings defined cover pro annual interest outstanding first mortgage least twice issuance additional preferred stock gross income available interest cover pro annual interest preferred stock least one one half times first mortgage preferred stock year ended respectively company mortgage first mortgage company direct lien substantially company fixed property continued power company annual report return equity whether capacity energy available company share million million million included power income contract substantially term thereof would extended automatically two year subject party right cancel upon two notice addition company unconditionally obligation installment sale agreement purchase certain pollution control generating pursuant million principal amount pollution control revenue outstanding power company agreed reimburse company pro rata portion obligation corresponding proportionate ownership stock company upon make payment guaranty capitalization million equity million long term debt annual interest requirement million million million million one half company net income million million million respectively june company sale portion plant miller electric company percentage ownership investment jointly generating total coal plant miller coal jointly affiliate power company jointly millions coal plant miller coal operating southern company company long term short term contractual sale capacity energy certain non outside system service area certain non firm based capacity system general firm pertain capacity related specific generating energy generally sold cost capacity primarily affect profitability company portion system capacity long term millions long term non firm power sold southern electric system power corporation amount contract expire year end unit power plant miller sold power light company electric authority city average capacity southern company settlement agreement gulf resolved litigation pending since arose dispute certain unit power long term power settlement agreement satisfied respect company portion proceeds received see note concerning regulatory treatment retail three year period august company firm power purchase contract capacity maximum period contract company second firm power purchase contract additional capacity maximum period contract power sold member previously directly company wholesale company received net present value associated respective capacity effective annual percent percent respectively operating interest expense capacity made available order secure advance company performance obligation company escrow agent first mortgage maximum amount damages payable company event default principal interest payable unless default company damages decline portion equal returned company million escrow agent continued power company annual report federal state income tax federal deferred deferred investment tax state deferred less income federal state income tax effects temporary carrying assets financial respective tax bases give rise deferred tax assets millions deferred tax deferred tax assets deferred income deferred investment tax life related property amortization normally applied credit reduce depreciatio\n",
            "4: fter ratably per share preferred voting except company pay equivalent six quarterly preferred voting class shall elect two additional preferred also voting related certain company incorporation preferred rank senior common stock outstanding series preferred preferred liquidation preference per share plus unpaid shareholder plan company adopted shareholder plan pursuant plan common stock received one preferred share purchase right common share plan effective triggered person defined company outstanding common threshold may reduced board less exercisable right would subject certain entitle person group purchase common stock company company market value twice exercise price right nonvoting may time concerning stock year ended year ended year ended company outstanding acquire company common stock exercise price acquire company common stock exercise price outstanding exercisable may however expire time may upon calendar days prior notice company common stock average per share public market price less least consecutive trading days prior expiration notice letterhead board mining company report consolidated financial mining company included form financial listed item form connection financial also related financial statement listed item form opinion financial statement considered relation basic financial taken whole present fairly material information included therein ended balance year ended year ended year ended change due reclassification depreciation depletion amortization property plant equipment mining company mining company wholly form second amendment credit agreement second amendment august made among mining company corporation behalf wholly colorado aggregate company new new corporation clay company corporation clay feldspar corporation north corporation feldspar clay feldspar herein collectively individually borrower signature hereto collectively individually bank limited new york branch new york state licensed branch limited authorized institution banking act agent capacity together capacity agent therefore consideration mutual herein good valuable consideration without limitation consideration credit agreement receipt sufficiency hereby acknowledged hereto agree used herein otherwise defined herein shall thereto credit agreement credit agreement amendment regarding date providing annual five year mining section credit agreement hereby date august date amendment regarding cash management fund section credit agreement hereby word immediately following subparagraph word immediately following subparagraph new subparagraph shall read amendment loan hereby agree loan shall extent necessary conform consistent herein effectiveness second amendment second amendment shall effective immediately upon due execution delivery hereof second amendment may executed one executed irrespective date execution delivery shall original together shall constitute one instrument governing law descriptive second amendment shall succession assignment second amendment shall inure benefit binding upon hereto hereunder may assigned accordance assignment credit agreement credit agreement except expressly provided second amendment loan hereby credit agreement loan shall remain full force effect hereby confirmed effectiveness credit agreement loan hereby reference credit agreement agreement hereunder hereof herein like import reference credit agreement note loan document agreement document instrument executed pursuant credit agreement shall reference credit agreement indebtedness second amendment shall provide effect repayment advance bank outstanding intention outstanding credit agreement second amendment outstanding credit agreement immediately prior effectiveness hereof witness whereof hereto second amendment executed duly authorized date first written title vice president branch agent lucy title vice president edge title senior vice president branch bank lucy title vice president edge title senior vice president joe title title vice president exhibit whereas certain agent credit agreement august credit agreement credit agreement pursuant party th\n",
            "5: credit buyer assuming shall responsibility obligation whatsoever liability obligation seller without limitation liability applicable federal state environmental protection liability connection collective agreement pension plan buyer assigned condition seller obligation effect assignment buyer shall pay cure real property equipment constitute assigned permit assumption assignment assigned pursuant section bankruptcy code cure together assumed buyer pursuant section section herein assumed buyer shall reduction purchase price seller assume obligation whatsoever cure default make payment due date hereof real property equipment constitute assigned inventory behalf seller outstanding outstanding date least five buyer shall buyer sole expense comply either following buyer shall cause seller returned seller collateral seller reimbursement respect seller returned seller causing new credit seller shall united bank acceptable buyer trust company acting principal united buyer bank prior issuance seller seller shall use seller accept new credit buyer shall provide connection endeavor seller may reasonably request buyer shall cause buyer bank issue credit favor seller seller equal payable seller cause buyer bank enter agreement seller providing indemnification letter credit seller respect seller pursuant seller agree seek reimbursement seller respect seller enter agreement seller providing indemnification seller buyer respect seller agreement clause credit form substance reasonably satisfactory seller satisfactory seller importer record inventory transit upon receipt quota applicable buyer shall assume seller assets buyer assignment sufficient assign buyer seller right title interest intangible property buyer seller right title interest stock foreign subsidiary buyer seller pursuant section assigned obligor licensee assignment buyer receivable license case may obligor licensee make payment buyer receivable obligor payable license case may buyer may reasonably request effect change name incorporation business business eliminate name name similar name name compliance notice set forth order buyer shall deliver cause addition agreement buyer seller following adjustment pursuant section deposit payable manner section duly executed assumption form substance reasonably satisfactory seller whereby buyer assume agree pay perform discharge assumed seller date agreement date buyer except representation warranty set forth section made best knowledge corporation duly organized validly good standing stock included within assets corporation duly organized place may good standing direct indirect active representation warranty made foreign assets except due organization title stock set forth section section date hereof date seller use reasonable cause foreign buyer seller pursuant section good standing provided seller shall incur substantial connection endeavor prior date seller shall maintain equipment good repair ordinary wear tear conduct business ordinary course consistent past practice subject effect bankruptcy petition seller pursuant foregoing seller shall without prior written consent promptly notify buyer execution confidentiality agreement party notify buyer conversation inquiry offer received potential provide buyer copy written communication sent received potential provide buyer copy information sent seller potential bidder provide buyer sale documentation substantially final form notify buyer execution definitive sale documentation bankruptcy code seller shall pay transfer transaction taxing authority without limitation state county municipality subdivision thereof connection consummation agreement extent seller assignable buyer seller shall take reasonably buyer otherwise endeavor provide buyer insurance policy understood seller connection shall borne buyer buyer buyer date agreement date seller good standing state incorporation full corporate power authority enter agreement perform hereunder buyer taken requisite corporate action order authorize execution delivery agreement consummation hereby agreement duly validly executed buyer legal\n",
            "6: ard may determine respective time time committee shall power authority reference certificate incorporation except committee may extent authorized resolution adopted board provided corporation law section providing issuance stock fix dissolution distribution assets corporation conversion exchange class classes series class classes stock corporation agreement merger consolidation sale lease exchange substantially corporation property assets dissolution corporation revocation dissolution corporation majority committee may fix procedure determine action fix time place whether within without state specify notice thereof shall given unless board shall resolution otherwise provide member committee shall continue member thereof long remains director pleasure majority whole board committee may filled majority whole board section election term office corporation shall following president one vice one may executive senior vice treasurer secretary board may also elect controller assistant vice assistant assistant may deem necessary shall authority perform may time time board corporation shall annually board first meeting thereof annual meeting election shall hold office shall duly shall qualify may filled majority whole board officer board shall subject removal either without cause time majority whole board section officer may resign time giving written notice resignation chairman board president secretary resignation shall take effect time therein time shall become effective shall therein immediately upon receipt unless otherwise therein acceptance resignation shall necessary make effective section president president shall chief executive officer corporation shall subject control board general active supervision business corporation several shall power appoint remove corporation subject control board shall see board carried effect time time shall report board within knowledge corporation may require brought notice request chairman board case absence inability act unless board executive committee shall otherwise determine otherwise provided president shall member board perform chairman board acting shall subject upon chairman board general shall perform incident office president time time may assigned board section vice vice president shall shall board time election may assigned time time board president absence disability president unless board executive committee shall otherwise determine executive vice president tenure office shall executive vice president senior vice president tenure office shall senior vice vice president tenure office shall president section treasurer board treasurer shall give bond faithful discharge sum surety board shall determine extent determined board shall funds valuable effects corporation receive give receipt due payable corporation whatsoever deposit credit corporation otherwise board president shall direct trust shall selected accordance section article cause funds authorized corporation provided section said article responsible accuracy cause proper giving information may desire respect financial corporation committee board whenever respectively shall request account financial condition corporation treasurer reasonable times cash president audit committee board corporation treasurer time time may assigned president board section assistant board assistant shall give bond faithful discharge surety board shall determine request treasurer case absence inability act assistant treasurer one assistant shall perform treasurer acting shall subject upon treasurer assistant shall perform time time may assigned treasurer president board section secretary secretary shall written board executive committee board one kept purpose law indicia title corporation corporate except custody treasurer seal corporation see seal authorized board facsimile thereof stock corporation prior issuance thereof execution behalf corporation seal duly authorized accordance except board shall otherwise direct power authority attest seal corporation transfer transfer agent transfer registrar provided section article issuance transfer \n",
            "Vocabulary size: 6597\n",
            "Adjusting learning rate of group 0 to 2.5000e-01.\n"
          ]
        },
        {
          "output_type": "stream",
          "name": "stderr",
          "text": [
            ""
          ]
        },
        {
          "output_type": "stream",
          "name": "stdout",
          "text": [
            "Epoch: 1/30, Train Loss=6.26333, Val Loss=0.00000\n",
            "Adjusting learning rate of group 0 to 2.4167e-01.\n"
          ]
        },
        {
          "output_type": "stream",
          "name": "stderr",
          "text": [
            ""
          ]
        },
        {
          "output_type": "stream",
          "name": "stdout",
          "text": [
            "Epoch: 2/30, Train Loss=6.24421, Val Loss=0.00000\n",
            "Adjusting learning rate of group 0 to 2.3333e-01.\n"
          ]
        },
        {
          "output_type": "stream",
          "name": "stderr",
          "text": [
            ""
          ]
        },
        {
          "output_type": "stream",
          "name": "stdout",
          "text": [
            "Epoch: 3/30, Train Loss=6.21270, Val Loss=0.00000\n",
            "Adjusting learning rate of group 0 to 2.2500e-01.\n"
          ]
        },
        {
          "output_type": "stream",
          "name": "stderr",
          "text": [
            ""
          ]
        },
        {
          "output_type": "stream",
          "name": "stdout",
          "text": [
            "Epoch: 4/30, Train Loss=6.18482, Val Loss=0.00000\n",
            "Adjusting learning rate of group 0 to 2.1667e-01.\n"
          ]
        },
        {
          "output_type": "stream",
          "name": "stderr",
          "text": [
            ""
          ]
        },
        {
          "output_type": "stream",
          "name": "stdout",
          "text": [
            "Epoch: 5/30, Train Loss=6.15420, Val Loss=0.00000\n",
            "Adjusting learning rate of group 0 to 2.0833e-01.\n"
          ]
        },
        {
          "output_type": "stream",
          "name": "stderr",
          "text": [
            ""
          ]
        },
        {
          "output_type": "stream",
          "name": "stdout",
          "text": [
            "Epoch: 6/30, Train Loss=6.12782, Val Loss=0.00000\n",
            "Adjusting learning rate of group 0 to 2.0000e-01.\n"
          ]
        },
        {
          "output_type": "stream",
          "name": "stderr",
          "text": [
            ""
          ]
        },
        {
          "output_type": "stream",
          "name": "stdout",
          "text": [
            "Epoch: 7/30, Train Loss=6.09701, Val Loss=0.00000\n",
            "Adjusting learning rate of group 0 to 1.9167e-01.\n"
          ]
        },
        {
          "output_type": "stream",
          "name": "stderr",
          "text": [
            ""
          ]
        },
        {
          "output_type": "stream",
          "name": "stdout",
          "text": [
            "Epoch: 8/30, Train Loss=6.07058, Val Loss=0.00000\n",
            "Adjusting learning rate of group 0 to 1.8333e-01.\n"
          ]
        },
        {
          "output_type": "stream",
          "name": "stderr",
          "text": [
            ""
          ]
        },
        {
          "output_type": "stream",
          "name": "stdout",
          "text": [
            "Epoch: 9/30, Train Loss=6.04381, Val Loss=0.00000\n",
            "Adjusting learning rate of group 0 to 1.7500e-01.\n"
          ]
        },
        {
          "output_type": "stream",
          "name": "stderr",
          "text": [
            ""
          ]
        },
        {
          "output_type": "stream",
          "name": "stdout",
          "text": [
            "Epoch: 10/30, Train Loss=6.01890, Val Loss=0.00000\n",
            "Adjusting learning rate of group 0 to 1.6667e-01.\n"
          ]
        },
        {
          "output_type": "stream",
          "name": "stderr",
          "text": [
            ""
          ]
        },
        {
          "output_type": "stream",
          "name": "stdout",
          "text": [
            "Epoch: 11/30, Train Loss=5.98773, Val Loss=0.00000\n",
            "Adjusting learning rate of group 0 to 1.5833e-01.\n"
          ]
        },
        {
          "output_type": "stream",
          "name": "stderr",
          "text": [
            ""
          ]
        },
        {
          "output_type": "stream",
          "name": "stdout",
          "text": [
            "Epoch: 12/30, Train Loss=5.96119, Val Loss=0.00000\n",
            "Adjusting learning rate of group 0 to 1.5000e-01.\n"
          ]
        },
        {
          "output_type": "stream",
          "name": "stderr",
          "text": [
            ""
          ]
        },
        {
          "output_type": "stream",
          "name": "stdout",
          "text": [
            "Epoch: 13/30, Train Loss=5.93511, Val Loss=0.00000\n",
            "Adjusting learning rate of group 0 to 1.4167e-01.\n"
          ]
        },
        {
          "output_type": "stream",
          "name": "stderr",
          "text": [
            ""
          ]
        },
        {
          "output_type": "stream",
          "name": "stdout",
          "text": [
            "Epoch: 14/30, Train Loss=5.90676, Val Loss=0.00000\n",
            "Adjusting learning rate of group 0 to 1.3333e-01.\n"
          ]
        },
        {
          "output_type": "stream",
          "name": "stderr",
          "text": [
            ""
          ]
        },
        {
          "output_type": "stream",
          "name": "stdout",
          "text": [
            "Epoch: 15/30, Train Loss=5.88303, Val Loss=0.00000\n",
            "Adjusting learning rate of group 0 to 1.2500e-01.\n"
          ]
        },
        {
          "output_type": "stream",
          "name": "stderr",
          "text": [
            ""
          ]
        },
        {
          "output_type": "stream",
          "name": "stdout",
          "text": [
            "Epoch: 16/30, Train Loss=5.85503, Val Loss=0.00000\n",
            "Adjusting learning rate of group 0 to 1.1667e-01.\n"
          ]
        },
        {
          "output_type": "stream",
          "name": "stderr",
          "text": [
            ""
          ]
        },
        {
          "output_type": "stream",
          "name": "stdout",
          "text": [
            "Epoch: 17/30, Train Loss=5.82756, Val Loss=0.00000\n",
            "Adjusting learning rate of group 0 to 1.0833e-01.\n"
          ]
        },
        {
          "output_type": "stream",
          "name": "stderr",
          "text": [
            ""
          ]
        },
        {
          "output_type": "stream",
          "name": "stdout",
          "text": [
            "Epoch: 18/30, Train Loss=5.80022, Val Loss=0.00000\n",
            "Adjusting learning rate of group 0 to 1.0000e-01.\n"
          ]
        },
        {
          "output_type": "stream",
          "name": "stderr",
          "text": [
            ""
          ]
        },
        {
          "output_type": "stream",
          "name": "stdout",
          "text": [
            "Epoch: 19/30, Train Loss=5.77172, Val Loss=0.00000\n",
            "Adjusting learning rate of group 0 to 9.1667e-02.\n"
          ]
        },
        {
          "output_type": "stream",
          "name": "stderr",
          "text": [
            ""
          ]
        },
        {
          "output_type": "stream",
          "name": "stdout",
          "text": [
            "Epoch: 20/30, Train Loss=5.74340, Val Loss=0.00000\n",
            "Adjusting learning rate of group 0 to 8.3333e-02.\n"
          ]
        },
        {
          "output_type": "stream",
          "name": "stderr",
          "text": [
            ""
          ]
        },
        {
          "output_type": "stream",
          "name": "stdout",
          "text": [
            "Epoch: 21/30, Train Loss=5.71410, Val Loss=0.00000\n",
            "Adjusting learning rate of group 0 to 7.5000e-02.\n"
          ]
        },
        {
          "output_type": "stream",
          "name": "stderr",
          "text": [
            ""
          ]
        },
        {
          "output_type": "stream",
          "name": "stdout",
          "text": [
            "Epoch: 22/30, Train Loss=5.68115, Val Loss=0.00000\n",
            "Adjusting learning rate of group 0 to 6.6667e-02.\n"
          ]
        },
        {
          "output_type": "stream",
          "name": "stderr",
          "text": [
            ""
          ]
        },
        {
          "output_type": "stream",
          "name": "stdout",
          "text": [
            "Epoch: 23/30, Train Loss=5.65023, Val Loss=0.00000\n",
            "Adjusting learning rate of group 0 to 5.8333e-02.\n"
          ]
        },
        {
          "output_type": "stream",
          "name": "stderr",
          "text": [
            ""
          ]
        },
        {
          "output_type": "stream",
          "name": "stdout",
          "text": [
            "Epoch: 24/30, Train Loss=5.61465, Val Loss=0.00000\n",
            "Adjusting learning rate of group 0 to 5.0000e-02.\n"
          ]
        },
        {
          "output_type": "stream",
          "name": "stderr",
          "text": [
            ""
          ]
        },
        {
          "output_type": "stream",
          "name": "stdout",
          "text": [
            "Epoch: 25/30, Train Loss=5.57639, Val Loss=0.00000\n",
            "Adjusting learning rate of group 0 to 4.1667e-02.\n"
          ]
        },
        {
          "output_type": "stream",
          "name": "stderr",
          "text": [
            ""
          ]
        },
        {
          "output_type": "stream",
          "name": "stdout",
          "text": [
            "Epoch: 26/30, Train Loss=5.53178, Val Loss=0.00000\n",
            "Adjusting learning rate of group 0 to 3.3333e-02.\n"
          ]
        },
        {
          "output_type": "stream",
          "name": "stderr",
          "text": [
            ""
          ]
        },
        {
          "output_type": "stream",
          "name": "stdout",
          "text": [
            "Epoch: 27/30, Train Loss=5.48011, Val Loss=0.00000\n",
            "Adjusting learning rate of group 0 to 2.5000e-02.\n"
          ]
        },
        {
          "output_type": "stream",
          "name": "stderr",
          "text": [
            ""
          ]
        },
        {
          "output_type": "stream",
          "name": "stdout",
          "text": [
            "Epoch: 28/30, Train Loss=5.41451, Val Loss=0.00000\n",
            "Adjusting learning rate of group 0 to 1.6667e-02.\n"
          ]
        },
        {
          "output_type": "stream",
          "name": "stderr",
          "text": [
            ""
          ]
        },
        {
          "output_type": "stream",
          "name": "stdout",
          "text": [
            "Epoch: 29/30, Train Loss=5.31935, Val Loss=0.00000\n",
            "Adjusting learning rate of group 0 to 8.3333e-03.\n"
          ]
        },
        {
          "output_type": "stream",
          "name": "stderr",
          "text": [
            ""
          ]
        },
        {
          "output_type": "stream",
          "name": "stdout",
          "text": [
            "Epoch: 30/30, Train Loss=5.14420, Val Loss=0.00000\n",
            "Adjusting learning rate of group 0 to 0.0000e+00.\n",
            "Training finished.\n",
            "Model artifacts saved to folder: /content/drive/MyDrive/DL785/Project/word2vec/cbow_600\n"
          ]
        }
      ]
    },
    {
      "cell_type": "code",
      "source": [
        "import random\n",
        "\n",
        "model = torch.load('new_weights/skipgram_WikiText2/model.pt')\n",
        "vocab = load_vocab('new_weights/skipgram_WikiText2/vocab.pt')\n",
        "\n",
        "vocab_words = []\n",
        "\n",
        "for w in vocab.get_stoi().keys():\n",
        "    vocab_words.append(w)\n",
        "print(f'words in vocab: {vocab_words}')\n",
        "\n",
        "# embedding from first model layer\n",
        "embeddings = list(model.parameters())[0]\n",
        "embeddings = embeddings.cpu().detach().numpy()\n",
        "\n",
        "# normalization\n",
        "norms = (embeddings ** 2).sum(axis=1) ** (1 / 2)\n",
        "norms = np.reshape(norms, (len(norms), 1))\n",
        "embeddings_norm = embeddings / norms\n",
        "embeddings_norm.shape\n",
        "\n",
        "def get_top_similar(word: str, topN: int = 10):\n",
        "    word_id = vocab[word]\n",
        "    if word_id == 0:\n",
        "        print(\"Out of vocabulary word\")\n",
        "        return\n",
        "\n",
        "    word_vec = embeddings_norm[word_id]\n",
        "    word_vec = np.reshape(word_vec, (len(word_vec), 1))\n",
        "    dists = np.matmul(embeddings_norm, word_vec).flatten()\n",
        "    topN_ids = np.argsort(-dists)[1 : topN + 1]\n",
        "\n",
        "    topN_dict = {}\n",
        "    for sim_word_id in topN_ids:\n",
        "        sim_word = vocab.lookup_token(sim_word_id)\n",
        "        topN_dict[sim_word] = dists[sim_word_id]\n",
        "    return topN_dict\n",
        "\n",
        "for _ in range(10):\n",
        "    rand_word = random.choice(vocab_words)\n",
        "    similar_words = get_top_similar(rand_word)\n",
        "    print(f'{rand_word} is similar to {similar_words.keys()}')\n"
      ],
      "metadata": {
        "colab": {
          "base_uri": "https://localhost:8080/"
        },
        "id": "0oVKZ09u22Kp",
        "outputId": "b41fad8a-c073-434f-d631-486bd1b7b48b"
      },
      "execution_count": null,
      "outputs": [
        {
          "output_type": "stream",
          "name": "stdout",
          "text": [
            "words in vocab: ['vintage', 'vault', 'tolling', 'showroom', 'score', 'renegotiations', 'rendition', 'reel', 'ophthalmic', 'notable', 'nonprofit', 'melting', 'marbled', 'hare', 'flame', 'hired', 'federally', 'corrected', 'daily', 'feed', 'chairman', 'nonpayment', 'describe', 'norwest', 'burden', 'consultation', 'billable', 'mercantile', 'vapor', 'spill', 'reply', 'eighteen', 'coated', 'strengthen', 'complete', 'repayment', 'indicia', 'reinsurer', 'comparative', 'bidding', 'misstatement', 'blanket', 'containment', 'receiver', 'village', 'deliverable', 'reed', 'importance', 'crystal', 'extremely', 'fuel', 'sprinkler', 'sublessor', 'reconstruct', 'receivership', 'suspense', 'attractive', 'tobacco', 'image', 'enactment', 'griffin', 'product', 'broadcast', 'keeping', 'van', 'recessionary', 'intense', 'suffering', 'zenith', 'establishment', 'intentionally', 'goal', 'interference', 'ami', 'workmanlike', 'towards', 'hall', 'today', 'citadel', 'bodily', 'analyses', 'straight', 'penetration', 'banking', 'impossible', 'domain', 'reading', 'factual', 'clinical', 'factory', 'henry', 'clock', 'continuance', 'bankrupt', 'allotment', 'premier', 'persistency', 'vision', 'stood', 'renovation', 'hong', 'continually', 'may', 'contingently', 'guardian', 'child', 'amarillo', 'noncompliance', 'ninth', 'grocery', 'winning', 'adjudication', 'summary', 'redesign', 'tonnage', 'simultaneous', 'prospect', 'surcharge', 'breakfast', 'reject', 'likelihood', 'concept', 'disease', 'reputation', 'recession', 'morse', 'maximize', 'hart', 'accomplish', 'forthcoming', 'copyright', 'ram', 'tort', 'facility', 'enjoin', 'condensate', 'recordation', 'involvement', 'balancing', 'tanker', 'unlikely', 'depletion', 'equivalent', 'highway', 'fraud', 'garden', 'agreement', 'abandonment', 'cleaning', 'acreage', 'chartered', 'replacement', 'alliance', 'invalidate', 'reset', 'voidable', 'flower', 'undetermined', 'analyst', 'uncommitted', 'furthermore', 'bill', 'vest', 'commercial', 'door', 'reassignment', 'meaningful', 'insure', 'contest', 'entitle', 'cal', 'gender', 'ba', 'art', 'associated', 'apartment', 'understand', 'abandoned', 'issuance', 'stand', 'structured', 'especially', 'downward', 'jazz', 'lock', 'monitor', 'arm', 'disabled', 'circulation', 'voice', 'analyze', 'constituent', 'glen', 'nonrecourse', 'island', 'ill', 'recreational', 'judgment', 'temporarily', 'marginal', 'send', 'implant', 'commissioner', 'outage', 'jack', 'declaratory', 'mall', 'temperature', 'financially', 'statutory', 'analogous', 'patronage', 'resumption', 'moreover', 'heavily', 'like', 'phoenix', 'among', 'roofing', 'attend', 'contact', 'backlog', 'methodology', 'unbilled', 'registrant', 'switching', 'guideline', 'kraft', 'aspect', 'awa', 'arrange', 'king', 'consent', 'advancement', 'competition', 'radioactive', 'belief', 'laboratory', 'auditor', 'rehabilitation', 'manual', 'nuclear', 'backed', 'appellate', 'accommodate', 'step', 'affix', 'conflict', 'triggered', 'times', 'directory', 'sworn', 'prove', 'poker', 'die', 'desired', 'identity', 'ad', 'prohibition', 'pa', 'break', 'telegraph', 'contemporaneous', 'descriptive', 'steven', 'assignable', 'broker', 'referee', 'chemistry', 'almost', 'subscribe', 'stringent', 'clearing', 'stabilization', 'extensively', 'minimal', 'happening', 'encouraging', 'rendering', 'applicability', 'rehearing', 'investment', 'hydro', 'psi', 'outdoor', 'oyster', 'draft', 'entering', 'choose', 'retirement', 'properly', 'functional', 'incomplete', 'optimum', 'allowable', 'size', 'dresser', 'slight', 'glass', 'fifo', 'palace', 'mile', 'feature', 'blank', 'retention', 'laser', 'diesel', 'hear', 'appraiser', 'accumulation', 'assembly', 'reimbursement', 'induce', 'pleasant', 'telephonic', 'wheeling', 'fired', 'bargain', 'tool', 'aid', 'reversal', 'navigation', 'ever', 'succeed', 'classification', 'deliberate', 'built', 'rodney', 'commute', 'heat', 'disqualification', 'borough', 'match', 'easement', 'cabot', 'commuter', 'language', 'nineteenth', 'diligently', 'telephone', 'rank', 'preside', 'seem', 'actuarially', 'incapacity', 'ex', 'aggregation', 'barter', 'shipowner', 'decide', 'initial', 'exclusion', 'commercially', 'unplanned', 'upon', 'eagle', 'metallurgical', 'mineral', 'descent', 'accomplished', 'gasification', 'unincorporated', 'amendatory', 'team', 'substation', 'retainer', 'prerequisite', 'consult', 'starting', 'school', 'human', 'purport', 'interruption', 'staffed', 'uncertain', 'prompt', 'hud', 'oxide', 'attrition', 'hereinabove', 'lighting', 'trustee', 'mechanical', 'nutrition', 'chain', 'wear', 'phrase', 'dry', 'rule', 'mode', 'proviso', 'outlined', 'joe', 'dioxide', 'label', 'determinable', 'educational', 'predict', 'footage', 'air', 'beaver', 'examine', 'mesa', 'training', 'gaming', 'subject', 'licensor', 'fifty', 'investigate', 'noncurrent', 'revolver', 'herefrom', 'fulfillment', 'tank', 'insolvent', 'commercialization', 'inception', 'grantee', 'plastics', 'conclusively', 'glossary', 'instrumentality', 'ted', 'broadway', 'trim', 'pronoun', 'preventive', 'creek', 'flammable', 'nonassessable', 'exemplary', 'toll', 'actuary', 'lend', 'nominated', 'lion', 'blue', 'favor', 'speed', 'unissued', 'contingency', 'quick', 'society', 'originator', 'transmit', 'subordination', 'particular', 'across', 'symbol', 'saved', 'discontinuance', 'whereupon', 'could', 'differently', 'anchorage', 'las', 'ge', 'density', 'education', 'subscription', 'marathon', 'directive', 'roller', 'moving', 'even', 'formaldehyde', 'mixed', 'execute', 'retroactively', 'supervisory', 'legality', 'ward', 'removed', 'cancelable', 'continuum', 'mentally', 'transported', 'patient', 'forum', 'met', 'unconditional', 'routine', 'emission', 'express', 'never', 'beneficiary', 'materially', 'devoted', 'false', 'soil', 'inaccuracy', 'tubular', 'retrospectively', 'outlook', 'profitable', 'overseas', 'intellectual', 'greige', 'default', 'inspect', 'preferential', 'chaus', 'goes', 'compute', 'plastic', 'attornment', 'inter', 'microwave', 'spring', 'fabrication', 'irrevocable', 'copper', 'consuming', 'lots', 'flag', 'nolo', 'infusion', 'unbroken', 'organization', 'century', 'col', 'rock', 'accountant', 'panter', 'tertiary', 'spin', 'stoppage', 'permissible', 'prudent', 'universal', 'connected', 'adviser', 'fidelity', 'specialized', 'warehouse', 'advised', 'mae', 'transporter', 'mines', 'strengthening', 'latter', 'stolen', 'intend', 'predominant', 'craft', 'attainment', 'command', 'subordinating', 'coupled', 'role', 'coincide', 'frank', 'nationally', 'hallmark', 'usual', 'intention', 'cent', 'reaching', 'threshold', 'function', 'sustained', 'sharply', 'living', 'loop', 'kaiser', 'procurement', 'geographical', 'subordinate', 'inapplicable', 'bass', 'coalition', 'hourly', 'university', 'refined', 'model', 'graph', 'geothermal', 'content', 'telesis', 'soft', 'maker', 'elective', 'subtitle', 'footwear', 'taxing', 'devote', 'advanced', 'southland', 'developer', 'super', 'publication', 'distributable', 'impact', 'request', 'challenge', 'truly', 'quarter', 'steelmaking', 'informed', 'serial', 'projection', 'realize', 'inherent', 'aa', 'funeral', 'great', 'reallocation', 'reliability', 'alert', 'aviation', 'optionee', 'corrective', 'duke', 'trailer', 'machine', 'lignite', 'venture', 'negatively', 'testimony', 'overnight', 'barney', 'annex', 'nominal', 'unreserved', 'signal', 'cutting', 'inactive', 'less', 'adjourn', 'confident', 'going', 'voluntarily', 'cascade', 'fulfill', 'adjacent', 'prairie', 'club', 'meeting', 'liberty', 'suitable', 'subscriber', 'joinder', 'sare', 'standardization', 'passenger', 'native', 'concealed', 'sea', 'seventh', 'assumption', 'readily', 'letter', 'paramount', 'desist', 'electromagnetic', 'quaker', 'construct', 'respecting', 'lost', 'completeness', 'residence', 'decided', 'judge', 'tight', 'lease', 'spelling', 'invoice', 'occur', 'thirteen', 'refer', 'advertise', 'sovereign', 'nursing', 'procure', 'note', 'uncertainty', 'gravel', 'graded', 'led', 'undeveloped', 'rancho', 'causing', 'tenth', 'qualified', 'custom', 'handle', 'realization', 'former', 'cigarette', 'acetic', 'artificially', 'improving', 'chronic', 'painting', 'gasoline', 'minimize', 'irrespective', 'usually', 'branded', 'cumulative', 'offset', 'notary', 'internationally', 'institutional', 'enrichment', 'consequently', 'underground', 'discretionary', 'modernize', 'formation', 'fi', 'incentive', 'extending', 'welfare', 'compromise', 'forgiveness', 'anhydrous', 'mass', 'advise', 'imbalance', 'feasibility', 'council', 'chapman', 'automatic', 'barton', 'surface', 'frozen', 'inure', 'civic', 'inasmuch', 'subrogation', 'ship', 'regardless', 'flavor', 'gave', 'chocolate', 'attract', 'look', 'bay', 'foreseeable', 'lent', 'minus', 'peter', 'government', 'induced', 'go', 'policyholder', 'affect', 'keystone', 'quotation', 'place', 'sar', 'disbursement', 'effects', 'diversified', 'metropolitan', 'taxed', 'probable', 'league', 'chosen', 'pigment', 'emphasis', 'negotiation', 'campaign', 'jury', 'resolve', 'car', 'belong', 'sterling', 'bases', 'infant', 'diligence', 'treating', 'insofar', 'restrict', 'late', 'common', 'necessity', 'reportable', 'singular', 'shamrock', 'rapid', 'garage', 'priced', 'hand', 'di', 'rite', 'distinguish', 'abatement', 'fifteenth', 'fall', 'accounting', 'forthwith', 'alpha', 'confirm', 'sensitivity', 'tables', 'activity', 'restaurant', 'appraisal', 'seventeen', 'client', 'port', 'bring', 'custody', 'cubic', 'messrs', 'sensitive', 'trip', 'dwelling', 'excepting', 'pronouncement', 'rust', 'situated', 'efficacy', 'job', 'parent', 'commission', 'forest', 'injunctive', 'unrecognized', 'counterclaim', 'depreciable', 'restoration', 'congress', 'tug', 'proceeds', 'prepare', 'political', 'perform', 'transport', 'worked', 'cadence', 'alone', 'cargo', 'plumbing', 'pepper', 'begun', 'article', 'extensive', 'controller', 'therm', 'recall', 'ing', 'fortune', 'merge', 'coupon', 'illustration', 'administer', 'undertake', 'destruction', 'realizable', 'substituted', 'identify', 'initiate', 'nat', 'accurate', 'validation', 'employed', 'manifest', 'anticipate', 'enhanced', 'matching', 'unto', 'hereunto', 'accord', 'forestry', 'ago', 'authentic', 'far', 'deal', 'consumer', 'indicator', 'prescribe', 'shortfall', 'solicitation', 'relocation', 'gauge', 'intentional', 'expedient', 'withdraw', 'interchange', 'crew', 'find', 'spot', 'successive', 'phase', 'mobile', 'billed', 'arranger', 'attempt', 'completely', 'passbook', 'forfeiture', 'collect', 'ice', 'table', 'sixtieth', 'shelf', 'inventory', 'apparel', 'vacation', 'override', 'martin', 'filled', 'township', 'abandon', 'collectability', 'desire', 'streamline', 'collateral', 'sitting', 'suffer', 'eric', 'instead', 'preclude', 'composition', 'vacate', 'denominator', 'film', 'insolvency', 'parking', 'guidance', 'nomination', 'linage', 'double', 'consolidate', 'device', 'entry', 'refining', 'expanding', 'minor', 'impairment', 'automobile', 'ers', 'timber', 'space', 'contrast', 'adjust', 'succession', 'hedging', 'exemption', 'burton', 'equally', 'earnings', 'utilization', 'feel', 'ordered', 'foregoing', 'drake', 'solid', 'eliminate', 'posted', 'highest', 'sun', 'eventually', 'surety', 'motor', 'delta', 'mercer', 'word', 'vol', 'producer', 'anything', 'leasing', 'expenditure', 'declare', 'surrender', 'retaining', 'northeast', 'town', 'untrue', 'asterisk', 'retiring', 'vigorously', 'filtration', 'usage', 'unusual', 'measurement', 'sabine', 'unrestricted', 'weekly', 'nutritional', 'avoid', 'showing', 'transformer', 'tried', 'peak', 'history', 'internally', 'save', 'dispositive', 'drawing', 'fell', 'insurable', 'shift', 'overdue', 'drugstore', 'examining', 'protective', 'growing', 'congressional', 'crane', 'notebook', 'aside', 'nature', 'whether', 'smaller', 'greyhound', 'deletion', 'media', 'hardware', 'periodically', 'stream', 'upheld', 'concurrently', 'sometime', 'lightning', 'strict', 'discuss', 'men', 'announcement', 'cycle', 'engineer', 'gamble', 'supreme', 'disturbance', 'fictitious', 'advantage', 'explanation', 'coating', 'overhead', 'instant', 'elimination', 'applicant', 'thence', 'runoff', 'efficiency', 'contraction', 'detailed', 'separation', 'measure', 'promote', 'entirely', 'continuously', 'dramatically', 'associate', 'revoke', 'external', 'integration', 'additionally', 'recent', 'commodity', 'foot', 'rough', 'contamination', 'depth', 'historically', 'scale', 'settle', 'twice', 'diem', 'opacity', 'pneumatic', 'distributee', 'territory', 'ultimately', 'commonly', 'leave', 'universe', 'investigative', 'channel', 'depressed', 'fault', 'flex', 'logging', 'travel', 'empire', 'ca', 'proposal', 'recital', 'republic', 'composite', 'unfavorably', 'complex', 'subdivision', 'rainbow', 'mar', 'objective', 'certainty', 'administratively', 'horizon', 'lack', 'toward', 'household', 'interpolation', 'modernization', 'refinery', 'possibility', 'notarial', 'pond', 'el', 'cause', 'despite', 'grade', 'typical', 'auto', 'fifteen', 'disclose', 'anticipation', 'partition', 'opening', 'opposed', 'oral', 'variability', 'business', 'envelope', 'vehicle', 'reservation', 'unsound', 'matter', 'view', 'usury', 'sooner', 'soliciting', 'plant', 'unspecified', 'deliver', 'assistance', 'swap', 'bush', 'ie', 'grove', 'headquarters', 'mike', 'advisory', 'wiring', 'focus', 'hearing', 'infinity', 'resource', 'identical', 'pharmacy', 'retire', 'drive', 'initiation', 'resident', 'favorably', 'footnote', 'expense', 'public', 'achieve', 'stress', 'incidental', 'elsewhere', 'check', 'brace', 'refinance', 'eligible', 'unreasonably', 'doe', 'three', 'lead', 'exhausted', 'accessible', 'refusal', 'recruiting', 'adventure', 'thereupon', 'voting', 'fine', 'proportionate', 'snack', 'exclude', 'social', 'game', 'short', 'substantive', 'spent', 'reasonable', 'billing', 'harbor', 'conveyance', 'compound', 'mutually', 'accidental', 'developmental', 'prudence', 'know', 'brokerage', 'mistake', 'ford', 'productive', 'lightweight', 'ready', 'charging', 'advice', 'supplier', 'cast', 'bar', 'exchangeable', 'assets', 'criminal', 'par', 'impose', 'typically', 'regulation', 'accident', 'heretofore', 'se', 'notified', 'parcel', 'lifo', 'encumber', 'customary', 'radio', 'professor', 'gulf', 'top', 'refine', 'suspension', 'complexity', 'examination', 'delinquent', 'brand', 'confined', 'entertainment', 'forming', 'split', 'investigatory', 'discharging', 'therefor', 'therapy', 'selection', 'registrable', 'pressure', 'quantify', 'mil', 'membership', 'excise', 'bag', 'parity', 'furniture', 'constitutional', 'competitor', 'useful', 'main', 'newsprint', 'severally', 'collected', 'instrumentation', 'numerous', 'disc', 'fractional', 'preliminary', 'disruption', 'obliged', 'presence', 'estimable', 'diversification', 'cablegram', 'adequacy', 'jeopardy', 'residual', 'allegedly', 'indemnitee', 'sulphur', 'formulation', 'nominee', 'brother', 'tenor', 'organize', 'management', 'excuse', 'strategy', 'rebate', 'support', 'ann', 'economical', 'pulp', 'procedure', 'publicly', 'vary', 'positioned', 'cold', 'recapitalization', 'aluminum', 'fort', 'theretofore', 'contain', 'catastrophe', 'desirable', 'asset', 'absent', 'zero', 'generator', 'maturing', 'ar', 'shopping', 'tariff', 'agency', 'lapse', 'investor', 'mart', 'noted', 'needham', 'economy', 'various', 'consistently', 'berth', 'take', 'sole', 'marine', 'black', 'visible', 'semi', 'diverse', 'leaves', 'community', 'production', 'accretion', 'vanguard', 'quantity', 'morgan', 'entity', 'grace', 'catalyst', 'therewith', 'cleaner', 'turbine', 'opt', 'box', 'state', 'spread', 'handling', 'formula', 'adverse', 'anyone', 'caster', 'return', 'traditional', 'confirmed', 'interbank', 'manage', 'hour', 'depository', 'submit', 'signatory', 'jeopardize', 'telephony', 'supplementary', 'enterprise', 'nominate', 'rather', 'postage', 'retroactive', 'clear', 'proprietary', 'restitution', 'miscellaneous', 'severe', 'rely', 'theme', 'willing', 'provincial', 'rescind', 'criteria', 'incurrence', 'inspection', 'pledgor', 'borrow', 'accelerated', 'considering', 'documentation', 'creation', 'occurrence', 'transferable', 'user', 'vehicular', 'pound', 'administration', 'cumulate', 'recipient', 'conclusion', 'motorcycle', 'gaining', 'ordinary', 'import', 'pool', 'governing', 'possible', 'semiconductor', 'mission', 'intestate', 'holding', 'triton', 'quality', 'deposit', 'possess', 'expression', 'transmission', 'dock', 'everyday', 'interior', 'use', 'keep', 'enforceable', 'inform', 'mention', 'conditionally', 'introduction', 'overpayment', 'fair', 'none', 'loral', 'competent', 'drug', 'gain', 'declared', 'pacific', 'appear', 'finance', 'determine', 'build', 'drawdown', 'michigan', 'precious', 'substitute', 'expiration', 'negligent', 'issuing', 'framework', 'indication', 'treasury', 'potential', 'shorter', 'southwest', 'coincident', 'redeemable', 'water', 'alternate', 'speculative', 'many', 'actual', 'peril', 'pari', 'thereunder', 'corrosion', 'ancillary', 'lift', 'doctrine', 'moderate', 'logistical', 'orange', 'railroad', 'standard', 'want', 'bridge', 'discount', 'party', 'recovery', 'corporation', 'rand', 'versus', 'falling', 'illegality', 'spray', 'dairy', 'tec', 'fleet', 'indirectly', 'major', 'expiry', 'neither', 'defective', 'hot', 'bankruptcy', 'depend', 'micron', 'loss', 'certification', 'relative', 'central', 'baton', 'withdrawn', 'revocation', 'memorandum', 'promotion', 'north', 'rodman', 'review', 'carol', 'copy', 'admitted', 'concurrent', 'bid', 'endorse', 'news', 'offering', 'listing', 'transferred', 'shutdown', 'graphics', 'culture', 'since', 'predictable', 'theatrically', 'land', 'outpatient', 'raise', 'cooling', 'piedmont', 'world', 'firm', 'total', 'sequestrator', 'past', 'allan', 'high', 'material', 'comprehensive', 'continued', 'study', 'response', 'syndication', 'resolution', 'appoint', 'version', 'unsatisfied', 'helicopter', 'bearing', 'coverage', 'infrastructure', 'little', 'yellow', 'sharp', 'converted', 'shore', 'stamp', 'waste', 'seek', 'customarily', 'thereon', 'canning', 'unexpired', 'widely', 'prepay', 'underwriting', 'partnership', 'stable', 'tax', 'road', 'already', 'feasible', 'expedite', 'negative', 'prospective', 'contribution', 'pro', 'circular', 'thermal', 'generation', 'acquire', 'million', 'assess', 'early', 'nonperforming', 'transferring', 'consolidation', 'venturer', 'working', 'buckeye', 'lien', 'visa', 'writing', 'site', 'fee', 'nu', 'define', 'front', 'contravene', 'fruit', 'governmental', 'permission', 'permit', 'subsection', 'cwm', 'market', 'later', 'family', 'departure', 'principally', 'ending', 'flow', 'proprietorship', 'legislative', 'attribution', 'give', 'trash', 'acid', 'pipeline', 'xi', 'easy', 'giving', 'normal', 'inaccurate', 'attachment', 'eminent', 'death', 'interpret', 'provider', 'unavailable', 'update', 'automotive', 'scotia', 'porter', 'insert', 'ut', 'whereas', 'recommendation', 'funds', 'fringe', 'thereafter', 'twa', 'decontamination', 'supporting', 'passing', 'context', 'intangible', 'minimum', 'ratably', 'depreciation', 'unclear', 'lessor', 'local', 'gains', 'account', 'region', 'vegetable', 'enlargement', 'scrap', 'birth', 'guarantor', 'trial', 'taxation', 'meaning', 'treatment', 'dutch', 'conservation', 'earthquake', 'payable', 'son', 'generic', 'mandatory', 'dilutive', 'piper', 'unliquidated', 'grant', 'ore', 'city', 'redwood', 'filing', 'middle', 'average', 'correct', 'federal', 'undismissed', 'corporate', 'much', 'checker', 'reserved', 'peat', 'constant', 'next', 'assignment', 'formal', 'agreed', 'irreparable', 'southeastern', 'growth', 'disapproval', 'russia', 'status', 'protein', 'waiver', 'approximately', 'concrete', 'terminable', 'advertising', 'listed', 'arrive', 'sausage', 'sized', 'berry', 'export', 'significantly', 'although', 'internal', 'follow', 'colder', 'psychiatric', 'exceed', 'sir', 'disregard', 'equity', 'qualify', 'unknown', 'independent', 'faithful', 'reassured', 'receivable', 'original', 'anniversary', 'roanoke', 'bituminous', 'situate', 'virtually', 'shipped', 'collectible', 'independently', 'treasurer', 'remuneration', 'tender', 'radius', 'administrator', 'wholly', 'hypothetical', 'appearance', 'six', 'malpractice', 'weighted', 'basic', 'representation', 'deterioration', 'thus', 'provide', 'ingredient', 'east', 'replace', 'forgive', 'two', 'void', 'wherein', 'legally', 'newly', 'certain', 'eleven', 'failure', 'indemnification', 'white', 'certificate', 'days', 'extreme', 'acknowledged', 'marketable', 'somewhat', 'guanaco', 'replenishment', 'making', 'well', 'regard', 'lengthy', 'taxability', 'staff', 'brief', 'fox', 'adopted', 'map', 'exercisable', 'cease', 'unbundle', 'salaried', 'rating', 'accordingly', 'sixteenth', 'certify', 'thrift', 'prejudice', 'premium', 'extend', 'preferred', 'partner', 'kilowatt', 'master', 'unsuccessful', 'ruling', 'hardwood', 'yielding', 'refueling', 'technologically', 'department', 'supplemental', 'fletcher', 'responsibility', 'ramp', 'cleanup', 'payor', 'plus', 'compliance', 'joint', 'unsecured', 'progress', 'lose', 'surveillance', 'sum', 'property', 'attached', 'senior', 'cypress', 'resubstitution', 'providence', 'issuer', 'tech', 'commerce', 'serve', 'backup', 'safe', 'slot', 'presentment', 'relatively', 'insurance', 'classic', 'dispute', 'remain', 'secretary', 'restrictive', 'dressed', 'therein', 'wish', 'inconsistent', 'settlement', 'fe', 'fairly', 'foresee', 'delegation', 'cig', 'receipt', 'care', 'foundation', 'together', 'liquidation', 'occupy', 'capitalization', 'alco', 'rolled', 'analytical', 'hereinbefore', 'relieve', 'sixth', 'prejudgment', 'mountain', 'safekeeping', 'kiln', 'regulatory', 'customer', 'organizational', 'deem', 'unmatured', 'office', 'buyer', 'stage', 'constitute', 'peace', 'intact', 'electric', 'window', 'succeeding', 'cobra', 'pending', 'shipper', 'mortality', 'janitorial', 'availability', 'location', 'ownership', 'acute', 'lodging', 'annuity', 'life', 'covered', 'greater', 'capacity', 'twentieth', 'influence', 'also', 'plat', 'irrigation', 'subsequent', 'undivided', 'best', 'select', 'furnished', 'casualty', 'plea', 'insufficient', 'marketability', 'occasional', 'inclusion', 'lineal', 'furnishing', 'es', 'feeder', 'indicate', 'targeted', 'dollar', 'unit', 'annul', 'applied', 'excavation', 'line', 'redelivery', 'award', 'act', 'series', 'ten', 'throughput', 'senate', 'schedule', 'violation', 'arbitration', 'fully', 'method', 'dependence', 'per', 'concern', 'uninterrupted', 'demonstrate', 'interest', 'compressor', 'bulletin', 'commit', 'comptroller', 'maturity', 'increasingly', 'flight', 'reorganization', 'depositary', 'interruptible', 'resale', 'writ', 'basin', 'shareholder', 'delinquency', 'shown', 'wood', 'legend', 'defend', 'capitalize', 'tower', 'selling', 'managerial', 'eddy', 'position', 'immunity', 'negligible', 'zoning', 'put', 'apache', 'route', 'utility', 'allow', 'steady', 'consumable', 'viability', 'conduct', 'purpose', 'power', 'laurel', 'analysis', 'section', 'event', 'acquiescence', 'knight', 'official', 'compensation', 'pay', 'proximity', 'reinvestment', 'create', 'tolerance', 'productivity', 'carlin', 'key', 'committee', 'distributor', 'damages', 'hereunder', 'mainly', 'downstream', 'nursery', 'exceeding', 'primarily', 'disposed', 'marked', 'lin', 'parker', 'inverse', 'integrate', 'additional', 'uncontested', 'subcontractor', 'format', 'defined', 'directorship', 'pioneer', 'hereinafter', 'shrinkage', 'finally', 'lake', 'liability', 'would', 'decline', 'contractually', 'bullion', 'thermo', 'refractory', 'fact', 'sodium', 'genuineness', 'found', 'component', 'march', 'conscious', 'excluding', 'reference', 'supply', 'within', 'used', 'rated', 'armed', 'appealing', 'likewise', 'tab', 'operate', 'member', 'opposition', 'distribute', 'exceptional', 'building', 'specific', 'general', 'discovery', 'considerable', 'offer', 'promissory', 'deductible', 'heading', 'insured', 'right', 'dear', 'actuarial', 'condensed', 'option', 'conversion', 'steam', 'contract', 'reaffirmation', 'inside', 'due', 'currency', 'storage', 'source', 'question', 'page', 'calculated', 'employment', 'stein', 'grow', 'amortization', 'distraction', 'sec', 'separate', 'ferrite', 'cancel', 'electro', 'consensus', 'old', 'annual', 'valuable', 'accordance', 'installment', 'aging', 'companion', 'capability', 'bailee', 'omission', 'direct', 'beam', 'mead', 'accept', 'interim', 'herein', 'chart', 'whatsoever', 'fashion', 'renewal', 'unaudited', 'sponsorship', 'quorum', 'disclosed', 'story', 'overall', 'category', 'directly', 'non', 'counter', 'involve', 'protect', 'based', 'essence', 'respectively', 'test', 'advance', 'arithmetic', 'opinion', 'sale', 'distribution', 'mediator', 'nonconforming', 'permitted', 'occupation', 'probability', 'taken', 'patten', 'polyethylene', 'arise', 'freeman', 'share', 'supplement', 'exhibit', 'unpaid', 'special', 'offshore', 'pik', 'area', 'cereal', 'indebtedness', 'ground', 'lower', 'stated', 'duty', 'sealed', 'attest', 'press', 'service', 'guest', 'intrastate', 'latest', 'basis', 'failing', 'load', 'edition', 'respect', 'seismic', 'lee', 'steering', 'novation', 'program', 'action', 'printing', 'formerly', 'auxiliary', 'phantom', 'comparable', 'division', 'wealth', 'river', 'another', 'military', 'ounce', 'calculating', 'detail', 'wellman', 'motion', 'steadily', 'margin', 'ash', 'relate', 'telegram', 'reader', 'providing', 'insurer', 'eighty', 'structural', 'trading', 'assumed', 'docket', 'assignor', 'unique', 'individual', 'slip', 'flat', 'photo', 'nonutility', 'rambler', 'successor', 'percentile', 'whichever', 'balance', 'might', 'alienation', 'sister', 'following', '<unk>', 'extent', 'chase', 'recycle', 'performance', 'bolivia', 'learning', 'kept', 'employer', 'provided', 'higher', 'whose', 'punctual', 'transcript', 'bullet', 'defense', 'reclamation', 'jurisdiction', 'dissolution', 'condemnation', 'separates', 'reversed', 'currently', 'concentrated', 'clarification', 'week', 'mitigate', 'effective', 'combined', 'uranium', 'walker', 'difficulty', 'sought', 'herbicide', 'unexercised', 'defendant', 'coast', 'first', 'owner', 'fluctuation', 'manner', 'made', 'included', 'experience', 'often', 'partially', 'approximate', 'street', 'title', 'video', 'without', 'perfected', 'flexible', 'sixteen', 'unamortized', 'help', 'application', 'conjunction', 'stone', 'franklin', 'bond', 'date', 'comprise', 'time', 'cooking', 'anti', 'develop', 'discriminatory', 'executive', 'mental', 'appropriation', 'worth', 'acquired', 'memory', 'connection', 'advocate', 'nevertheless', 'ratio', 'driver', 'financial', 'notice', 'hundred', 'introductory', 'ramada', 'refrain', 'warrant', 'materiality', 'appropriate', 'personal', 'incorporation', 'emery', 'careful', 'authentication', 'alternatively', 'company', 'fitness', 'frequently', 'cure', 'undistributed', 'bonus', 'chevy', 'morbidity', 'remedial', 'permanently', 'formed', 'undrawn', 'error', 'ninety', 'species', 'suspected', 'security', 'trade', 'facsimile', 'head', 'association', 'respective', 'duration', 'international', 'set', 'metal', 'commencement', 'occupant', 'forth', 'comply', 'registered', 'subcaption', 'acquisition', 'aggressive', 'positive', 'shall', 'dissolve', 'sponsor', 'similar', 'cashier', 'convergence', 'chandler', 'inability', 'pilot', 'participation', 'chattel', 'written', 'married', 'tooling', 'inclusive', 'institute', 'decision', 'file', 'curtailment', 'ryder', 'unused', 'inconsistency', 'brown', 'court', 'rising', 'warner', 'interconnect', 'credit', 'freight', 'stock', 'increase', 'hereof', 'documentary', 'preserve', 'origin', 'exhaust', 'insignificant', 'survivor', 'grand', 'beryllium', 'traffic', 'realty', 'fur', 'reasonably', 'dis', 'fundamental', 'new', 'unqualified', 'notification', 'diminution', 'vicinity', 'course', 'tissue', 'designation', 'migration', 'caller', 'hundredth', 'expect', 'hazardous', 'authorization', 'iso', 'toxic', 'relay', 'waterway', 'excess', 'payment', 'address', 'prepared', 'designer', 'merger', 'fail', 'industry', 'amend', 'sovran', 'adversely', 'discharge', 'trend', 'host', 'travis', 'uncollectible', 'registrar', 'payoff', 'jointly', 'live', 'combination', 'ladies', 'always', 'mix', 'lifetime', 'loan', 'clearance', 'potash', 'ubi', 'adjustable', 'plan', 'indicative', 'aggregate', 'pipe', 'repair', 'breakage', 'ended', 'pace', 'corp', 'previously', 'understood', 'intermediate', 'scientific', 'acme', 'bulk', 'confidentiality', 'northern', 'spending', 'group', 'personally', 'southeast', 'data', 'vista', 'personnel', 'detect', 'effect', 'wherever', 'repeat', 'expressed', 'doubt', 'sizes', 'referral', 'assuming', 'allowance', 'absolute', 'surrounding', 'nickel', 'recoupment', 'merchandise', 'stockpile', 'running', 'commence', 'unemployment', 'agreeable', 'appendix', 'theatrical', 'maritime', 'sample', 'report', 'large', 'amount', 'came', 'simplify', 'discontinue', 'principal', 'pledgee', 'lata', 'single', 'commonwealth', 'benefit', 'protest', 'counterpart', 'wafer', 'marc', 'authenticate', 'invalidity', 'platform', 'restriction', 'achievement', 'guaranty', 'rod', 'perry', 'clause', 'law', 'outstanding', 'sugar', 'infringement', 'cox', 'suspend', 'innovation', 'proved', 'flying', 'county', 'provisional', 'atlas', 'dosage', 'works', 'principle', 'day', 'withhold', 'liquidate', 'recordable', 'order', 'alternative', 'concentrate', 'satellite', 'definitive', 'majority', 'plaintiff', 'mi', 'appointment', 'exposure', 'substandard', 'calcium', 'needs', 'necessary', 'retail', 'system', 'incur', 'sufficient', 'mark', 'technological', 'covering', 'either', 'familiar', 'year', 'satisfactory', 'accelerate', 'drink', 'combustion', 'deactivation', 'pursuant', 'salvage', 'inch', 'numerator', 'recurring', 'nothing', 'ast', 'result', 'thing', 'money', 'forward', 'link', 'promptness', 'impractical', 'genetics', 'arose', 'recognize', 'noncancellable', 'revert', 'accepted', 'demand', 'revocable', 'fourth', 'wrongfully', 'outcome', 'budget', 'broad', 'plantation', 'wife', 'faith', 'trained', 'fifth', 'require', 'conference', 'good', 'movie', 'registration', 'prepayment', 'however', 'national', 'nonexclusive', 'transaction', 'silver', 'filling', 'closure', 'incumbent', 'acting', 'show', 'development', 'aircraft', 'conviction', 'assured', 'regulated', 'auction', 'derive', 'proper', 'represent', 'noble', 'litigation', 'flexibility', 'see', 'quote', 'nearby', 'mason', 'apportionment', 'seventy', 'resigned', 'consummate', 'tier', 'significant', 'hickory', 'deed', 'sierra', 'include', 'unpredictable', 'decimal', 'dome', 'approve', 'sewage', 'deferred', 'misrepresentation', 'memorial', 'fit', 'corresponding', 'tract', 'extinguished', 'compete', 'force', 'oversupply', 'percentage', 'refuse', 'maxwell', 'important', 'volatility', 'director', 'reduce', 'hold', 'grew', 'ingot', 'execution', 'acceptance', 'finding', 'country', 'endorser', 'home', 'objection', 'provision', 'search', 'widow', 'proxy', 'peer', 'record', 'virtue', 'convention', 'upgrade', 'around', 'net', 'grievance', 'sop', 'born', 'coke', 'whatever', 'render', 'burning', 'termination', 'student', 'red', 'contracted', 'subclause', 'library', 'incapable', 'extinguish', 'reserve', 'nonperformance', 'interrupt', 'relation', 'navy', 'except', 'filings', 'borrower', 'regional', 'charge', 'detached', 'cement', 'directed', 'strive', 'responsiveness', 'leakage', 'added', 'landlord', 'fossil', 'seller', 'coal', 'standing', 'fluctuate', 'tangible', 'sender', 'steel', 'unaffected', 'sublessee', 'deprive', 'commitment', 'converting', 'pocket', 'defer', 'conducive', 'involuntary', 'omnibus', 'dividing', 'conditioned', 'guarantee', 'foreign', 'contemporary', 'hereafter', 'food', 'turn', 'purchase', 'fixing', 'control', 'exist', 'dale', 'lime', 'birthday', 'york', 'gaseous', 'illness', 'critical', 'arena', 'exercise', 'transfer', 'sustain', 'deviation', 'resulting', 'oxygen', 'limited', 'excellent', 'incorrectly', 'tal', 'approach', 'holder', 'nine', 'renegotiation', 'attach', 'morris', 'shortly', 'feminine', 'driven', 'approval', 'complaint', 'obligation', 'expert', 'verification', 'permanent', 'shipping', 'circuit', 'exposed', 'thereto', 'agree', 'sufficiently', 'affected', 'silex', 'cable', 'kent', 'audio', 'nationwide', 'advertisement', 'sold', 'postpone', 'rotary', 'linn', 'calendar', 'statement', 'coffee', 'brotherhood', 'entitlement', 'secretarial', 'reflected', 'type', 'improvement', 'arbitral', 'bottler', 'duplication', 'optics', 'future', 'hospitalization', 'problem', 'adequately', 'logistics', 'purchasable', 'misleading', 'knowledge', 'interconnection', 'collectibility', 'known', 'warren', 'northland', 'package', 'explicitly', 'therefrom', 'injurious', 'burdensome', 'subaccount', 'fragmented', 'montana', 'reconcile', 'reactor', 'consolidated', 'lumber', 'cove', 'month', 'fund', 'rig', 'attributable', 'specifically', 'dividend', 'along', 'grid', 'become', 'secondary', 'disadvantage', 'environment', 'meter', 'welcome', 'lob', 'greeting', 'weight', 'consumption', 'value', 'strongly', 'hemisphere', 'monthly', 'august', 'exclusively', 'activation', 'wireless', 'faithfully', 'unchanged', 'portion', 'qualification', 'mortgagor', 'incident', 'smith', 'discrepancy', 'abstract', 'bed', 'present', 'acre', 'workmanship', 'effectively', 'specially', 'west', 'cook', 'prior', 'discovered', 'gold', 'con', 'attack', 'mileage', 'established', 'soundness', 'indemnity', 'oil', 'older', 'continuation', 'rowan', 'base', 'ben', 'sure', 'magnetic', 'limitation', 'presently', 'tenant', 'involved', 'sustaining', 'hinder', 'consider', 'impermissible', 'maintain', 'duplicate', 'competitive', 'rouge', 'reg', 'least', 'genuine', 'concert', 'assigned', 'reduced', 'bleached', 'change', 'encore', 'ich', 'cream', 'presentation', 'collectively', 'withheld', 'enrollment', 'integral', 'reclassification', 'way', 'healthy', 'confirming', 'constructive', 'big', 'numerically', 'garret', 'prevent', 'elect', 'center', 'rabbi', 'undisputed', 'unconsolidated', 'actually', 'repurchase', 'optic', 'reinsurance', 'bound', 'investigation', 'term', 'suit', 'harmless', 'ways', 'remittance', 'assistant', 'whereof', 'allocate', 'raw', 'nearly', 'assignee', 'wholesale', 'admit', 'thirty', 'mammary', 'heavy', 'definition', 'forty', 'china', 'strength', 'square', 'tandem', 'protection', 'orientation', 'agent', 'valuation', 'totally', 'reimbursable', 'quarterly', 'affirmative', 'farm', 'requisition', 'cooler', 'forecast', 'bell', 'converse', 'delaying', 'compensate', 'full', 'estimate', 'becomes', 'weak', 'essentially', 'continental', 'rail', 'list', 'evidence', 'milk', 'paragraph', 'cotton', 'collection', 'liquidator', 'adopt', 'declined', 'extraordinary', 'intercompany', 'fronting', 'passive', 'ordinarily', 'recording', 'terminal', 'sustainable', 'aim', 'comparison', 'hospitality', 'inappropriate', 'extended', 'bear', 'assign', 'classified', 'textile', 'clay', 'snap', 'millions', 'medical', 'theater', 'favorable', 'outside', 'justice', 'annuitant', 'posting', 'wynn', 'fix', 'cat', 'airfreight', 'make', 'banker', 'poor', 'meal', 'close', 'hei', 'defeasance', 'nation', 'wide', 'loaded', 'lessee', 'smart', 'brazil', 'locally', 'leading', 'unusually', 'southern', 'nonforfeitable', 'sinking', 'survival', 'extension', 'utilize', 'fiscal', 'contractor', 'northwestern', 'shoe', 'installation', 'alteration', 'someone', 'engineering', 'larry', 'po', 'modest', 'technology', 'motel', 'otherwise', 'pursue', 'brunswick', 'existence', 'substituting', 'convertible', 'rural', 'damage', 'ness', 'answer', 'beach', 'distributed', 'variable', 'participate', 'situation', 'gross', 'translation', 'thereby', 'floating', 'cannot', 'unremitted', 'brink', 'intended', 'conner', 'minority', 'lieu', 'taxable', 'resolved', 'reason', 'impacted', 'modern', 'final', 'machinery', 'temporary', 'conditional', 'endorsement', 'affordable', 'severance', 'generating', 'fraudulent', 'horse', 'prospectively', 'fence', 'transact', 'violate', 'opportunity', 'limit', 'certified', 'true', 'lawfully', 'holdback', 'enforced', 'encumbrance', 'lynch', 'dismantlement', 'residential', 'seven', 'improve', 'contemplate', 'beet', 'impair', 'canada', 'showboat', 'integrity', 'leverage', 'completion', 'eastern', 'contrary', 'private', 'touch', 'fourteen', 'whenever', 'union', 'bull', 'publish', 'respond', 'disk', 'taking', 'unrealized', 'resign', 'royalty', 'profit', 'license', 'removal', 'possibly', 'cardinal', 'summons', 'range', 'hull', 'attention', 'economics', 'necessitate', 'remedy', 'dominion', 'chips', 'increasing', 'observe', 'exclusive', 'robin', 'affecting', 'valid', 'satisfaction', 'unscheduled', 'tire', 'clearly', 'outflow', 'remediation', 'television', 'mirror', 'remove', 'upward', 'marketing', 'twenty', 'technical', 'authorized', 'reflecting', 'relationship', 'income', 'refund', 'one', 'deferral', 'regularly', 'vendor', 'enrolled', 'representative', 'punitive', 'assurance', 'finished', 'unable', 'clark', 'reception', 'yield', 'te', 'length', 'need', 'unasserted', 'decree', 'coastal', 'opposite', 'designate', 'thereat', 'preparation', 'real', 'previous', 'grown', 'sell', 'disappointing', 'ahead', 'telegraphic', 'aware', 'trucks', 'rata', 'pest', 'subparagraph', 'prime', 'highly', 'accuracy', 'expire', 'therefore', 'sprint', 'attendance', 'institution', 'denomination', 'unenforceable', 'prince', 'invest', 'computation', 'warranty', 'expectancy', 'degree', 'mutual', 'undue', 'issue', 'ae', 'write', 'open', 'informal', 'infringe', 'banc', 'vacant', 'jersey', 'denote', 'insulation', 'chemical', 'seeking', 'guide', 'reflect', 'accrual', 'spouse', 'binary', 'nonstandard', 'characteristic', 'positively', 'funded', 'san', 'labor', 'else', 'behalf', 'gas', 'tear', 'park', 'moorman', 'tribunal', 'northeastern', 'commutation', 'terminate', 'maintenance', 'distance', 'point', 'conclusive', 'capable', 'throughout', 'potentially', 'vast', 'iris', 'stipulation', 'index', 'liable', 'enforcement', 'understanding', 'successfully', 'deceased', 'essential', 'barrel', 'demanding', 'remains', 'belle', 'earning', 'every', 'foothill', 'aft', 'slab', 'administrative', 'organized', 'calling', 'brought', 'relief', 'particularly', 'occupancy', 'slow', 'authorize', 'jurisdictional', 'bloom', 'leader', 'substance', 'claimant', 'branch', 'generale', 'clean', 'cyclical', 'circumstance', 'carbonic', 'merit', 'furnish', 'successful', 'validity', 'enter', 'rim', 'foreclose', 'lockout', 'consummation', 'designed', 'must', 'sheet', 'design', 'allocable', 'jean', 'borne', 'possession', 'enable', 'unremedied', 'disqualify', 'fixed', 'carried', 'kirk', 'light', 'origination', 'pine', 'recognition', 'silica', 'beyond', 'dean', 'rise', 'microfilm', 'output', 'concerning', 'reconciliation', 'display', 'dart', 'assessment', 'resignation', 'imposition', 'adapt', 'ne', 'factor', 'derivative', 'granite', 'regulate', 'produced', 'frontier', 'cross', 'satisfied', 'example', 'baa', 'hire', 'current', 'maximum', 'demonstration', 'northwest', 'regarding', 'tailings', 'unreported', 'direction', 'hereby', 'difference', 'grouse', 'sound', 'overturn', 'repay', 'align', 'operational', 'inducement', 'disposition', 'transferee', 'confidential', 'champion', 'consequence', 'priority', 'normally', 'drawn', 'practicable', 'information', 'revision', 'recover', 'unguaranteed', 'malt', 'chancery', 'ultimate', 'five', 'sand', 'severely', 'consecutive', 'rentable', 'lesser', 'legislation', 'shaw', 'applicable', 'consistent', 'privilege', 'discrete', 'disability', 'partial', 'multiplying', 'blake', 'florence', 'western', 'correcting', 'cap', 'ensure', 'postal', 'unreasonable', 'transition', 'danger', 'conform', 'june', 'doubtful', 'housing', 'insufficiency', 'panama', 'corridor', 'retired', 'sentence', 'according', 'boulevard', 'depose', 'systematics', 'jet', 'name', 'deduct', 'notional', 'fertilizer', 'statute', 'comfort', 'doc', 'stamping', 'notwithstanding', 'instruction', 'meridian', 'received', 'arbitrate', 'intersection', 'likely', 'substantial', 'carrying', 'incumbency', 'operator', 'considered', 'cell', 'repeal', 'herewith', 'cooper', 'cessation', 'consideration', 'colonial', 'serving', 'reverse', 'inland', 'significance', 'independence', 'goods', 'restore', 'difficult', 'assure', 'fast', 'custodian', 'decrease', 'heating', 'remote', 'historical', 'additive', 'desert', 'noise', 'atomic', 'sublet', 'comprised', 'gathering', 'secure', 'individually', 'fiduciary', 'closed', 'slightly', 'core', 'sixty', 'profitability', 'stride', 'establish', 'intent', 'hereon', 'beginning', 'suspended', 'automatically', 'burned', 'ventilation', 'segment', 'acceleration', 'practical', 'characterization', 'nonstop', 'backing', 'seepage', 'syndicate', 'derived', 'geographically', 'antitrust', 'kern', 'appreciation', 'experienced', 'greenwood', 'conformity', 'timely', 'yet', 'harman', 'defease', 'us', 'young', 'canned', 'nineteen', 'race', 'wire', 'reacquire', 'drilling', 'journal', 'though', 'earn', 'setoff', 'path', 'sector', 'boston', 'assertion', 'softwood', 'subsequently', 'stocks', 'prospectus', 'necessarily', 'low', 'call', 'competence', 'preopening', 'refurbishment', 'thereunto', 'evaluate', 'precedent', 'petroleum', 'unanticipated', 'delay', 'underlying', 'disposal', 'specialty', 'fluid', 'continuous', 'emotional', 'small', 'amendment', 'ample', 'promise', 'alloy', 'accrue', 'solicit', 'simulation', 'toy', 'effectually', 'proportion', 'fork', 'timing', 'derivatively', 'acceptable', 'sign', 'aboard', 'delegate', 'generally', 'omit', 'self', 'wrongful', 'statistics', 'chloride', 'age', 'becker', 'wave', 'ongoing', 'incorporator', 'choosing', 'pensionable', 'reside', 'face', 'character', 'realizing', 'plural', 'enforce', 'physical', 'discipline', 'active', 'airlift', 'noncontributory', 'structure', 'strategically', 'photofinishing', 'discrimination', 'bearer', 'issuable', 'bad', 'vice', 'involuntarily', 'enforceability', 'handled', 'cancellation', 'variety', 'third', 'equitable', 'crime', 'consulting', 'al', 'uninsured', 'last', 'interstate', 'retailer', 'captive', 'global', 'limiting', 'eighteenth', 'surplus', 'casino', 'recently', 'govern', 'proof', 'nearest', 'truck', 'monetary', 'explanatory', 'dispose', 'band', 'floor', 'elk', 'number', 'voluntary', 'risk', 'vessel', 'obtain', 'survey', 'attendant', 'pollution', 'incorporated', 'sublease', 'evaluation', 'read', 'neighboring', 'comment', 'subsidiary', 'atlantic', 'united', 'carte', 'becoming', 'impartial', 'practice', 'equivalence', 'surviving', 'thereof', 'near', 'invoke', 'exchange', 'adjudicate', 'arbitrator', 'winding', 'variance', 'civil', 'plate', 'board', 'pass', 'restate', 'originally', 'breach', 'payroll', 'paper', 'incorrect', 'indemnitor', 'chestnut', 'percent', 'charitable', 'negligence', 'recourse', 'campus', 'instance', 'pinnacle', 'seasonal', 'network', 'sewer', 'hospital', 'verify', 'canteen', 'cash', 'contaminant', 'waive', 'optional', 'displacement', 'release', 'related', 'card', 'carrier', 'beneficially', 'better', 'modify', 'competitively', 'foreclosure', 'seasonality', 'legal', 'encourage', 'expanded', 'quiet', 'dealer', 'suburb', 'bank', 'beneficial', 'safety', 'idle', 'wade', 'interested', 'quest', 'pleasure', 'undesignated', 'assume', 'injury', 'volume', 'flour', 'field', 'inconvenient', 'judicial', 'expiring', 'entire', 'diamond', 'consultant', 'estate', 'shipbuilding', 'composed', 'valued', 'proceed', 'strategic', 'reload', 'mean', 'charter', 'combine', 'nontransferable', 'row', 'project', 'uncompleted', 'passage', 'recoverable', 'shell', 'stake', 'lender', 'equal', 'misconduct', 'stayed', 'convert', 'gray', 'designee', 'body', 'raised', 'unresolved', 'actively', 'implement', 'perfection', 'separately', 'dispersion', 'grantor', 'policy', 'access', 'harsh', 'geographic', 'mirage', 'cellular', 'dress', 'reorganize', 'harmful', 'externally', 'mining', 'receipts', 'caption', 'count', 'physically', 'add', 'finder', 'responsive', 'corning', 'cathode', 'fill', 'returned', 'undergo', 'inflation', 'environmental', 'free', 'election', 'instrument', 'bilateral', 'de', 'expand', 'submission', 'requisite', 'renew', 'suite', 'begin', 'submersible', 'milner', 'produce', 'links', 'salary', 'duly', 'emergency', 'people', 'resort', 'proceeding', 'bally', 'hotel', 'different', 'dauphin', 'marina', 'restricted', 'interfere', 'payee', 'behind', 'engage', 'communication', 'rate', 'tenancy', 'divided', 'ly', 'block', 'item', 'closely', 'negotiate', 'revolving', 'domestic', 'deficiency', 'dealing', 'surgical', 'sluggish', 'picture', 'overview', 'end', 'inadequate', 'engagement', 'st', 'debt', 'patent', 'promptly', 'municipal', 'licensed', 'chapter', 'twin', 'settled', 'alarm', 'confirmation', 'largely', 'observable', 'operating', 'gauging', 'numerical', 'ton', 'survive', 'physician', 'remainder', 'increment', 'meet', 'mine', 'bottle', 'japan', 'preservation', 'selectively', 'paying', 'baseball', 'season', 'professional', 'advisable', 'side', 'scope', 'liquid', 'petition', 'unaffiliated', 'container', 'depositor', 'regular', 'convenience', 'riser', 'irrevocably', 'swing', 'leasehold', 'stockholder', 'creditor', 'franchise', 'alienate', 'fraction', 'expressly', 'lens', 'transportation', 'class', 'extracted', 'rose', 'affidavit', 'move', 'frequency', 'given', 'biological', 'mid', 'orchard', 'phases', 'unsafe', 'semiannually', 'ceiling', 'chevron', 'confidence', 'manually', 'foregone', 'yale', 'detection', 'cinema', 'diaper', 'metric', 'coming', 'reduction', 'rent', 'career', 'substantially', 'hydrocarbon', 'mechanics', 'negotiable', 'exploring', 'chicken', 'marking', 'oversight', 'extrusion', 'mortgage', 'admission', 'improper', 'asbestos', 'occasion', 'engaging', 'color', 'grain', 'trigger', 'thorough', 'carriage', 'dial', 'diminish', 'chlorate', 'exploratory', 'parachute', 'proven', 'setting', 'reasonableness', 'megawatt', 'tu', 'walter', 'contravention', 'urban', 'golf', 'absorb', 'parkway', 'tend', 'zone', 'aggressively', 'seal', 'strand', 'downtown', 'meritorious', 'concerned', 'weakness', 'canyon', 'collector', 'eventual', 'exact', 'imply', 'redeem', 'hydroelectric', 'incorporate', 'appliance', 'pump', 'cit', 'occupational', 'perpetual', 'controversy', 'customs', 'debit', 'roe', 'allied', 'boiler', 'pierce', 'workplace', 'inoperative', 'cole', 'honor', 'dental', 'exhibition', 'sudden', 'mountaineer', 'unauthorized', 'subtenant', 'delete', 'urea', 'venue', 'fisher', 'bottling', 'particulate', 'casual', 'knowing', 'message', 'chamber', 'redeployment', 'seed', 'coil', 'yen', 'rental', 'publicity', 'corrupt', 'strictly', 'subjected', 'flood', 'indices', 'tape', 'college', 'comport', 'diagnostic', 'differential', 'radiation', 'renewable', 'rolling', 'salomon', 'shipyard', 'prosecute', 'unprofitable', 'fare', 'correction', 'excessive', 'roadway', 'measuring', 'saving', 'tarragon', 'theft', 'harvest', 'prejudicial', 'lane', 'realign', 'shuttle', 'turnover', 'dining', 'punctually', 'cola', 'wright', 'portable', 'covenant', 'architect', 'licensee', 'blast', 'felony', 'satisfying', 'reliance', 'rebuild', 'fairness', 'injection', 'magnitude', 'debtor', 'rice', 'rubber', 'trump', 'ineligible', 'innovative', 'ammunition', 'distant', 'leaving', 'hydrogen', 'brewing', 'reaction', 'differ', 'propose', 'threat', 'hedge', 'corn', 'hard', 'ineffective', 'gateway', 'serious', 'citrus', 'presumption', 'ordinance', 'rocky', 'planting', 'roll', 'unconditionally', 'exempt', 'bottom', 'star', 'wolf', 'indefinitely', 'nancy', 'cluster', 'obtainable', 'strip', 'leach', 'ring', 'movement', 'optical', 'domestically', 'petrochemical', 'depot', 'launch', 'quickly', 'spend', 'swiss', 'midland', 'investigating', 'athletic', 'object', 'reseller', 'registry', 'revise', 'gift', 'pen', 'monopoly', 'border', 'basically', 'zinc', 'implication', 'panel', 'jiffy', 'period', 'worthiness', 'upcoming', 'lambert', 'medium', 'graphic', 'music', 'naming', 'verbal', 'reputable', 'secret', 'nab', 'hostile', 'war', 'communicate', 'compensating', 'bacon', 'health', 'industrial', 'truth', 'house', 'assessable', 'readjustment', 'critically', 'profile', 'walnut', 'sports', 'valve', 'construe', 'argentine', 'behavioral', 'noteholder', 'interactive', 'na', 'introduce', 'ce', 'executory', 'jewelry', 'adjoining', 'tie', 'ha', 'kodak', 'nova', 'parallel', 'sequa', 'obligor', 'spectrum', 'disagreement', 'economic', 'revaluation', 'climate', 'track', 'interfering', 'transit', 'operative', 'worcester', 'dissent', 'residue', 'hazard', 'detrimental', 'unstayed', 'deadline', 'hook', 'ranged', 'frost', 'geneva', 'allege', 'leasable', 'possessory', 'pier', 'train', 'believe', 'volatile', 'notify', 'stability', 'afford', 'corpus', 'hepatitis', 'crop', 'exhaustion', 'municipality', 'salt', 'paperboard', 'server', 'solicited', 'manager', 'resell', 'invitation', 'array', 'anchor', 'burke', 'able', 'consequential', 'relieved', 'disadvantageous', 'unbonded', 'oak', 'signet', 'faster', 'hub', 'exploitation', 'poultry', 'prescription', 'away', 'quarters', 'compression', 'quasi', 'choice', 'dismemberment', 'ratify', 'telecast', 'undisclosed', 'divestiture', 'indefinite', 'vesting', 'insider', 'streets', 'pertain', 'woodland', 'unless', 'shut', 'colorado', 'intelligent', 'sporting', 'shock', 'recoverability', 'science', 'incremental', 'dade', 'deputy', 'addition', 'dynamic', 'overdraft', 'indexed', 'sue', 'ball', 'illustrate', 'compass', 'restraining', 'man', 'yearly', 'blood', 'sanitary', 'visit', 'sept', 'nonresidential', 'rea', 'abroad', 'determined', 'arisen', 'aforesaid', 'layoff', 'vertically', 'substitution', 'affirm', 'ridge', 'yard', 'gallon', 'obsolete', 'exterior', 'dumping', 'includable', 'processor', 'finalize', 'column', 'traditionally', 'configuration', 'projecting', 'declaration', 'correlative', 'deep', 'mary', 'relinquishment', 'roof', 'transferability', 'cedar', 'pendency', 'construction', 'barber', 'singly', 'virgin', 'dodge', 'agricultural', 'unrecovered', 'relevant', 'comes', 'golden', 'receive', 'candidate', 'pensioner', 'weather', 'subpart', 'explain', 'back', 'chino', 'conduit', 'suburban', 'electrical', 'renegotiate', 'tied', 'varied', 'bylaw', 'eleventh', 'offeree', 'dilution', 'haft', 'buffalo', 'round', 'enjoyment', 'easterly', 'circus', 'inquire', 'intending', 'veneer', 'preamble', 'treble', 'reveal', 'dispatch', 'estimation', 'instruct', 'worker', 'resume', 'scheme', 'medically', 'smelter', 'geophysical', 'ralph', 'reconsideration', 'store', 'dominant', 'stainless', 'solvency', 'memoranda', 'simply', 'reinforcement', 'timberland', 'unvested', 'fresh', 'oracle', 'nonoperating', 'tentative', 'wrote', 'unsuitable', 'distinct', 'magazine', 'electricity', 'pi', 'ridder', 'royal', 'start', 'turnkey', 'destroy', 'tree', 'slate', 'circle', 'unclaimed', 'refrigeration', 'unregulated', 'breast', 'layer', 'explore', 'dow', 'heart', 'intensive', 'cancer', 'expend', 'diversity', 'seam', 'pattern', 'joining', 'supermarket', 'remit', 'solar', 'ti', 'correctly', 'murphy', 'revenue', 'cylinder', 'peaking', 'wa', 'belonging', 'subpoena', 'roger', 'tested', 'condition', 'academy', 'district', 'log', 'pizza', 'contention', 'executor', 'warmer', 'apple', 'overtime', 'ranging', 'consist', 'popular', 'conserve', 'rider', 'binding', 'carpet', 'validly', 'concession', 'estoppel', 'superior', 'rest', 'telecommunication', 'breakdown', 'witness', 'similarly', 'drop', 'underway', 'mellon', 'costly', 'trillion', 'unlimited', 'butler', 'insubstantial', 'gilbert', 'optimistic', 'guilty', 'eviction', 'reward', 'nitrogen', 'switch', 'perfect', 'task', 'jerry', 'protecting', 'expensive', 'frequent', 'beneath', 'switched', 'phone', 'efficient', 'clothing', 'sequential', 'equipment', 'frame', 'volumetric', 'absorption', 'absolutely', 'masculine', 'consequent', 'forced', 'skilled', 'raising', 'inpatient', 'felt', 'ticket', 'contemplation', 'spun', 'selective', 'shop', 'play', 'standardized', 'recommend', 'wind', 'courier', 'biogen', 'inquiry', 'thousand', 'bookkeeping', 'constitution', 'lawn', 'concurrence', 'accurately', 'disaster', 'dot', 'dover', 'still', 'lone', 'powder', 'manor', 'railway', 'bleaching', 'carter', 'benzene', 'electron', 'borrowing', 'say', 'hertz', 'trucking', 'mostly', 'laid', 'finishing', 'disallowance', 'sincerely', 'tube', 'voltage', 'erosion', 'fish', 'netting', 'quotient', 'relocate', 'variation', 'apparent', 'transitional', 'divest', 'explaining', 'dust', 'combining', 'offeror', 'cayman', 'printer', 'draw', 'skin', 'appendices', 'harry', 'relational', 'concentration', 'coin', 'resultant', 'generality', 'tiffany', 'gear', 'beauty', 'deck', 'reprice', 'criterion', 'netted', 'tow', 'obligate', 'propylene', 'emergence', 'probably', 'unanimously', 'earth', 'missile', 'executed', 'privacy', 'neglect', 'disinterested', 'receivables', 'ave', 'branching', 'supervisor', 'possessing', 'carefully', 'simplified', 'forge', 'riverside', 'inaction', 'bob', 'palm', 'procedural', 'waxman', 'briefly', 'pharmaceutical', 'research', 'animal', 'seat', 'correspondent', 'orally', 'groundwood', 'removing', 'unsold', 'repayable', 'withdrawing', 'equalization', 'hydraulic', 'retrospective', 'inn', 'acknowledge', 'barge', 'marketer', 'lodged', 'sportswear', 'classes', 'cotter', 'subcontract', 'facing', 'sunshine', 'apparatus', 'baxter', 'complement', 'elevator', 'suggest', 'text', 'jordan', 'absence', 'reissue', 'soviet', 'reproduction', 'correctness', 'pet', 'prosecution', 'instructed', 'costing', 'tri', 'underpayment', 'predecessor', 'conservative', 'holiday', 'operation', 'salad', 'timothy', 'pyramid', 'impartiality', 'reconstruction', 'relinquish', 'lowering', 'arc', 'sawmill', 'collocation', 'simple', 'expectation', 'mature', 'nonearning', 'bidder', 'formally', 'segregate', 'alter', 'merely', 'parish', 'specify', 'apart', 'skill', 'premise', 'daywork', 'conflicting', 'stay', 'decade', 'knowingly', 'proportional', 'encompass', 'amends', 'titled', 'interrupted', 'consortium', 'dell', 'four', 'baggage', 'dishonor', 'obligatory', 'efficiently', 'summer', 'ga', 'facilitate', 'proving', 'withdrawal', 'laying', 'run', 'cool', 'trinity', 'wheel', 'enjoy', 'stop', 'harm', 'racing', 'drill', 'oh', 'screen', 'accredited', 'collins', 'compatible', 'liquidity', 'environmentally', 'neuter', 'rio', 'nelson', 'province', 'reborrow', 'forbearance', 'ratification', 'exclusivity', 'undiscounted', 'burn', 'comparability', 'divisional', 'hypothecate', 'juice', 'pledge', 'minute', 'interface', 'treasure', 'wheeler', 'nonvoting', 'awareness', 'midrange', 'recorder', 'expansion', 'sequence', 'digital', 'thin', 'turnaround', 'freely', 'callable', 'upstream', 'bauxite', 'endeavor', 'extraction', 'sent', 'moderately', 'bonded', 'kind', 'consistency', 'arms', 'holly', 'widespread', 'prima', 'magnet', 'went', 'competitiveness', 'initially', 'foundry', 'fabric', 'loyalty', 'vending', 'modestly', 'dod', 'survivorship', 'founder', 'distinction', 'unrelated', 'freeze', 'ratable', 'considerably', 'historic', 'ingress', 'semiannual', 'lube', 'amt', 'ease', 'beer', 'chargeable', 'balloon', 'chip', 'greatly', 'fay', 'legislature', 'questionnaire', 'electronics', 'effectiveness', 'solution', 'obsolescence', 'demolition', 'unlawful', 'compulsory', 'overhaul', 'bard', 'phi', 'yes', 'severable', 'studio', 'audit', 'acquirer', 'vertical', 'chassis', 'kidder', 'compensatory', 'narrative', 'assuring', 'dam', 'authenticity', 'drinking', 'micro', 'quantum', 'sampling', 'gradually', 'sky', 'pur', 'win', 'alien', 'engaged', 'leisure', 'regulator', 'radar', 'nonaffiliated', 'perishable', 'terry', 'sophisticated', 'bypass', 'army', 'absorbed', 'mediation', 'singer', 'balanced', 'bus', 'garnishment', 'please', 'counsel', 'philosophy', 'corpora', 'reflective', 'strike', 'supervise', 'kist', 'proportionally', 'peach', 'locate', 'mechanic', 'organic', 'prevail', 'midnight', 'photograph', 'wet', 'employee', 'unnecessary', 'para', 'rain', 'restrain', 'room', 'sending', 'tribe', 'certiorari', 'ethical', 'unforeseen', 'forfeit', 'lag', 'cardiovascular', 'landing', 'summit', 'bakery', 'prepetition', 'session', 'advantageous', 'conclude', 'magma', 'incipient', 'lawsuit', 'mount', 'random', 'wrap', 'eighth', 'barred', 'conspiracy', 'medicine', 'convex', 'definitional', 'sam', 'ust', 'pants', 'south', 'chile', 'destination', 'discussion', 'permissive', 'lettered', 'ranked', 'seniority', 'unexpected', 'pose', 'victor', 'ban', 'audience', 'ani', 'manufacturer', 'willful', 'bonding', 'deg', 'edge', 'explosion', 'baker', 'style', 'armor', 'hay', 'enough', 'long', 'nonstatutory', 'intervention', 'ethics', 'comparatively', 'lapsed', 'ray', 'webber', 'functionality', 'bend', 'bought', 'connect', 'german', 'adult', 'donna', 'sick', 'wage', 'naval', 'covenanted', 'nonetheless', 'vulnerable', 'viable', 'axis', 'cone', 'curve', 'assert', 'contiguous', 'fourteenth', 'hole', 'kitchen', 'specimen', 'ranch', 'sons', 'thirtieth', 'egg', 'titanium', 'carton', 'spousal', 'unforeseeable', 'mind', 'arbitrary', 'god', 'heritage', 'sewing', 'turner', 'hypothecation', 'panhandle', 'remand', 'curtailed', 'impracticable', 'ask', 'sion', 'barry', 'modular', 'forego', 'pit', 'compare', 'thoroughbred', 'hose', 'duplicative', 'compatibility', 'compel', 'warranted', 'battery', 'looking', 'transcontinental', 'haul', 'custodial', 'min', 'menu', 'unimpaired', 'brass', 'appropriately', 'originate', 'soon', 'undischarged', 'equitably', 'unwilling', 'dedication', 'endorsed', 'polymer', 'superintendent', 'cracking', 'assent', 'disposable', 'severity', 'dynamics', 'attorney', 'seen', 'treaty', 'dismissal', 'mac', 'anywhere', 'appurtenant', 'builder', 'foam', 'injunction', 'storm', 'peripheral', 'corona', 'perspective', 'react', 'trust', 'seating', 'stern', 'observance', 'villa', 'hardship', 'unredeemed', 'precisely', 'accountable', 'background', 'lucky', 'allocation', 'truckload', 'mismanagement', 'chair', 'correspond', 'misuse', 'spare', 'eye', 'filter', 'northerly', 'onto', 'standstill', 'subdivide', 'concord', 'lay', 'took', 'fluor', 'furnace', 'compounding', 'plurality', 'spite', 'proration', 'expedited', 'target', 'abuse', 'unconstitutional', 'proportionately', 'encounter', 'downturn', 'warm', 'incompetent', 'connector', 'wellington', 'noon', 'asphalt', 'bondholder', 'chlorine', 'graham', 'bureau', 'taxpayer', 'howsoever', 'disapprove', 'suretyship', 'distress', 'recreation', 'turbines', 'attain', 'grading', 'citizen', 'younger', 'dissimilar', 'embassy', 'rounded', 'orderly', 'recapture', 'connectivity', 'tribune', 'shortage', 'luxury', 'patentable', 'unilateral', 'atmosphere', 'flip', 'wagering', 'ceramic', 'coinsurance', 'nep', 'unfair', 'silicon', 'clerical', 'flooding', 'cost', 'ethyl', 'inspector', 'jay', 'neutral', 'paradise', 'unearned', 'mail', 'proctor', 'economically', 'resin', 'ammonia', 'complimentary', 'affiliation', 'dual', 'enstar', 'prohibit', 'fixture', 'tortious', 'aba', 'greenery', 'constellation', 'expose', 'creditable', 'hanna', 'moral', 'imminent', 'prejudiced', 'winter', 'repossession', 'surgery', 'milling', 'vinyl', 'wise', 'agriculture', 'discontinuation', 'nylon', 'elapse', 'placement', 'dan', 'meat', 'possessed', 'supersede', 'restatement', 'shorten', 'whole', 'sphere', 'suitability', 'watch', 'beverage', 'gate', 'disburse', 'namely', 'willingness', 'bore', 'station', 'canton', 'nuisance', 'capture', 'cover', 'interlake', 'routinely', 'detriment', 'sufficiency', 'ration', 'diluted', 'uncollected', 'several', 'vacuum', 'westerly', 'whomsoever', 'alcohol', 'conversely', 'matrix', 'level', 'dole', 'enhancement', 'hunt', 'insist', 'twelfth', 'ideal', 'nondiscrimination', 'liquor', 'notably', 'reach', 'reform', 'unbundled', 'boardwalk', 'pertinent', 'mill', 'furtherance', 'walt', 'engine', 'oath', 'teller', 'turkey', 'wacker', 'argument', 'disproportionate', 'neal', 'shield', 'broadly', 'compact', 'intervene', 'tubing', 'airport', 'newton', 'premature', 'mandatorily', 'seizure', 'weighting', 'corner', 'addressee', 'via', 'sort', 'pursuit', 'smoking', 'merchant', 'tabulation', 'rescission', 'tidewater', 'arrival', 'assemble', 'id', 'morning', 'capital', 'housewares', 'wholesaler', 'indefeasible', 'imperial', 'segregation', 'abolish', 'unpatented', 'voyage', 'done', 'correspondingly', 'join', 'dissenting', 'flue', 'dos', 'mutilation', 'sickness', 'repatriation', 'nondiscriminatory', 'pilgrim', 'specification', 'sa', 'layout', 'forever', 'styrene', 'therapeutic', 'generate', 'digit', 'success', 'doubled', 'messenger', 'epic', 'print', 'catastrophic', 'photographic', 'tail', 'forecasting', 'ross', 'think', 'geological', 'booked', 'indemnify', 'turpitude', 'fire', 'contractual', 'collar', 'corps', 'ethylene', 'demographic', 'post', 'intermediary', 'wheat', 'brook', 'consensual', 'motivate', 'faced', 'unfilled', 'redemption', 'fin', 'lafayette', 'upwards', 'selected', 'camp', 'quitclaim', 'ambient', 'reacquisition', 'somerset', 'yarn', 'shifting', 'hondo', 'stabilize', 'paint', 'commensurate', 'theory', 'warning', 'gene', 'logic', 'nontransferability', 'fide', 'colors', 'freestanding', 'informational', 'susceptible', 'putative', 'drew', 'justify', 'dissemination', 'remodel', 'liner', 'polyester', 'collective', 'viking', 'locomotive', 'marsh', 'elementary', 'checked', 'unacceptable', 'unencumbered', 'testing', 'usable', 'price', 'visual', 'conservator', 'carpenter', 'consignment', 'rented', 'decorative', 'freedom', 'egghead', 'guard', 'opposing', 'baby', 'forwards', 'subjective', 'accommodation', 'reservoir', 'cherry', 'terrace', 'costa', 'adjournment', 'displayed', 'globe', 'pertaining', 'mo', 'overline', 'piece', 'reducing', 'electromechanical', 'horn', 'predominantly', 'reauthorization', 'valley', 'comet', 'underwriter', 'butane', 'exploration', 'fitch', 'onerous', 'crossing', 'exploit', 'caterpillar', 'pole', 'officer', 'demurrage', 'unbleached', 'giant', 'plaza', 'sequentially', 'supervision', 'specialist', 'successively', 'sealing', 'dip', 'effluent', 'hereto', 'whereby', 'phosphate', 'eligibility', 'pork', 'turns', 'reciprocal', 'reimburse', 'restraint', 'litigant', 'accumulate', 'snow', 'flown', 'primary', 'counting', 'hale', 'linked', 'employ', 'diligent', 'undertaking', 'distinctive', 'governor', 'mas', 'transmittal', 'submarine', 'upscale', 'southerly', 'lockbox', 'levy', 'unsettled', 'workout', 'airframe', 'blending', 'addendum', 'adhesive', 'rejection', 'curtail', 'misappropriation', 'refusing', 'cushion', 'tar', 'multiple', 'solvent', 'willfully', 'waterfront', 'cede', 'left', 'cog', 'colony', 'expeditiously', 'unitary', 'bowling', 'horsepower', 'intimate', 'lung', 'molding', 'night', 'pan', 'thirteenth', 'delivery', 'pack', 'blockbuster', 'centered', 'extinguishment', 'precise', 'dealt', 'engraved', 'lotus', 'triad', 'modification', 'dramatic', 'foster', 'seventeenth', 'dalton', 'oppose', 'bind', 'mitigation', 'indexing', 'operable', 'indictment', 'subsidy', 'vote', 'boundary', 'appealable', 'goodwill', 'io', 'uniform', 'talent', 'easier', 'undergoing', 'battle', 'diameter', 'draper', 'signer', 'tone', 'augmented', 'plywood', 'wages', 'curing', 'null', 'enhance', 'deployment', 'contributor', 'knew', 'purchaser', 'reclassify', 'retransmission', 'decommission', 'hence', 'precede', 'rounding', 'conn', 'discretion', 'southeasterly', 'objectivity', 'unlike', 'wolverine', 'bread', 'broken', 'diversify', 'incoming', 'lan', 'ozone', 'manufacture', 'analogic', 'prototype', 'book', 'contribute', 'tactical', 'document', 'advancing', 'cumulatively', 'equip', 'excellence', 'grey', 'inclement', 'carl', 'lear', 'occasionally', 'boat', 'flooring', 'hood', 'bedding', 'kelly', 'affirmation', 'ref', 'uncured', 'measurable', 'webster', 'avoidance', 'cafeteria', 'duff', 'closer', 'adoption', 'cornerstone', 'exception', 'conservatorship', 'en', 'arcade', 'cruces', 'incineration', 'straddle', 'avenue', 'ambiguity', 'examiner', 'undertook', 'marginally', 'unrated', 'summarize', 'accountability', 'aurora', 'form', 'heller', 'grossly', 'preceding', 'scrip', 'immediately', 'acrylonitrile', 'brake', 'install', 'clarify', 'crisp', 'basket', 'carry', 'embezzlement', 'energy', 'exactly', 'expropriation', 'methane', 'rationalization', 'upper', 'interpretation', 'redetermination', 'redundant', 'amortize', 'reinstate', 'routing', 'junior', 'reversing', 'confectionery', 'saw', 'signature', 'trilateral', 'sloan', 'complementary', 'ratepayer', 'formulae', 'reversion', 'portfolio', 'thousandth', 'chief', 'alive', 'ambassador', 'assortment', 'retain', 'indirect', 'blocked', 'kori', 'combat', 'unfunded', 'devaluation', 'invention', 'chaparral', 'letterhead', 'noncumulative', 'parentheses', 'elevated', 'effectuate', 'downgrade', 'pick', 'publisher', 'unavoidable', 'unduly', 'creative', 'pike', 'anywise', 'secondarily', 'stimulate', 'ultra', 'affiliate', 'authority', 'unpurchased', 'vital', 'deficit', 'bath', 'chester', 'vacancy', 'parenthetical', 'prudential', 'work', 'silicone', 'nonrecurring', 'ara', 'demonstrably', 'entail', 'divide', 'huffy', 'lying', 'milestone', 'millstone', 'paragon', 'participant', 'westland', 'missing', 'avail', 'bailey', 'inserted', 'blended', 'chiefly', 'depending', 'announce', 'designing', 'deter', 'harbour', 'owl', 'progressive', 'worn', 'tenure', 'casting', 'neighborhood', 'constantly', 'entrance', 'governance', 'learned', 'owe', 'briefs', 'fastener', 'scanning', 'static', 'subsystem', 'plot', 'uncertificated', 'available', 'unproved', 'centralization', 'carbide', 'domicile', 'durable', 'hog', 'postponement', 'shape', 'immediate', 'ascertainable', 'benjamin', 'gen', 'oversee', 'implementation', 'bit', 'case', 'evenly', 'illuminating', 'sunburst', 'limestone', 'seasonally', 'losing', 'troy', 'annulment', 'coherent', 'countersignature', 'dun', 'verdict', 'lump', 'folio', 'arbor', 'goodman', 'pollutant', 'lived', 'lobby', 'crude', 'perjury', 'diagnostics', 'uncoated', 'emeritus', 'cor', 'distinguished', 'correspondence', 'erroneous', 'optimal', 'fuji', 'grinding', 'horizontal', 'nonelective', 'favorite', 'kit', 'identification', 'stumpage', 'accompany', 'half', 'accomplishment', 'alcoholic', 'desk', 'element', 'distributive', 'driving', 'hatch', 'impede', 'nonappealable', 'salmon', 'miller', 'sludge', 'subsurface', 'walk', 'wit', 'chock', 'dangerous', 'longer', 'divestment', 'doctor', 'easily', 'lamb', 'reinstatement', 'unanimous', 'optimize', 'preliminarily', 'potato', 'dealership', 'resistant', 'sex', 'sight', 'dismiss', 'unavailability', 'broaden', 'condemned', 'dried', 'drought', 'pall', 'plead', 'roundy', 'teamwork', 'detention', 'inflationary', 'scrubber', 'temple', 'calculation', 'cheese', 'conformance', 'castle', 'hut', 'agreeing', 'importation', 'rev', 'cholesterol', 'sap', 'sublicense', 'revealed', 'tennis', 'profitably', 'calculate', 'explosive', 'unrecorded', 'inheritance', 'jeans', 'shallow', 'advisor', 'fountain', 'module', 'propulsion', 'eight', 'sanders', 'satisfactorily', 'effort', 'prentice', 'ticker', 'adherence', 'untenantable', 'niche', 'hill', 'beta', 'stem', 'dowd', 'hurricane', 'finland', 'helping', 'buy', 'interval', 'propane', 'let', 'linear', 'logos', 'aged', 'risen', 'roebuck', 'unrecoverable', 'vincent', 'adversary', 'appropriateness', 'breadth', 'convey', 'brick', 'centrally', 'collaborative', 'injured', 'napa', 'patrician', 'peninsula', 'come', 'conventional', 'stationery', 'boy', 'multiplier', 'opera', 'finish', 'deny', 'franc', 'transferor', 'germane', 'statistical', 'merchantable', 'honeycomb', 'inadvertent', 'proposition', 'green', 'retrieval', 'solely', 'gypsum', 'warn', 'welding', 'zip', 'cosmetic', 'cutler', 'prevention', 'enemy', 'modeling', 'inherently', 'rosebud', 'alumina', 'cut', 'subchapter', 'guild', 'subcommittee', 'cane', 'description', 'mains', 'cannon', 'cape', 'leather', 'shipment', 'imposing', 'mild', 'mou', 'annually', 'normalization', 'pie', 'plane', 'happen', 'resistance', 'sense', 'slowdown', 'skipper', 'code', 'stipulate', 'territorial', 'umbrella', 'judicially', 'unsatisfactory', 'ministerial', 'woodward', 'repaying', 'banana', 'coral', 'beef', 'charterer', 'demonstrable', 'evergreen', 'evident', 'prediction', 'indebted', 'church', 'fed', 'rigid', 'computer', 'ascertain', 'multinational', 'otter', 'wine', 'folding', 'overland', 'pant', 'reinvest', 'regency', 'angle', 'seriously', 'stopped', 'input', 'fishing', 'viscount', 'arctic', 'chose', 'overcapacity', 'measured', 'deduction', 'profession', 'precision', 'reconsider', 'sweep', 'degradation', 'discover', 'reliable', 'consenting', 'farming', 'fresno', 'knowledgeable', 'blockage', 'legatee', 'mere', 'polk', 'population', 'adequate', 'magnetics', 'perimeter', 'propriety', 'readiness', 'onshore', 'sip', 'turned', 'undelivered', 'baking', 'divert', 'corrugated', 'plasma', 'transmitter', 'protocol', 'safeguard', 'contents', 'unilaterally', 'snapper', 'wash', 'ocean', 'drainage', 'mounted', 'woven', 'countersign', 'basketball', 'crusader', 'diversion', 'indenture', 'em', 'prudently', 'evidentiary', 'hi', 'wellhead', 'photography', 'weakening', 'wall', 'celite', 'surveyor', 'citation', 'condominium', 'erection', 'behavior', 'partly', 'fir', 'graduate', 'contemporaneously', 'leaf', 'stemming', 'lessen', 'entirety', 'marriage', 'divulge', 'determination', 'pin', 'arrangement', 'quantitative', 'rocket', 'extra', 'continent', 'abstain', 'loading', 'ace', 'mortgagee', 'actionable', 'augment', 'ber', 'lot', 'jewel', 'penalty', 'catch', 'ballot', 'egress', 'abate', 'fly', 'forwarding', 'dating', 'heap', 'magistrate', 'mayor', 'reformation', 'natural', 'sect', 'tag', 'piping', 'triple', 'wildlife', 'owing', 'aero', 'allegation', 'booth', 'captain', 'lifting', 'centum', 'clerk', 'hybrid', 'lite', 'portrait', 'southwestern', 'emphasize', 'purification', 'cabinet', 'assist', 'rapidly', 'realizability', 'denial', 'identifiable', 'respiratory', 'liquefaction', 'shortening', 'capped', 'advertiser', 'assessed', 'improperly', 'concluding', 'bequest', 'camera', 'constrained', 'dependable', 'constructively', 'erect', 'architecture', 'habitat', 'contra', 'inflated', 'quota', 'ink', 'person', 'laundry', 'legitimate', 'lubricant', 'maternity', 'quit', 'redundancy', 'dispersed', 'tele', 'er', 'vaccine', 'collision', 'fiber', 'debris', 'dorado', 'isolated', 'landline', 'dixie', 'powerful', 'redevelopment', 'schneider', 'reit', 'spiegel', 'trace', 'strong', 'assignability', 'cabled', 'descendant', 'disallow', 'debenture', 'drain', 'elm', 'alphabetical', 'racketeer', 'rebuilt', 'reinforce', 'safely', 'struck', 'unexercisable', 'blair', 'donation', 'laminated', 'defect', 'poly', 'roaming', 'moratorium', 'rollback', 'stead', 'bounded', 'la', 'dawn', 'compressed', 'thank', 'earl', 'newspaper', 'ion', 'part', 'accessory', 'marital', 'prominent', 'reflection', 'mask', 'lewis', 'narrow', 'slowly', 'softness', 'tile', 'sizable', 'volt', 'tabular', 'wool', 'tentatively', 'responsible', 'traveling', 'plough', 'experimental', 'catalytic', 'batch', 'grounds', 'privileged', 'candy', 'dialysis', 'coca', 'continual', 'editorial', 'grill', 'median', 'penultimate', 'twelve', 'systematic', 'towing', 'apa', 'uneconomic', 'bene', 'bird', 'constitutionality', 'outlet', 'technically', 'debarment', 'sub', 'mandate', 'fallen', 'billion', 'jane', 'ministry', 'monte', 'sometimes', 'pellet', 'register', 'pregnancy', 'apply', 'realistic', 'periodic', 'recalculation', 'president', 'sensor', 'smoke', 'stack', 'syrup', 'unaccrued', 'deposition', 'sessions', 'exceptionally', 'favored', 'inconvenience', 'gradual', 'transporting', 'graduated', 'height', 'locality', 'pac', 'cryogenic', 'mailed', 'palmer', 'pension', 'root', 'spur', 'underpaid', 'canal', 'airplane', 'zoned', 'interrelated', 'realignment', 'soda', 'promotional', 'lading', 'alkaline', 'oii', 'purity', 'sleeper', 'sunrise', 'virtual', 'cemetery', 'consignee', 'everything', 'pleading', 'forged', 'speer', 'printed', 'affirmatively', 'coli', 'cos', 'repeated', 'ethane', 'incidence', 'lab', 'locked', 'os', 'synthetic', 'paternity', 'preferable', 'invalid', 'prorata', 'immaterial', 'sport', 'threatening', 'tribal', 'unadjusted', 'unjust', 'vigorous', 'yeast', 'acquiesce', 'contingent', 'apparently', 'wing', 'arch', 'abide', 'overcome', 'berlin', 'deferment', 'decreasing', 'scenario', 'defamation', 'get', 'nontaxable', 'inflow', 'predominately', 'process', 'era', 'latitude', 'preference', 'leak', 'hope', 'loco', 'outlay', 'prefer', 'shack', 'tony', 'transactional', 'ferry', 'unsolicited', 'unimproved', 'vis', 'alto', 'blueprint', 'escrow', 'deficient', 'drying', 'extendible', 'unregistered', 'flash', 'lateral', 'satisfy', 'mately', 'convenient', 'personalty', 'promulgate', 'punch', 'carbon', 'spencer', 'unreduced', 'contributory', 'banco', 'ventilating', 'illegal', 'census', 'pad', 'cruise', 'implicit', 'electronic', 'intensely', 'sat', 'scales', 'seaboard', 'soybean', 'statesman', 'underwrite', 'upholstery', 'diagnosis', 'discriminate', 'ledger', 'hopper', 'drafting', 'treat', 'litigate', 'fragrance', 'detract', 'friction', 'lord', 'gel', 'dependent', 'grouped', 'inlet', 'intelligence', 'lea', 'evolution', 'unmodified', 'kingdom', 'vat', 'initiative', 'banner', 'cork', 'dance', 'dependency', 'deteriorate', 'encryption', 'equalizing', 'exert', 'fractionation', 'gap', 'gill', 'continuity', 'incinerator', 'bac', 'literature', 'livestock', 'disclosure', 'magnolia', 'malicious', 'reconciling', 'continue', 'obligee', 'remarket', 'sandy', 'shirt', 'second', 'arrow', 'spa', 'stocking', 'tang', 'figure', 'welsh', 'worse', 'iron', 'indulgence', 'auburn', 'settling', 'berger', 'consecutively', 'crisis', 'deponent', 'gainful', 'highland', 'lithium', 'ordnance', 'exit', 'perkin', 'presidential', 'prevalent', 'pure', 'qualitative', 'sequestration', 'said', 'waiting', 'spirit', 'tin', 'tunnel', 'unified', 'unreleased', 'wallboard', 'angelica', 'crown', 'cartridge', 'caustic', 'accreditation', 'simultaneously', 'escape', 'father', 'indoor', 'lira', 'milder', 'murrelet', 'quarry', 'spotted', 'tall', 'requirement', 'lawful', 'withdrawable', 'adhere', 'adjustment', 'bishop', 'calibration', 'ceramics', 'disturb', 'dorn', 'headed', 'subgroup', 'imprudent', 'nonunion', 'particularity', 'perfecting', 'push', 'recur', 'speak', 'alimony', 'barring', 'privately', 'appeal', 'cate', 'chang', 'confiscation', 'controllable', 'alan', 'dearborn', 'latent', 'emerge', 'founding', 'fried', 'friendly', 'uniformly', 'fungicide', 'nugget', 'unfavorable', 'moody', 'summarily', 'ability', 'tucker', 'leadership', 'alike', 'curable', 'claim', 'enumeration', 'famous', 'holt', 'notation', 'powered', 'intercorporate', 'lodger', 'markup', 'pope', 'swimming', 'tractor', 'trailing', 'charcoal', 'confirmatory', 'devisee', 'architectural', 'embody', 'enclosure', 'wrongdoing', 'extract', 'fastening', 'harper', 'mechanism', 'husband', 'interpretive', 'monument', 'nationalization', 'nonrenewal', 'pickup', 'antenna', 'pursuance', 'refinement', 'seamless', 'reformed', 'semimonthly', 'turning', 'unexpended', 'amendable', 'attractiveness', 'breeding', 'cloud']\n",
            "trucking is similar to dict_keys(['vessel', 'truckload', 'ford', 'automotive', 'haul', 'trucks', 'grand', 'hunt', 'container', 'glass'])\n",
            "soft is similar to dict_keys(['recessionary', 'sluggish', 'passenger', 'strong', 'god', 'selective', 'subordinate', 'contrast', '<unk>', 'agriculture'])\n",
            "administration is similar to dict_keys(['administrator', 'interpretation', 'conflicting', 'absolute', 'construe', 'possessed', 'deem', 'discretion', 'advisable', 'prescribe'])\n",
            "theft is similar to dict_keys(['embezzlement', 'intentionally', 'fraud', 'either', 'plea', 'misrepresentation', 'malicious', 'crime', 'advantageous', 'nolo'])\n",
            "throughout is similar to dict_keys(['snow', 'sense', 'ice', 'geographical', 'agricultural', 'panhandle', 'placement', 'sector', 'specialty', 'adversely'])\n",
            "dos is similar to dict_keys(['os', 'mac', 'lan', 'apple', 'lotus', 'telecommunication', 'easier', 'mil', 'ast', 'relational'])\n",
            "accountant is similar to dict_keys(['box', 'somerset', 'turner', 'bishop', 'cabinet', 'pa', 'wacker', 'peter', 'registered', 'laurel'])\n",
            "discretion is similar to dict_keys(['committee', 'absolute', 'sole', 'establish', 'deem', 'possessed', 'compensation', 'administrator', 'administration', 'conclusive'])\n",
            "northeastern is similar to dict_keys(['ice', 'snow', 'severe', 'trillion', 'southwestern', 'radius', 'pipeline', 'natural', 'rocky', 'flood'])\n",
            "quorum is similar to dict_keys(['meeting', 'least', 'qualification', 'notice', 'adjournment', 'given', 'kept', 'bylaw', 'tenth', 'sixty'])\n"
          ]
        }
      ]
    },
    {
      "cell_type": "code",
      "source": [
        "word2vec_dir = '/content/drive/MyDrive/DL785/Project/Skipgram/'\n",
        "vocab = torch.load(f'{word2vec_dir}vocab.pt')\n",
        "model = torch.load(f'{word2vec_dir}model.pt')\n",
        "\n",
        "# embedding from first model layer\n",
        "embeddings = list(model.parameters())[0]\n",
        "embeddings = embeddings.cpu().detach().numpy()\n",
        "\n",
        "# normalization\n",
        "norms = (embeddings ** 2).sum(axis=1) ** (1 / 2)\n",
        "norms = np.reshape(norms, (len(norms), 1))\n",
        "embeddings_norm = embeddings / norms\n",
        "embeddings_norm.shape\n",
        "print(embeddings.shape)\n",
        "\n",
        "def get_word_embedding(word: str):\n",
        "    word_id = vocab[word]\n",
        "    if word_id == 0:\n",
        "        print(\"Out of vocabulary word\")\n",
        "        return\n",
        "\n",
        "    word_vec = embeddings_norm[word_id]\n",
        "    word_vec = np.reshape(word_vec, (len(word_vec), 1))\n",
        "    return word_vec\n",
        "\n",
        "for w in ['burden', 'deliverable', 'domain']:\n",
        "    print(embedding.shape)\n",
        "    embedding = get_word_embedding(w)\n",
        "    print(f'{w} has embedding {embedding}')\n"
      ],
      "metadata": {
        "colab": {
          "base_uri": "https://localhost:8080/"
        },
        "id": "_9t6aKtmCrDh",
        "outputId": "b04d4316-9218-40fb-f505-a78b18cdf098"
      },
      "execution_count": null,
      "outputs": [
        {
          "output_type": "stream",
          "name": "stdout",
          "text": [
            "(6462, 300)\n",
            "(300, 1)\n",
            "burden has embedding [[-3.14354710e-02]\n",
            " [-1.26910374e-01]\n",
            " [-6.18892014e-02]\n",
            " [ 3.81400213e-02]\n",
            " [-2.97917472e-03]\n",
            " [ 8.28927457e-02]\n",
            " [ 8.08334500e-02]\n",
            " [-9.02508677e-04]\n",
            " [ 8.68955627e-02]\n",
            " [-1.05077155e-01]\n",
            " [ 4.53349687e-02]\n",
            " [ 5.30099124e-02]\n",
            " [ 2.35053562e-02]\n",
            " [-2.67312638e-02]\n",
            " [ 8.18860978e-02]\n",
            " [-8.92122835e-02]\n",
            " [-1.94068421e-02]\n",
            " [-1.24806404e-01]\n",
            " [-6.06817566e-03]\n",
            " [ 4.80902605e-02]\n",
            " [-1.53533239e-02]\n",
            " [-2.02026200e-02]\n",
            " [-4.74473797e-02]\n",
            " [ 2.50208843e-02]\n",
            " [-3.77164707e-02]\n",
            " [ 1.52633652e-01]\n",
            " [ 4.54355292e-02]\n",
            " [-2.90579423e-02]\n",
            " [ 3.75835150e-02]\n",
            " [-5.72842732e-03]\n",
            " [-5.86242862e-02]\n",
            " [-1.17715849e-02]\n",
            " [-7.87917711e-03]\n",
            " [ 1.16463164e-02]\n",
            " [ 8.58069211e-02]\n",
            " [-4.92871215e-04]\n",
            " [-1.05154943e-02]\n",
            " [-4.27705050e-02]\n",
            " [ 7.68575743e-02]\n",
            " [-4.99777962e-03]\n",
            " [-9.13120508e-02]\n",
            " [ 6.66606240e-03]\n",
            " [ 1.66115150e-01]\n",
            " [ 4.21447009e-02]\n",
            " [ 7.73525750e-03]\n",
            " [ 4.78547066e-02]\n",
            " [-4.80973534e-03]\n",
            " [-7.51818120e-02]\n",
            " [-6.77763578e-03]\n",
            " [ 7.53575861e-02]\n",
            " [-5.05881235e-02]\n",
            " [-1.15558319e-02]\n",
            " [ 2.03038137e-02]\n",
            " [ 3.03397756e-02]\n",
            " [ 3.37142982e-02]\n",
            " [-4.21396010e-02]\n",
            " [ 1.22536542e-02]\n",
            " [-5.32379113e-02]\n",
            " [-1.59376282e-02]\n",
            " [-3.13801132e-02]\n",
            " [-1.02040939e-01]\n",
            " [ 1.67589057e-02]\n",
            " [ 7.11813793e-02]\n",
            " [-8.19294602e-02]\n",
            " [ 6.83973357e-02]\n",
            " [ 5.26351780e-02]\n",
            " [ 1.30834267e-01]\n",
            " [-2.29710639e-02]\n",
            " [-6.66385666e-02]\n",
            " [ 1.91693623e-02]\n",
            " [ 2.52582226e-02]\n",
            " [-2.59093056e-03]\n",
            " [ 5.82014918e-02]\n",
            " [-3.91538742e-05]\n",
            " [-3.43868919e-02]\n",
            " [-3.92448530e-02]\n",
            " [-3.11479755e-02]\n",
            " [ 7.46891871e-02]\n",
            " [ 1.72528438e-02]\n",
            " [ 2.11250857e-02]\n",
            " [ 2.03277841e-02]\n",
            " [-4.13748212e-02]\n",
            " [ 3.30534875e-02]\n",
            " [ 2.68247779e-02]\n",
            " [-6.37021214e-02]\n",
            " [ 9.67551172e-02]\n",
            " [-1.31385654e-01]\n",
            " [ 1.46404756e-02]\n",
            " [-2.99999174e-02]\n",
            " [-6.03844561e-02]\n",
            " [ 4.41320427e-03]\n",
            " [-1.02984950e-01]\n",
            " [ 1.84902269e-02]\n",
            " [ 4.99788579e-03]\n",
            " [ 5.06138764e-02]\n",
            " [ 1.08436853e-01]\n",
            " [ 2.19950243e-03]\n",
            " [ 1.10918265e-02]\n",
            " [ 1.90831106e-02]\n",
            " [ 6.70940056e-02]\n",
            " [ 6.75683767e-02]\n",
            " [-3.88204120e-02]\n",
            " [-7.63334706e-02]\n",
            " [ 3.77257541e-02]\n",
            " [ 1.50604993e-01]\n",
            " [-1.73565932e-03]\n",
            " [ 3.12067587e-02]\n",
            " [-6.60649093e-04]\n",
            " [-5.23163471e-04]\n",
            " [-2.05755550e-02]\n",
            " [-1.59973092e-02]\n",
            " [-9.65202451e-02]\n",
            " [ 6.62596449e-02]\n",
            " [-1.06646782e-02]\n",
            " [ 1.86560620e-02]\n",
            " [ 1.53132332e-02]\n",
            " [ 1.52069135e-02]\n",
            " [ 7.10312091e-03]\n",
            " [ 5.99195510e-02]\n",
            " [-2.17286553e-02]\n",
            " [-1.12672495e-02]\n",
            " [ 3.76702053e-03]\n",
            " [-2.97611188e-02]\n",
            " [-4.78961924e-03]\n",
            " [ 2.66803131e-02]\n",
            " [-3.21853580e-03]\n",
            " [ 1.69530828e-02]\n",
            " [ 1.06211742e-02]\n",
            " [-5.66781126e-03]\n",
            " [ 3.52923460e-02]\n",
            " [-3.77074666e-02]\n",
            " [-9.22739878e-03]\n",
            " [ 1.18168863e-03]\n",
            " [ 5.66519536e-02]\n",
            " [ 9.73239839e-02]\n",
            " [-1.92838646e-02]\n",
            " [ 3.69581371e-03]\n",
            " [-3.13963555e-02]\n",
            " [ 1.08201960e-02]\n",
            " [ 5.74781522e-02]\n",
            " [ 3.30277719e-02]\n",
            " [-5.30173108e-02]\n",
            " [ 1.57218631e-02]\n",
            " [-7.70328715e-02]\n",
            " [-1.03839129e-01]\n",
            " [ 1.94967762e-02]\n",
            " [ 4.37307693e-02]\n",
            " [-3.73417139e-03]\n",
            " [-3.78360599e-02]\n",
            " [-3.26531976e-02]\n",
            " [-2.19481848e-02]\n",
            " [ 3.22000794e-02]\n",
            " [-4.69758958e-02]\n",
            " [-1.17244713e-01]\n",
            " [-2.97389994e-03]\n",
            " [ 4.67550047e-02]\n",
            " [ 1.41589001e-01]\n",
            " [-4.49602790e-02]\n",
            " [-1.20554626e-01]\n",
            " [-4.56197932e-02]\n",
            " [-1.44423572e-02]\n",
            " [-3.18547077e-02]\n",
            " [ 7.99745694e-02]\n",
            " [ 4.70514037e-02]\n",
            " [-2.28522290e-02]\n",
            " [ 9.46558714e-02]\n",
            " [ 1.06045259e-02]\n",
            " [-1.51665388e-02]\n",
            " [ 5.22553746e-05]\n",
            " [ 3.39019857e-02]\n",
            " [ 4.56671230e-02]\n",
            " [-2.80883387e-02]\n",
            " [ 5.57904430e-02]\n",
            " [ 3.34523842e-02]\n",
            " [-1.32075429e-01]\n",
            " [ 2.49022134e-02]\n",
            " [ 2.22350452e-02]\n",
            " [ 4.09048870e-02]\n",
            " [ 2.40391102e-02]\n",
            " [ 1.00107156e-01]\n",
            " [-7.30951577e-02]\n",
            " [-1.47620719e-02]\n",
            " [-4.93706837e-02]\n",
            " [-7.55110569e-03]\n",
            " [-7.56246271e-03]\n",
            " [ 6.87781314e-04]\n",
            " [-1.20175786e-01]\n",
            " [ 4.67788093e-02]\n",
            " [-4.16840911e-02]\n",
            " [ 3.16644199e-02]\n",
            " [-2.24558394e-02]\n",
            " [-2.09221132e-02]\n",
            " [ 1.14549994e-02]\n",
            " [ 6.12230562e-02]\n",
            " [-5.10006770e-03]\n",
            " [-1.53227463e-01]\n",
            " [-2.21722238e-02]\n",
            " [ 1.96508411e-02]\n",
            " [ 1.13857463e-01]\n",
            " [-4.50080335e-02]\n",
            " [ 3.06775644e-02]\n",
            " [ 1.06996670e-02]\n",
            " [ 8.10228288e-02]\n",
            " [ 5.93837053e-02]\n",
            " [ 3.26053202e-02]\n",
            " [ 1.40156318e-02]\n",
            " [-7.68785253e-02]\n",
            " [-1.42893530e-02]\n",
            " [ 3.11103072e-02]\n",
            " [ 9.27482471e-02]\n",
            " [-2.62997802e-02]\n",
            " [ 1.90594550e-02]\n",
            " [ 2.70735584e-02]\n",
            " [ 1.84533671e-02]\n",
            " [-1.41140400e-02]\n",
            " [ 2.51411460e-03]\n",
            " [ 3.60779651e-02]\n",
            " [ 4.05132324e-02]\n",
            " [-1.42292032e-04]\n",
            " [-1.64177082e-02]\n",
            " [-1.70142278e-01]\n",
            " [ 6.19479045e-02]\n",
            " [ 3.60580459e-02]\n",
            " [-3.81164774e-02]\n",
            " [ 2.79956721e-02]\n",
            " [-9.51126069e-02]\n",
            " [ 3.79523151e-02]\n",
            " [-5.22110574e-02]\n",
            " [ 9.85744670e-02]\n",
            " [-1.07490063e-01]\n",
            " [-6.29603341e-02]\n",
            " [ 2.55487300e-02]\n",
            " [-2.54300591e-02]\n",
            " [ 9.16919112e-02]\n",
            " [ 1.79050744e-01]\n",
            " [ 2.00571995e-02]\n",
            " [ 3.57259214e-02]\n",
            " [-5.74377254e-02]\n",
            " [ 3.94224096e-03]\n",
            " [-9.17339697e-02]\n",
            " [ 1.95412170e-02]\n",
            " [ 6.64327666e-02]\n",
            " [-9.70426053e-02]\n",
            " [ 1.39532715e-01]\n",
            " [ 4.51068729e-02]\n",
            " [-2.86912788e-02]\n",
            " [-3.13105881e-02]\n",
            " [ 2.23240610e-02]\n",
            " [ 1.73661057e-02]\n",
            " [-7.10275695e-02]\n",
            " [ 6.41350225e-02]\n",
            " [ 1.20962799e-01]\n",
            " [-1.05921365e-02]\n",
            " [ 1.77375469e-02]\n",
            " [-1.08485250e-02]\n",
            " [-9.21897888e-02]\n",
            " [ 6.60460219e-02]\n",
            " [-5.00115119e-02]\n",
            " [-6.77185729e-02]\n",
            " [-5.26958220e-02]\n",
            " [-8.64876062e-03]\n",
            " [-4.23837006e-02]\n",
            " [ 3.34262140e-02]\n",
            " [ 1.89690851e-02]\n",
            " [ 9.62218549e-03]\n",
            " [-2.01419499e-02]\n",
            " [-3.79499197e-02]\n",
            " [-5.29145822e-02]\n",
            " [ 7.31491819e-02]\n",
            " [ 2.70873681e-03]\n",
            " [-1.39300346e-01]\n",
            " [ 4.27577421e-02]\n",
            " [ 1.70942605e-01]\n",
            " [ 5.03611900e-02]\n",
            " [ 5.42904586e-02]\n",
            " [ 1.77667979e-02]\n",
            " [-3.91333066e-02]\n",
            " [-6.21327246e-03]\n",
            " [-2.31217667e-02]\n",
            " [-1.14340909e-01]\n",
            " [-1.45197855e-02]\n",
            " [-4.88766795e-03]\n",
            " [-3.05478591e-02]\n",
            " [ 1.47843771e-02]\n",
            " [-3.31372693e-02]\n",
            " [ 8.40433463e-02]\n",
            " [ 9.15966928e-02]\n",
            " [ 1.91637184e-02]\n",
            " [ 1.80236262e-03]\n",
            " [ 3.48855145e-02]\n",
            " [ 2.21972521e-02]\n",
            " [-6.26705447e-03]\n",
            " [ 7.30727613e-03]\n",
            " [ 3.54988091e-02]\n",
            " [-5.09623215e-02]\n",
            " [-1.47493575e-02]\n",
            " [ 1.43247209e-02]\n",
            " [-4.67177555e-02]\n",
            " [ 4.94751595e-02]\n",
            " [ 2.38860084e-04]]\n",
            "(300, 1)\n",
            "deliverable has embedding [[ 0.08892913]\n",
            " [-0.005038  ]\n",
            " [ 0.0086709 ]\n",
            " [-0.0697288 ]\n",
            " [-0.06043266]\n",
            " [-0.03979411]\n",
            " [-0.05471653]\n",
            " [-0.06787646]\n",
            " [-0.03966384]\n",
            " [ 0.11055639]\n",
            " [ 0.0565032 ]\n",
            " [-0.03660985]\n",
            " [-0.01335052]\n",
            " [-0.05595167]\n",
            " [-0.07000052]\n",
            " [-0.05578677]\n",
            " [ 0.05122152]\n",
            " [ 0.06972044]\n",
            " [ 0.06663091]\n",
            " [ 0.04498241]\n",
            " [ 0.01864397]\n",
            " [ 0.07191633]\n",
            " [-0.04025266]\n",
            " [-0.0794016 ]\n",
            " [ 0.02192592]\n",
            " [-0.05429486]\n",
            " [-0.03636964]\n",
            " [-0.08384553]\n",
            " [ 0.03595693]\n",
            " [ 0.06283065]\n",
            " [ 0.08989211]\n",
            " [ 0.03156143]\n",
            " [-0.05854397]\n",
            " [ 0.09937754]\n",
            " [-0.07834032]\n",
            " [ 0.06076199]\n",
            " [ 0.01821356]\n",
            " [ 0.01688063]\n",
            " [ 0.04912159]\n",
            " [ 0.0468987 ]\n",
            " [ 0.08369014]\n",
            " [ 0.08682527]\n",
            " [-0.06208945]\n",
            " [ 0.09302602]\n",
            " [ 0.02459273]\n",
            " [-0.05997486]\n",
            " [ 0.0632894 ]\n",
            " [-0.08013228]\n",
            " [-0.06193815]\n",
            " [-0.01448711]\n",
            " [ 0.00628808]\n",
            " [-0.04204735]\n",
            " [ 0.05654   ]\n",
            " [ 0.02827301]\n",
            " [-0.07358986]\n",
            " [ 0.04847074]\n",
            " [-0.06246358]\n",
            " [-0.00848648]\n",
            " [-0.00455948]\n",
            " [-0.06871662]\n",
            " [ 0.06229541]\n",
            " [-0.05682518]\n",
            " [ 0.02001359]\n",
            " [ 0.0239576 ]\n",
            " [ 0.01804597]\n",
            " [ 0.0429129 ]\n",
            " [ 0.06751247]\n",
            " [ 0.07308272]\n",
            " [-0.10218756]\n",
            " [-0.01141608]\n",
            " [-0.0339853 ]\n",
            " [-0.01140636]\n",
            " [-0.03572469]\n",
            " [ 0.01816385]\n",
            " [ 0.03536932]\n",
            " [ 0.0599991 ]\n",
            " [ 0.07246313]\n",
            " [ 0.06588761]\n",
            " [-0.02761907]\n",
            " [ 0.0695205 ]\n",
            " [-0.07987345]\n",
            " [-0.00312135]\n",
            " [-0.04897548]\n",
            " [-0.066085  ]\n",
            " [-0.07973389]\n",
            " [ 0.01899125]\n",
            " [-0.05665967]\n",
            " [ 0.03969236]\n",
            " [ 0.02876535]\n",
            " [ 0.06062422]\n",
            " [-0.03706932]\n",
            " [-0.05846534]\n",
            " [ 0.02875827]\n",
            " [-0.06549299]\n",
            " [-0.06641067]\n",
            " [-0.06166958]\n",
            " [-0.04313282]\n",
            " [-0.02914167]\n",
            " [-0.04165189]\n",
            " [ 0.04867538]\n",
            " [-0.05908274]\n",
            " [-0.01700107]\n",
            " [-0.02439544]\n",
            " [-0.09404735]\n",
            " [ 0.06642966]\n",
            " [-0.08336281]\n",
            " [-0.02967962]\n",
            " [ 0.08673514]\n",
            " [-0.06369646]\n",
            " [ 0.00776516]\n",
            " [ 0.07552014]\n",
            " [ 0.05789935]\n",
            " [ 0.02992931]\n",
            " [-0.08413041]\n",
            " [ 0.06456525]\n",
            " [ 0.01407076]\n",
            " [ 0.09398481]\n",
            " [-0.10074928]\n",
            " [-0.05103124]\n",
            " [-0.11963033]\n",
            " [ 0.00841986]\n",
            " [-0.11216508]\n",
            " [ 0.08823863]\n",
            " [-0.08719224]\n",
            " [-0.0303108 ]\n",
            " [ 0.06780429]\n",
            " [ 0.04750391]\n",
            " [-0.0484142 ]\n",
            " [-0.01832803]\n",
            " [-0.05425415]\n",
            " [-0.03518187]\n",
            " [-0.03044836]\n",
            " [-0.01471735]\n",
            " [-0.00141685]\n",
            " [ 0.02375037]\n",
            " [ 0.03878502]\n",
            " [ 0.02997365]\n",
            " [-0.08696296]\n",
            " [ 0.01682264]\n",
            " [-0.0607481 ]\n",
            " [ 0.0304579 ]\n",
            " [-0.04166407]\n",
            " [ 0.0732832 ]\n",
            " [ 0.05281031]\n",
            " [-0.02901072]\n",
            " [-0.0078521 ]\n",
            " [-0.11346208]\n",
            " [ 0.1225973 ]\n",
            " [-0.04774439]\n",
            " [ 0.04395954]\n",
            " [ 0.10307806]\n",
            " [ 0.05715958]\n",
            " [ 0.04584353]\n",
            " [-0.04134763]\n",
            " [ 0.03621501]\n",
            " [ 0.09371544]\n",
            " [ 0.06294021]\n",
            " [ 0.04423687]\n",
            " [-0.01942104]\n",
            " [ 0.04067393]\n",
            " [ 0.04613837]\n",
            " [ 0.03177353]\n",
            " [ 0.01270652]\n",
            " [ 0.02476586]\n",
            " [ 0.03621684]\n",
            " [ 0.04726691]\n",
            " [ 0.00311825]\n",
            " [ 0.03133801]\n",
            " [ 0.07081677]\n",
            " [ 0.03180178]\n",
            " [-0.02933402]\n",
            " [ 0.09163445]\n",
            " [-0.07664388]\n",
            " [ 0.04822895]\n",
            " [-0.02827884]\n",
            " [ 0.02119664]\n",
            " [-0.00036035]\n",
            " [-0.01597323]\n",
            " [-0.03751373]\n",
            " [-0.01059849]\n",
            " [-0.09174144]\n",
            " [-0.08690254]\n",
            " [-0.02127845]\n",
            " [-0.05208261]\n",
            " [-0.07512791]\n",
            " [ 0.02474594]\n",
            " [-0.10159275]\n",
            " [-0.08338286]\n",
            " [-0.06041579]\n",
            " [ 0.01175541]\n",
            " [ 0.05038744]\n",
            " [-0.09065808]\n",
            " [-0.06217585]\n",
            " [ 0.0231141 ]\n",
            " [ 0.06640779]\n",
            " [-0.03468745]\n",
            " [-0.028486  ]\n",
            " [ 0.01512907]\n",
            " [ 0.05318997]\n",
            " [ 0.05743139]\n",
            " [-0.06769858]\n",
            " [-0.02464416]\n",
            " [ 0.02746384]\n",
            " [ 0.00363557]\n",
            " [ 0.00138205]\n",
            " [ 0.03759161]\n",
            " [-0.01513127]\n",
            " [ 0.07074443]\n",
            " [-0.03535622]\n",
            " [-0.00669877]\n",
            " [ 0.00150457]\n",
            " [-0.10440885]\n",
            " [-0.05428513]\n",
            " [ 0.03692985]\n",
            " [-0.01620509]\n",
            " [-0.07811469]\n",
            " [-0.0551097 ]\n",
            " [ 0.0472887 ]\n",
            " [-0.04797089]\n",
            " [-0.0048675 ]\n",
            " [-0.00612937]\n",
            " [-0.07799377]\n",
            " [ 0.0057066 ]\n",
            " [ 0.07885651]\n",
            " [ 0.06104044]\n",
            " [ 0.03007347]\n",
            " [-0.0109566 ]\n",
            " [-0.03558909]\n",
            " [ 0.00968149]\n",
            " [ 0.02778928]\n",
            " [-0.00714193]\n",
            " [ 0.1113893 ]\n",
            " [ 0.06120033]\n",
            " [ 0.01830608]\n",
            " [-0.10191301]\n",
            " [ 0.07492192]\n",
            " [-0.0627422 ]\n",
            " [-0.06308873]\n",
            " [-0.0895979 ]\n",
            " [-0.00761732]\n",
            " [ 0.07902776]\n",
            " [-0.02524573]\n",
            " [ 0.04458828]\n",
            " [-0.0629118 ]\n",
            " [ 0.06144662]\n",
            " [-0.04645286]\n",
            " [-0.06094124]\n",
            " [-0.03598167]\n",
            " [-0.04262342]\n",
            " [ 0.02740263]\n",
            " [ 0.11239939]\n",
            " [-0.04829814]\n",
            " [-0.00661142]\n",
            " [ 0.01908467]\n",
            " [ 0.08529434]\n",
            " [ 0.05976101]\n",
            " [-0.06302848]\n",
            " [ 0.00209821]\n",
            " [-0.00943057]\n",
            " [-0.08052094]\n",
            " [ 0.03968178]\n",
            " [-0.072736  ]\n",
            " [ 0.06869345]\n",
            " [ 0.00280389]\n",
            " [ 0.09624531]\n",
            " [ 0.04968772]\n",
            " [-0.11380987]\n",
            " [-0.0649512 ]\n",
            " [-0.02549879]\n",
            " [ 0.09661756]\n",
            " [-0.01935283]\n",
            " [-0.02908523]\n",
            " [-0.09698034]\n",
            " [ 0.03696232]\n",
            " [ 0.09304114]\n",
            " [ 0.06151981]\n",
            " [-0.06438574]\n",
            " [-0.10129134]\n",
            " [ 0.01993716]\n",
            " [-0.08032014]\n",
            " [-0.08200268]\n",
            " [-0.07064737]\n",
            " [ 0.09106962]\n",
            " [ 0.06201729]\n",
            " [-0.07706728]\n",
            " [-0.05774962]\n",
            " [ 0.06149255]\n",
            " [-0.04943015]\n",
            " [ 0.03909238]\n",
            " [ 0.03969356]\n",
            " [ 0.01685915]\n",
            " [ 0.0741856 ]\n",
            " [-0.05945753]\n",
            " [ 0.07545239]\n",
            " [-0.00018888]\n",
            " [ 0.0409354 ]\n",
            " [ 0.06011493]\n",
            " [ 0.0849167 ]\n",
            " [-0.03948001]\n",
            " [-0.06067757]]\n",
            "(300, 1)\n",
            "domain has embedding [[ 2.55009569e-02]\n",
            " [ 8.03548750e-03]\n",
            " [-2.59146113e-02]\n",
            " [ 9.24708880e-03]\n",
            " [-8.53356963e-04]\n",
            " [-3.86887006e-02]\n",
            " [-1.02595940e-01]\n",
            " [ 8.84842873e-02]\n",
            " [-8.78022891e-03]\n",
            " [-1.13678664e-01]\n",
            " [ 4.00226051e-03]\n",
            " [-4.64446433e-02]\n",
            " [-1.84832159e-02]\n",
            " [-3.95796746e-02]\n",
            " [-7.30232894e-02]\n",
            " [-4.20131311e-02]\n",
            " [ 5.42368218e-02]\n",
            " [-1.12228297e-01]\n",
            " [-3.71874645e-02]\n",
            " [-4.14781310e-02]\n",
            " [ 1.33286521e-01]\n",
            " [ 5.79374656e-03]\n",
            " [-6.07812777e-02]\n",
            " [-7.73278549e-02]\n",
            " [ 2.10820436e-02]\n",
            " [-3.46702710e-02]\n",
            " [-3.99293005e-02]\n",
            " [-1.08407624e-02]\n",
            " [ 2.09406484e-02]\n",
            " [ 1.30579501e-01]\n",
            " [ 5.40362857e-02]\n",
            " [ 9.91179794e-03]\n",
            " [ 4.86893505e-02]\n",
            " [-2.27344185e-02]\n",
            " [ 7.89704639e-03]\n",
            " [-3.09483055e-02]\n",
            " [ 1.12971142e-01]\n",
            " [ 8.14027190e-02]\n",
            " [ 5.53423464e-02]\n",
            " [-9.08690318e-02]\n",
            " [ 6.50924668e-02]\n",
            " [ 3.49400155e-02]\n",
            " [ 6.21714480e-02]\n",
            " [ 1.33998662e-01]\n",
            " [ 8.12356845e-02]\n",
            " [ 8.29970315e-02]\n",
            " [ 2.48529650e-02]\n",
            " [-1.48201538e-02]\n",
            " [-4.83896211e-02]\n",
            " [ 5.25002964e-02]\n",
            " [-5.63029982e-02]\n",
            " [-6.24105474e-03]\n",
            " [-6.16840236e-02]\n",
            " [ 3.08269318e-02]\n",
            " [-5.73921688e-02]\n",
            " [ 1.88617203e-02]\n",
            " [ 2.69148219e-02]\n",
            " [ 2.57427717e-04]\n",
            " [ 3.79316062e-02]\n",
            " [ 5.42981997e-02]\n",
            " [-5.49227512e-03]\n",
            " [ 7.09221810e-02]\n",
            " [ 4.01471108e-02]\n",
            " [-4.67187539e-02]\n",
            " [-1.29750720e-03]\n",
            " [ 3.22187245e-02]\n",
            " [-6.07001334e-02]\n",
            " [-2.33852910e-03]\n",
            " [ 8.48805457e-02]\n",
            " [ 6.71524331e-02]\n",
            " [-4.03264761e-02]\n",
            " [-1.47585422e-02]\n",
            " [ 6.62815385e-03]\n",
            " [-7.86873326e-02]\n",
            " [ 8.28281343e-02]\n",
            " [-5.09640528e-03]\n",
            " [ 4.16338146e-02]\n",
            " [ 7.53258020e-02]\n",
            " [ 8.34516212e-02]\n",
            " [-1.83891819e-03]\n",
            " [-6.25972226e-02]\n",
            " [ 4.58713854e-03]\n",
            " [ 3.30700399e-03]\n",
            " [-4.86362390e-02]\n",
            " [-1.56801328e-01]\n",
            " [ 7.95340538e-02]\n",
            " [ 2.77652554e-02]\n",
            " [ 4.99174595e-02]\n",
            " [ 1.25616519e-02]\n",
            " [-6.83391020e-02]\n",
            " [ 2.17424650e-02]\n",
            " [-9.78123769e-03]\n",
            " [ 1.37085477e-02]\n",
            " [ 1.51216742e-02]\n",
            " [-5.42346016e-02]\n",
            " [ 4.98122387e-02]\n",
            " [ 2.69399770e-02]\n",
            " [ 1.10816443e-02]\n",
            " [ 7.62164518e-02]\n",
            " [-5.70401028e-02]\n",
            " [ 1.15720831e-01]\n",
            " [ 7.83625711e-03]\n",
            " [ 8.16377476e-02]\n",
            " [ 1.98393837e-02]\n",
            " [-1.00570936e-02]\n",
            " [ 5.19273765e-02]\n",
            " [ 5.90382926e-02]\n",
            " [-1.00353099e-01]\n",
            " [-4.59837820e-03]\n",
            " [-6.15572296e-02]\n",
            " [ 1.75329461e-03]\n",
            " [-3.17924358e-02]\n",
            " [-1.91990361e-02]\n",
            " [ 2.12025829e-02]\n",
            " [-6.33530691e-02]\n",
            " [ 6.96377084e-02]\n",
            " [ 1.93896033e-02]\n",
            " [ 6.84497580e-02]\n",
            " [ 8.30393061e-02]\n",
            " [ 5.85946217e-02]\n",
            " [ 6.01393022e-02]\n",
            " [ 5.03998250e-03]\n",
            " [-1.99633837e-02]\n",
            " [ 4.17509750e-02]\n",
            " [ 1.12638846e-01]\n",
            " [-3.12914178e-02]\n",
            " [ 7.87822679e-02]\n",
            " [ 6.82747141e-02]\n",
            " [ 1.07360734e-02]\n",
            " [ 1.34912285e-03]\n",
            " [-6.06025755e-02]\n",
            " [-5.47379144e-02]\n",
            " [-6.06289655e-02]\n",
            " [-5.15508316e-02]\n",
            " [-6.56703338e-02]\n",
            " [ 1.89296789e-02]\n",
            " [ 5.93412332e-02]\n",
            " [ 3.69777344e-02]\n",
            " [ 7.04263225e-02]\n",
            " [-2.98473593e-02]\n",
            " [-1.58702265e-02]\n",
            " [ 1.84097551e-02]\n",
            " [-2.18452718e-02]\n",
            " [-2.61130859e-04]\n",
            " [-3.82893160e-02]\n",
            " [ 8.89214221e-04]\n",
            " [-8.00697729e-02]\n",
            " [-9.42829326e-02]\n",
            " [ 4.34366241e-03]\n",
            " [ 1.86445806e-02]\n",
            " [-8.74867372e-04]\n",
            " [ 2.77651194e-02]\n",
            " [ 1.01353265e-01]\n",
            " [-3.07972450e-02]\n",
            " [ 5.31732254e-02]\n",
            " [-6.53198883e-02]\n",
            " [ 7.40874186e-03]\n",
            " [-6.86789677e-02]\n",
            " [ 6.37184903e-02]\n",
            " [ 3.95770520e-02]\n",
            " [-1.25365287e-01]\n",
            " [ 1.13738716e-01]\n",
            " [ 3.28152739e-02]\n",
            " [ 3.23048383e-02]\n",
            " [ 3.06065697e-02]\n",
            " [ 4.38800864e-02]\n",
            " [ 1.44138047e-02]\n",
            " [ 6.51789755e-02]\n",
            " [ 2.53418609e-02]\n",
            " [-7.11967126e-02]\n",
            " [ 8.90854672e-02]\n",
            " [ 3.47661301e-02]\n",
            " [ 3.32656223e-03]\n",
            " [-4.08234522e-02]\n",
            " [-6.60879612e-02]\n",
            " [-1.08634807e-01]\n",
            " [ 5.05820699e-02]\n",
            " [ 6.41121343e-02]\n",
            " [-2.05879360e-02]\n",
            " [-9.48099121e-02]\n",
            " [ 3.83268930e-02]\n",
            " [ 4.12752805e-03]\n",
            " [ 3.22291330e-02]\n",
            " [-1.37498416e-02]\n",
            " [-9.37041789e-02]\n",
            " [ 1.57256657e-03]\n",
            " [-3.65360007e-02]\n",
            " [-1.56533886e-02]\n",
            " [ 2.74252780e-02]\n",
            " [ 5.75898308e-03]\n",
            " [-5.51460758e-02]\n",
            " [-8.36566556e-03]\n",
            " [ 1.87620353e-02]\n",
            " [-3.28443274e-02]\n",
            " [-7.01779500e-02]\n",
            " [-6.58728257e-02]\n",
            " [ 1.20001230e-02]\n",
            " [ 1.40232788e-02]\n",
            " [-4.62632515e-02]\n",
            " [ 8.95237550e-03]\n",
            " [-3.56706865e-02]\n",
            " [-2.32916977e-02]\n",
            " [-1.75367463e-02]\n",
            " [-9.35552046e-02]\n",
            " [ 3.07127405e-02]\n",
            " [ 4.31612767e-02]\n",
            " [-6.61857873e-02]\n",
            " [-6.73048869e-02]\n",
            " [-3.73571813e-02]\n",
            " [-1.07979745e-01]\n",
            " [ 2.01465394e-02]\n",
            " [ 5.95667027e-02]\n",
            " [-4.87780519e-04]\n",
            " [-5.60693443e-02]\n",
            " [ 7.28941411e-02]\n",
            " [ 8.90891552e-02]\n",
            " [ 1.00747399e-01]\n",
            " [ 2.54162252e-02]\n",
            " [ 3.43410894e-02]\n",
            " [-1.23331137e-01]\n",
            " [ 6.60413469e-04]\n",
            " [-2.78418064e-02]\n",
            " [-2.36732420e-02]\n",
            " [-3.44703533e-02]\n",
            " [-2.87337154e-02]\n",
            " [-5.80636635e-02]\n",
            " [ 6.19359687e-02]\n",
            " [ 1.35566607e-01]\n",
            " [ 1.10237166e-01]\n",
            " [-1.83773879e-02]\n",
            " [-5.96898347e-02]\n",
            " [-6.30118623e-02]\n",
            " [-6.48189560e-02]\n",
            " [-7.12556345e-03]\n",
            " [-3.75037990e-03]\n",
            " [ 7.73729533e-02]\n",
            " [-9.48805511e-02]\n",
            " [-4.46866006e-02]\n",
            " [ 6.76669180e-02]\n",
            " [-4.81849462e-02]\n",
            " [ 7.10968152e-02]\n",
            " [-5.88559322e-02]\n",
            " [-1.80860072e-01]\n",
            " [-5.77713959e-02]\n",
            " [ 1.12056360e-01]\n",
            " [-4.92494144e-02]\n",
            " [-3.11394967e-02]\n",
            " [-9.83810425e-03]\n",
            " [-7.19607323e-02]\n",
            " [ 6.97546825e-02]\n",
            " [ 9.31953341e-02]\n",
            " [-3.32313888e-02]\n",
            " [ 6.14106096e-02]\n",
            " [-9.67389867e-02]\n",
            " [ 1.27276294e-02]\n",
            " [ 1.97007670e-03]\n",
            " [-5.82651235e-02]\n",
            " [-3.02764517e-03]\n",
            " [-8.43147922e-04]\n",
            " [-1.14898756e-02]\n",
            " [ 1.23198807e-01]\n",
            " [-2.18294300e-02]\n",
            " [-1.28113721e-02]\n",
            " [ 5.22407852e-02]\n",
            " [ 1.86350979e-02]\n",
            " [ 1.17898853e-02]\n",
            " [-5.20153046e-02]\n",
            " [ 1.02671504e-01]\n",
            " [ 5.25418781e-02]\n",
            " [ 1.11923711e-02]\n",
            " [ 1.20895781e-01]\n",
            " [ 8.09574994e-05]\n",
            " [-3.25146355e-02]\n",
            " [-8.24570879e-02]\n",
            " [ 8.39144550e-03]\n",
            " [ 7.38574341e-02]\n",
            " [ 2.28013936e-02]\n",
            " [ 7.53541589e-02]\n",
            " [ 3.38792838e-02]\n",
            " [ 5.08399680e-02]\n",
            " [ 4.41727117e-02]\n",
            " [-2.00352725e-03]\n",
            " [ 5.54099046e-02]\n",
            " [-2.57331016e-03]\n",
            " [ 4.95036915e-02]\n",
            " [-1.96257159e-02]\n",
            " [ 3.89272794e-02]\n",
            " [-2.47960333e-02]\n",
            " [-1.28399655e-01]\n",
            " [ 6.67528436e-02]\n",
            " [ 5.22100106e-02]\n",
            " [ 1.50174592e-02]\n",
            " [-4.45646048e-02]\n",
            " [-5.87749258e-02]\n",
            " [ 4.10412699e-02]\n",
            " [ 3.18649076e-02]\n",
            " [-8.34784210e-02]\n",
            " [-3.98033392e-03]\n",
            " [ 1.02781327e-02]\n",
            " [ 2.09494960e-03]]\n"
          ]
        }
      ]
    },
    {
      "cell_type": "code",
      "source": [
        "## Loading Model and Vocabulary\n",
        "folder = \"/content/drive/MyDrive/DL785/Project/word2vec/cbow_600\"\n",
        "device = torch.device(\"cuda\" if torch.cuda.is_available() else \"cpu\")\n",
        "\n",
        "model = torch.load(f\"{folder}/model.pt\", map_location=device)\n",
        "vocab = torch.load(f\"{folder}/vocab.pt\")\n",
        "\n",
        "## Getting Embeddings\n",
        "# embedding from first model layer\n",
        "embeddings = list(model.parameters())[0]\n",
        "embeddings = embeddings.cpu().detach().numpy()\n",
        "\n",
        "# normalization\n",
        "norms = (embeddings ** 2).sum(axis=1) ** (1 / 2)\n",
        "norms = np.reshape(norms, (len(norms), 1))\n",
        "embeddings_norm = embeddings / norms\n",
        "embeddings_norm.shape\n",
        "\n",
        "## Visualization with t-SNE\n",
        "# get embeddings\n",
        "embeddings_df = pd.DataFrame(embeddings)\n",
        "\n",
        "# t-SNE transform\n",
        "tsne = TSNE(n_components=2)\n",
        "embeddings_df_trans = tsne.fit_transform(embeddings_df)\n",
        "embeddings_df_trans = pd.DataFrame(embeddings_df_trans)\n",
        "\n",
        "# get token order\n",
        "embeddings_df_trans.index = vocab.get_itos()\n",
        "\n",
        "# if token is a number\n",
        "is_numeric = embeddings_df_trans.index.str.isnumeric()\n",
        "color = np.where(is_numeric, \"green\", \"black\")\n",
        "fig = go.Figure()\n",
        "\n",
        "fig.add_trace(\n",
        "    go.Scatter(\n",
        "        x=embeddings_df_trans[0],\n",
        "        y=embeddings_df_trans[1],\n",
        "        mode=\"text\",\n",
        "        text=embeddings_df_trans.index,\n",
        "        textposition=\"middle center\",\n",
        "        textfont=dict(color=color),\n",
        "    )\n",
        ")\n",
        "fig.write_html(f\"{folder}/word2vec_visualization.html\")"
      ],
      "metadata": {
        "colab": {
          "base_uri": "https://localhost:8080/"
        },
        "id": "ZApBsJSU_tbb",
        "outputId": "67f97586-d1e3-4c0c-eb54-42ec4465c806"
      },
      "execution_count": null,
      "outputs": [
        {
          "output_type": "stream",
          "name": "stderr",
          "text": [
            "/usr/local/lib/python3.7/dist-packages/sklearn/manifold/_t_sne.py:783: FutureWarning: The default initialization in TSNE will change from 'random' to 'pca' in 1.2.\n",
            "  FutureWarning,\n",
            "/usr/local/lib/python3.7/dist-packages/sklearn/manifold/_t_sne.py:793: FutureWarning: The default learning rate in TSNE will change from 200.0 to 'auto' in 1.2.\n",
            "  FutureWarning,\n"
          ]
        }
      ]
    },
    {
      "cell_type": "code",
      "source": [
        "## Loading Model and Vocabulary\n",
        "folder = \"/content/drive/MyDrive/DL785/Project/word2vec/cbow_600\"\n",
        "device = torch.device(\"cuda\" if torch.cuda.is_available() else \"cpu\")\n",
        "\n",
        "model = torch.load(f\"{folder}/model.pt\", map_location=device)\n",
        "vocab = torch.load(f\"{folder}/vocab.pt\")\n",
        "\n",
        "subset = 50\n",
        "\n",
        "## Getting Embeddings\n",
        "# embedding from first model layer\n",
        "embeddings = list(model.parameters())[0][0:subset]\n",
        "embeddings = embeddings.cpu().detach().numpy()\n",
        "\n",
        "print(embeddings.shape)\n",
        "\n",
        "# normalization\n",
        "norms = (embeddings ** 2).sum(axis=1) ** (1 / 2)\n",
        "norms = np.reshape(norms, (len(norms), 1))\n",
        "embeddings_norm = embeddings / norms\n",
        "embeddings_norm.shape\n",
        "\n",
        "## Visualization with t-SNE\n",
        "# get embeddings\n",
        "embeddings_df = pd.DataFrame(embeddings)\n",
        "\n",
        "# t-SNE transform\n",
        "tsne = TSNE(n_components=2)\n",
        "embeddings_df_trans = tsne.fit_transform(embeddings_df)\n",
        "embeddings_df_trans = pd.DataFrame(embeddings_df_trans)\n",
        "\n",
        "# get token order\n",
        "embeddings_df_trans.index = vocab.get_itos()[0:subset]\n",
        "\n",
        "# if token is a number\n",
        "is_numeric = embeddings_df_trans.index.str.isnumeric()\n",
        "color = np.where(is_numeric, \"green\", \"black\")\n",
        "fig = go.Figure()\n",
        "\n",
        "fig.add_trace(\n",
        "    go.Scatter(\n",
        "        x=embeddings_df_trans[0],\n",
        "        y=embeddings_df_trans[1],\n",
        "        mode=\"text\",\n",
        "        text=embeddings_df_trans.index,\n",
        "        textposition=\"middle center\",\n",
        "        textfont=dict(color=color),\n",
        "    )\n",
        ")\n",
        "fig.write_html(f\"{folder}/word2vec_visualization.html\")\n"
      ],
      "metadata": {
        "colab": {
          "base_uri": "https://localhost:8080/"
        },
        "id": "mf8wxUkDH5Bn",
        "outputId": "1ac1e6e5-1803-4d10-8c09-f4b783e9a56d"
      },
      "execution_count": null,
      "outputs": [
        {
          "output_type": "stream",
          "name": "stdout",
          "text": [
            "(50, 600)\n"
          ]
        },
        {
          "output_type": "stream",
          "name": "stderr",
          "text": [
            "/usr/local/lib/python3.7/dist-packages/sklearn/manifold/_t_sne.py:783: FutureWarning:\n",
            "\n",
            "The default initialization in TSNE will change from 'random' to 'pca' in 1.2.\n",
            "\n",
            "/usr/local/lib/python3.7/dist-packages/sklearn/manifold/_t_sne.py:793: FutureWarning:\n",
            "\n",
            "The default learning rate in TSNE will change from 200.0 to 'auto' in 1.2.\n",
            "\n"
          ]
        }
      ]
    },
    {
      "cell_type": "markdown",
      "source": [
        "#Inference PCA"
      ],
      "metadata": {
        "id": "FipjaJDmMQ9h"
      }
    },
    {
      "cell_type": "code",
      "source": [
        "from pandas.core.frame import DataFrame\n",
        "class LibriSamplesPhrasebank(torch.utils.data.Dataset):\n",
        "    def __init__(self, data:DataFrame, convert_label_to_int=True, return_labels=False, sentence_to_vec:dict=None):\n",
        "        \"\"\"\n",
        "        data:DataFrame\n",
        "            This is the data split from the all-data.csv in the Financial Phrase Bank\n",
        "        \n",
        "        convert_label_to_int:bool\n",
        "            If this is true, then:\n",
        "                 negative = -1\n",
        "                 neutral  =  0\n",
        "                 positive =  1\n",
        "        \n",
        "        sentence_to_vec:dict\n",
        "            If this value is present, then dictionary of sentence to vector mappings.\n",
        "        \"\"\"\n",
        "        # Simply reading in the csv\n",
        "        self.X = data[\"sentence\"].to_numpy()\n",
        "        self.unresolved = set()\n",
        "        # Convert the sentences to vectors if a dictionary is provided\n",
        "        if sentence_to_vec != None:\n",
        "            new_X = []\n",
        "            for sentence in self.X:\n",
        "                vector = sentence_to_vec.get((sentence,), None)\n",
        "                if vector == None:\n",
        "                    # self.unresolved.add(sentence)\n",
        "                    # print(\"The dictionary contains no vector for the sentence: \\n{}\".format(sentence))\n",
        "                    # continue\n",
        "                    raise Exception(\"The dictionary contains no vector for the sentence: \\n{}\".format(sentence))\n",
        "                    return\n",
        "                new_X.append(vector)\n",
        "            self.X = np.array(new_X)\n",
        "        # else:\n",
        "        #     new_X = []\n",
        "        #     default_model = SentenceTransformer('sentence-transformers/paraphrase-MiniLM-L6-v2')\n",
        "        #     for sentence in self.X:\n",
        "        #         vector = default_model.encode(sentence) # numpy.array D=384\n",
        "        #         new_X.append(torch.from_numpy(vector))\n",
        "        #     self.X = np.array(new_X)\n",
        "\n",
        "        # Check if we should be returning labels (Not necessary for generating the BERT Emedding)\n",
        "        self.return_labels = return_labels\n",
        "        if return_labels:\n",
        "            self.Y = data[\"label\"].to_numpy()\n",
        "            # Probably will want to convert the data into numeric form for easier handling\n",
        "            if convert_label_to_int:\n",
        "                new_Y = np.ones(len(self.Y), dtype=np.int8)\n",
        "                new_Y[self.Y == \"negative\"] = 0\n",
        "                new_Y[self.Y == \"positive\"] = 2\n",
        "                self.Y = torch.from_numpy(new_Y)\n",
        "\n",
        "    def get_unresolved(self):\n",
        "        return self.unresolved\n",
        "\n",
        "    def __len__(self):\n",
        "        \"\"\"\n",
        "        Get the size of the data.\n",
        "        \"\"\"\n",
        "        return len(self.X)\n",
        "    \n",
        "    def __getitem__(self, ind):\n",
        "        \"\"\"\n",
        "        if self.return_labels==True, then this will return the sentence and corresponding label,\n",
        "        otherwise this will return only the sentence\n",
        "        \"\"\"\n",
        "        if self.return_labels:\n",
        "            return self.X[ind], self.Y[ind]\n",
        "        else:\n",
        "            return self.X[ind]\n",
        "\n",
        "# class LibriSamplesPhrasebankWordEmbedding(torch.utils.data.Dataset):\n",
        "#     def __init__(self, data:DataFrame, convert_label_to_int=True, return_labels=False, word_to_vec=None):\n",
        "#         \"\"\"\n",
        "#         data:DataFrame\n",
        "#             This is the data split from the all-data.csv in the Financial Phrase Bank\n",
        "        \n",
        "#         convert_label_to_int:bool\n",
        "#             If this is true, then:\n",
        "#                  negative = -1\n",
        "#                  neutral  =  0\n",
        "#                  positive =  1\n",
        "        \n",
        "#         word_to_vec: lambda\n",
        "#             If this value is present, then dictionary of word to vector mappings.\n",
        "#         \"\"\"\n",
        "#         # Simply reading in the csv\n",
        "#         self.X = data[\"sentence\"].to_numpy()\n",
        "\n",
        "#         # Convert the sentences to vectors if a dictionary is provided\n",
        "#         if word_to_vec != None:\n",
        "#             new_X = []\n",
        "#             new_lenX = []\n",
        "#             for sentence in self.X:\n",
        "#                 word_vec = []\n",
        "#                 for word in sentence.split():\n",
        "#                     word = word.lower()\n",
        "#                     try:\n",
        "#                         vector = word_to_vec(word)\n",
        "#                         word_vec.append(vector)\n",
        "#                     except:\n",
        "#                         # print(f'Cannot embed: {word}')\n",
        "#                         pass\n",
        "\n",
        "#                     # if word in word_to_vec.keys():\n",
        "#                     #     vector = word_to_vec[word]\n",
        "#                     #     word_vec.append(vector)\n",
        "#                 if len(word_vec) > 0:\n",
        "#                     new_X.append(np.array(word_vec))\n",
        "#                     new_lenX.append(len(word_vec))\n",
        "#                 # else:\n",
        "#                 #     print(f'could not recog any word in: {sentence}')\n",
        "#             self.X = np.array(new_X)\n",
        "\n",
        "#         # Check if we should be returning labels (Not necessary for generating the BERT Emedding)\n",
        "#         self.return_labels = return_labels\n",
        "#         if return_labels:\n",
        "#             self.Y = data[\"label\"].to_numpy()\n",
        "#             # Probably will want to convert the data into numeric form for easier handling\n",
        "#             if convert_label_to_int:\n",
        "#                 new_Y = np.ones(len(self.Y), dtype=np.int64)\n",
        "#                 new_Y[self.Y == \"negative\"] = 0\n",
        "#                 new_Y[self.Y == \"positive\"] = 2\n",
        "#                 self.Y = new_Y\n",
        "\n",
        "#     def __len__(self):\n",
        "#         \"\"\"\n",
        "#         Get the size of the data.\n",
        "#         \"\"\"\n",
        "#         return len(self.X)\n",
        "    \n",
        "#     def __getitem__(self, ind):\n",
        "#         \"\"\"\n",
        "#         if self.return_labels==True, then this will return the sentence and corresponding label,\n",
        "#         otherwise this will return only the sentence\n",
        "#         \"\"\"\n",
        "#         if self.return_labels:\n",
        "#             return torch.from_numpy(self.X[ind]), self.Y[ind]\n",
        "#         else:\n",
        "#             return torch.from_numpy(self.X[ind])\n",
        "    \n",
        "#     def labeled_collate_fn(batch):\n",
        "#         batch_x = [x for x,y in batch]\n",
        "#         batch_y = [y for x,y in batch]\n",
        "\n",
        "#         batch_x_pad = pad_sequence(batch_x, batch_first=True)\n",
        "#         lengths_x = [len(x) for x in batch_x]\n",
        "\n",
        "#         return batch_x_pad, torch.tensor(lengths_x), torch.tensor(batch_y)\n",
        "    \n",
        "#     def unlabeled_collate_fn(batch):\n",
        "#         batch_x = batch\n",
        "\n",
        "#         batch_x_pad = pad_sequence(batch_x, batch_first=True)\n",
        "#         lengths_x = [len(x) for x in batch_x]\n",
        "\n",
        "#         return batch_x_pad, torch.tensor(lengths_x)"
      ],
      "metadata": {
        "id": "HxT5o7RjMQn9"
      },
      "execution_count": null,
      "outputs": []
    },
    {
      "cell_type": "code",
      "source": [
        "import pandas\n",
        "# from sklearn.model_selection import train_test_split\n",
        "\n",
        "csv_path = \"/content/downstream_data/all-data.csv\"\n",
        "df = pandas.read_csv(csv_path, encoding=\"ISO-8859-1\", names=[\"label\", \"sentence\"])\n",
        "\n",
        "# df_train, df_val = train_test_split(df, test_size = 0.1, random_state = 10)\n",
        "# len(df_train), len(df_val)"
      ],
      "metadata": {
        "id": "QA23hCE8MZyp"
      },
      "execution_count": null,
      "outputs": []
    },
    {
      "cell_type": "code",
      "source": [
        "negative = df[df.label == 'negative']\n",
        "neutral = df[df.label == 'neutral']\n",
        "positive = df[df.label == 'positive']\n",
        "print(f'neg: {len(negative)}, neu: {len(neutral)}, pos: {len(positive)}')\n",
        "print(df.head(1))\n"
      ],
      "metadata": {
        "colab": {
          "base_uri": "https://localhost:8080/"
        },
        "id": "aQG4nSLYPqej",
        "outputId": "2d114ce3-e6b2-4347-9e8b-e4ca69b32187"
      },
      "execution_count": null,
      "outputs": [
        {
          "output_type": "stream",
          "name": "stdout",
          "text": [
            "neg: 604, neu: 2879, pos: 1363\n",
            "     label                                           sentence\n",
            "0  neutral  According to Gran , the company has no plans t...\n"
          ]
        }
      ]
    },
    {
      "cell_type": "code",
      "source": [
        "# sentence_to_vec = torch.load(f'/content/drive/MyDrive/11785_Project/Programming/embeddings/NathanDistilBERT/embeddings-variant/hidden_last_6_layer_0.75.json')\n",
        "sentence_to_vec = torch.load(f'/content/drive/MyDrive/11785_Project/Programming/embeddings/NathanDistilBERT/cls_embeddings_0.0_distilbert-base-cased_BASELINE_1651441997.json')"
      ],
      "metadata": {
        "id": "NQGBixdhRxEs"
      },
      "execution_count": null,
      "outputs": []
    },
    {
      "cell_type": "code",
      "source": [
        "data_to_fit = []\n",
        "for index, row in df.iterrows():\n",
        "    vector = sentence_to_vec[(row['sentence'],)]\n",
        "    data_to_fit.append(vector)\n",
        "data_to_fit = np.vstack(data_to_fit)\n",
        "\n",
        "print(data_to_fit.shape)"
      ],
      "metadata": {
        "colab": {
          "base_uri": "https://localhost:8080/"
        },
        "id": "8HMbvETgS_Zt",
        "outputId": "5fff0995-1b3c-401f-e120-2609ec56299a"
      },
      "execution_count": null,
      "outputs": [
        {
          "output_type": "stream",
          "name": "stdout",
          "text": [
            "(4846, 768)\n"
          ]
        }
      ]
    },
    {
      "cell_type": "code",
      "source": [
        "\n",
        "from sklearn import decomposition\n",
        "\n",
        "pca = decomposition.PCA(n_components=2)\n",
        "pca.fit(data_to_fit)\n",
        "\n",
        "negative_fited = []\n",
        "for index, row in negative.iterrows():\n",
        "    vector = pca.transform(sentence_to_vec[(row['sentence'],)].reshape(1, -1))\n",
        "    negative_fited.append(vector)\n",
        "negative_fited = np.vstack(negative_fited)\n",
        "\n",
        "neutral_fited = []\n",
        "for index, row in neutral.iterrows():\n",
        "    vector = pca.transform(sentence_to_vec[(row['sentence'],)].reshape(1, -1))\n",
        "    neutral_fited.append(vector)\n",
        "neutral_fited = np.vstack(neutral_fited)\n",
        "\n",
        "positive_fited = []\n",
        "for index, row in positive.iterrows():\n",
        "    vector = pca.transform(sentence_to_vec[(row['sentence'],)].reshape(1, -1))\n",
        "    positive_fited.append(vector)\n",
        "positive_fited = np.vstack(positive_fited)\n",
        "\n",
        "print(f'neg: {len(negative_fited)}, neu: {len(neutral_fited)}, pos: {len(positive_fited)}')\n"
      ],
      "metadata": {
        "colab": {
          "base_uri": "https://localhost:8080/"
        },
        "id": "HpLgJKXRRwhi",
        "outputId": "31311964-1ce6-4133-a93d-c946935050ba"
      },
      "execution_count": null,
      "outputs": [
        {
          "output_type": "stream",
          "name": "stdout",
          "text": [
            "neg: 604, neu: 2879, pos: 1363\n"
          ]
        }
      ]
    },
    {
      "cell_type": "code",
      "source": [
        "import matplotlib.pyplot as plt\n",
        "\n",
        "num_data = 10\n",
        "\n",
        "plt.scatter(negative_fited[:num_data,0], negative_fited[:num_data,1], c =\"red\",\n",
        "            label=\"negative\",\n",
        "            linewidths = 2,\n",
        "            marker =\"s\")\n",
        "\n",
        "plt.scatter(neutral_fited[:num_data,0], neutral_fited[:num_data,1], c =\"blue\",\n",
        "            label=\"neutral\",\n",
        "            linewidths = 2,\n",
        "            marker =\"o\")\n",
        "\n",
        "plt.scatter(positive_fited[:num_data,0], positive_fited[:num_data,1], c =\"green\",\n",
        "            label=\"positive\",\n",
        "            linewidths = 2,\n",
        "            marker =\"^\")\n",
        "\n",
        "plt.legend()\n",
        "plt.show()"
      ],
      "metadata": {
        "colab": {
          "base_uri": "https://localhost:8080/",
          "height": 265
        },
        "id": "mz4HLJ7jVLqG",
        "outputId": "ac1b671f-f266-4bb5-e655-7b16126dc4e7"
      },
      "execution_count": null,
      "outputs": [
        {
          "output_type": "display_data",
          "data": {
            "text/plain": [
              "<Figure size 432x288 with 1 Axes>"
            ],
            "image/png": "[encoded data removed]"
          },
          "metadata": {
            "needs_background": "light"
          }
        }
      ]
    }
  ]
}