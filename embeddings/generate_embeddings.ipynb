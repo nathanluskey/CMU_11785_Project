{
  "nbformat": 4,
  "nbformat_minor": 0,
  "metadata": {
    "colab": {
      "name": "generate_embeddings.ipynb",
      "provenance": []
    },
    "kernelspec": {
      "name": "python3",
      "display_name": "Python 3"
    },
    "language_info": {
      "name": "python"
    }
  },
  "cells": [
    {
      "cell_type": "code",
      "execution_count": null,
      "metadata": {
        "colab": {
          "base_uri": "https://localhost:8080/"
        },
        "id": "rlTEQUobn6Yy",
        "outputId": "dc0d6067-15c9-43ec-c1cc-3325f2295d6f"
      },
      "outputs": [
        {
          "output_type": "stream",
          "name": "stdout",
          "text": [
            "Mounted at /content/drive\n"
          ]
        }
      ],
      "source": [
        "import os\n",
        "from google.colab import drive\n",
        "drive.mount(\"/content/drive\")"
      ]
    },
    {
      "cell_type": "code",
      "source": [
        "import torch"
      ],
      "metadata": {
        "id": "EmZJWZgb4UzH"
      },
      "execution_count": null,
      "outputs": []
    },
    {
      "cell_type": "code",
      "source": [
        "# metadata_dir = \"/content/drive/MyDrive/11785_Project/Programming/embeddings/singleExperiment/metadata\"\n",
        "metadata_dir = \"/content/drive/MyDrive/11785_Project/Programming/embeddings/NathanDistilBERT\"\n",
        "embedding_dir = \"/content/drive/MyDrive/11785_Project/Programming/embeddings/NathanDistilBERT/embeddings-variant\"\n",
        "\n",
        "# embedding_files = os.listdir(embedding_dir)\n",
        "# embedding_files = [f for f in embedding_files if f.endswith('.json')]\n",
        "# embedding_files = [f for f in embedding_files if not f.startswith('hidden')]\n",
        "# embedding_files = [f for f in embedding_files if not f.startswith('attention')]\n",
        "\n",
        "# print(f'Running downstream tasks on the following embedding files:')\n",
        "# for f in embedding_files:\n",
        "#     print(f)"
      ],
      "metadata": {
        "id": "1j_Aec0V4BYe"
      },
      "execution_count": null,
      "outputs": []
    },
    {
      "cell_type": "code",
      "source": [
        "hidden_files = [f for f in os.listdir(metadata_dir) if f.endswith('.json') and f.startswith('hidden')] \n",
        "attention_files = [f for f in os.listdir(metadata_dir) if f.endswith('.json') and f.startswith('attention')] "
      ],
      "metadata": {
        "id": "qXH7wxx7n-ZM"
      },
      "execution_count": null,
      "outputs": []
    },
    {
      "cell_type": "code",
      "source": [
        "hidden_files"
      ],
      "metadata": {
        "colab": {
          "base_uri": "https://localhost:8080/"
        },
        "id": "KDDDEGgZ4pKR",
        "outputId": "80326b41-9a1a-41db-81b0-e43b4767194f"
      },
      "execution_count": null,
      "outputs": [
        {
          "output_type": "execute_result",
          "data": {
            "text/plain": [
              "['hidden_0.0_distilbert-base-cased_BASELINE_1651441997.json',\n",
              " 'hidden_0.25_distilbert-base-cased_linear_0.25_1651441997.json',\n",
              " 'hidden_0.5_distilbert-base-cased_linear_0.5_1651441997.json',\n",
              " 'hidden_0.75_distilbert-base-cased_linear_0.75_1651441997.json',\n",
              " 'hidden_1.0_distilbert-base-cased_linear_1.0_1651441997.json',\n",
              " 'hidden_1.25_distilbert-base-cased_linear_1.25_1651441997.json',\n",
              " 'hidden_1.5_distilbert-base-cased_linear_1.5_1651441997.json',\n",
              " 'hidden_1.75_distilbert-base-cased_linear_1.75_1651441997.json',\n",
              " 'hidden_2.0_distilbert-base-cased_linear_2.0_1651441997.json']"
            ]
          },
          "metadata": {},
          "execution_count": 95
        }
      ]
    },
    {
      "cell_type": "code",
      "source": [
        "for hidden_file in hidden_files:\n",
        "    # Get suffix for naming file\n",
        "    suffix = \"\"\n",
        "    if 'BASELINE' in hidden_file:\n",
        "        suffix = 'BASELINE'\n",
        "    else:\n",
        "        suffix = hidden_file.split('_')[4]\n",
        "\n",
        "    # Extract hidden states saved in the file\n",
        "    print('Extracting hidden states for {}'.format(hidden_file))\n",
        "    hidden_states = torch.load(os.path.join(metadata_dir, hidden_file))\n",
        "    embeddings1, embeddings2, embeddings3, embeddings4 = {}, {}, {}, {}\n",
        "\n",
        "    # Generate embeddings\n",
        "    for sentence, hs in hidden_states.items():\n",
        "        embeddings1[sentence] = hs[-1][:, 0, :].squeeze() # CLS token embeddings\n",
        "        # embeddings2[sentence] = hs[-1].mean(dim=1).squeeze() # last hidden state - avg\n",
        "        embeddings3[sentence] = hs[0].mean(dim=1).squeeze() # first hidden state - avg\n",
        "        \n",
        "    torch.save(embeddings1, os.path.join(embedding_dir, 'hidden_cls_{}.json'.format(suffix)))\n",
        "    # torch.save(embeddings2, os.path.join(embedding_dir, 'hidden_last.json'))\n",
        "    torch.save(embeddings3, os.path.join(embedding_dir, 'hidden_first_{}.json'.format(suffix)))\n",
        "\n",
        "    for i in range(1, 8):\n",
        "        embeddings = {}\n",
        "        for sentence, hs in hidden_states.items():\n",
        "            all_avg_hidden = [h.mean(dim=1).squeeze() for h in hs][-i:]\n",
        "            embedding = torch.stack(all_avg_hidden).flatten()\n",
        "            embeddings[sentence] = embedding\n",
        "        torch.save(embeddings, os.path.join(embedding_dir, 'hidden_last_{}_layer_{}.json'.format(i, suffix)))"
      ],
      "metadata": {
        "colab": {
          "base_uri": "https://localhost:8080/"
        },
        "id": "taPtnm2_5qSN",
        "outputId": "014fad7c-9c36-4673-e416-41276f5d82dc"
      },
      "execution_count": null,
      "outputs": [
        {
          "output_type": "stream",
          "name": "stdout",
          "text": [
            "Extracting hidden states for hidden_0.0_distilbert-base-cased_BASELINE_1651441997.json\n",
            "Extracting hidden states for hidden_0.25_distilbert-base-cased_linear_0.25_1651441997.json\n",
            "Extracting hidden states for hidden_0.5_distilbert-base-cased_linear_0.5_1651441997.json\n",
            "Extracting hidden states for hidden_0.75_distilbert-base-cased_linear_0.75_1651441997.json\n",
            "Extracting hidden states for hidden_1.0_distilbert-base-cased_linear_1.0_1651441997.json\n",
            "Extracting hidden states for hidden_1.25_distilbert-base-cased_linear_1.25_1651441997.json\n",
            "Extracting hidden states for hidden_1.5_distilbert-base-cased_linear_1.5_1651441997.json\n",
            "Extracting hidden states for hidden_1.75_distilbert-base-cased_linear_1.75_1651441997.json\n",
            "Extracting hidden states for hidden_2.0_distilbert-base-cased_linear_2.0_1651441997.json\n"
          ]
        }
      ]
    },
    {
      "cell_type": "code",
      "source": [
        "embedding_dir"
      ],
      "metadata": {
        "colab": {
          "base_uri": "https://localhost:8080/",
          "height": 35
        },
        "id": "z742OWndHmLL",
        "outputId": "d260a516-635f-4763-d98d-647f4b7fc632"
      },
      "execution_count": null,
      "outputs": [
        {
          "output_type": "execute_result",
          "data": {
            "text/plain": [
              "'/content/drive/MyDrive/11785_Project/Programming/embeddings/singleExperiment/embeddings-variant/'"
            ],
            "application/vnd.google.colaboratory.intrinsic+json": {
              "type": "string"
            }
          },
          "metadata": {},
          "execution_count": 57
        }
      ]
    },
    {
      "cell_type": "code",
      "source": [
        "embeddings1, embeddings2 = {}, {}\n",
        "for sentence, hs in attention_states.items():\n",
        "    embeddings1[sentence] = hs[-1].mean(dim = (2,3)).flatten() # last attention state\n",
        "    embeddings2[sentence] = hs[0].mean(dim = (2,3)).flatten() # first attention state\n",
        "    \n",
        "torch.save(embeddings1, os.path.join(embedding_dir, 'attention_last.json'))\n",
        "torch.save(embeddings2, os.path.join(embedding_dir, 'attention_first.json'))\n",
        "\n",
        "for i in range(1, 7):\n",
        "    embeddings = {}\n",
        "    for sentence, hs in attention_states.items():\n",
        "        all_avg_hidden = [h.mean(dim = (2,3)).flatten() for h in hs][-i:]\n",
        "        embedding = torch.stack(all_avg_hidden).flatten()\n",
        "        embeddings[sentence] = embedding\n",
        "    torch.save(embeddings, os.path.join(embedding_dir, 'attention_last_{}.json'.format(i)))\n",
        "    print('Saving attention_last_{}.json'.format(i))"
      ],
      "metadata": {
        "colab": {
          "base_uri": "https://localhost:8080/"
        },
        "id": "RFLYzhYw71gp",
        "outputId": "6a079f57-41c1-4d11-9174-2b2356a5ec14"
      },
      "execution_count": null,
      "outputs": [
        {
          "output_type": "stream",
          "name": "stdout",
          "text": [
            "Saving attention_last_1.json\n",
            "Saving attention_last_2.json\n",
            "Saving attention_last_3.json\n",
            "Saving attention_last_4.json\n",
            "Saving attention_last_5.json\n",
            "Saving attention_last_6.json\n"
          ]
        }
      ]
    },
    {
      "cell_type": "code",
      "source": [
        " len(list(attention_states.values())[0]),  len(list(hidden_states.values())[0])"
      ],
      "metadata": {
        "colab": {
          "base_uri": "https://localhost:8080/"
        },
        "id": "FKEtrumf8taz",
        "outputId": "f5ecd5e8-21ec-4b01-8a4a-05bc340b6444"
      },
      "execution_count": null,
      "outputs": [
        {
          "output_type": "execute_result",
          "data": {
            "text/plain": [
              "6"
            ]
          },
          "metadata": {},
          "execution_count": 45
        }
      ]
    },
    {
      "cell_type": "code",
      "source": [
        "i = 0\n",
        "for sentence, hs in attention_states.items():\n",
        "    all_avg_hidden = [h.flatten() for h in hs][-i:]\n",
        "    print(hs[0]..shape)\n",
        "    embedding = torch.stack(all_avg_hidden).flatten()\n",
        "    embeddings[sentence] = embedding\n",
        "    # print(embedding.shape)\n",
        "    i += 1\n",
        "    if i > 10:\n",
        "      break"
      ],
      "metadata": {
        "colab": {
          "base_uri": "https://localhost:8080/"
        },
        "id": "65uHfalMSwbJ",
        "outputId": "3faf8654-8199-4214-9264-20b9dfb8fc34"
      },
      "execution_count": null,
      "outputs": [
        {
          "output_type": "stream",
          "name": "stdout",
          "text": [
            "torch.Size([1, 12])\n",
            "torch.Size([1, 12])\n",
            "torch.Size([1, 12])\n",
            "torch.Size([1, 12])\n",
            "torch.Size([1, 12])\n",
            "torch.Size([1, 12])\n",
            "torch.Size([1, 12])\n",
            "torch.Size([1, 12])\n",
            "torch.Size([1, 12])\n",
            "torch.Size([1, 12])\n",
            "torch.Size([1, 12])\n"
          ]
        }
      ]
    },
    {
      "cell_type": "code",
      "source": [
        "a = torch.rand((1, 12, 27, 27))\n",
        "a.mean(dim = (2,3)).shape"
      ],
      "metadata": {
        "colab": {
          "base_uri": "https://localhost:8080/"
        },
        "id": "EjSvPwS_SyDn",
        "outputId": "4f161948-b13c-4e90-8c41-5e9a408476d7"
      },
      "execution_count": null,
      "outputs": [
        {
          "output_type": "execute_result",
          "data": {
            "text/plain": [
              "torch.Size([1, 12])"
            ]
          },
          "metadata": {},
          "execution_count": 67
        }
      ]
    },
    {
      "cell_type": "code",
      "source": [
        ""
      ],
      "metadata": {
        "id": "-7rDFcfkTkyn"
      },
      "execution_count": null,
      "outputs": []
    },
    {
      "cell_type": "code",
      "source": [
        "import numpy as np\n",
        "import matplotlib.pyplot as plt\n",
        "\n",
        "plt.subplot(2, 1, 1)\n",
        "plt.plot(x,y, 'o')\n",
        "plt.tight_layout()\n",
        "abline(1, 2)"
      ],
      "metadata": {
        "colab": {
          "base_uri": "https://localhost:8080/",
          "height": 167
        },
        "id": "mYFKbz4mtryB",
        "outputId": "780397dc-edee-40f8-fbfd-d2c3ec5196fc"
      },
      "execution_count": null,
      "outputs": [
        {
          "output_type": "display_data",
          "data": {
            "text/plain": [
              "<Figure size 432x288 with 1 Axes>"
            ],
            "image/png": "[encoded data removed]"
          },
          "metadata": {
            "needs_background": "light"
          }
        }
      ]
    },
    {
      "cell_type": "code",
      "source": [
        ""
      ],
      "metadata": {
        "id": "RBGVBfMKuFVT"
      },
      "execution_count": null,
      "outputs": []
    }
  ]
}